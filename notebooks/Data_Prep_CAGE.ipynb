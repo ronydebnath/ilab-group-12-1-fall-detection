{
 "cells": [
  {
   "cell_type": "code",
   "execution_count": 1,
   "id": "08f2cf13",
   "metadata": {
    "scrolled": true
   },
   "outputs": [
    {
     "name": "stderr",
     "output_type": "stream",
     "text": [
      "/Users/vega7unk/anaconda3/lib/python3.11/site-packages/pandas/core/arrays/masked.py:60: UserWarning: Pandas requires version '1.3.6' or newer of 'bottleneck' (version '1.3.5' currently installed).\n",
      "  from pandas.core import (\n"
     ]
    }
   ],
   "source": [
    "import pandas as pd\n",
    "import numpy as np"
   ]
  },
  {
   "cell_type": "code",
   "execution_count": 2,
   "id": "ec548363",
   "metadata": {},
   "outputs": [
    {
     "name": "stdout",
     "output_type": "stream",
     "text": [
      "/Users/vega7unk/Documents/4th Sem DSI/ilab project/ilab-group-12-1-fall-detection/notebooks\n"
     ]
    }
   ],
   "source": [
    "import os\n",
    "print(os.getcwd())"
   ]
  },
  {
   "cell_type": "code",
   "execution_count": 3,
   "id": "a83c1cc7",
   "metadata": {},
   "outputs": [],
   "source": [
    "pd.set_option('display.max_columns', None)\n",
    "\n",
    "df = pd.read_pickle(\"../data/raw/df_resample_100ms.pkl\")"
   ]
  },
  {
   "cell_type": "code",
   "execution_count": 4,
   "id": "93cb0a75",
   "metadata": {},
   "outputs": [
    {
     "data": {
      "text/html": [
       "<div>\n",
       "<style scoped>\n",
       "    .dataframe tbody tr th:only-of-type {\n",
       "        vertical-align: middle;\n",
       "    }\n",
       "\n",
       "    .dataframe tbody tr th {\n",
       "        vertical-align: top;\n",
       "    }\n",
       "\n",
       "    .dataframe thead th {\n",
       "        text-align: right;\n",
       "    }\n",
       "</style>\n",
       "<table border=\"1\" class=\"dataframe\">\n",
       "  <thead>\n",
       "    <tr style=\"text-align: right;\">\n",
       "      <th></th>\n",
       "      <th>acc_x</th>\n",
       "      <th>acc_y</th>\n",
       "      <th>acc_z</th>\n",
       "      <th>gyro_x</th>\n",
       "      <th>gyro_y</th>\n",
       "      <th>gyro_z</th>\n",
       "      <th>label</th>\n",
       "      <th>subject_id</th>\n",
       "      <th>trial</th>\n",
       "      <th>age</th>\n",
       "      <th>height</th>\n",
       "      <th>weight</th>\n",
       "      <th>gender</th>\n",
       "    </tr>\n",
       "    <tr>\n",
       "      <th>timestamp</th>\n",
       "      <th></th>\n",
       "      <th></th>\n",
       "      <th></th>\n",
       "      <th></th>\n",
       "      <th></th>\n",
       "      <th></th>\n",
       "      <th></th>\n",
       "      <th></th>\n",
       "      <th></th>\n",
       "      <th></th>\n",
       "      <th></th>\n",
       "      <th></th>\n",
       "      <th></th>\n",
       "    </tr>\n",
       "  </thead>\n",
       "  <tbody>\n",
       "    <tr>\n",
       "      <th>1970-01-01 00:38:38.700</th>\n",
       "      <td>0.948777</td>\n",
       "      <td>-9.636166</td>\n",
       "      <td>0.002699</td>\n",
       "      <td>0.003818</td>\n",
       "      <td>0.016875</td>\n",
       "      <td>0.006643</td>\n",
       "      <td>BSC</td>\n",
       "      <td>1.0</td>\n",
       "      <td>1.0</td>\n",
       "      <td>32.0</td>\n",
       "      <td>180.0</td>\n",
       "      <td>85.0</td>\n",
       "      <td>M</td>\n",
       "    </tr>\n",
       "    <tr>\n",
       "      <th>1970-01-01 00:38:38.800</th>\n",
       "      <td>0.948993</td>\n",
       "      <td>-9.759188</td>\n",
       "      <td>0.087482</td>\n",
       "      <td>0.020693</td>\n",
       "      <td>0.027565</td>\n",
       "      <td>0.015669</td>\n",
       "      <td>BSC</td>\n",
       "      <td>1.0</td>\n",
       "      <td>1.0</td>\n",
       "      <td>32.0</td>\n",
       "      <td>180.0</td>\n",
       "      <td>85.0</td>\n",
       "      <td>M</td>\n",
       "    </tr>\n",
       "    <tr>\n",
       "      <th>1970-01-01 00:38:38.900</th>\n",
       "      <td>1.071514</td>\n",
       "      <td>-9.787465</td>\n",
       "      <td>-0.093610</td>\n",
       "      <td>0.168721</td>\n",
       "      <td>0.075747</td>\n",
       "      <td>0.037797</td>\n",
       "      <td>BSC</td>\n",
       "      <td>1.0</td>\n",
       "      <td>1.0</td>\n",
       "      <td>32.0</td>\n",
       "      <td>180.0</td>\n",
       "      <td>85.0</td>\n",
       "      <td>M</td>\n",
       "    </tr>\n",
       "    <tr>\n",
       "      <th>1970-01-01 00:38:39.000</th>\n",
       "      <td>1.135679</td>\n",
       "      <td>-9.754036</td>\n",
       "      <td>0.065878</td>\n",
       "      <td>0.339488</td>\n",
       "      <td>0.078970</td>\n",
       "      <td>0.040134</td>\n",
       "      <td>BSC</td>\n",
       "      <td>1.0</td>\n",
       "      <td>1.0</td>\n",
       "      <td>32.0</td>\n",
       "      <td>180.0</td>\n",
       "      <td>85.0</td>\n",
       "      <td>M</td>\n",
       "    </tr>\n",
       "    <tr>\n",
       "      <th>1970-01-01 00:38:39.100</th>\n",
       "      <td>1.126174</td>\n",
       "      <td>-9.443248</td>\n",
       "      <td>0.075006</td>\n",
       "      <td>0.594494</td>\n",
       "      <td>-0.012065</td>\n",
       "      <td>0.103557</td>\n",
       "      <td>BSC</td>\n",
       "      <td>1.0</td>\n",
       "      <td>1.0</td>\n",
       "      <td>32.0</td>\n",
       "      <td>180.0</td>\n",
       "      <td>85.0</td>\n",
       "      <td>M</td>\n",
       "    </tr>\n",
       "  </tbody>\n",
       "</table>\n",
       "</div>"
      ],
      "text/plain": [
       "                            acc_x     acc_y     acc_z    gyro_x    gyro_y  \\\n",
       "timestamp                                                                   \n",
       "1970-01-01 00:38:38.700  0.948777 -9.636166  0.002699  0.003818  0.016875   \n",
       "1970-01-01 00:38:38.800  0.948993 -9.759188  0.087482  0.020693  0.027565   \n",
       "1970-01-01 00:38:38.900  1.071514 -9.787465 -0.093610  0.168721  0.075747   \n",
       "1970-01-01 00:38:39.000  1.135679 -9.754036  0.065878  0.339488  0.078970   \n",
       "1970-01-01 00:38:39.100  1.126174 -9.443248  0.075006  0.594494 -0.012065   \n",
       "\n",
       "                           gyro_z label  subject_id  trial   age  height  \\\n",
       "timestamp                                                                  \n",
       "1970-01-01 00:38:38.700  0.006643   BSC         1.0    1.0  32.0   180.0   \n",
       "1970-01-01 00:38:38.800  0.015669   BSC         1.0    1.0  32.0   180.0   \n",
       "1970-01-01 00:38:38.900  0.037797   BSC         1.0    1.0  32.0   180.0   \n",
       "1970-01-01 00:38:39.000  0.040134   BSC         1.0    1.0  32.0   180.0   \n",
       "1970-01-01 00:38:39.100  0.103557   BSC         1.0    1.0  32.0   180.0   \n",
       "\n",
       "                         weight gender  \n",
       "timestamp                               \n",
       "1970-01-01 00:38:38.700    85.0      M  \n",
       "1970-01-01 00:38:38.800    85.0      M  \n",
       "1970-01-01 00:38:38.900    85.0      M  \n",
       "1970-01-01 00:38:39.000    85.0      M  \n",
       "1970-01-01 00:38:39.100    85.0      M  "
      ]
     },
     "execution_count": 4,
     "metadata": {},
     "output_type": "execute_result"
    }
   ],
   "source": [
    "df.head()"
   ]
  },
  {
   "cell_type": "code",
   "execution_count": 5,
   "id": "a739265e",
   "metadata": {},
   "outputs": [
    {
     "data": {
      "text/plain": [
       "array([ 1.,  2.,  3.,  4.,  5.,  6.,  7.,  8.,  9., 10., 11., 12., 13.,\n",
       "       14., 15., 16., 17., 18., 19., 20., 21., 22., 23., 24., 25., 26.,\n",
       "       27., 28., 29., 30., 31., 32., 33., 34., 35., 36., 37., 38., 39.,\n",
       "       40., 41., 42., 43., 44., 45., 46., 47., 48., 49., 50., 51., 52.,\n",
       "       53., 54., 55., 56., 57., 58., 59., 60., 61., 62., 63., 64., 65.,\n",
       "       66., 67.])"
      ]
     },
     "execution_count": 5,
     "metadata": {},
     "output_type": "execute_result"
    }
   ],
   "source": [
    "df['subject_id'].unique()"
   ]
  },
  {
   "cell_type": "code",
   "execution_count": 6,
   "id": "0bf35e10",
   "metadata": {},
   "outputs": [],
   "source": [
    "data = df.copy()"
   ]
  },
  {
   "cell_type": "code",
   "execution_count": 7,
   "id": "b871f54b",
   "metadata": {},
   "outputs": [],
   "source": [
    "data.drop(['trial','age','height','weight','gender'], axis=1, inplace=True)"
   ]
  },
  {
   "cell_type": "code",
   "execution_count": 8,
   "id": "07aae465",
   "metadata": {},
   "outputs": [
    {
     "name": "stdout",
     "output_type": "stream",
     "text": [
      "<class 'pandas.core.frame.DataFrame'>\n",
      "DatetimeIndex: 846950 entries, 1970-01-01 00:38:38.700000 to 1970-01-01 04:49:55.600000\n",
      "Data columns (total 8 columns):\n",
      " #   Column      Non-Null Count   Dtype  \n",
      "---  ------      --------------   -----  \n",
      " 0   acc_x       846950 non-null  float64\n",
      " 1   acc_y       846950 non-null  float64\n",
      " 2   acc_z       846950 non-null  float64\n",
      " 3   gyro_x      846950 non-null  float64\n",
      " 4   gyro_y      846950 non-null  float64\n",
      " 5   gyro_z      846950 non-null  float64\n",
      " 6   label       846950 non-null  object \n",
      " 7   subject_id  846950 non-null  float64\n",
      "dtypes: float64(7), object(1)\n",
      "memory usage: 58.2+ MB\n"
     ]
    }
   ],
   "source": [
    "data.info()"
   ]
  },
  {
   "cell_type": "code",
   "execution_count": 9,
   "id": "c377fd9e",
   "metadata": {},
   "outputs": [
    {
     "data": {
      "text/plain": [
       "67"
      ]
     },
     "execution_count": 9,
     "metadata": {},
     "output_type": "execute_result"
    }
   ],
   "source": [
    "data['subject_id'].nunique()"
   ]
  },
  {
   "cell_type": "code",
   "execution_count": 10,
   "id": "13bd0b7d",
   "metadata": {},
   "outputs": [],
   "source": [
    "def create_sliding_windows(df, window_size, step_size):\n",
    "    X = []  # input features\n",
    "    y = []  # labels\n",
    "    \n",
    "    # Loop over the DataFrame with step size\n",
    "    for start_idx in range(0, len(df) - window_size + 1, step_size):\n",
    "        end_idx = start_idx + window_size\n",
    "        \n",
    "        window = df.iloc[start_idx:end_idx]\n",
    "        \n",
    "        # Drop label and other non-signal columns for features\n",
    "        features = window[[\"acc_x\", \"acc_y\", \"acc_z\", \"gyro_x\", \"gyro_y\", \"gyro_z\"]].values\n",
    "        \n",
    "        # Take last label in the window\n",
    "        label = window[\"label\"].iloc[-1]\n",
    "        \n",
    "        X.append(features)\n",
    "        y.append(label)\n",
    "        \n",
    "    return np.array(X), np.array(y)"
   ]
  },
  {
   "cell_type": "code",
   "execution_count": 11,
   "id": "ca35bfa6",
   "metadata": {},
   "outputs": [
    {
     "name": "stdout",
     "output_type": "stream",
     "text": [
      "Shape of X: (65149, 26, 6)\n",
      "Shape of y: (65149,)\n"
     ]
    }
   ],
   "source": [
    "df_resample_100ms = data.copy()\n",
    "\n",
    "# Parameters\n",
    "window_duration_seconds = 2.56\n",
    "sampling_rate = 10  # Hz\n",
    "window_size = 26\n",
    "step_size = window_size // 2  # 50% overlap\n",
    "\n",
    "X_windows, y_windows = create_sliding_windows(df_resample_100ms, window_size, step_size)\n",
    "\n",
    "print(f\"Shape of X: {X_windows.shape}\")  # (num_windows, 26, 6)\n",
    "print(f\"Shape of y: {y_windows.shape}\")  # (num_windows,)"
   ]
  },
  {
   "cell_type": "code",
   "execution_count": 13,
   "id": "7555d9ad",
   "metadata": {},
   "outputs": [
    {
     "name": "stdout",
     "output_type": "stream",
     "text": [
      "False\n"
     ]
    }
   ],
   "source": [
    "print(df_resample_100ms.isnull().values.any())"
   ]
  },
  {
   "cell_type": "code",
   "execution_count": null,
   "id": "3439572d",
   "metadata": {},
   "outputs": [],
   "source": []
  },
  {
   "cell_type": "code",
   "execution_count": null,
   "id": "48cae2bd",
   "metadata": {},
   "outputs": [],
   "source": []
  },
  {
   "cell_type": "code",
   "execution_count": null,
   "id": "551dfd68",
   "metadata": {},
   "outputs": [],
   "source": []
  },
  {
   "cell_type": "code",
   "execution_count": null,
   "id": "ba93a6a0",
   "metadata": {},
   "outputs": [],
   "source": []
  },
  {
   "cell_type": "code",
   "execution_count": null,
   "id": "e1987c36",
   "metadata": {},
   "outputs": [],
   "source": []
  },
  {
   "cell_type": "markdown",
   "id": "3aaedb33",
   "metadata": {},
   "source": []
  },
  {
   "cell_type": "code",
   "execution_count": null,
   "id": "f2e3659f",
   "metadata": {},
   "outputs": [],
   "source": []
  },
  {
   "cell_type": "code",
   "execution_count": null,
   "id": "b014c8a2",
   "metadata": {},
   "outputs": [],
   "source": []
  }
 ],
 "metadata": {
  "kernelspec": {
   "display_name": "Python 3 (ipykernel)",
   "language": "python",
   "name": "python3"
  },
  "language_info": {
   "codemirror_mode": {
    "name": "ipython",
    "version": 3
   },
   "file_extension": ".py",
   "mimetype": "text/x-python",
   "name": "python",
   "nbconvert_exporter": "python",
   "pygments_lexer": "ipython3",
   "version": "3.11.3"
  }
 },
 "nbformat": 4,
 "nbformat_minor": 5
}
