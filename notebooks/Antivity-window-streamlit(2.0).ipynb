{
 "cells": [
  {
   "cell_type": "code",
   "execution_count": 1,
   "id": "06d939e0",
   "metadata": {},
   "outputs": [
    {
     "name": "stderr",
     "output_type": "stream",
     "text": [
      "/Users/vega7unk/anaconda3/lib/python3.11/site-packages/pandas/core/arrays/masked.py:60: UserWarning: Pandas requires version '1.3.6' or newer of 'bottleneck' (version '1.3.5' currently installed).\n",
      "  from pandas.core import (\n"
     ]
    }
   ],
   "source": [
    "import pandas as pd\n",
    "import numpy as np\n",
    "from sklearn.model_selection import GroupShuffleSplit"
   ]
  },
  {
   "cell_type": "code",
   "execution_count": 2,
   "id": "424d9434",
   "metadata": {},
   "outputs": [],
   "source": [
    "RAW_CSV     = \"../data/raw/MobiAct_combined.csv\"\n",
    "OUT_FOLDER  = \"raw_windows_test\"\n",
    "WINDOW_SIZE = 800\n",
    "STEP_SIZE   = 400"
   ]
  },
  {
   "cell_type": "code",
   "execution_count": 3,
   "id": "c589df70",
   "metadata": {},
   "outputs": [],
   "source": [
    "dtype_map = {\n",
    "    \"subject_id\": \"int16\", \"trial\": \"int16\",\n",
    "    \"acc_x\": \"float32\",\"acc_y\": \"float32\",\"acc_z\": \"float32\",\n",
    "    \"gyro_x\": \"float32\",\"gyro_y\": \"float32\",\"gyro_z\": \"float32\",\n",
    "    \"azimuth\": \"float32\",\"pitch\": \"float32\",\"roll\": \"float32\",\n",
    "    \"label\": \"category\"\n",
    "}\n",
    "sensor_cols = [\n",
    "    \"acc_x\",\"acc_y\",\"acc_z\",\n",
    "    \"gyro_x\",\"gyro_y\",\"gyro_z\",\n",
    "    \"azimuth\",\"pitch\",\"roll\"\n",
    "]"
   ]
  },
  {
   "cell_type": "code",
   "execution_count": 4,
   "id": "55ea67cd",
   "metadata": {},
   "outputs": [],
   "source": [
    "# LABEL MAPPING FOR FILENAME ONLY\n",
    "def map_labels(raw_label):\n",
    "    if raw_label in {\"BSC\",\"FKL\",\"SDL\",\"FOL\"}:\n",
    "        return \"FALL\"\n",
    "    elif raw_label == \"LYI\":\n",
    "        return \"POST_FALL\"\n",
    "    else:\n",
    "        return \"ADL\""
   ]
  },
  {
   "cell_type": "code",
   "execution_count": 5,
   "id": "cc058594",
   "metadata": {},
   "outputs": [],
   "source": [
    "# ——— WINDOW CREATION ———\n",
    "def create_windows(df, window_size, step_size):\n",
    "    Xw, yw = [], []\n",
    "    data = df[sensor_cols].values\n",
    "    labels = df[\"fall_label\"].values\n",
    "    n = len(df)\n",
    "    for start in range(0, n - window_size + 1, step_size):\n",
    "        block = data[start : start + window_size]\n",
    "        block_labels = labels[start : start + window_size]\n",
    "        unique = set(block_labels)\n",
    "        if \"FALL\" in unique:\n",
    "            label = \"FALL\"\n",
    "        elif \"ADL\" in unique:\n",
    "            label = \"ADL\"\n",
    "        else:\n",
    "            continue\n",
    "        Xw.append(block)\n",
    "        yw.append(label)\n",
    "    return np.array(Xw), np.array(yw)"
   ]
  },
  {
   "cell_type": "code",
   "execution_count": 6,
   "id": "2a0ee489",
   "metadata": {},
   "outputs": [],
   "source": [
    "# ——— LOAD RAW DATA & SPLIT TEST SUBJECTS ———\n",
    "df = pd.read_csv(RAW_CSV, dtype=dtype_map)\n",
    "groups = df[\"subject_id\"].values"
   ]
  },
  {
   "cell_type": "code",
   "execution_count": 7,
   "id": "fa706b22",
   "metadata": {},
   "outputs": [],
   "source": [
    "# split off 20% subjects for test\n",
    "gss = GroupShuffleSplit(n_splits=1, test_size=0.2, random_state=42)\n",
    "_, test_idx = next(gss.split(df, groups=groups))\n",
    "df_test = df.iloc[test_idx].reset_index(drop=True)"
   ]
  },
  {
   "cell_type": "code",
   "execution_count": 8,
   "id": "0cb00b3a",
   "metadata": {},
   "outputs": [],
   "source": [
    "# map raw labels for window‐level assignment\n",
    "df_test[\"fall_label\"] = df_test[\"label\"].apply(map_labels)"
   ]
  },
  {
   "cell_type": "code",
   "execution_count": 9,
   "id": "d0395e0e",
   "metadata": {},
   "outputs": [],
   "source": [
    "# ——— CREATE WINDOWS ———\n",
    "X_windows, y_windows = create_windows(df_test, WINDOW_SIZE, STEP_SIZE)\n"
   ]
  },
  {
   "cell_type": "code",
   "execution_count": 10,
   "id": "585cc08c",
   "metadata": {},
   "outputs": [
    {
     "name": "stdout",
     "output_type": "stream",
     "text": [
      "Exported 8925 raw windows into 'raw_windows_test/'\n"
     ]
    }
   ],
   "source": [
    "import os\n",
    "\n",
    "os.makedirs(OUT_FOLDER, exist_ok=True)\n",
    "\n",
    "for i, (window, label) in enumerate(zip(X_windows, y_windows)):\n",
    "    out_df = pd.DataFrame(window, columns=sensor_cols)\n",
    "    fname  = f\"window_800_{i:03d}_{label}.csv\"\n",
    "    out_df.to_csv(os.path.join(OUT_FOLDER, fname), index=False)\n",
    "\n",
    "print(f\"Exported {len(X_windows)} raw windows into '{OUT_FOLDER}/'\")\n"
   ]
  },
  {
   "cell_type": "code",
   "execution_count": null,
   "id": "4ef4886a",
   "metadata": {},
   "outputs": [],
   "source": []
  }
 ],
 "metadata": {
  "kernelspec": {
   "display_name": "Python 3 (ipykernel)",
   "language": "python",
   "name": "python3"
  },
  "language_info": {
   "codemirror_mode": {
    "name": "ipython",
    "version": 3
   },
   "file_extension": ".py",
   "mimetype": "text/x-python",
   "name": "python",
   "nbconvert_exporter": "python",
   "pygments_lexer": "ipython3",
   "version": "3.11.3"
  }
 },
 "nbformat": 4,
 "nbformat_minor": 5
}
