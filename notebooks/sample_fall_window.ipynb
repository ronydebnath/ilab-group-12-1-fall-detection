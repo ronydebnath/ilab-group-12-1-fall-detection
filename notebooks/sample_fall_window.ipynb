{
 "cells": [
  {
   "cell_type": "code",
   "execution_count": 1,
   "id": "7d868288",
   "metadata": {},
   "outputs": [
    {
     "name": "stderr",
     "output_type": "stream",
     "text": [
      "/Users/vega7unk/anaconda3/lib/python3.11/site-packages/pandas/core/arrays/masked.py:60: UserWarning: Pandas requires version '1.3.6' or newer of 'bottleneck' (version '1.3.5' currently installed).\n",
      "  from pandas.core import (\n"
     ]
    }
   ],
   "source": [
    "import os\n",
    "import pandas as pd\n",
    "import numpy as np\n",
    "from sklearn.model_selection import GroupShuffleSplit"
   ]
  },
  {
   "cell_type": "code",
   "execution_count": 2,
   "id": "f8b206f7",
   "metadata": {},
   "outputs": [],
   "source": [
    "RAW_PATH      = \"../data/raw/MobiAct_combined.csv\"\n",
    "OUT_FOLDER    = \"samples\"\n",
    "OUT_FILENAME  = \"sample_fall_window.csv\"\n",
    "WINDOW_SIZE   = 500\n",
    "STEP_SIZE     = 250\n"
   ]
  },
  {
   "cell_type": "code",
   "execution_count": 3,
   "id": "287cc79c",
   "metadata": {},
   "outputs": [],
   "source": [
    "dtype_map = {\n",
    "    \"subject_id\": \"int16\",\n",
    "    \"trial\":      \"int16\",\n",
    "    \"acc_x\":      \"float32\", \"acc_y\":      \"float32\", \"acc_z\":      \"float32\",\n",
    "    \"gyro_x\":     \"float32\", \"gyro_y\":     \"float32\", \"gyro_z\":     \"float32\",\n",
    "    \"azimuth\":    \"float32\", \"pitch\":      \"float32\", \"roll\":       \"float32\",\n",
    "    \"label\":      \"category\"\n",
    "}\n",
    "sensor_cols = [\n",
    "    \"acc_x\",\"acc_y\",\"acc_z\",\n",
    "    \"gyro_x\",\"gyro_y\",\"gyro_z\",\n",
    "    \"azimuth\",\"pitch\",\"roll\"\n",
    "]"
   ]
  },
  {
   "cell_type": "code",
   "execution_count": 4,
   "id": "91165d38",
   "metadata": {},
   "outputs": [],
   "source": [
    "df = pd.read_csv(RAW_PATH, dtype=dtype_map, engine=\"c\")"
   ]
  },
  {
   "cell_type": "code",
   "execution_count": 5,
   "id": "c22225a9",
   "metadata": {},
   "outputs": [],
   "source": [
    "groups = df[\"subject_id\"].values\n",
    "gss1   = GroupShuffleSplit(n_splits=1, test_size=0.2, random_state=42)\n",
    "trainval_idx, test_idx = next(gss1.split(df, df[\"label\"], groups=groups))"
   ]
  },
  {
   "cell_type": "code",
   "execution_count": 6,
   "id": "9437696a",
   "metadata": {},
   "outputs": [],
   "source": [
    "test_subjects = df.iloc[test_idx][\"subject_id\"].unique()\n",
    "df_test       = df[df[\"subject_id\"].isin(test_subjects)].reset_index(drop=True)"
   ]
  },
  {
   "cell_type": "code",
   "execution_count": 7,
   "id": "c95ba921",
   "metadata": {},
   "outputs": [],
   "source": [
    "fall_set     = {\"BSC\",\"FKL\",\"SDL\",\"FOL\"}\n",
    "post_fall    = {\"LYI\"}"
   ]
  },
  {
   "cell_type": "code",
   "execution_count": 8,
   "id": "3c834b42",
   "metadata": {},
   "outputs": [],
   "source": [
    "def map_label(x):\n",
    "    if x in fall_set:\n",
    "        return \"FALL\"\n",
    "    elif x in post_fall:\n",
    "        return \"POST_FALL\"\n",
    "    else:\n",
    "        return \"ADL\"\n",
    "\n",
    "df_test[\"fall_label\"] = df_test[\"label\"].apply(map_label)\n"
   ]
  },
  {
   "cell_type": "code",
   "execution_count": 9,
   "id": "051534d0",
   "metadata": {},
   "outputs": [],
   "source": [
    "def create_windows(X_df, y_ser, window_size, step_size):\n",
    "    Xw, yw = [], []\n",
    "    data   = X_df.values\n",
    "    labels = y_ser.values\n",
    "    n      = len(X_df)\n",
    "    for start in range(0, n - window_size + 1, step_size):\n",
    "        block       = data[start : start + window_size]\n",
    "        block_lbls  = labels[start : start + window_size]\n",
    "        uniq        = set(block_lbls)\n",
    "        if \"FALL\" in uniq:\n",
    "            lbl = \"FALL\"\n",
    "        elif \"ADL\" in uniq:\n",
    "            lbl = \"ADL\"\n",
    "        else:\n",
    "            continue\n",
    "        Xw.append(block)\n",
    "        yw.append(lbl)\n",
    "    return np.array(Xw), np.array(yw)"
   ]
  },
  {
   "cell_type": "code",
   "execution_count": 10,
   "id": "7be625e2",
   "metadata": {},
   "outputs": [],
   "source": [
    "X_raw, y_raw = create_windows(\n",
    "    df_test[sensor_cols],\n",
    "    df_test[\"fall_label\"],\n",
    "    WINDOW_SIZE, STEP_SIZE\n",
    ")"
   ]
  },
  {
   "cell_type": "code",
   "execution_count": 11,
   "id": "a1467e7f",
   "metadata": {},
   "outputs": [],
   "source": [
    "fall_indices = np.where(y_raw == \"FALL\")[0]\n",
    "if len(fall_indices) == 0:\n",
    "    raise RuntimeError(\"No FALL windows found in the raw test set!\")\n",
    "\n",
    "first_fall = X_raw[fall_indices[0]]  # shape: (WINDOW_SIZE, n_features)\n",
    "df_sample  = pd.DataFrame(first_fall, columns=sensor_cols)\n"
   ]
  },
  {
   "cell_type": "code",
   "execution_count": 12,
   "id": "cf87dbc4",
   "metadata": {},
   "outputs": [
    {
     "name": "stdout",
     "output_type": "stream",
     "text": [
      "Wrote raw FALL window to: samples/sample_fall_window.csv (500 rows × 9 cols)\n"
     ]
    }
   ],
   "source": [
    "\n",
    "os.makedirs(OUT_FOLDER, exist_ok=True)\n",
    "out_path = os.path.join(OUT_FOLDER, OUT_FILENAME)\n",
    "df_sample.to_csv(out_path, index=False)\n",
    "\n",
    "print(f\"Wrote raw FALL window to: {out_path} ({df_sample.shape[0]} rows × {df_sample.shape[1]} cols)\")"
   ]
  },
  {
   "cell_type": "code",
   "execution_count": null,
   "id": "7926af1c",
   "metadata": {},
   "outputs": [],
   "source": []
  }
 ],
 "metadata": {
  "kernelspec": {
   "display_name": "Python 3 (ipykernel)",
   "language": "python",
   "name": "python3"
  },
  "language_info": {
   "codemirror_mode": {
    "name": "ipython",
    "version": 3
   },
   "file_extension": ".py",
   "mimetype": "text/x-python",
   "name": "python",
   "nbconvert_exporter": "python",
   "pygments_lexer": "ipython3",
   "version": "3.11.3"
  }
 },
 "nbformat": 4,
 "nbformat_minor": 5
}
