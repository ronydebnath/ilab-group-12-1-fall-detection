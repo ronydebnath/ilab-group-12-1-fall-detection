{
 "cells": [
  {
   "cell_type": "code",
   "execution_count": 10,
   "id": "c2ea3f13",
   "metadata": {},
   "outputs": [],
   "source": [
    "import pandas as pd\n",
    "import numpy as np\n",
    "import os\n"
   ]
  },
  {
   "cell_type": "code",
   "execution_count": 11,
   "id": "b214f471",
   "metadata": {},
   "outputs": [],
   "source": [
    "pd.set_option('display.max_columns', None)\n",
    "\n",
    "# Read datasets from the interim directory\n",
    "X_train = pd.read_pickle(\"../../data/interim/X_train_ori.pkl\")\n",
    "X_val = pd.read_pickle(\"../../data/interim/X_val_ori.pkl\")\n",
    "X_test = pd.read_pickle(\"../../data/interim/X_test_ori.pkl\")\n",
    "y_train = pd.read_pickle(\"../../data/interim/y_train_ori.pkl\")\n",
    "y_val = pd.read_pickle(\"../../data/interim/y_val_ori.pkl\")\n",
    "y_test = pd.read_pickle(\"../../data/interim/y_test_ori.pkl\")"
   ]
  },
  {
   "cell_type": "markdown",
   "id": "9e1fef5d",
   "metadata": {},
   "source": [
    "### Segment into Windows"
   ]
  },
  {
   "cell_type": "code",
   "execution_count": 12,
   "id": "72814fe6",
   "metadata": {},
   "outputs": [],
   "source": [
    "sensor_cols = ['acc_x', 'acc_y', 'acc_z', 'gyro_x', 'gyro_y', 'gyro_z', 'azimuth','pitch','roll']\n",
    "\n",
    "def create_windows(X, y, window_size=100, step_size=50):\n",
    "    X_windows, y_windows = [], []\n",
    "    \n",
    "    for start in range(0, len(X) - window_size + 1, step_size):\n",
    "        end = start + window_size\n",
    "        window_data = X[start:end]\n",
    "        window_labels = y[start:end]\n",
    "\n",
    "        # Majority voting for label assignment\n",
    "        unique, counts = np.unique(window_labels, return_counts=True)\n",
    "        label = unique[np.argmax(counts)]\n",
    "\n",
    "        X_windows.append(window_data)\n",
    "        y_windows.append(label)\n",
    "\n",
    "    return np.array(X_windows), np.array(y_windows)"
   ]
  },
  {
   "cell_type": "code",
   "execution_count": 13,
   "id": "932ff65a",
   "metadata": {},
   "outputs": [],
   "source": [
    "X_train_windows, y_train_windows = create_windows(X_train, y_train)\n",
    "X_val_windows, y_val_windows = create_windows(X_val, y_val)\n",
    "X_test_windows, y_test_windows = create_windows(X_test, y_test)"
   ]
  },
  {
   "cell_type": "markdown",
   "id": "0e9ab8e1",
   "metadata": {},
   "source": [
    "### Encode Label"
   ]
  },
  {
   "cell_type": "code",
   "execution_count": 14,
   "id": "5f41c96c",
   "metadata": {},
   "outputs": [],
   "source": [
    "from sklearn.preprocessing import LabelEncoder\n",
    "\n",
    "# Initialize the LabelEncoder\n",
    "le = LabelEncoder()\n",
    "\n",
    "# Fit and transform on the windowed training labels\n",
    "y_train_windows_encoded = le.fit_transform(y_train_windows)\n",
    "\n",
    "# Transform the validation and test windowed labels based on the same encoding\n",
    "y_val_windows_encoded = le.transform(y_val_windows)\n",
    "y_test_windows_encoded = le.transform(y_test_windows)"
   ]
  },
  {
   "cell_type": "code",
   "execution_count": 15,
   "id": "c852635f",
   "metadata": {},
   "outputs": [
    {
     "name": "stderr",
     "output_type": "stream",
     "text": [
      "c:\\Users\\sovan\\Desktop\\Fall Detection\\fresh-ilab-fall-detection\\.venv\\Lib\\site-packages\\keras\\src\\layers\\convolutional\\base_conv.py:107: UserWarning: Do not pass an `input_shape`/`input_dim` argument to a layer. When using Sequential models, prefer using an `Input(shape)` object as the first layer in the model instead.\n",
      "  super().__init__(activity_regularizer=activity_regularizer, **kwargs)\n"
     ]
    },
    {
     "data": {
      "text/html": [
       "<pre style=\"white-space:pre;overflow-x:auto;line-height:normal;font-family:Menlo,'DejaVu Sans Mono',consolas,'Courier New',monospace\"><span style=\"font-weight: bold\">Model: \"sequential_1\"</span>\n",
       "</pre>\n"
      ],
      "text/plain": [
       "\u001b[1mModel: \"sequential_1\"\u001b[0m\n"
      ]
     },
     "metadata": {},
     "output_type": "display_data"
    },
    {
     "data": {
      "text/html": [
       "<pre style=\"white-space:pre;overflow-x:auto;line-height:normal;font-family:Menlo,'DejaVu Sans Mono',consolas,'Courier New',monospace\">┏━━━━━━━━━━━━━━━━━━━━━━━━━━━━━━━━━┳━━━━━━━━━━━━━━━━━━━━━━━━┳━━━━━━━━━━━━━━━┓\n",
       "┃<span style=\"font-weight: bold\"> Layer (type)                    </span>┃<span style=\"font-weight: bold\"> Output Shape           </span>┃<span style=\"font-weight: bold\">       Param # </span>┃\n",
       "┡━━━━━━━━━━━━━━━━━━━━━━━━━━━━━━━━━╇━━━━━━━━━━━━━━━━━━━━━━━━╇━━━━━━━━━━━━━━━┩\n",
       "│ conv1d_4 (<span style=\"color: #0087ff; text-decoration-color: #0087ff\">Conv1D</span>)               │ (<span style=\"color: #00d7ff; text-decoration-color: #00d7ff\">None</span>, <span style=\"color: #00af00; text-decoration-color: #00af00\">96</span>, <span style=\"color: #00af00; text-decoration-color: #00af00\">64</span>)         │         <span style=\"color: #00af00; text-decoration-color: #00af00\">2,944</span> │\n",
       "├─────────────────────────────────┼────────────────────────┼───────────────┤\n",
       "│ conv1d_5 (<span style=\"color: #0087ff; text-decoration-color: #0087ff\">Conv1D</span>)               │ (<span style=\"color: #00d7ff; text-decoration-color: #00d7ff\">None</span>, <span style=\"color: #00af00; text-decoration-color: #00af00\">92</span>, <span style=\"color: #00af00; text-decoration-color: #00af00\">64</span>)         │        <span style=\"color: #00af00; text-decoration-color: #00af00\">20,544</span> │\n",
       "├─────────────────────────────────┼────────────────────────┼───────────────┤\n",
       "│ conv1d_6 (<span style=\"color: #0087ff; text-decoration-color: #0087ff\">Conv1D</span>)               │ (<span style=\"color: #00d7ff; text-decoration-color: #00d7ff\">None</span>, <span style=\"color: #00af00; text-decoration-color: #00af00\">88</span>, <span style=\"color: #00af00; text-decoration-color: #00af00\">64</span>)         │        <span style=\"color: #00af00; text-decoration-color: #00af00\">20,544</span> │\n",
       "├─────────────────────────────────┼────────────────────────┼───────────────┤\n",
       "│ conv1d_7 (<span style=\"color: #0087ff; text-decoration-color: #0087ff\">Conv1D</span>)               │ (<span style=\"color: #00d7ff; text-decoration-color: #00d7ff\">None</span>, <span style=\"color: #00af00; text-decoration-color: #00af00\">84</span>, <span style=\"color: #00af00; text-decoration-color: #00af00\">64</span>)         │        <span style=\"color: #00af00; text-decoration-color: #00af00\">20,544</span> │\n",
       "├─────────────────────────────────┼────────────────────────┼───────────────┤\n",
       "│ lstm_2 (<span style=\"color: #0087ff; text-decoration-color: #0087ff\">LSTM</span>)                   │ (<span style=\"color: #00d7ff; text-decoration-color: #00d7ff\">None</span>, <span style=\"color: #00af00; text-decoration-color: #00af00\">84</span>, <span style=\"color: #00af00; text-decoration-color: #00af00\">128</span>)        │        <span style=\"color: #00af00; text-decoration-color: #00af00\">98,816</span> │\n",
       "├─────────────────────────────────┼────────────────────────┼───────────────┤\n",
       "│ lstm_3 (<span style=\"color: #0087ff; text-decoration-color: #0087ff\">LSTM</span>)                   │ (<span style=\"color: #00d7ff; text-decoration-color: #00d7ff\">None</span>, <span style=\"color: #00af00; text-decoration-color: #00af00\">128</span>)            │       <span style=\"color: #00af00; text-decoration-color: #00af00\">131,584</span> │\n",
       "├─────────────────────────────────┼────────────────────────┼───────────────┤\n",
       "│ dropout_1 (<span style=\"color: #0087ff; text-decoration-color: #0087ff\">Dropout</span>)             │ (<span style=\"color: #00d7ff; text-decoration-color: #00d7ff\">None</span>, <span style=\"color: #00af00; text-decoration-color: #00af00\">128</span>)            │             <span style=\"color: #00af00; text-decoration-color: #00af00\">0</span> │\n",
       "├─────────────────────────────────┼────────────────────────┼───────────────┤\n",
       "│ dense_1 (<span style=\"color: #0087ff; text-decoration-color: #0087ff\">Dense</span>)                 │ (<span style=\"color: #00d7ff; text-decoration-color: #00d7ff\">None</span>, <span style=\"color: #00af00; text-decoration-color: #00af00\">16</span>)             │         <span style=\"color: #00af00; text-decoration-color: #00af00\">2,064</span> │\n",
       "└─────────────────────────────────┴────────────────────────┴───────────────┘\n",
       "</pre>\n"
      ],
      "text/plain": [
       "┏━━━━━━━━━━━━━━━━━━━━━━━━━━━━━━━━━┳━━━━━━━━━━━━━━━━━━━━━━━━┳━━━━━━━━━━━━━━━┓\n",
       "┃\u001b[1m \u001b[0m\u001b[1mLayer (type)                   \u001b[0m\u001b[1m \u001b[0m┃\u001b[1m \u001b[0m\u001b[1mOutput Shape          \u001b[0m\u001b[1m \u001b[0m┃\u001b[1m \u001b[0m\u001b[1m      Param #\u001b[0m\u001b[1m \u001b[0m┃\n",
       "┡━━━━━━━━━━━━━━━━━━━━━━━━━━━━━━━━━╇━━━━━━━━━━━━━━━━━━━━━━━━╇━━━━━━━━━━━━━━━┩\n",
       "│ conv1d_4 (\u001b[38;5;33mConv1D\u001b[0m)               │ (\u001b[38;5;45mNone\u001b[0m, \u001b[38;5;34m96\u001b[0m, \u001b[38;5;34m64\u001b[0m)         │         \u001b[38;5;34m2,944\u001b[0m │\n",
       "├─────────────────────────────────┼────────────────────────┼───────────────┤\n",
       "│ conv1d_5 (\u001b[38;5;33mConv1D\u001b[0m)               │ (\u001b[38;5;45mNone\u001b[0m, \u001b[38;5;34m92\u001b[0m, \u001b[38;5;34m64\u001b[0m)         │        \u001b[38;5;34m20,544\u001b[0m │\n",
       "├─────────────────────────────────┼────────────────────────┼───────────────┤\n",
       "│ conv1d_6 (\u001b[38;5;33mConv1D\u001b[0m)               │ (\u001b[38;5;45mNone\u001b[0m, \u001b[38;5;34m88\u001b[0m, \u001b[38;5;34m64\u001b[0m)         │        \u001b[38;5;34m20,544\u001b[0m │\n",
       "├─────────────────────────────────┼────────────────────────┼───────────────┤\n",
       "│ conv1d_7 (\u001b[38;5;33mConv1D\u001b[0m)               │ (\u001b[38;5;45mNone\u001b[0m, \u001b[38;5;34m84\u001b[0m, \u001b[38;5;34m64\u001b[0m)         │        \u001b[38;5;34m20,544\u001b[0m │\n",
       "├─────────────────────────────────┼────────────────────────┼───────────────┤\n",
       "│ lstm_2 (\u001b[38;5;33mLSTM\u001b[0m)                   │ (\u001b[38;5;45mNone\u001b[0m, \u001b[38;5;34m84\u001b[0m, \u001b[38;5;34m128\u001b[0m)        │        \u001b[38;5;34m98,816\u001b[0m │\n",
       "├─────────────────────────────────┼────────────────────────┼───────────────┤\n",
       "│ lstm_3 (\u001b[38;5;33mLSTM\u001b[0m)                   │ (\u001b[38;5;45mNone\u001b[0m, \u001b[38;5;34m128\u001b[0m)            │       \u001b[38;5;34m131,584\u001b[0m │\n",
       "├─────────────────────────────────┼────────────────────────┼───────────────┤\n",
       "│ dropout_1 (\u001b[38;5;33mDropout\u001b[0m)             │ (\u001b[38;5;45mNone\u001b[0m, \u001b[38;5;34m128\u001b[0m)            │             \u001b[38;5;34m0\u001b[0m │\n",
       "├─────────────────────────────────┼────────────────────────┼───────────────┤\n",
       "│ dense_1 (\u001b[38;5;33mDense\u001b[0m)                 │ (\u001b[38;5;45mNone\u001b[0m, \u001b[38;5;34m16\u001b[0m)             │         \u001b[38;5;34m2,064\u001b[0m │\n",
       "└─────────────────────────────────┴────────────────────────┴───────────────┘\n"
      ]
     },
     "metadata": {},
     "output_type": "display_data"
    },
    {
     "data": {
      "text/html": [
       "<pre style=\"white-space:pre;overflow-x:auto;line-height:normal;font-family:Menlo,'DejaVu Sans Mono',consolas,'Courier New',monospace\"><span style=\"font-weight: bold\"> Total params: </span><span style=\"color: #00af00; text-decoration-color: #00af00\">297,040</span> (1.13 MB)\n",
       "</pre>\n"
      ],
      "text/plain": [
       "\u001b[1m Total params: \u001b[0m\u001b[38;5;34m297,040\u001b[0m (1.13 MB)\n"
      ]
     },
     "metadata": {},
     "output_type": "display_data"
    },
    {
     "data": {
      "text/html": [
       "<pre style=\"white-space:pre;overflow-x:auto;line-height:normal;font-family:Menlo,'DejaVu Sans Mono',consolas,'Courier New',monospace\"><span style=\"font-weight: bold\"> Trainable params: </span><span style=\"color: #00af00; text-decoration-color: #00af00\">297,040</span> (1.13 MB)\n",
       "</pre>\n"
      ],
      "text/plain": [
       "\u001b[1m Trainable params: \u001b[0m\u001b[38;5;34m297,040\u001b[0m (1.13 MB)\n"
      ]
     },
     "metadata": {},
     "output_type": "display_data"
    },
    {
     "data": {
      "text/html": [
       "<pre style=\"white-space:pre;overflow-x:auto;line-height:normal;font-family:Menlo,'DejaVu Sans Mono',consolas,'Courier New',monospace\"><span style=\"font-weight: bold\"> Non-trainable params: </span><span style=\"color: #00af00; text-decoration-color: #00af00\">0</span> (0.00 B)\n",
       "</pre>\n"
      ],
      "text/plain": [
       "\u001b[1m Non-trainable params: \u001b[0m\u001b[38;5;34m0\u001b[0m (0.00 B)\n"
      ]
     },
     "metadata": {},
     "output_type": "display_data"
    }
   ],
   "source": [
    "from tensorflow.keras.models import Sequential\n",
    "from tensorflow.keras.layers import Conv1D, LSTM, Dropout, Dense\n",
    "from tensorflow.keras.optimizers import Adam\n",
    "\n",
    "# Implementation of \"Deep ConvLSTM with self-attention for human activity decoding using wearable sensors.\" by Satya P. Singh et al. (IEEE Sensors, 2020)\n",
    "# Adapted from https://github.com/quotation2520/CAGE4HAR/blob/main/models/DeepConvLSTM.py\n",
    "\n",
    "# X_train_windows.shape == (n_samples, 100, 9)\n",
    "input_shape = (X_train_windows.shape[1], X_train_windows.shape[2])  # ⇒ (100, 6)\n",
    "num_classes = len(set(y_train_windows_encoded))                    \n",
    "\n",
    "model_deep_convlstm = Sequential([\n",
    "    # ——— Conv feature extractor ———\n",
    "    Conv1D(64, kernel_size=5, activation='relu', padding='valid',\n",
    "           input_shape=input_shape),\n",
    "    Conv1D(64, kernel_size=5, activation='relu', padding='valid'),\n",
    "    Conv1D(64, kernel_size=5, activation='relu', padding='valid'),\n",
    "    Conv1D(64, kernel_size=5, activation='relu', padding='valid'),\n",
    "\n",
    "    # ——— LSTM stack ———\n",
    "    # first LSTM returns full sequence\n",
    "    LSTM(128, return_sequences=True),\n",
    "    # second LSTM returns only the last output\n",
    "    LSTM(128, return_sequences=False),\n",
    "\n",
    "    # ——— classification head ———\n",
    "    Dropout(0.5),\n",
    "    Dense(num_classes, activation='softmax')\n",
    "])\n",
    "\n",
    "model_deep_convlstm.compile(\n",
    "    optimizer=Adam(learning_rate=0.001),\n",
    "    loss='sparse_categorical_crossentropy',\n",
    "    metrics=['accuracy']\n",
    ")\n",
    "\n",
    "model_deep_convlstm.summary()"
   ]
  },
  {
   "cell_type": "code",
   "execution_count": 16,
   "id": "9e6289a7",
   "metadata": {},
   "outputs": [
    {
     "name": "stdout",
     "output_type": "stream",
     "text": [
      "Epoch 1/25\n",
      "\u001b[1m1739/1739\u001b[0m \u001b[32m━━━━━━━━━━━━━━━━━━━━\u001b[0m\u001b[37m\u001b[0m \u001b[1m222s\u001b[0m 125ms/step - accuracy: 0.6698 - loss: 1.0736 - val_accuracy: 0.7964 - val_loss: 0.6267\n",
      "Epoch 2/25\n",
      "\u001b[1m1739/1739\u001b[0m \u001b[32m━━━━━━━━━━━━━━━━━━━━\u001b[0m\u001b[37m\u001b[0m \u001b[1m210s\u001b[0m 121ms/step - accuracy: 0.8455 - loss: 0.4816 - val_accuracy: 0.8036 - val_loss: 0.5673\n",
      "Epoch 3/25\n",
      "\u001b[1m1739/1739\u001b[0m \u001b[32m━━━━━━━━━━━━━━━━━━━━\u001b[0m\u001b[37m\u001b[0m \u001b[1m214s\u001b[0m 123ms/step - accuracy: 0.8426 - loss: 0.4876 - val_accuracy: 0.8084 - val_loss: 0.5665\n",
      "Epoch 4/25\n",
      "\u001b[1m1739/1739\u001b[0m \u001b[32m━━━━━━━━━━━━━━━━━━━━\u001b[0m\u001b[37m\u001b[0m \u001b[1m212s\u001b[0m 122ms/step - accuracy: 0.8918 - loss: 0.3409 - val_accuracy: 0.8021 - val_loss: 0.6323\n",
      "Epoch 5/25\n",
      "\u001b[1m1739/1739\u001b[0m \u001b[32m━━━━━━━━━━━━━━━━━━━━\u001b[0m\u001b[37m\u001b[0m \u001b[1m212s\u001b[0m 122ms/step - accuracy: 0.8965 - loss: 0.3206 - val_accuracy: 0.8479 - val_loss: 0.4435\n",
      "Epoch 6/25\n",
      "\u001b[1m1739/1739\u001b[0m \u001b[32m━━━━━━━━━━━━━━━━━━━━\u001b[0m\u001b[37m\u001b[0m \u001b[1m212s\u001b[0m 122ms/step - accuracy: 0.9015 - loss: 0.3042 - val_accuracy: 0.8135 - val_loss: 0.5508\n",
      "Epoch 7/25\n",
      "\u001b[1m1739/1739\u001b[0m \u001b[32m━━━━━━━━━━━━━━━━━━━━\u001b[0m\u001b[37m\u001b[0m \u001b[1m214s\u001b[0m 123ms/step - accuracy: 0.9105 - loss: 0.2765 - val_accuracy: 0.8224 - val_loss: 0.5515\n",
      "Epoch 8/25\n",
      "\u001b[1m1739/1739\u001b[0m \u001b[32m━━━━━━━━━━━━━━━━━━━━\u001b[0m\u001b[37m\u001b[0m \u001b[1m215s\u001b[0m 123ms/step - accuracy: 0.9185 - loss: 0.2578 - val_accuracy: 0.7559 - val_loss: 1.0621\n",
      "Epoch 9/25\n",
      "\u001b[1m1739/1739\u001b[0m \u001b[32m━━━━━━━━━━━━━━━━━━━━\u001b[0m\u001b[37m\u001b[0m \u001b[1m215s\u001b[0m 124ms/step - accuracy: 0.8988 - loss: 0.3111 - val_accuracy: 0.8029 - val_loss: 0.5723\n",
      "Epoch 10/25\n",
      "\u001b[1m1739/1739\u001b[0m \u001b[32m━━━━━━━━━━━━━━━━━━━━\u001b[0m\u001b[37m\u001b[0m \u001b[1m214s\u001b[0m 123ms/step - accuracy: 0.9238 - loss: 0.2323 - val_accuracy: 0.8370 - val_loss: 0.4717\n",
      "Epoch 11/25\n",
      "\u001b[1m1739/1739\u001b[0m \u001b[32m━━━━━━━━━━━━━━━━━━━━\u001b[0m\u001b[37m\u001b[0m \u001b[1m214s\u001b[0m 123ms/step - accuracy: 0.9190 - loss: 0.2495 - val_accuracy: 0.8152 - val_loss: 0.5233\n",
      "Epoch 12/25\n",
      "\u001b[1m1739/1739\u001b[0m \u001b[32m━━━━━━━━━━━━━━━━━━━━\u001b[0m\u001b[37m\u001b[0m \u001b[1m264s\u001b[0m 124ms/step - accuracy: 0.9226 - loss: 0.2428 - val_accuracy: 0.8054 - val_loss: 0.7050\n",
      "Epoch 13/25\n",
      "\u001b[1m1739/1739\u001b[0m \u001b[32m━━━━━━━━━━━━━━━━━━━━\u001b[0m\u001b[37m\u001b[0m \u001b[1m213s\u001b[0m 123ms/step - accuracy: 0.9187 - loss: 0.2431 - val_accuracy: 0.8090 - val_loss: 0.5881\n",
      "Epoch 14/25\n",
      "\u001b[1m1739/1739\u001b[0m \u001b[32m━━━━━━━━━━━━━━━━━━━━\u001b[0m\u001b[37m\u001b[0m \u001b[1m215s\u001b[0m 123ms/step - accuracy: 0.9229 - loss: 0.2266 - val_accuracy: 0.8254 - val_loss: 0.5466\n",
      "Epoch 15/25\n",
      "\u001b[1m1739/1739\u001b[0m \u001b[32m━━━━━━━━━━━━━━━━━━━━\u001b[0m\u001b[37m\u001b[0m \u001b[1m218s\u001b[0m 126ms/step - accuracy: 0.9274 - loss: 0.2171 - val_accuracy: 0.8365 - val_loss: 0.5257\n",
      "Epoch 16/25\n",
      "\u001b[1m1739/1739\u001b[0m \u001b[32m━━━━━━━━━━━━━━━━━━━━\u001b[0m\u001b[37m\u001b[0m \u001b[1m218s\u001b[0m 125ms/step - accuracy: 0.9239 - loss: 0.2375 - val_accuracy: 0.8146 - val_loss: 0.5542\n",
      "Epoch 17/25\n",
      "\u001b[1m1739/1739\u001b[0m \u001b[32m━━━━━━━━━━━━━━━━━━━━\u001b[0m\u001b[37m\u001b[0m \u001b[1m215s\u001b[0m 124ms/step - accuracy: 0.9267 - loss: 0.2213 - val_accuracy: 0.8059 - val_loss: 0.6127\n",
      "Epoch 18/25\n",
      "\u001b[1m1739/1739\u001b[0m \u001b[32m━━━━━━━━━━━━━━━━━━━━\u001b[0m\u001b[37m\u001b[0m \u001b[1m214s\u001b[0m 123ms/step - accuracy: 0.9311 - loss: 0.2091 - val_accuracy: 0.8242 - val_loss: 0.5641\n",
      "Epoch 19/25\n",
      "\u001b[1m1739/1739\u001b[0m \u001b[32m━━━━━━━━━━━━━━━━━━━━\u001b[0m\u001b[37m\u001b[0m \u001b[1m213s\u001b[0m 123ms/step - accuracy: 0.9294 - loss: 0.2110 - val_accuracy: 0.8356 - val_loss: 0.5482\n",
      "Epoch 20/25\n",
      "\u001b[1m1739/1739\u001b[0m \u001b[32m━━━━━━━━━━━━━━━━━━━━\u001b[0m\u001b[37m\u001b[0m \u001b[1m263s\u001b[0m 123ms/step - accuracy: 0.9302 - loss: 0.2135 - val_accuracy: 0.8401 - val_loss: 0.5072\n",
      "Epoch 21/25\n",
      "\u001b[1m1739/1739\u001b[0m \u001b[32m━━━━━━━━━━━━━━━━━━━━\u001b[0m\u001b[37m\u001b[0m \u001b[1m215s\u001b[0m 124ms/step - accuracy: 0.9337 - loss: 0.1994 - val_accuracy: 0.8139 - val_loss: 0.5677\n",
      "Epoch 22/25\n",
      "\u001b[1m1739/1739\u001b[0m \u001b[32m━━━━━━━━━━━━━━━━━━━━\u001b[0m\u001b[37m\u001b[0m \u001b[1m216s\u001b[0m 124ms/step - accuracy: 0.9321 - loss: 0.2098 - val_accuracy: 0.8357 - val_loss: 0.5598\n",
      "Epoch 23/25\n",
      "\u001b[1m1739/1739\u001b[0m \u001b[32m━━━━━━━━━━━━━━━━━━━━\u001b[0m\u001b[37m\u001b[0m \u001b[1m218s\u001b[0m 125ms/step - accuracy: 0.9329 - loss: 0.2058 - val_accuracy: 0.8178 - val_loss: 0.6180\n",
      "Epoch 24/25\n",
      "\u001b[1m1739/1739\u001b[0m \u001b[32m━━━━━━━━━━━━━━━━━━━━\u001b[0m\u001b[37m\u001b[0m \u001b[1m219s\u001b[0m 126ms/step - accuracy: 0.9327 - loss: 0.2099 - val_accuracy: 0.8467 - val_loss: 0.4768\n",
      "Epoch 25/25\n",
      "\u001b[1m1739/1739\u001b[0m \u001b[32m━━━━━━━━━━━━━━━━━━━━\u001b[0m\u001b[37m\u001b[0m \u001b[1m218s\u001b[0m 126ms/step - accuracy: 0.9302 - loss: 0.2201 - val_accuracy: 0.8166 - val_loss: 0.5836\n"
     ]
    }
   ],
   "source": [
    "history = model_deep_convlstm.fit(X_train_windows, y_train_windows_encoded,\n",
    "                    validation_data=(X_val_windows, y_val_windows_encoded),\n",
    "                    epochs=25, batch_size=32)"
   ]
  },
  {
   "cell_type": "code",
   "execution_count": 18,
   "id": "51a30c92",
   "metadata": {},
   "outputs": [],
   "source": [
    "import matplotlib.pyplot as plt\n",
    "import seaborn as sns\n",
    "from sklearn.metrics import (confusion_matrix, classification_report, \n",
    "                             precision_score, recall_score, f1_score)\n",
    "\n",
    "def evaluate_model(model, X_test, y_test, label_classes=None, plot_confusion_matrix=True, plot_roc=True):\n",
    "\n",
    "    # Evaluate the model for loss and accuracy\n",
    "    loss, accuracy = model.evaluate(X_test, y_test, verbose=0)\n",
    "    print(\"Test Loss: {:.4f}\".format(loss))\n",
    "    print(\"Test Accuracy: {:.4f}\".format(accuracy))\n",
    "\n",
    "    # Generate prediction probabilities and predicted classes\n",
    "    y_pred_prob = model.predict(X_test)\n",
    "    y_pred = np.argmax(y_pred_prob, axis=1)\n",
    "\n",
    "    # Compute confusion matrix\n",
    "    cm = confusion_matrix(y_test, y_pred)\n",
    "    if plot_confusion_matrix:\n",
    "        plt.figure(figsize=(10, 8))\n",
    "        if label_classes is None:\n",
    "            label_classes = [str(i) for i in range(cm.shape[0])]\n",
    "        sns.heatmap(cm, annot=True, fmt=\"d\", cmap='Blues', \n",
    "                    xticklabels=label_classes, yticklabels=label_classes)\n",
    "        plt.xlabel(\"Predicted Label\")\n",
    "        plt.ylabel(\"True Label\")\n",
    "        plt.title(\"Confusion Matrix\")\n",
    "        plt.show()\n",
    "\n",
    "    # Compute and print classification report\n",
    "    report = classification_report(y_test, y_pred, target_names=label_classes)\n",
    "    print(\"Classification Report:\\n\", report)\n",
    "\n",
    "    # Compute weighted precision, recall, and F1 scores\n",
    "    precision = precision_score(y_test, y_pred, average='weighted')\n",
    "    recall = recall_score(y_test, y_pred, average='weighted')\n",
    "    f1 = f1_score(y_test, y_pred, average='weighted')\n",
    "    print(\"Weighted Precision: {:.4f}\".format(precision))\n",
    "    print(\"Weighted Recall: {:.4f}\".format(recall))\n",
    "    print(\"Weighted F1 Score: {:.4f}\".format(f1))\n",
    "\n",
    "    metrics = {\n",
    "        'loss': loss,\n",
    "        'accuracy': accuracy,\n",
    "        'precision': precision,\n",
    "        'recall': recall,\n",
    "        'f1_score': f1\n",
    "    }\n",
    "\n",
    "    return metrics"
   ]
  },
  {
   "cell_type": "code",
   "execution_count": 19,
   "id": "d89fa750",
   "metadata": {},
   "outputs": [
    {
     "name": "stdout",
     "output_type": "stream",
     "text": [
      "Test Loss: 0.5937\n",
      "Test Accuracy: 0.8372\n",
      "\u001b[1m560/560\u001b[0m \u001b[32m━━━━━━━━━━━━━━━━━━━━\u001b[0m\u001b[37m\u001b[0m \u001b[1m33s\u001b[0m 58ms/step\n"
     ]
    },
    {
     "data": {
      "image/png": "[encoded data removed]",
      "text/plain": [
       "<Figure size 1000x800 with 2 Axes>"
      ]
     },
     "metadata": {},
     "output_type": "display_data"
    },
    {
     "name": "stdout",
     "output_type": "stream",
     "text": [
      "Classification Report:\n",
      "               precision    recall  f1-score   support\n",
      "\n",
      "         BSC       0.44      0.46      0.45       127\n",
      "         CHU       0.76      0.35      0.48        79\n",
      "         CSI       0.61      0.53      0.57       357\n",
      "         CSO       0.67      0.65      0.66       343\n",
      "         FKL       0.70      0.44      0.54        95\n",
      "         FOL       0.62      0.53      0.57        89\n",
      "         JOG       0.96      0.95      0.95      1209\n",
      "         JUM       0.95      0.92      0.94      1152\n",
      "         LYI       0.63      0.83      0.71      1017\n",
      "         SCH       0.74      0.52      0.61       180\n",
      "         SDL       0.62      0.47      0.54       108\n",
      "         SIT       0.82      0.55      0.66      1594\n",
      "         STD       0.82      0.98      0.89      4565\n",
      "         STN       0.60      0.79      0.68       685\n",
      "         STU       0.76      0.74      0.75       722\n",
      "         WAL       0.97      0.85      0.91      5595\n",
      "\n",
      "    accuracy                           0.84     17917\n",
      "   macro avg       0.73      0.66      0.68     17917\n",
      "weighted avg       0.85      0.84      0.83     17917\n",
      "\n",
      "Weighted Precision: 0.8478\n",
      "Weighted Recall: 0.8372\n",
      "Weighted F1 Score: 0.8349\n"
     ]
    }
   ],
   "source": [
    "label_classes = le.classes_.tolist()\n",
    "\n",
    "metrics = evaluate_model(model_deep_convlstm, X_test_windows, y_test_windows_encoded, label_classes=label_classes)\n"
   ]
  },
  {
   "cell_type": "markdown",
   "id": "bb6cbc3e",
   "metadata": {},
   "source": [
    "### 10 - Fold Cross Validation"
   ]
  },
  {
   "cell_type": "code",
   "execution_count": null,
   "id": "173d1901",
   "metadata": {},
   "outputs": [],
   "source": [
    "from sklearn.model_selection import GroupKFold"
   ]
  },
  {
   "cell_type": "code",
   "execution_count": null,
   "id": "9b9878fa",
   "metadata": {},
   "outputs": [],
   "source": [
    "# Read datasets from the interim directory\n",
    "df_filtered = pd.read_pickle(\"../../data/interim/df_filtered.pkl\")"
   ]
  },
  {
   "cell_type": "code",
   "execution_count": null,
   "id": "1cb0dd36",
   "metadata": {},
   "outputs": [],
   "source": [
    "from tensorflow.keras import Input\n",
    "\n",
    "def build_model(input_shape, num_classes):\n",
    "    # Input layer\n",
    "    inputs = Input(shape=input_shape)\n",
    "\n",
    "    # --- CNN Blocks ---\n",
    "    x = Conv1D(filters=64, kernel_size=3, activation='relu', padding='same')(inputs)\n",
    "    x = Conv1D(filters=128, kernel_size=3, activation='relu', padding='same')(x)\n",
    "    x = MaxPooling1D(pool_size=2)(x)\n",
    "    x = Conv1D(filters=128, kernel_size=3, activation='relu', padding='same')(x)\n",
    "\n",
    "    # --- LSTM Layer ---\n",
    "    # return_sequences=True is important to preserve the temporal structure for the attention layer.\n",
    "    x = LSTM(64, return_sequences=True)(x)\n",
    "\n",
    "    # --- Self-Attention ---\n",
    "    # The Attention layer computes a weighted sum of the LSTM outputs.\n",
    "    # Using the same tensor for queries and keys/values implements self-attention.\n",
    "    attn_output = Attention()([x, x])\n",
    "    # Optionally, you can combine the attention output with the LSTM output.\n",
    "    # Here, we simply use the attention output further.\n",
    "    x = GlobalAveragePooling1D()(attn_output)\n",
    "\n",
    "    # --- Dense Layers for Classification ---\n",
    "    x = Dense(64, activation='relu')(x)\n",
    "    x = Dropout(0.5)(x)\n",
    "    outputs = Dense(num_classes, activation='softmax')(x)\n",
    "\n",
    "    # Build and compile the model\n",
    "    model = Model(inputs=inputs, outputs=outputs)\n",
    "    model.compile(optimizer=Adam(learning_rate=0.001),\n",
    "              loss='sparse_categorical_crossentropy',\n",
    "              metrics=['accuracy'])\n",
    "    return model"
   ]
  },
  {
   "cell_type": "code",
   "execution_count": null,
   "id": "47d2a055",
   "metadata": {},
   "outputs": [],
   "source": [
    "sensor_cols = ['acc_x','acc_y','acc_z','gyro_x','gyro_y','gyro_z']\n",
    "groups     = df_filtered['subject_id'].values\n",
    "gkf        = GroupKFold(n_splits=10)\n",
    "\n",
    "val_losses     = []\n",
    "val_accuracies = []\n",
    "\n",
    "for fold, (train_idx, val_idx) in enumerate(\n",
    "        gkf.split(df_filtered, df_filtered['label'], groups=groups)):\n",
    "\n",
    "    # ----- 1) Select raw fold data -----\n",
    "    df_tr = df_filtered.iloc[train_idx]\n",
    "    df_va = df_filtered.iloc[val_idx]\n",
    "\n",
    "    X_tr_raw = df_tr[sensor_cols].values\n",
    "    y_tr_raw = df_tr['label'].values\n",
    "    X_va_raw = df_va[sensor_cols].values\n",
    "    y_va_raw = df_va['label'].values\n",
    "\n",
    "    # ----- 2) Window -----\n",
    "    X_train_windows, y_train_windows = create_windows(X_tr_raw, y_tr_raw,\n",
    "                                                      window_size=50,\n",
    "                                                      step_size=25)\n",
    "    X_val_windows,   y_val_windows   = create_windows(X_va_raw, y_va_raw,\n",
    "                                                      window_size=50,\n",
    "                                                      step_size=25)\n",
    "\n",
    "    # ----- 3) Encode labels -----\n",
    "    le = LabelEncoder()\n",
    "    y_train_encoded = le.fit_transform(y_train_windows)\n",
    "    y_val_encoded   = le.transform(y_val_windows)\n",
    "\n",
    "    # ----- 4) Build model -----\n",
    "    input_shape = (X_train_windows.shape[1], X_train_windows.shape[2])  # (50,6)\n",
    "    num_classes = len(le.classes_)\n",
    "\n",
    "    model = build_model(input_shape, num_classes)\n",
    "\n",
    "    # ----- 5) Train -----\n",
    "    history = model.fit(\n",
    "        X_train_windows, y_train_encoded,\n",
    "        validation_data=(X_val_windows, y_val_encoded),\n",
    "        epochs=25, batch_size=32, verbose=0\n",
    "    )\n",
    "\n",
    "    # ----- 6) Collect metrics -----\n",
    "    val_loss = history.history['val_loss'][-1]\n",
    "    val_acc  = history.history['val_accuracy'][-1]\n",
    "    val_losses.append(val_loss)\n",
    "    val_accuracies.append(val_acc)\n",
    "\n",
    "    print(f\"Fold {fold+1} — val_loss: {val_loss:.4f}, val_acc: {val_acc:.4%}\")\n",
    "\n",
    "# ----- 7) Aggregate across folds -----\n",
    "mean_loss = np.mean(val_losses)\n",
    "std_loss  = np.std(val_losses)\n",
    "mean_acc  = np.mean(val_accuracies)\n",
    "std_acc   = np.std(val_accuracies)\n",
    "\n",
    "print(\"\\n=== Cross‐Validation Results ===\")\n",
    "print(f\"Val Loss: {mean_loss:.4f} ± {std_loss:.4f}\")\n",
    "print(f\"Val Acc:  {mean_acc:.4%} ± {std_acc:.4%}\")\n"
   ]
  }
 ],
 "metadata": {
  "kernelspec": {
   "display_name": ".venv",
   "language": "python",
   "name": "python3"
  },
  "language_info": {
   "codemirror_mode": {
    "name": "ipython",
    "version": 3
   },
   "file_extension": ".py",
   "mimetype": "text/x-python",
   "name": "python",
   "nbconvert_exporter": "python",
   "pygments_lexer": "ipython3",
   "version": "3.11.4"
  }
 },
 "nbformat": 4,
 "nbformat_minor": 5
}
