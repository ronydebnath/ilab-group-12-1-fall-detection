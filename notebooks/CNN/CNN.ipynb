{
 "cells": [
  {
   "cell_type": "code",
   "execution_count": 1,
   "id": "c489fea5",
   "metadata": {},
   "outputs": [],
   "source": [
    "import pandas as pd\n",
    "import numpy as np\n",
    "import os"
   ]
  },
  {
   "cell_type": "code",
   "execution_count": 2,
   "id": "6f6a3fc9",
   "metadata": {},
   "outputs": [],
   "source": [
    "pd.set_option('display.max_columns', None)\n",
    "\n",
    "# Read datasets from the interim directory\n",
    "X_train = pd.read_pickle(\"../../data/interim/X_train.pkl\")\n",
    "X_val = pd.read_pickle(\"../../data/interim/X_val.pkl\")\n",
    "X_test = pd.read_pickle(\"../../data/interim/X_test.pkl\")\n",
    "y_train = pd.read_pickle(\"../../data/interim/y_train.pkl\")\n",
    "y_val = pd.read_pickle(\"../../data/interim/y_val.pkl\")\n",
    "y_test = pd.read_pickle(\"../../data/interim/y_test.pkl\")"
   ]
  },
  {
   "cell_type": "code",
   "execution_count": 4,
   "id": "af9e1aca",
   "metadata": {
    "scrolled": true
   },
   "outputs": [
    {
     "data": {
      "text/html": [
       "<div>\n",
       "<style scoped>\n",
       "    .dataframe tbody tr th:only-of-type {\n",
       "        vertical-align: middle;\n",
       "    }\n",
       "\n",
       "    .dataframe tbody tr th {\n",
       "        vertical-align: top;\n",
       "    }\n",
       "\n",
       "    .dataframe thead th {\n",
       "        text-align: right;\n",
       "    }\n",
       "</style>\n",
       "<table border=\"1\" class=\"dataframe\">\n",
       "  <thead>\n",
       "    <tr style=\"text-align: right;\">\n",
       "      <th></th>\n",
       "      <th>acc_x</th>\n",
       "      <th>acc_y</th>\n",
       "      <th>acc_z</th>\n",
       "      <th>gyro_x</th>\n",
       "      <th>gyro_y</th>\n",
       "      <th>gyro_z</th>\n",
       "    </tr>\n",
       "  </thead>\n",
       "  <tbody>\n",
       "    <tr>\n",
       "      <th>96879</th>\n",
       "      <td>-0.458843</td>\n",
       "      <td>-0.004343</td>\n",
       "      <td>-0.272226</td>\n",
       "      <td>0.032586</td>\n",
       "      <td>-0.057479</td>\n",
       "      <td>0.017799</td>\n",
       "    </tr>\n",
       "    <tr>\n",
       "      <th>96880</th>\n",
       "      <td>-0.881271</td>\n",
       "      <td>0.789259</td>\n",
       "      <td>-0.322166</td>\n",
       "      <td>0.031217</td>\n",
       "      <td>-0.012802</td>\n",
       "      <td>-0.002940</td>\n",
       "    </tr>\n",
       "    <tr>\n",
       "      <th>96881</th>\n",
       "      <td>-0.750800</td>\n",
       "      <td>0.547177</td>\n",
       "      <td>-0.330515</td>\n",
       "      <td>0.042022</td>\n",
       "      <td>0.011359</td>\n",
       "      <td>-0.011404</td>\n",
       "    </tr>\n",
       "    <tr>\n",
       "      <th>96882</th>\n",
       "      <td>-0.640295</td>\n",
       "      <td>0.394234</td>\n",
       "      <td>-0.315634</td>\n",
       "      <td>0.030857</td>\n",
       "      <td>0.012073</td>\n",
       "      <td>-0.015476</td>\n",
       "    </tr>\n",
       "    <tr>\n",
       "      <th>96883</th>\n",
       "      <td>-0.686538</td>\n",
       "      <td>0.550332</td>\n",
       "      <td>-0.359439</td>\n",
       "      <td>0.009593</td>\n",
       "      <td>0.003928</td>\n",
       "      <td>-0.010498</td>\n",
       "    </tr>\n",
       "  </tbody>\n",
       "</table>\n",
       "</div>"
      ],
      "text/plain": [
       "          acc_x     acc_y     acc_z    gyro_x    gyro_y    gyro_z\n",
       "96879 -0.458843 -0.004343 -0.272226  0.032586 -0.057479  0.017799\n",
       "96880 -0.881271  0.789259 -0.322166  0.031217 -0.012802 -0.002940\n",
       "96881 -0.750800  0.547177 -0.330515  0.042022  0.011359 -0.011404\n",
       "96882 -0.640295  0.394234 -0.315634  0.030857  0.012073 -0.015476\n",
       "96883 -0.686538  0.550332 -0.359439  0.009593  0.003928 -0.010498"
      ]
     },
     "execution_count": 4,
     "metadata": {},
     "output_type": "execute_result"
    }
   ],
   "source": [
    "X_train.head()"
   ]
  },
  {
   "cell_type": "markdown",
   "id": "9b2b7e49",
   "metadata": {},
   "source": [
    "## Segment Data into Windows\n",
    "\n",
    "Define a function to create windows of your desired size (e.g., 2.5-second windows):\n",
    "\n",
    "Window size: 50 samples (1 sec at 20 Hz)\n",
    "\n",
    "Overlap: 50% (step = 50 samples)\n"
   ]
  },
  {
   "cell_type": "code",
   "execution_count": 25,
   "id": "3560a92e",
   "metadata": {},
   "outputs": [],
   "source": [
    "sensor_cols = ['acc_x', 'acc_y', 'acc_z', 'gyro_x', 'gyro_y', 'gyro_z']\n",
    "\n",
    "def create_windows(X, y, window_size=50, step_size=25):\n",
    "    X_windows, y_windows = [], []\n",
    "    \n",
    "    for start in range(0, len(X) - window_size + 1, step_size):\n",
    "        end = start + window_size\n",
    "        window_data = X[start:end]\n",
    "        window_labels = y[start:end]\n",
    "\n",
    "        # Majority voting for label assignment\n",
    "        unique, counts = np.unique(window_labels, return_counts=True)\n",
    "        label = unique[np.argmax(counts)]\n",
    "\n",
    "        X_windows.append(window_data)\n",
    "        y_windows.append(label)\n",
    "\n",
    "    return np.array(X_windows), np.array(y_windows)"
   ]
  },
  {
   "cell_type": "markdown",
   "id": "bd69d4fa",
   "metadata": {},
   "source": [
    "This generates windows of data (X) with corresponding labels (y)."
   ]
  },
  {
   "cell_type": "code",
   "execution_count": null,
   "id": "b8566291",
   "metadata": {},
   "outputs": [],
   "source": [
    "X_train_windows, y_train_windows = create_windows(X_train, y_train)\n",
    "X_val_windows, y_val_windows = create_windows(X_val, y_val)\n",
    "X_test_windows, y_test_windows = create_windows(X_test, y_test)"
   ]
  },
  {
   "cell_type": "code",
   "execution_count": null,
   "id": "4e6d40b6",
   "metadata": {},
   "outputs": [
    {
     "data": {
      "text/plain": [
       "array([[[-4.58842772e-01, -4.34270089e-03, -2.72225870e-01,\n",
       "          3.25857811e-02, -5.74788390e-02,  1.77991929e-02],\n",
       "        [-8.81270879e-01,  7.89258603e-01, -3.22165890e-01,\n",
       "          3.12170927e-02, -1.28021585e-02, -2.94008199e-03],\n",
       "        [-7.50800394e-01,  5.47177146e-01, -3.30514817e-01,\n",
       "          4.20216105e-02,  1.13589196e-02, -1.14037572e-02],\n",
       "        ...,\n",
       "        [-7.18744645e-01,  5.25246497e-01, -2.47927396e-01,\n",
       "          2.60944491e-02, -1.06792088e-01,  6.72585823e-03],\n",
       "        [-6.90880621e-01,  5.41102919e-01, -2.44688472e-01,\n",
       "          2.14500557e-02, -9.42392864e-02,  1.09713888e-02],\n",
       "        [-6.61968212e-01,  5.38431986e-01, -2.71893843e-01,\n",
       "          1.57813459e-02, -8.33140576e-02,  3.59755313e-03]],\n",
       "\n",
       "       [[-6.84860115e-01,  5.21784583e-01, -2.22337900e-01,\n",
       "         -6.17227406e-02,  2.38035059e-01,  4.46414423e-02],\n",
       "        [-6.97513028e-01,  5.24532542e-01, -2.26559253e-01,\n",
       "         -6.38338113e-02,  2.32240385e-01,  4.69323234e-02],\n",
       "        [-6.88705100e-01,  5.22949861e-01, -2.49049650e-01,\n",
       "         -6.46926752e-02,  2.32671909e-01,  4.15913764e-02],\n",
       "        ...,\n",
       "        [-6.77069581e-01,  5.48921130e-01, -1.81530942e-01,\n",
       "          1.07878772e-03, -1.48758726e-01, -1.48067598e-02],\n",
       "        [-6.65978589e-01,  5.32487339e-01, -2.10597396e-01,\n",
       "          2.75545790e-03, -1.31059113e-01, -1.52434376e-02],\n",
       "        [-6.55673819e-01,  5.13200591e-01, -2.35468213e-01,\n",
       "          1.02848435e-02, -8.92936069e-02, -1.45071385e-02]],\n",
       "\n",
       "       [[-6.41851336e-01,  5.22846002e-01, -2.92115637e-01,\n",
       "          4.57920014e-03, -5.45069556e-02, -3.62448712e-03],\n",
       "        [-6.29408085e-01,  5.13444900e-01, -2.89100333e-01,\n",
       "         -1.06595181e-02,  5.73858212e-04,  1.15448908e-03],\n",
       "        [-6.20441810e-01,  5.18113014e-01, -2.81321977e-01,\n",
       "         -2.31211464e-02,  6.74305466e-02,  1.28862648e-02],\n",
       "        ...,\n",
       "        [-7.33420791e-01,  5.17883518e-01, -2.86811706e-01,\n",
       "         -6.05427650e-02,  1.76079666e-01,  1.56222920e-02],\n",
       "        [-7.54868359e-01,  5.11305938e-01, -2.83910654e-01,\n",
       "         -5.26650134e-02,  1.45768194e-01,  1.43941224e-02],\n",
       "        [-7.54399737e-01,  5.17336183e-01, -2.83702675e-01,\n",
       "         -4.05427237e-02,  1.09177592e-01,  1.82059339e-02]],\n",
       "\n",
       "       ...,\n",
       "\n",
       "       [[ 1.65186171e+00, -1.30193884e+00,  1.39641722e+00,\n",
       "         -1.79493215e-01, -1.20337704e-01, -5.31611626e-03],\n",
       "        [ 1.78507838e+00, -1.32218975e+00,  1.35460697e+00,\n",
       "          2.53957268e-02, -1.43674225e-01,  8.76681010e-02],\n",
       "        [ 1.83297333e+00, -1.32854102e+00,  1.38656571e+00,\n",
       "          1.54931493e-01, -1.08187758e-01,  1.99071395e-01],\n",
       "        ...,\n",
       "        [ 1.00570401e+00,  4.78693914e-01, -6.60503472e-01,\n",
       "          2.70381826e-02, -3.67578703e-02,  6.20121094e-02],\n",
       "        [ 9.27075961e-01,  4.58122187e-01, -6.19498483e-01,\n",
       "          1.02036003e-01,  9.32015372e-02,  3.39087073e-02],\n",
       "        [ 8.68680128e-01,  4.50061598e-01, -4.58454630e-01,\n",
       "          5.02089153e-02,  1.63424143e-01, -2.04052327e-02]],\n",
       "\n",
       "       [[ 1.60939110e-01,  1.32202350e-02,  1.44904564e+00,\n",
       "         -2.22166299e+00, -8.68574348e-01,  1.28602796e+00],\n",
       "        [ 2.64613320e-01, -1.66850231e-01,  1.21891974e+00,\n",
       "         -1.98476246e+00, -1.19041973e+00,  1.17414243e+00],\n",
       "        [ 7.03460178e-01, -3.10986394e-01,  1.03810099e+00,\n",
       "         -1.74530167e+00, -9.61396177e-01,  1.20537083e+00],\n",
       "        ...,\n",
       "        [ 3.53170734e-01,  5.42780671e-01, -3.16680885e-01,\n",
       "         -3.84477302e-03, -4.49405114e-02, -3.02305947e-02],\n",
       "        [ 3.90157143e-01,  5.57411763e-01, -3.06017038e-01,\n",
       "         -2.17325875e-02, -9.53333029e-02, -1.60583865e-02],\n",
       "        [ 4.22998726e-01,  5.67143288e-01, -3.33434666e-01,\n",
       "         -4.13286992e-02, -1.56234828e-01,  1.69340868e-02]],\n",
       "\n",
       "       [[ 8.36655182e-01,  4.71027653e-01, -3.39086417e-01,\n",
       "         -3.17494036e-02,  1.91621590e-01, -7.07686395e-02],\n",
       "        [ 7.68422541e-01,  4.99246196e-01, -3.53585354e-01,\n",
       "         -8.61236864e-02,  2.41151154e-01, -1.60327568e-01],\n",
       "        [ 6.80528350e-01,  5.15561157e-01, -4.29697887e-01,\n",
       "         -1.36768871e-01,  3.36546080e-01, -2.88794991e-01],\n",
       "        ...,\n",
       "        [ 4.74779852e-01,  5.40720119e-01, -3.33569666e-01,\n",
       "         -2.73628587e-02,  2.32544910e-02,  8.51851245e-02],\n",
       "        [ 4.40544072e-01,  5.38761317e-01, -3.19033492e-01,\n",
       "         -3.19634066e-02,  2.51115222e-02,  4.65677823e-02],\n",
       "        [ 4.43225987e-01,  5.39289602e-01, -3.10006377e-01,\n",
       "         -3.95201734e-02,  1.87376028e-02,  1.68565476e-02]]],\n",
       "      shape=(55629, 100, 6))"
      ]
     },
     "execution_count": 12,
     "metadata": {},
     "output_type": "execute_result"
    }
   ],
   "source": [
    "X_train_windows"
   ]
  },
  {
   "cell_type": "code",
   "execution_count": null,
   "id": "a1677ca1",
   "metadata": {},
   "outputs": [
    {
     "data": {
      "text/plain": [
       "array(['STD', 'STD', 'STD', ..., 'CSO', 'CSO', 'STD'],\n",
       "      shape=(55629,), dtype='<U3')"
      ]
     },
     "execution_count": 16,
     "metadata": {},
     "output_type": "execute_result"
    }
   ],
   "source": [
    "y_train_windows"
   ]
  },
  {
   "cell_type": "markdown",
   "id": "6baca069",
   "metadata": {},
   "source": [
    "## Encode Labels\n",
    "\n",
    "Convert string labels to numeric (for CNN training)"
   ]
  },
  {
   "cell_type": "code",
   "execution_count": null,
   "id": "adaa1e1e",
   "metadata": {},
   "outputs": [],
   "source": [
    "from sklearn.preprocessing import LabelEncoder\n",
    "\n",
    "# Initialize the LabelEncoder\n",
    "le = LabelEncoder()\n",
    "\n",
    "# Fit and transform on the windowed training labels\n",
    "y_train_windows_encoded = le.fit_transform(y_train_windows)\n",
    "\n",
    "# Transform the validation and test windowed labels based on the same encoding\n",
    "y_val_windows_encoded = le.transform(y_val_windows)\n",
    "y_test_windows_encoded = le.transform(y_test_windows)"
   ]
  },
  {
   "cell_type": "markdown",
   "id": "6872f13d",
   "metadata": {},
   "source": [
    "# CNN"
   ]
  },
  {
   "cell_type": "code",
   "execution_count": null,
   "id": "23012817",
   "metadata": {},
   "outputs": [
    {
     "name": "stderr",
     "output_type": "stream",
     "text": [
      "c:\\Users\\sovan\\Desktop\\Fall Detection\\fresh-ilab-fall-detection\\.venv\\Lib\\site-packages\\keras\\src\\layers\\convolutional\\base_conv.py:107: UserWarning: Do not pass an `input_shape`/`input_dim` argument to a layer. When using Sequential models, prefer using an `Input(shape)` object as the first layer in the model instead.\n",
      "  super().__init__(activity_regularizer=activity_regularizer, **kwargs)\n"
     ]
    },
    {
     "data": {
      "text/html": [
       "<pre style=\"white-space:pre;overflow-x:auto;line-height:normal;font-family:Menlo,'DejaVu Sans Mono',consolas,'Courier New',monospace\"><span style=\"font-weight: bold\">Model: \"sequential\"</span>\n",
       "</pre>\n"
      ],
      "text/plain": [
       "\u001b[1mModel: \"sequential\"\u001b[0m\n"
      ]
     },
     "metadata": {},
     "output_type": "display_data"
    },
    {
     "data": {
      "text/html": [
       "<pre style=\"white-space:pre;overflow-x:auto;line-height:normal;font-family:Menlo,'DejaVu Sans Mono',consolas,'Courier New',monospace\">┏━━━━━━━━━━━━━━━━━━━━━━━━━━━━━━━━━┳━━━━━━━━━━━━━━━━━━━━━━━━┳━━━━━━━━━━━━━━━┓\n",
       "┃<span style=\"font-weight: bold\"> Layer (type)                    </span>┃<span style=\"font-weight: bold\"> Output Shape           </span>┃<span style=\"font-weight: bold\">       Param # </span>┃\n",
       "┡━━━━━━━━━━━━━━━━━━━━━━━━━━━━━━━━━╇━━━━━━━━━━━━━━━━━━━━━━━━╇━━━━━━━━━━━━━━━┩\n",
       "│ conv1d (<span style=\"color: #0087ff; text-decoration-color: #0087ff\">Conv1D</span>)                 │ (<span style=\"color: #00d7ff; text-decoration-color: #00d7ff\">None</span>, <span style=\"color: #00af00; text-decoration-color: #00af00\">98</span>, <span style=\"color: #00af00; text-decoration-color: #00af00\">64</span>)         │         <span style=\"color: #00af00; text-decoration-color: #00af00\">1,216</span> │\n",
       "├─────────────────────────────────┼────────────────────────┼───────────────┤\n",
       "│ conv1d_1 (<span style=\"color: #0087ff; text-decoration-color: #0087ff\">Conv1D</span>)               │ (<span style=\"color: #00d7ff; text-decoration-color: #00d7ff\">None</span>, <span style=\"color: #00af00; text-decoration-color: #00af00\">96</span>, <span style=\"color: #00af00; text-decoration-color: #00af00\">128</span>)        │        <span style=\"color: #00af00; text-decoration-color: #00af00\">24,704</span> │\n",
       "├─────────────────────────────────┼────────────────────────┼───────────────┤\n",
       "│ max_pooling1d (<span style=\"color: #0087ff; text-decoration-color: #0087ff\">MaxPooling1D</span>)    │ (<span style=\"color: #00d7ff; text-decoration-color: #00d7ff\">None</span>, <span style=\"color: #00af00; text-decoration-color: #00af00\">48</span>, <span style=\"color: #00af00; text-decoration-color: #00af00\">128</span>)        │             <span style=\"color: #00af00; text-decoration-color: #00af00\">0</span> │\n",
       "├─────────────────────────────────┼────────────────────────┼───────────────┤\n",
       "│ conv1d_2 (<span style=\"color: #0087ff; text-decoration-color: #0087ff\">Conv1D</span>)               │ (<span style=\"color: #00d7ff; text-decoration-color: #00d7ff\">None</span>, <span style=\"color: #00af00; text-decoration-color: #00af00\">46</span>, <span style=\"color: #00af00; text-decoration-color: #00af00\">128</span>)        │        <span style=\"color: #00af00; text-decoration-color: #00af00\">49,280</span> │\n",
       "├─────────────────────────────────┼────────────────────────┼───────────────┤\n",
       "│ global_average_pooling1d        │ (<span style=\"color: #00d7ff; text-decoration-color: #00d7ff\">None</span>, <span style=\"color: #00af00; text-decoration-color: #00af00\">128</span>)            │             <span style=\"color: #00af00; text-decoration-color: #00af00\">0</span> │\n",
       "│ (<span style=\"color: #0087ff; text-decoration-color: #0087ff\">GlobalAveragePooling1D</span>)        │                        │               │\n",
       "├─────────────────────────────────┼────────────────────────┼───────────────┤\n",
       "│ dense (<span style=\"color: #0087ff; text-decoration-color: #0087ff\">Dense</span>)                   │ (<span style=\"color: #00d7ff; text-decoration-color: #00d7ff\">None</span>, <span style=\"color: #00af00; text-decoration-color: #00af00\">64</span>)             │         <span style=\"color: #00af00; text-decoration-color: #00af00\">8,256</span> │\n",
       "├─────────────────────────────────┼────────────────────────┼───────────────┤\n",
       "│ dropout (<span style=\"color: #0087ff; text-decoration-color: #0087ff\">Dropout</span>)               │ (<span style=\"color: #00d7ff; text-decoration-color: #00d7ff\">None</span>, <span style=\"color: #00af00; text-decoration-color: #00af00\">64</span>)             │             <span style=\"color: #00af00; text-decoration-color: #00af00\">0</span> │\n",
       "├─────────────────────────────────┼────────────────────────┼───────────────┤\n",
       "│ dense_1 (<span style=\"color: #0087ff; text-decoration-color: #0087ff\">Dense</span>)                 │ (<span style=\"color: #00d7ff; text-decoration-color: #00d7ff\">None</span>, <span style=\"color: #00af00; text-decoration-color: #00af00\">16</span>)             │         <span style=\"color: #00af00; text-decoration-color: #00af00\">1,040</span> │\n",
       "└─────────────────────────────────┴────────────────────────┴───────────────┘\n",
       "</pre>\n"
      ],
      "text/plain": [
       "┏━━━━━━━━━━━━━━━━━━━━━━━━━━━━━━━━━┳━━━━━━━━━━━━━━━━━━━━━━━━┳━━━━━━━━━━━━━━━┓\n",
       "┃\u001b[1m \u001b[0m\u001b[1mLayer (type)                   \u001b[0m\u001b[1m \u001b[0m┃\u001b[1m \u001b[0m\u001b[1mOutput Shape          \u001b[0m\u001b[1m \u001b[0m┃\u001b[1m \u001b[0m\u001b[1m      Param #\u001b[0m\u001b[1m \u001b[0m┃\n",
       "┡━━━━━━━━━━━━━━━━━━━━━━━━━━━━━━━━━╇━━━━━━━━━━━━━━━━━━━━━━━━╇━━━━━━━━━━━━━━━┩\n",
       "│ conv1d (\u001b[38;5;33mConv1D\u001b[0m)                 │ (\u001b[38;5;45mNone\u001b[0m, \u001b[38;5;34m98\u001b[0m, \u001b[38;5;34m64\u001b[0m)         │         \u001b[38;5;34m1,216\u001b[0m │\n",
       "├─────────────────────────────────┼────────────────────────┼───────────────┤\n",
       "│ conv1d_1 (\u001b[38;5;33mConv1D\u001b[0m)               │ (\u001b[38;5;45mNone\u001b[0m, \u001b[38;5;34m96\u001b[0m, \u001b[38;5;34m128\u001b[0m)        │        \u001b[38;5;34m24,704\u001b[0m │\n",
       "├─────────────────────────────────┼────────────────────────┼───────────────┤\n",
       "│ max_pooling1d (\u001b[38;5;33mMaxPooling1D\u001b[0m)    │ (\u001b[38;5;45mNone\u001b[0m, \u001b[38;5;34m48\u001b[0m, \u001b[38;5;34m128\u001b[0m)        │             \u001b[38;5;34m0\u001b[0m │\n",
       "├─────────────────────────────────┼────────────────────────┼───────────────┤\n",
       "│ conv1d_2 (\u001b[38;5;33mConv1D\u001b[0m)               │ (\u001b[38;5;45mNone\u001b[0m, \u001b[38;5;34m46\u001b[0m, \u001b[38;5;34m128\u001b[0m)        │        \u001b[38;5;34m49,280\u001b[0m │\n",
       "├─────────────────────────────────┼────────────────────────┼───────────────┤\n",
       "│ global_average_pooling1d        │ (\u001b[38;5;45mNone\u001b[0m, \u001b[38;5;34m128\u001b[0m)            │             \u001b[38;5;34m0\u001b[0m │\n",
       "│ (\u001b[38;5;33mGlobalAveragePooling1D\u001b[0m)        │                        │               │\n",
       "├─────────────────────────────────┼────────────────────────┼───────────────┤\n",
       "│ dense (\u001b[38;5;33mDense\u001b[0m)                   │ (\u001b[38;5;45mNone\u001b[0m, \u001b[38;5;34m64\u001b[0m)             │         \u001b[38;5;34m8,256\u001b[0m │\n",
       "├─────────────────────────────────┼────────────────────────┼───────────────┤\n",
       "│ dropout (\u001b[38;5;33mDropout\u001b[0m)               │ (\u001b[38;5;45mNone\u001b[0m, \u001b[38;5;34m64\u001b[0m)             │             \u001b[38;5;34m0\u001b[0m │\n",
       "├─────────────────────────────────┼────────────────────────┼───────────────┤\n",
       "│ dense_1 (\u001b[38;5;33mDense\u001b[0m)                 │ (\u001b[38;5;45mNone\u001b[0m, \u001b[38;5;34m16\u001b[0m)             │         \u001b[38;5;34m1,040\u001b[0m │\n",
       "└─────────────────────────────────┴────────────────────────┴───────────────┘\n"
      ]
     },
     "metadata": {},
     "output_type": "display_data"
    },
    {
     "data": {
      "text/html": [
       "<pre style=\"white-space:pre;overflow-x:auto;line-height:normal;font-family:Menlo,'DejaVu Sans Mono',consolas,'Courier New',monospace\"><span style=\"font-weight: bold\"> Total params: </span><span style=\"color: #00af00; text-decoration-color: #00af00\">84,496</span> (330.06 KB)\n",
       "</pre>\n"
      ],
      "text/plain": [
       "\u001b[1m Total params: \u001b[0m\u001b[38;5;34m84,496\u001b[0m (330.06 KB)\n"
      ]
     },
     "metadata": {},
     "output_type": "display_data"
    },
    {
     "data": {
      "text/html": [
       "<pre style=\"white-space:pre;overflow-x:auto;line-height:normal;font-family:Menlo,'DejaVu Sans Mono',consolas,'Courier New',monospace\"><span style=\"font-weight: bold\"> Trainable params: </span><span style=\"color: #00af00; text-decoration-color: #00af00\">84,496</span> (330.06 KB)\n",
       "</pre>\n"
      ],
      "text/plain": [
       "\u001b[1m Trainable params: \u001b[0m\u001b[38;5;34m84,496\u001b[0m (330.06 KB)\n"
      ]
     },
     "metadata": {},
     "output_type": "display_data"
    },
    {
     "data": {
      "text/html": [
       "<pre style=\"white-space:pre;overflow-x:auto;line-height:normal;font-family:Menlo,'DejaVu Sans Mono',consolas,'Courier New',monospace\"><span style=\"font-weight: bold\"> Non-trainable params: </span><span style=\"color: #00af00; text-decoration-color: #00af00\">0</span> (0.00 B)\n",
       "</pre>\n"
      ],
      "text/plain": [
       "\u001b[1m Non-trainable params: \u001b[0m\u001b[38;5;34m0\u001b[0m (0.00 B)\n"
      ]
     },
     "metadata": {},
     "output_type": "display_data"
    }
   ],
   "source": [
    "import tensorflow as tf\n",
    "from tensorflow.keras.models import Sequential\n",
    "from tensorflow.keras.layers import Conv1D, MaxPooling1D, GlobalAveragePooling1D, Dense, Dropout\n",
    "from tensorflow.keras.optimizers import Adam\n",
    "\n",
    "# Define the input shape (e.g., 25 time steps, 6 channels)\n",
    "input_shape = (X_train_windows.shape[1], X_train_windows.shape[2])\n",
    "num_classes = len(set(y_train_windows_encoded))  # Should be 15 based on your labels\n",
    "\n",
    "model = Sequential([\n",
    "    # First convolutional block\n",
    "    Conv1D(filters=64, kernel_size=3, activation='relu', input_shape=input_shape),\n",
    "    # Second convolutional block\n",
    "    Conv1D(filters=128, kernel_size=3, activation='relu'),\n",
    "    # Apply max pooling to reduce sequence length and capture dominant features\n",
    "    MaxPooling1D(pool_size=2),\n",
    "    # Third convolutional block\n",
    "    Conv1D(filters=128, kernel_size=3, activation='relu'),\n",
    "    # Global average pooling to flatten the tensor for the dense layer\n",
    "    GlobalAveragePooling1D(),\n",
    "    # Fully connected (dense) layer with dropout\n",
    "    Dense(64, activation='relu'),\n",
    "    Dropout(0.5),\n",
    "    # Output layer: softmax activation for multi-class classification\n",
    "    Dense(num_classes, activation='softmax')\n",
    "])\n",
    "\n",
    "# Compile the model with a common optimizer and loss function for classification\n",
    "model.compile(optimizer=Adam(learning_rate=0.001),\n",
    "              loss='sparse_categorical_crossentropy',\n",
    "              metrics=['accuracy'])\n",
    "\n",
    "# Display the model architecture\n",
    "model.summary()\n"
   ]
  },
  {
   "cell_type": "code",
   "execution_count": null,
   "id": "d9fff63f",
   "metadata": {},
   "outputs": [
    {
     "name": "stdout",
     "output_type": "stream",
     "text": [
      "Epoch 1/25\n",
      "\u001b[1m1739/1739\u001b[0m \u001b[32m━━━━━━━━━━━━━━━━━━━━\u001b[0m\u001b[37m\u001b[0m \u001b[1m19s\u001b[0m 10ms/step - accuracy: 0.6897 - loss: 1.0439 - val_accuracy: 0.7810 - val_loss: 0.6661\n",
      "Epoch 2/25\n",
      "\u001b[1m1739/1739\u001b[0m \u001b[32m━━━━━━━━━━━━━━━━━━━━\u001b[0m\u001b[37m\u001b[0m \u001b[1m17s\u001b[0m 10ms/step - accuracy: 0.8498 - loss: 0.4529 - val_accuracy: 0.8269 - val_loss: 0.5131\n",
      "Epoch 3/25\n",
      "\u001b[1m1739/1739\u001b[0m \u001b[32m━━━━━━━━━━━━━━━━━━━━\u001b[0m\u001b[37m\u001b[0m \u001b[1m17s\u001b[0m 10ms/step - accuracy: 0.8716 - loss: 0.3808 - val_accuracy: 0.8200 - val_loss: 0.5298\n",
      "Epoch 4/25\n",
      "\u001b[1m1739/1739\u001b[0m \u001b[32m━━━━━━━━━━━━━━━━━━━━\u001b[0m\u001b[37m\u001b[0m \u001b[1m17s\u001b[0m 10ms/step - accuracy: 0.8859 - loss: 0.3300 - val_accuracy: 0.7432 - val_loss: 0.6958\n",
      "Epoch 5/25\n",
      "\u001b[1m1739/1739\u001b[0m \u001b[32m━━━━━━━━━━━━━━━━━━━━\u001b[0m\u001b[37m\u001b[0m \u001b[1m17s\u001b[0m 10ms/step - accuracy: 0.8943 - loss: 0.3066 - val_accuracy: 0.7869 - val_loss: 0.6054\n",
      "Epoch 6/25\n",
      "\u001b[1m1739/1739\u001b[0m \u001b[32m━━━━━━━━━━━━━━━━━━━━\u001b[0m\u001b[37m\u001b[0m \u001b[1m17s\u001b[0m 10ms/step - accuracy: 0.9017 - loss: 0.2856 - val_accuracy: 0.7906 - val_loss: 0.5627\n",
      "Epoch 7/25\n",
      "\u001b[1m1739/1739\u001b[0m \u001b[32m━━━━━━━━━━━━━━━━━━━━\u001b[0m\u001b[37m\u001b[0m \u001b[1m17s\u001b[0m 10ms/step - accuracy: 0.9055 - loss: 0.2652 - val_accuracy: 0.8041 - val_loss: 0.6504\n",
      "Epoch 8/25\n",
      "\u001b[1m1739/1739\u001b[0m \u001b[32m━━━━━━━━━━━━━━━━━━━━\u001b[0m\u001b[37m\u001b[0m \u001b[1m17s\u001b[0m 10ms/step - accuracy: 0.9122 - loss: 0.2503 - val_accuracy: 0.8004 - val_loss: 0.6190\n",
      "Epoch 9/25\n",
      "\u001b[1m1739/1739\u001b[0m \u001b[32m━━━━━━━━━━━━━━━━━━━━\u001b[0m\u001b[37m\u001b[0m \u001b[1m18s\u001b[0m 10ms/step - accuracy: 0.9186 - loss: 0.2383 - val_accuracy: 0.7770 - val_loss: 0.7049\n",
      "Epoch 10/25\n",
      "\u001b[1m1739/1739\u001b[0m \u001b[32m━━━━━━━━━━━━━━━━━━━━\u001b[0m\u001b[37m\u001b[0m \u001b[1m17s\u001b[0m 10ms/step - accuracy: 0.9192 - loss: 0.2290 - val_accuracy: 0.7801 - val_loss: 0.6473\n",
      "Epoch 11/25\n",
      "\u001b[1m1739/1739\u001b[0m \u001b[32m━━━━━━━━━━━━━━━━━━━━\u001b[0m\u001b[37m\u001b[0m \u001b[1m17s\u001b[0m 10ms/step - accuracy: 0.9228 - loss: 0.2136 - val_accuracy: 0.7779 - val_loss: 0.6839\n",
      "Epoch 12/25\n",
      "\u001b[1m1739/1739\u001b[0m \u001b[32m━━━━━━━━━━━━━━━━━━━━\u001b[0m\u001b[37m\u001b[0m \u001b[1m17s\u001b[0m 10ms/step - accuracy: 0.9272 - loss: 0.2017 - val_accuracy: 0.8151 - val_loss: 0.7002\n",
      "Epoch 13/25\n",
      "\u001b[1m1739/1739\u001b[0m \u001b[32m━━━━━━━━━━━━━━━━━━━━\u001b[0m\u001b[37m\u001b[0m \u001b[1m17s\u001b[0m 10ms/step - accuracy: 0.9268 - loss: 0.2043 - val_accuracy: 0.8274 - val_loss: 0.6440\n",
      "Epoch 14/25\n",
      "\u001b[1m1739/1739\u001b[0m \u001b[32m━━━━━━━━━━━━━━━━━━━━\u001b[0m\u001b[37m\u001b[0m \u001b[1m17s\u001b[0m 10ms/step - accuracy: 0.9301 - loss: 0.1914 - val_accuracy: 0.7834 - val_loss: 0.7562\n",
      "Epoch 15/25\n",
      "\u001b[1m1739/1739\u001b[0m \u001b[32m━━━━━━━━━━━━━━━━━━━━\u001b[0m\u001b[37m\u001b[0m \u001b[1m17s\u001b[0m 10ms/step - accuracy: 0.9311 - loss: 0.1892 - val_accuracy: 0.7703 - val_loss: 0.8861\n",
      "Epoch 16/25\n",
      "\u001b[1m1739/1739\u001b[0m \u001b[32m━━━━━━━━━━━━━━━━━━━━\u001b[0m\u001b[37m\u001b[0m \u001b[1m18s\u001b[0m 10ms/step - accuracy: 0.9315 - loss: 0.1860 - val_accuracy: 0.7763 - val_loss: 0.9063\n",
      "Epoch 17/25\n",
      "\u001b[1m1739/1739\u001b[0m \u001b[32m━━━━━━━━━━━━━━━━━━━━\u001b[0m\u001b[37m\u001b[0m \u001b[1m17s\u001b[0m 10ms/step - accuracy: 0.9347 - loss: 0.1812 - val_accuracy: 0.8089 - val_loss: 0.7171\n",
      "Epoch 18/25\n",
      "\u001b[1m1739/1739\u001b[0m \u001b[32m━━━━━━━━━━━━━━━━━━━━\u001b[0m\u001b[37m\u001b[0m \u001b[1m17s\u001b[0m 10ms/step - accuracy: 0.9352 - loss: 0.1770 - val_accuracy: 0.8315 - val_loss: 0.6871\n",
      "Epoch 19/25\n",
      "\u001b[1m1739/1739\u001b[0m \u001b[32m━━━━━━━━━━━━━━━━━━━━\u001b[0m\u001b[37m\u001b[0m \u001b[1m17s\u001b[0m 10ms/step - accuracy: 0.9349 - loss: 0.1754 - val_accuracy: 0.8207 - val_loss: 0.6808\n",
      "Epoch 20/25\n",
      "\u001b[1m1739/1739\u001b[0m \u001b[32m━━━━━━━━━━━━━━━━━━━━\u001b[0m\u001b[37m\u001b[0m \u001b[1m17s\u001b[0m 10ms/step - accuracy: 0.9383 - loss: 0.1718 - val_accuracy: 0.7897 - val_loss: 0.9323\n",
      "Epoch 21/25\n",
      "\u001b[1m1739/1739\u001b[0m \u001b[32m━━━━━━━━━━━━━━━━━━━━\u001b[0m\u001b[37m\u001b[0m \u001b[1m17s\u001b[0m 10ms/step - accuracy: 0.9404 - loss: 0.1638 - val_accuracy: 0.7931 - val_loss: 0.8365\n",
      "Epoch 22/25\n",
      "\u001b[1m1739/1739\u001b[0m \u001b[32m━━━━━━━━━━━━━━━━━━━━\u001b[0m\u001b[37m\u001b[0m \u001b[1m17s\u001b[0m 10ms/step - accuracy: 0.9416 - loss: 0.1607 - val_accuracy: 0.8070 - val_loss: 0.9124\n",
      "Epoch 23/25\n",
      "\u001b[1m1739/1739\u001b[0m \u001b[32m━━━━━━━━━━━━━━━━━━━━\u001b[0m\u001b[37m\u001b[0m \u001b[1m17s\u001b[0m 10ms/step - accuracy: 0.9395 - loss: 0.1574 - val_accuracy: 0.7986 - val_loss: 0.8707\n",
      "Epoch 24/25\n",
      "\u001b[1m1739/1739\u001b[0m \u001b[32m━━━━━━━━━━━━━━━━━━━━\u001b[0m\u001b[37m\u001b[0m \u001b[1m17s\u001b[0m 10ms/step - accuracy: 0.9439 - loss: 0.1489 - val_accuracy: 0.7811 - val_loss: 0.8683\n",
      "Epoch 25/25\n",
      "\u001b[1m1739/1739\u001b[0m \u001b[32m━━━━━━━━━━━━━━━━━━━━\u001b[0m\u001b[37m\u001b[0m \u001b[1m17s\u001b[0m 10ms/step - accuracy: 0.9441 - loss: 0.1484 - val_accuracy: 0.7925 - val_loss: 0.7991\n"
     ]
    }
   ],
   "source": [
    "# Train the model\n",
    "history = model.fit(X_train_windows, y_train_windows_encoded,\n",
    "                    validation_data=(X_val_windows, y_val_windows_encoded),\n",
    "                    epochs=25, batch_size=32)"
   ]
  },
  {
   "cell_type": "code",
   "execution_count": null,
   "id": "527276e2",
   "metadata": {},
   "outputs": [],
   "source": [
    "import matplotlib.pyplot as plt\n",
    "import seaborn as sns\n",
    "from sklearn.metrics import (confusion_matrix, classification_report, \n",
    "                             precision_score, recall_score, f1_score)\n",
    "\n",
    "def evaluate_model(model, X_test, y_test, label_classes=None, plot_confusion_matrix=True, plot_roc=True):\n",
    "    \"\"\"\n",
    "    Evaluates a deep learning model on test data and generates common evaluation metrics and plots.\n",
    "\n",
    "    Parameters:\n",
    "        model: Trained deep learning model (Keras/TensorFlow model).\n",
    "        X_test (np.array): Test data with shape (num_samples, timesteps, channels).\n",
    "        y_test (np.array): True labels corresponding to X_test. Assumed to be numeric.\n",
    "        label_classes (list, optional): List of string label names (e.g., ['BSC', 'CHU', ...]).\n",
    "                                        If None, numeric labels will be used in plots.\n",
    "        plot_confusion_matrix (bool): Whether to generate a confusion matrix plot.\n",
    "        plot_roc (bool): Whether to compute and plot ROC curves and display the ROC-AUC score (for multi-class).\n",
    "\n",
    "    Returns:\n",
    "        metrics (dict): A dictionary containing loss, accuracy, precision, recall, f1 score, \n",
    "                        and if computed, ROC-AUC score.\n",
    "    \"\"\"\n",
    "    # Evaluate the model for loss and accuracy\n",
    "    loss, accuracy = model.evaluate(X_test, y_test, verbose=0)\n",
    "    print(\"Test Loss: {:.4f}\".format(loss))\n",
    "    print(\"Test Accuracy: {:.4f}\".format(accuracy))\n",
    "\n",
    "    # Generate prediction probabilities and predicted classes\n",
    "    y_pred_prob = model.predict(X_test)\n",
    "    y_pred = np.argmax(y_pred_prob, axis=1)\n",
    "\n",
    "    # Compute confusion matrix\n",
    "    cm = confusion_matrix(y_test, y_pred)\n",
    "    if plot_confusion_matrix:\n",
    "        plt.figure(figsize=(10, 8))\n",
    "        if label_classes is None:\n",
    "            label_classes = [str(i) for i in range(cm.shape[0])]\n",
    "        sns.heatmap(cm, annot=True, fmt=\"d\", cmap='Blues', \n",
    "                    xticklabels=label_classes, yticklabels=label_classes)\n",
    "        plt.xlabel(\"Predicted Label\")\n",
    "        plt.ylabel(\"True Label\")\n",
    "        plt.title(\"Confusion Matrix\")\n",
    "        plt.show()\n",
    "\n",
    "    # Compute and print classification report\n",
    "    report = classification_report(y_test, y_pred, target_names=label_classes)\n",
    "    print(\"Classification Report:\\n\", report)\n",
    "\n",
    "    # Compute weighted precision, recall, and F1 scores\n",
    "    precision = precision_score(y_test, y_pred, average='weighted')\n",
    "    recall = recall_score(y_test, y_pred, average='weighted')\n",
    "    f1 = f1_score(y_test, y_pred, average='weighted')\n",
    "    print(\"Weighted Precision: {:.4f}\".format(precision))\n",
    "    print(\"Weighted Recall: {:.4f}\".format(recall))\n",
    "    print(\"Weighted F1 Score: {:.4f}\".format(f1))\n",
    "\n",
    "    metrics = {\n",
    "        'loss': loss,\n",
    "        'accuracy': accuracy,\n",
    "        'precision': precision,\n",
    "        'recall': recall,\n",
    "        'f1_score': f1\n",
    "    }\n",
    "\n",
    "    return metrics"
   ]
  },
  {
   "cell_type": "code",
   "execution_count": null,
   "id": "30e03d65",
   "metadata": {},
   "outputs": [
    {
     "name": "stdout",
     "output_type": "stream",
     "text": [
      "Test Loss: 0.9742\n",
      "Test Accuracy: 0.8319\n",
      "\u001b[1m560/560\u001b[0m \u001b[32m━━━━━━━━━━━━━━━━━━━━\u001b[0m\u001b[37m\u001b[0m \u001b[1m2s\u001b[0m 4ms/step\n"
     ]
    },
    {
     "data": {
      "image/png": "[encoded data removed]",
      "text/plain": [
       "<Figure size 1000x800 with 2 Axes>"
      ]
     },
     "metadata": {},
     "output_type": "display_data"
    },
    {
     "name": "stdout",
     "output_type": "stream",
     "text": [
      "Classification Report:\n",
      "               precision    recall  f1-score   support\n",
      "\n",
      "         BSC       0.65      0.54      0.59       127\n",
      "         CHU       0.70      0.29      0.41        79\n",
      "         CSI       0.68      0.61      0.64       357\n",
      "         CSO       0.68      0.64      0.66       343\n",
      "         FKL       0.57      0.54      0.55        95\n",
      "         FOL       0.54      0.55      0.54        89\n",
      "         JOG       0.87      0.92      0.89      1209\n",
      "         JUM       0.93      0.87      0.90      1152\n",
      "         LYI       0.60      0.77      0.67      1017\n",
      "         SCH       0.84      0.57      0.68       180\n",
      "         SDL       0.61      0.61      0.61       108\n",
      "         SIT       0.75      0.51      0.60      1594\n",
      "         STD       0.90      0.97      0.93      4565\n",
      "         STN       0.54      0.80      0.65       685\n",
      "         STU       0.60      0.79      0.68       722\n",
      "         WAL       0.96      0.87      0.91      5595\n",
      "\n",
      "    accuracy                           0.83     17917\n",
      "   macro avg       0.71      0.68      0.68     17917\n",
      "weighted avg       0.84      0.83      0.83     17917\n",
      "\n",
      "Weighted Precision: 0.8430\n",
      "Weighted Recall: 0.8319\n",
      "Weighted F1 Score: 0.8314\n"
     ]
    }
   ],
   "source": [
    "label_classes = [\n",
    "    'BSC', 'CHU', 'CSI', 'CSO', 'FKL', 'FOL', \n",
    "    'JOG', 'JUM', 'LYI', 'SCH', 'SDL', 'SIT', \n",
    "    'STD', 'STN', 'STU', 'WAL'\n",
    "]\n",
    "metrics = evaluate_model(model, X_test_windows, y_test_windows_encoded, label_classes=label_classes)\n"
   ]
  },
  {
   "cell_type": "code",
   "execution_count": null,
   "id": "5577ecf8",
   "metadata": {},
   "outputs": [],
   "source": []
  }
 ],
 "metadata": {
  "kernelspec": {
   "display_name": ".venv",
   "language": "python",
   "name": "python3"
  },
  "language_info": {
   "codemirror_mode": {
    "name": "ipython",
    "version": 3
   },
   "file_extension": ".py",
   "mimetype": "text/x-python",
   "name": "python",
   "nbconvert_exporter": "python",
   "pygments_lexer": "ipython3",
   "version": "3.11.4"
  }
 },
 "nbformat": 4,
 "nbformat_minor": 5
}
