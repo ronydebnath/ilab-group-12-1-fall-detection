{
 "cells": [
  {
   "cell_type": "code",
   "execution_count": 80,
   "id": "c2ea3f13",
   "metadata": {},
   "outputs": [],
   "source": [
    "import pandas as pd\n",
    "import numpy as np\n",
    "import os\n"
   ]
  },
  {
   "cell_type": "code",
   "execution_count": 81,
   "id": "b214f471",
   "metadata": {},
   "outputs": [],
   "source": [
    "pd.set_option('display.max_columns', None)\n",
    "\n",
    "# Read datasets from the interim directory\n",
    "X_train = pd.read_pickle(\"../../data/interim/X_train_binary.pkl\")\n",
    "X_val = pd.read_pickle(\"../../data/interim/X_val_binary.pkl\")\n",
    "X_test = pd.read_pickle(\"../../data/interim/X_test_binary.pkl\")\n",
    "y_train = pd.read_pickle(\"../../data/interim/y_train_binary.pkl\")\n",
    "y_val = pd.read_pickle(\"../../data/interim/y_val_binary.pkl\")\n",
    "y_test = pd.read_pickle(\"../../data/interim/y_test_binary.pkl\")"
   ]
  },
  {
   "cell_type": "code",
   "execution_count": 82,
   "id": "b3cfe1a5",
   "metadata": {},
   "outputs": [
    {
     "data": {
      "text/html": [
       "<div>\n",
       "<style scoped>\n",
       "    .dataframe tbody tr th:only-of-type {\n",
       "        vertical-align: middle;\n",
       "    }\n",
       "\n",
       "    .dataframe tbody tr th {\n",
       "        vertical-align: top;\n",
       "    }\n",
       "\n",
       "    .dataframe thead th {\n",
       "        text-align: right;\n",
       "    }\n",
       "</style>\n",
       "<table border=\"1\" class=\"dataframe\">\n",
       "  <thead>\n",
       "    <tr style=\"text-align: right;\">\n",
       "      <th></th>\n",
       "      <th>acc_x</th>\n",
       "      <th>acc_y</th>\n",
       "      <th>acc_z</th>\n",
       "      <th>gyro_x</th>\n",
       "      <th>gyro_y</th>\n",
       "      <th>gyro_z</th>\n",
       "      <th>azimuth</th>\n",
       "      <th>pitch</th>\n",
       "      <th>roll</th>\n",
       "    </tr>\n",
       "  </thead>\n",
       "  <tbody>\n",
       "    <tr>\n",
       "      <th>634004</th>\n",
       "      <td>-0.458843</td>\n",
       "      <td>-0.004343</td>\n",
       "      <td>-0.272226</td>\n",
       "      <td>0.032586</td>\n",
       "      <td>-0.057479</td>\n",
       "      <td>0.017799</td>\n",
       "      <td>0.151812</td>\n",
       "      <td>-0.795093</td>\n",
       "      <td>-1.048645</td>\n",
       "    </tr>\n",
       "    <tr>\n",
       "      <th>634005</th>\n",
       "      <td>-0.881271</td>\n",
       "      <td>0.789259</td>\n",
       "      <td>-0.322166</td>\n",
       "      <td>0.031217</td>\n",
       "      <td>-0.012802</td>\n",
       "      <td>-0.002940</td>\n",
       "      <td>0.136114</td>\n",
       "      <td>-0.778771</td>\n",
       "      <td>-0.997640</td>\n",
       "    </tr>\n",
       "    <tr>\n",
       "      <th>634006</th>\n",
       "      <td>-0.750800</td>\n",
       "      <td>0.547177</td>\n",
       "      <td>-0.330515</td>\n",
       "      <td>0.042022</td>\n",
       "      <td>0.011359</td>\n",
       "      <td>-0.011404</td>\n",
       "      <td>0.121327</td>\n",
       "      <td>-0.765772</td>\n",
       "      <td>-0.956557</td>\n",
       "    </tr>\n",
       "    <tr>\n",
       "      <th>634007</th>\n",
       "      <td>-0.640295</td>\n",
       "      <td>0.394234</td>\n",
       "      <td>-0.315634</td>\n",
       "      <td>0.030857</td>\n",
       "      <td>0.012073</td>\n",
       "      <td>-0.015476</td>\n",
       "      <td>0.108499</td>\n",
       "      <td>-0.754728</td>\n",
       "      <td>-0.921267</td>\n",
       "    </tr>\n",
       "    <tr>\n",
       "      <th>634008</th>\n",
       "      <td>-0.686538</td>\n",
       "      <td>0.550332</td>\n",
       "      <td>-0.359439</td>\n",
       "      <td>0.009593</td>\n",
       "      <td>0.003928</td>\n",
       "      <td>-0.010498</td>\n",
       "      <td>0.098456</td>\n",
       "      <td>-0.744377</td>\n",
       "      <td>-0.889684</td>\n",
       "    </tr>\n",
       "    <tr>\n",
       "      <th>...</th>\n",
       "      <td>...</td>\n",
       "      <td>...</td>\n",
       "      <td>...</td>\n",
       "      <td>...</td>\n",
       "      <td>...</td>\n",
       "      <td>...</td>\n",
       "      <td>...</td>\n",
       "      <td>...</td>\n",
       "      <td>...</td>\n",
       "    </tr>\n",
       "    <tr>\n",
       "      <th>109057760</th>\n",
       "      <td>0.450731</td>\n",
       "      <td>0.535045</td>\n",
       "      <td>-0.324386</td>\n",
       "      <td>-0.031796</td>\n",
       "      <td>-0.059572</td>\n",
       "      <td>-0.027028</td>\n",
       "      <td>-0.127635</td>\n",
       "      <td>-0.706084</td>\n",
       "      <td>0.517298</td>\n",
       "    </tr>\n",
       "    <tr>\n",
       "      <th>109057761</th>\n",
       "      <td>0.481948</td>\n",
       "      <td>0.536976</td>\n",
       "      <td>-0.334319</td>\n",
       "      <td>-0.016996</td>\n",
       "      <td>-0.046264</td>\n",
       "      <td>-0.028323</td>\n",
       "      <td>-0.126733</td>\n",
       "      <td>-0.705844</td>\n",
       "      <td>0.516299</td>\n",
       "    </tr>\n",
       "    <tr>\n",
       "      <th>109057762</th>\n",
       "      <td>0.502064</td>\n",
       "      <td>0.539007</td>\n",
       "      <td>-0.333029</td>\n",
       "      <td>0.000452</td>\n",
       "      <td>-0.029247</td>\n",
       "      <td>-0.023712</td>\n",
       "      <td>-0.126094</td>\n",
       "      <td>-0.706144</td>\n",
       "      <td>0.516886</td>\n",
       "    </tr>\n",
       "    <tr>\n",
       "      <th>109057763</th>\n",
       "      <td>0.498980</td>\n",
       "      <td>0.536931</td>\n",
       "      <td>-0.329682</td>\n",
       "      <td>0.008017</td>\n",
       "      <td>-0.019459</td>\n",
       "      <td>-0.027067</td>\n",
       "      <td>-0.125563</td>\n",
       "      <td>-0.706848</td>\n",
       "      <td>0.518772</td>\n",
       "    </tr>\n",
       "    <tr>\n",
       "      <th>109057764</th>\n",
       "      <td>0.482349</td>\n",
       "      <td>0.530969</td>\n",
       "      <td>-0.329319</td>\n",
       "      <td>0.004509</td>\n",
       "      <td>-0.019331</td>\n",
       "      <td>-0.043241</td>\n",
       "      <td>-0.125423</td>\n",
       "      <td>-0.707065</td>\n",
       "      <td>0.519359</td>\n",
       "    </tr>\n",
       "  </tbody>\n",
       "</table>\n",
       "<p>2781516 rows × 9 columns</p>\n",
       "</div>"
      ],
      "text/plain": [
       "              acc_x     acc_y     acc_z    gyro_x    gyro_y    gyro_z  \\\n",
       "634004    -0.458843 -0.004343 -0.272226  0.032586 -0.057479  0.017799   \n",
       "634005    -0.881271  0.789259 -0.322166  0.031217 -0.012802 -0.002940   \n",
       "634006    -0.750800  0.547177 -0.330515  0.042022  0.011359 -0.011404   \n",
       "634007    -0.640295  0.394234 -0.315634  0.030857  0.012073 -0.015476   \n",
       "634008    -0.686538  0.550332 -0.359439  0.009593  0.003928 -0.010498   \n",
       "...             ...       ...       ...       ...       ...       ...   \n",
       "109057760  0.450731  0.535045 -0.324386 -0.031796 -0.059572 -0.027028   \n",
       "109057761  0.481948  0.536976 -0.334319 -0.016996 -0.046264 -0.028323   \n",
       "109057762  0.502064  0.539007 -0.333029  0.000452 -0.029247 -0.023712   \n",
       "109057763  0.498980  0.536931 -0.329682  0.008017 -0.019459 -0.027067   \n",
       "109057764  0.482349  0.530969 -0.329319  0.004509 -0.019331 -0.043241   \n",
       "\n",
       "            azimuth     pitch      roll  \n",
       "634004     0.151812 -0.795093 -1.048645  \n",
       "634005     0.136114 -0.778771 -0.997640  \n",
       "634006     0.121327 -0.765772 -0.956557  \n",
       "634007     0.108499 -0.754728 -0.921267  \n",
       "634008     0.098456 -0.744377 -0.889684  \n",
       "...             ...       ...       ...  \n",
       "109057760 -0.127635 -0.706084  0.517298  \n",
       "109057761 -0.126733 -0.705844  0.516299  \n",
       "109057762 -0.126094 -0.706144  0.516886  \n",
       "109057763 -0.125563 -0.706848  0.518772  \n",
       "109057764 -0.125423 -0.707065  0.519359  \n",
       "\n",
       "[2781516 rows x 9 columns]"
      ]
     },
     "execution_count": 82,
     "metadata": {},
     "output_type": "execute_result"
    }
   ],
   "source": [
    "X_train"
   ]
  },
  {
   "cell_type": "code",
   "execution_count": 83,
   "id": "9c7aec9e",
   "metadata": {},
   "outputs": [
    {
     "data": {
      "text/plain": [
       "fall_label\n",
       "ADL     876147\n",
       "FALL     19757\n",
       "Name: count, dtype: int64"
      ]
     },
     "execution_count": 83,
     "metadata": {},
     "output_type": "execute_result"
    }
   ],
   "source": [
    "y_test.value_counts()"
   ]
  },
  {
   "cell_type": "markdown",
   "id": "9e1fef5d",
   "metadata": {},
   "source": [
    "### Segment into Windows"
   ]
  },
  {
   "cell_type": "code",
   "execution_count": 1,
   "id": "72814fe6",
   "metadata": {},
   "outputs": [],
   "source": [
    "def create_windows(X, y, window_size=400, overlap=0.5, positive_label=\"FALL\"):\n",
    "    \"\"\"\n",
    "    Slice X and y into sliding windows of length window_size, with given overlap.\n",
    "    Label each window \"FALL\" if any sample in it is positive_label,\n",
    "    otherwise \"ADL\".\n",
    "    \n",
    "    Arguments:\n",
    "        X: array of shape (T, ...), your sensor data\n",
    "        y: array of shape (T,), with string labels \"FALL\" or \"ADL\"\n",
    "        window_size: number of timesteps per window\n",
    "        overlap: fraction of overlap between consecutive windows (0.0–1.0)\n",
    "        positive_label: label in y to treat as the “anomaly” class\n",
    "    \n",
    "    Returns:\n",
    "        X_windows: array of shape (n_windows, window_size, ...)\n",
    "        y_windows: array of shape (n_windows,) with values \"FALL\" or \"ADL\"\n",
    "    \"\"\"\n",
    "    X_windows, y_windows = [], []\n",
    "    # compute step size (e.g. 50% overlap → step_size = window_size // 2)\n",
    "    step_size = int(window_size * (1 - overlap))\n",
    "\n",
    "    for start in range(0, len(X) - window_size + 1, step_size):\n",
    "        end = start + window_size\n",
    "        win_X = X[start:end]\n",
    "        win_y = y[start:end]\n",
    "\n",
    "        # any-positive labeling\n",
    "        if np.any(win_y == positive_label):\n",
    "            label = positive_label\n",
    "        else:\n",
    "            # default to the other class—for example \"ADL\"\n",
    "            label = \"ADL\" if positive_label == \"FALL\" else \"FALL\"\n",
    "\n",
    "        X_windows.append(win_X)\n",
    "        y_windows.append(label)\n",
    "\n",
    "    return np.array(X_windows), np.array(y_windows)\n"
   ]
  },
  {
   "cell_type": "code",
   "execution_count": 2,
   "id": "932ff65a",
   "metadata": {},
   "outputs": [
    {
     "ename": "NameError",
     "evalue": "name 'X_train' is not defined",
     "output_type": "error",
     "traceback": [
      "\u001b[1;31m---------------------------------------------------------------------------\u001b[0m",
      "\u001b[1;31mNameError\u001b[0m                                 Traceback (most recent call last)",
      "Cell \u001b[1;32mIn[2], line 1\u001b[0m\n\u001b[1;32m----> 1\u001b[0m X_train_windows, y_train_windows \u001b[38;5;241m=\u001b[39m create_windows(X_train, y_train)\n\u001b[0;32m      2\u001b[0m X_val_windows, y_val_windows \u001b[38;5;241m=\u001b[39m create_windows(X_val, y_val)\n\u001b[0;32m      3\u001b[0m X_test_windows, y_test_windows \u001b[38;5;241m=\u001b[39m create_windows(X_test, y_test)\n",
      "\u001b[1;31mNameError\u001b[0m: name 'X_train' is not defined"
     ]
    }
   ],
   "source": [
    "X_train_windows, y_train_windows = create_windows(X_train, y_train)\n",
    "X_val_windows, y_val_windows = create_windows(X_val, y_val)\n",
    "X_test_windows, y_test_windows = create_windows(X_test, y_test)"
   ]
  },
  {
   "cell_type": "code",
   "execution_count": 128,
   "id": "92e7c57e",
   "metadata": {},
   "outputs": [
    {
     "data": {
      "text/plain": [
       "(13906, 400, 9)"
      ]
     },
     "execution_count": 128,
     "metadata": {},
     "output_type": "execute_result"
    }
   ],
   "source": [
    "X_train_windows.shape"
   ]
  },
  {
   "cell_type": "code",
   "execution_count": 129,
   "id": "0a02614e",
   "metadata": {},
   "outputs": [
    {
     "data": {
      "text/plain": [
       "(13906,)"
      ]
     },
     "execution_count": 129,
     "metadata": {},
     "output_type": "execute_result"
    }
   ],
   "source": [
    "y_train_windows.shape"
   ]
  },
  {
   "cell_type": "markdown",
   "id": "0e9ab8e1",
   "metadata": {},
   "source": [
    "### Encode Label"
   ]
  },
  {
   "cell_type": "code",
   "execution_count": 130,
   "id": "5f41c96c",
   "metadata": {},
   "outputs": [],
   "source": [
    "label_map = {'ADL': 0, 'FALL': 1}\n",
    "y_train_windows_encoded = np.vectorize(label_map.get)(y_train_windows)\n",
    "y_val_windows_encoded = np.vectorize(label_map.get)(y_val_windows)\n",
    "y_test_windows_encoded = np.vectorize(label_map.get)(y_test_windows)"
   ]
  },
  {
   "cell_type": "code",
   "execution_count": 131,
   "id": "c852635f",
   "metadata": {},
   "outputs": [
    {
     "name": "stderr",
     "output_type": "stream",
     "text": [
      "c:\\Users\\sovan\\Desktop\\Fall Detection\\fresh-ilab-fall-detection\\.venv\\Lib\\site-packages\\keras\\src\\layers\\convolutional\\base_conv.py:107: UserWarning: Do not pass an `input_shape`/`input_dim` argument to a layer. When using Sequential models, prefer using an `Input(shape)` object as the first layer in the model instead.\n",
      "  super().__init__(activity_regularizer=activity_regularizer, **kwargs)\n"
     ]
    }
   ],
   "source": [
    "from tensorflow.keras.models import Sequential\n",
    "from tensorflow.keras.layers import (Conv1D, MaxPooling1D,\n",
    "                                     GlobalAveragePooling1D,\n",
    "                                     BatchNormalization, Dropout,\n",
    "                                     Dense)\n",
    "\n",
    "\n",
    "input_shape = (X_train_windows.shape[1], X_train_windows.shape[2])  \n",
    "\n",
    "# LoS = length of segment (timesteps)\n",
    "# input_shape = (LoS, 3)\n",
    "# num_classes = len(label_map)\n",
    "\n",
    "model = Sequential([\n",
    "    # ——— Feature extractor for one stream (e.g. accelerometer or gyro) ———\n",
    "    Conv1D(64, kernel_size=3, strides=1, activation='relu',\n",
    "           input_shape=input_shape),\n",
    "    MaxPooling1D(pool_size=2),\n",
    "\n",
    "    Conv1D(64, kernel_size=3, strides=1, activation='relu'),\n",
    "    MaxPooling1D(pool_size=2),\n",
    "\n",
    "    Conv1D(64, kernel_size=3, strides=1),      # no activation/pool here\n",
    "    GlobalAveragePooling1D(),                  # → 64-D global feature\n",
    "\n",
    "    # ——— Classification head ———\n",
    "    BatchNormalization(),\n",
    "    Dropout(0.5),\n",
    "    Dense(len(label_map), activation='softmax')\n",
    "])\n",
    "\n",
    "model.compile(\n",
    "    optimizer='adam',\n",
    "    loss='sparse_categorical_crossentropy',\n",
    "    metrics=['accuracy']\n",
    ")\n"
   ]
  },
  {
   "cell_type": "code",
   "execution_count": 132,
   "id": "0c05daa6",
   "metadata": {},
   "outputs": [],
   "source": [
    "from sklearn.utils import class_weight"
   ]
  },
  {
   "cell_type": "code",
   "execution_count": 133,
   "id": "817510a9",
   "metadata": {},
   "outputs": [],
   "source": [
    "# Compute class weights to handle imbalance\n",
    "y_train_array = np.array(y_train_windows_encoded)\n",
    "class_weights = class_weight.compute_class_weight(\n",
    "    class_weight='balanced',\n",
    "    classes=np.unique(y_train_array),\n",
    "    y=y_train_array\n",
    ")\n",
    "class_weights = dict(enumerate(class_weights))\n"
   ]
  },
  {
   "cell_type": "code",
   "execution_count": 134,
   "id": "9e6289a7",
   "metadata": {},
   "outputs": [
    {
     "name": "stdout",
     "output_type": "stream",
     "text": [
      "Epoch 1/20\n",
      "\u001b[1m435/435\u001b[0m \u001b[32m━━━━━━━━━━━━━━━━━━━━\u001b[0m\u001b[37m\u001b[0m \u001b[1m7s\u001b[0m 12ms/step - accuracy: 0.7285 - loss: 0.5727 - val_accuracy: 0.8438 - val_loss: 0.4915\n",
      "Epoch 2/20\n",
      "\u001b[1m435/435\u001b[0m \u001b[32m━━━━━━━━━━━━━━━━━━━━\u001b[0m\u001b[37m\u001b[0m \u001b[1m5s\u001b[0m 10ms/step - accuracy: 0.8680 - loss: 0.3216 - val_accuracy: 0.6250 - val_loss: 1.0618\n",
      "Epoch 3/20\n",
      "\u001b[1m435/435\u001b[0m \u001b[32m━━━━━━━━━━━━━━━━━━━━\u001b[0m\u001b[37m\u001b[0m \u001b[1m5s\u001b[0m 10ms/step - accuracy: 0.8932 - loss: 0.2630 - val_accuracy: 0.8559 - val_loss: 0.4556\n",
      "Epoch 4/20\n",
      "\u001b[1m435/435\u001b[0m \u001b[32m━━━━━━━━━━━━━━━━━━━━\u001b[0m\u001b[37m\u001b[0m \u001b[1m5s\u001b[0m 11ms/step - accuracy: 0.8930 - loss: 0.2531 - val_accuracy: 0.8385 - val_loss: 0.4899\n",
      "Epoch 5/20\n",
      "\u001b[1m435/435\u001b[0m \u001b[32m━━━━━━━━━━━━━━━━━━━━\u001b[0m\u001b[37m\u001b[0m \u001b[1m5s\u001b[0m 11ms/step - accuracy: 0.9097 - loss: 0.2164 - val_accuracy: 0.8845 - val_loss: 0.3888\n",
      "Epoch 6/20\n",
      "\u001b[1m435/435\u001b[0m \u001b[32m━━━━━━━━━━━━━━━━━━━━\u001b[0m\u001b[37m\u001b[0m \u001b[1m4s\u001b[0m 10ms/step - accuracy: 0.9099 - loss: 0.2181 - val_accuracy: 0.8485 - val_loss: 0.5559\n",
      "Epoch 7/20\n",
      "\u001b[1m435/435\u001b[0m \u001b[32m━━━━━━━━━━━━━━━━━━━━\u001b[0m\u001b[37m\u001b[0m \u001b[1m4s\u001b[0m 10ms/step - accuracy: 0.9175 - loss: 0.2066 - val_accuracy: 0.8785 - val_loss: 0.4493\n",
      "Epoch 8/20\n",
      "\u001b[1m435/435\u001b[0m \u001b[32m━━━━━━━━━━━━━━━━━━━━\u001b[0m\u001b[37m\u001b[0m \u001b[1m4s\u001b[0m 10ms/step - accuracy: 0.9268 - loss: 0.1884 - val_accuracy: 0.8411 - val_loss: 0.5458\n",
      "Epoch 9/20\n",
      "\u001b[1m435/435\u001b[0m \u001b[32m━━━━━━━━━━━━━━━━━━━━\u001b[0m\u001b[37m\u001b[0m \u001b[1m5s\u001b[0m 10ms/step - accuracy: 0.9312 - loss: 0.1782 - val_accuracy: 0.8537 - val_loss: 0.5045\n",
      "Epoch 10/20\n",
      "\u001b[1m435/435\u001b[0m \u001b[32m━━━━━━━━━━━━━━━━━━━━\u001b[0m\u001b[37m\u001b[0m \u001b[1m4s\u001b[0m 10ms/step - accuracy: 0.9308 - loss: 0.1687 - val_accuracy: 0.8103 - val_loss: 0.8609\n",
      "Epoch 11/20\n",
      "\u001b[1m435/435\u001b[0m \u001b[32m━━━━━━━━━━━━━━━━━━━━\u001b[0m\u001b[37m\u001b[0m \u001b[1m4s\u001b[0m 10ms/step - accuracy: 0.9293 - loss: 0.1860 - val_accuracy: 0.8234 - val_loss: 0.6325\n",
      "Epoch 12/20\n",
      "\u001b[1m435/435\u001b[0m \u001b[32m━━━━━━━━━━━━━━━━━━━━\u001b[0m\u001b[37m\u001b[0m \u001b[1m4s\u001b[0m 10ms/step - accuracy: 0.9395 - loss: 0.1500 - val_accuracy: 0.9045 - val_loss: 0.3677\n",
      "Epoch 13/20\n",
      "\u001b[1m435/435\u001b[0m \u001b[32m━━━━━━━━━━━━━━━━━━━━\u001b[0m\u001b[37m\u001b[0m \u001b[1m4s\u001b[0m 10ms/step - accuracy: 0.9375 - loss: 0.1440 - val_accuracy: 0.9128 - val_loss: 0.4248\n",
      "Epoch 14/20\n",
      "\u001b[1m435/435\u001b[0m \u001b[32m━━━━━━━━━━━━━━━━━━━━\u001b[0m\u001b[37m\u001b[0m \u001b[1m5s\u001b[0m 10ms/step - accuracy: 0.9525 - loss: 0.1323 - val_accuracy: 0.8715 - val_loss: 0.4241\n",
      "Epoch 15/20\n",
      "\u001b[1m435/435\u001b[0m \u001b[32m━━━━━━━━━━━━━━━━━━━━\u001b[0m\u001b[37m\u001b[0m \u001b[1m5s\u001b[0m 11ms/step - accuracy: 0.9495 - loss: 0.1415 - val_accuracy: 0.8958 - val_loss: 0.3714\n",
      "Epoch 16/20\n",
      "\u001b[1m435/435\u001b[0m \u001b[32m━━━━━━━━━━━━━━━━━━━━\u001b[0m\u001b[37m\u001b[0m \u001b[1m5s\u001b[0m 11ms/step - accuracy: 0.9537 - loss: 0.1149 - val_accuracy: 0.8811 - val_loss: 0.5059\n",
      "Epoch 17/20\n",
      "\u001b[1m435/435\u001b[0m \u001b[32m━━━━━━━━━━━━━━━━━━━━\u001b[0m\u001b[37m\u001b[0m \u001b[1m5s\u001b[0m 11ms/step - accuracy: 0.9455 - loss: 0.1358 - val_accuracy: 0.8338 - val_loss: 0.5913\n",
      "Epoch 18/20\n",
      "\u001b[1m435/435\u001b[0m \u001b[32m━━━━━━━━━━━━━━━━━━━━\u001b[0m\u001b[37m\u001b[0m \u001b[1m5s\u001b[0m 10ms/step - accuracy: 0.9584 - loss: 0.1092 - val_accuracy: 0.8880 - val_loss: 0.4417\n",
      "Epoch 19/20\n",
      "\u001b[1m435/435\u001b[0m \u001b[32m━━━━━━━━━━━━━━━━━━━━\u001b[0m\u001b[37m\u001b[0m \u001b[1m5s\u001b[0m 10ms/step - accuracy: 0.9569 - loss: 0.1201 - val_accuracy: 0.9062 - val_loss: 0.3636\n",
      "Epoch 20/20\n",
      "\u001b[1m435/435\u001b[0m \u001b[32m━━━━━━━━━━━━━━━━━━━━\u001b[0m\u001b[37m\u001b[0m \u001b[1m5s\u001b[0m 10ms/step - accuracy: 0.9597 - loss: 0.1086 - val_accuracy: 0.8859 - val_loss: 0.4022\n"
     ]
    }
   ],
   "source": [
    "history = model.fit(\n",
    "    X_train_windows, y_train_windows_encoded,\n",
    "    validation_data=(X_val_windows, y_val_windows_encoded),\n",
    "    epochs=20,\n",
    "    batch_size=32,\n",
    "    class_weight= class_weights\n",
    ")"
   ]
  },
  {
   "cell_type": "code",
   "execution_count": 135,
   "id": "51a30c92",
   "metadata": {},
   "outputs": [],
   "source": [
    "import matplotlib.pyplot as plt\n",
    "import seaborn as sns\n",
    "from sklearn.metrics import (confusion_matrix, classification_report, \n",
    "                             precision_score, recall_score, f1_score)\n",
    "\n",
    "def evaluate_model(model, X_test, y_test, label_classes=None, plot_confusion_matrix=True, plot_roc=True):\n",
    "\n",
    "    # Evaluate the model for loss and accuracy\n",
    "    loss, accuracy = model.evaluate(X_test, y_test, verbose=0)\n",
    "    print(\"Test Loss: {:.4f}\".format(loss))\n",
    "    print(\"Test Accuracy: {:.4f}\".format(accuracy))\n",
    "\n",
    "    # Generate prediction probabilities and predicted classes\n",
    "    y_pred_prob = model.predict(X_test)\n",
    "    y_pred = np.argmax(y_pred_prob, axis=1)\n",
    "\n",
    "    # Compute confusion matrix\n",
    "    cm = confusion_matrix(y_test, y_pred)\n",
    "    if plot_confusion_matrix:\n",
    "        plt.figure(figsize=(10, 8))\n",
    "        if label_classes is None:\n",
    "            label_classes = [str(i) for i in range(cm.shape[0])]\n",
    "        sns.heatmap(cm, annot=True, fmt=\"d\", cmap='Blues', \n",
    "                    xticklabels=label_classes, yticklabels=label_classes)\n",
    "        plt.xlabel(\"Predicted Label\")\n",
    "        plt.ylabel(\"True Label\")\n",
    "        plt.title(\"Confusion Matrix\")\n",
    "        plt.show()\n",
    "\n",
    "    # Compute and print classification report\n",
    "    report = classification_report(y_test, y_pred, target_names=label_classes)\n",
    "    print(\"Classification Report:\\n\", report)\n",
    "\n",
    "    # Compute weighted precision, recall, and F1 scores\n",
    "    precision = precision_score(y_test, y_pred, average='weighted')\n",
    "    recall = recall_score(y_test, y_pred, average='weighted')\n",
    "    f1 = f1_score(y_test, y_pred, average='weighted')\n",
    "    print(\"Weighted Precision: {:.4f}\".format(precision))\n",
    "    print(\"Weighted Recall: {:.4f}\".format(recall))\n",
    "    print(\"Weighted F1 Score: {:.4f}\".format(f1))\n",
    "\n",
    "    metrics = {\n",
    "        'loss': loss,\n",
    "        'accuracy': accuracy,\n",
    "        'precision': precision,\n",
    "        'recall': recall,\n",
    "        'f1_score': f1\n",
    "    }\n",
    "\n",
    "    return metrics"
   ]
  },
  {
   "cell_type": "code",
   "execution_count": 136,
   "id": "d89fa750",
   "metadata": {},
   "outputs": [
    {
     "name": "stdout",
     "output_type": "stream",
     "text": [
      "Test Loss: 0.3378\n",
      "Test Accuracy: 0.9031\n",
      "\u001b[1m140/140\u001b[0m \u001b[32m━━━━━━━━━━━━━━━━━━━━\u001b[0m\u001b[37m\u001b[0m \u001b[1m1s\u001b[0m 4ms/step\n"
     ]
    },
    {
     "data": {
      "image/png": "[encoded data removed]",
      "text/plain": [
       "<Figure size 1000x800 with 2 Axes>"
      ]
     },
     "metadata": {},
     "output_type": "display_data"
    },
    {
     "name": "stdout",
     "output_type": "stream",
     "text": [
      "Classification Report:\n",
      "               precision    recall  f1-score   support\n",
      "\n",
      "           0       0.99      0.91      0.94      4079\n",
      "           1       0.48      0.88      0.62       399\n",
      "\n",
      "    accuracy                           0.90      4478\n",
      "   macro avg       0.73      0.89      0.78      4478\n",
      "weighted avg       0.94      0.90      0.92      4478\n",
      "\n",
      "Weighted Precision: 0.9419\n",
      "Weighted Recall: 0.9031\n",
      "Weighted F1 Score: 0.9155\n"
     ]
    }
   ],
   "source": [
    "metrics = evaluate_model(model, X_test_windows, y_test_windows_encoded)\n"
   ]
  },
  {
   "cell_type": "markdown",
   "id": "14f7879c",
   "metadata": {},
   "source": [
    "### 10-Fold Cross Validation"
   ]
  },
  {
   "cell_type": "code",
   "execution_count": null,
   "id": "fa657d0a",
   "metadata": {},
   "outputs": [],
   "source": [
    "from sklearn.model_selection import GroupKFold"
   ]
  },
  {
   "cell_type": "code",
   "execution_count": null,
   "id": "f593f3f6",
   "metadata": {},
   "outputs": [],
   "source": [
    "# Read datasets from the interim directory\n",
    "df_filtered = pd.read_pickle(\"../../data/interim/df_filtered.pkl\")"
   ]
  },
  {
   "cell_type": "code",
   "execution_count": null,
   "id": "a90b2215",
   "metadata": {},
   "outputs": [],
   "source": [
    "from tensorflow.keras import Input\n",
    "\n",
    "def build_model(input_shape, num_classes):\n",
    "    model = Sequential([\n",
    "        Input(shape=input_shape),\n",
    "        Conv1D(64, 3, activation='relu'),\n",
    "        Conv1D(128, 3, activation='relu'),\n",
    "        MaxPooling1D(2),\n",
    "        Conv1D(128, 3, activation='relu'),\n",
    "        GlobalAveragePooling1D(),\n",
    "        Dense(64, activation='relu'),\n",
    "        Dropout(0.5),\n",
    "        Dense(num_classes, activation='softmax')\n",
    "    ])\n",
    "    model.compile(optimizer=Adam(1e-3),\n",
    "                  loss='sparse_categorical_crossentropy',\n",
    "                  metrics=['accuracy'])\n",
    "    return model"
   ]
  },
  {
   "cell_type": "code",
   "execution_count": null,
   "id": "de70247b",
   "metadata": {},
   "outputs": [],
   "source": [
    "sensor_cols = ['acc_x','acc_y','acc_z','gyro_x','gyro_y','gyro_z']\n",
    "groups     = df_filtered['subject_id'].values\n",
    "gkf        = GroupKFold(n_splits=10)\n",
    "\n",
    "val_losses     = []\n",
    "val_accuracies = []\n",
    "\n",
    "for fold, (train_idx, val_idx) in enumerate(\n",
    "        gkf.split(df_filtered, df_filtered['label'], groups=groups)):\n",
    "\n",
    "    # ----- 1) Select raw fold data -----\n",
    "    df_tr = df_filtered.iloc[train_idx]\n",
    "    df_va = df_filtered.iloc[val_idx]\n",
    "\n",
    "    X_tr_raw = df_tr[sensor_cols].values\n",
    "    y_tr_raw = df_tr['label'].values\n",
    "    X_va_raw = df_va[sensor_cols].values\n",
    "    y_va_raw = df_va['label'].values\n",
    "\n",
    "    # ----- 2) Window -----\n",
    "    X_train_windows, y_train_windows = create_windows(X_tr_raw, y_tr_raw,\n",
    "                                                      window_size=50,\n",
    "                                                      step_size=25)\n",
    "    X_val_windows,   y_val_windows   = create_windows(X_va_raw, y_va_raw,\n",
    "                                                      window_size=50,\n",
    "                                                      step_size=25)\n",
    "\n",
    "    # ----- 3) Encode labels -----\n",
    "    le = LabelEncoder()\n",
    "    y_train_encoded = le.fit_transform(y_train_windows)\n",
    "    y_val_encoded   = le.transform(y_val_windows)\n",
    "\n",
    "    # ----- 4) Build model -----\n",
    "    input_shape = (X_train_windows.shape[1], X_train_windows.shape[2])  # (50,6)\n",
    "    num_classes = len(le.classes_)\n",
    "\n",
    "    model = build_model(input_shape, num_classes)\n",
    "    \n",
    "\n",
    "    # ----- 5) Train -----\n",
    "    history = model.fit(\n",
    "        X_train_windows, y_train_encoded,\n",
    "        validation_data=(X_val_windows, y_val_encoded),\n",
    "        epochs=25, batch_size=32, verbose=0\n",
    "    )\n",
    "\n",
    "    # ----- 6) Collect metrics -----\n",
    "    val_loss = history.history['val_loss'][-1]\n",
    "    val_acc  = history.history['val_accuracy'][-1]\n",
    "    val_losses.append(val_loss)\n",
    "    val_accuracies.append(val_acc)\n",
    "\n",
    "    print(f\"Fold {fold+1} — val_loss: {val_loss:.4f}, val_acc: {val_acc:.4%}\")\n",
    "\n",
    "# ----- 7) Aggregate across folds -----\n",
    "mean_loss = np.mean(val_losses)\n",
    "std_loss  = np.std(val_losses)\n",
    "mean_acc  = np.mean(val_accuracies)\n",
    "std_acc   = np.std(val_accuracies)\n",
    "\n",
    "print(\"\\n=== Cross‐Validation Results ===\")\n",
    "print(f\"Val Loss: {mean_loss:.4f} ± {std_loss:.4f}\")\n",
    "print(f\"Val Acc:  {mean_acc:.4%} ± {std_acc:.4%}\")\n"
   ]
  }
 ],
 "metadata": {
  "kernelspec": {
   "display_name": "Python 3 (ipykernel)",
   "language": "python",
   "name": "python3"
  },
  "language_info": {
   "codemirror_mode": {
    "name": "ipython",
    "version": 3
   },
   "file_extension": ".py",
   "mimetype": "text/x-python",
   "name": "python",
   "nbconvert_exporter": "python",
   "pygments_lexer": "ipython3",
   "version": "3.11.5"
  }
 },
 "nbformat": 4,
 "nbformat_minor": 5
}
