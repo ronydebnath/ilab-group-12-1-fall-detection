{
 "cells": [
  {
   "cell_type": "code",
   "execution_count": 79,
   "id": "c2ea3f13",
   "metadata": {},
   "outputs": [],
   "source": [
    "import pandas as pd\n",
    "import numpy as np\n",
    "import os\n"
   ]
  },
  {
   "cell_type": "code",
   "execution_count": 80,
   "id": "b214f471",
   "metadata": {},
   "outputs": [],
   "source": [
    "pd.set_option('display.max_columns', None)\n",
    "\n",
    "# Read datasets from the interim directory\n",
    "X_train = pd.read_pickle(\"../../data/interim/X_train.pkl\")\n",
    "X_val = pd.read_pickle(\"../../data/interim/X_val.pkl\")\n",
    "X_test = pd.read_pickle(\"../../data/interim/X_test.pkl\")\n",
    "y_train = pd.read_pickle(\"../../data/interim/y_train.pkl\")\n",
    "y_val = pd.read_pickle(\"../../data/interim/y_val.pkl\")\n",
    "y_test = pd.read_pickle(\"../../data/interim/y_test.pkl\")"
   ]
  },
  {
   "cell_type": "code",
   "execution_count": 81,
   "id": "d6c4c41e",
   "metadata": {},
   "outputs": [
    {
     "data": {
      "text/plain": [
       "\"\\n# collapse BSC, FKL, SDL, FOL into FALL\\nfall_labels = ['BSC', 'FKL', 'SDL', 'FOL']\\n\\ny_train = y_train.apply(lambda x: x if x in fall_labels else 'ADL')\\ny_val = y_val.apply(lambda x: x if x in fall_labels else 'ADL')\\ny_test = y_test.apply(lambda x: x if x in fall_labels else 'ADL')\\n\\n\""
      ]
     },
     "execution_count": 81,
     "metadata": {},
     "output_type": "execute_result"
    }
   ],
   "source": [
    "'''\n",
    "# collapse BSC, FKL, SDL, FOL into FALL\n",
    "fall_labels = ['BSC', 'FKL', 'SDL', 'FOL']\n",
    "\n",
    "y_train = y_train.apply(lambda x: x if x in fall_labels else 'ADL')\n",
    "y_val = y_val.apply(lambda x: x if x in fall_labels else 'ADL')\n",
    "y_test = y_test.apply(lambda x: x if x in fall_labels else 'ADL')\n",
    "\n",
    "'''"
   ]
  },
  {
   "cell_type": "code",
   "execution_count": 82,
   "id": "bf110a59",
   "metadata": {},
   "outputs": [
    {
     "data": {
      "text/plain": [
       "array(['STD', 'WAL', 'LYI', 'STN', 'CSI', 'SIT', 'CSO', 'STU', 'FKL',\n",
       "       'SCH', 'BSC', 'CHU', 'SDL', 'JUM', 'JOG', 'FOL'], dtype=object)"
      ]
     },
     "execution_count": 82,
     "metadata": {},
     "output_type": "execute_result"
    }
   ],
   "source": [
    "y_train.unique()"
   ]
  },
  {
   "cell_type": "markdown",
   "id": "9e1fef5d",
   "metadata": {},
   "source": [
    "### Segment into Windows"
   ]
  },
  {
   "cell_type": "code",
   "execution_count": 83,
   "id": "72814fe6",
   "metadata": {},
   "outputs": [],
   "source": [
    "sensor_cols = ['acc_x', 'acc_y', 'acc_z', 'gyro_x', 'gyro_y', 'gyro_z']\n",
    "\n",
    "def create_windows(X, y, window_size=100, step_size=50):\n",
    "    X_windows, y_windows = [], []\n",
    "    \n",
    "    for start in range(0, len(X) - window_size + 1, step_size):\n",
    "        end = start + window_size\n",
    "        window_data = X[start:end]\n",
    "        window_labels = y[start:end]\n",
    "\n",
    "        # Majority voting for label assignment\n",
    "        unique, counts = np.unique(window_labels, return_counts=True)\n",
    "        label = unique[np.argmax(counts)]\n",
    "\n",
    "        X_windows.append(window_data)\n",
    "        y_windows.append(label)\n",
    "\n",
    "    return np.array(X_windows), np.array(y_windows)"
   ]
  },
  {
   "cell_type": "code",
   "execution_count": 84,
   "id": "932ff65a",
   "metadata": {},
   "outputs": [],
   "source": [
    "X_train_windows, y_train_windows = create_windows(X_train, y_train)\n",
    "X_val_windows, y_val_windows = create_windows(X_val, y_val)\n",
    "X_test_windows, y_test_windows = create_windows(X_test, y_test)"
   ]
  },
  {
   "cell_type": "code",
   "execution_count": 85,
   "id": "54a444d4",
   "metadata": {},
   "outputs": [
    {
     "data": {
      "text/plain": [
       "(55629, 100, 6)"
      ]
     },
     "execution_count": 85,
     "metadata": {},
     "output_type": "execute_result"
    }
   ],
   "source": [
    "X_train_windows.shape"
   ]
  },
  {
   "cell_type": "markdown",
   "id": "0e9ab8e1",
   "metadata": {},
   "source": [
    "### Encode Label"
   ]
  },
  {
   "cell_type": "code",
   "execution_count": 86,
   "id": "5f41c96c",
   "metadata": {},
   "outputs": [],
   "source": [
    "from sklearn.preprocessing import LabelEncoder\n",
    "\n",
    "# Initialize the LabelEncoder\n",
    "le = LabelEncoder()\n",
    "\n",
    "# Fit and transform on the windowed training labels\n",
    "y_train_windows_encoded = le.fit_transform(y_train_windows)\n",
    "\n",
    "# Transform the validation and test windowed labels based on the same encoding\n",
    "y_val_windows_encoded = le.transform(y_val_windows)\n",
    "y_test_windows_encoded = le.transform(y_test_windows)"
   ]
  },
  {
   "cell_type": "code",
   "execution_count": 87,
   "id": "c852635f",
   "metadata": {},
   "outputs": [
    {
     "name": "stderr",
     "output_type": "stream",
     "text": [
      "c:\\Users\\sovan\\Desktop\\Fall Detection\\fresh-ilab-fall-detection\\.venv\\Lib\\site-packages\\keras\\src\\layers\\convolutional\\base_conv.py:107: UserWarning: Do not pass an `input_shape`/`input_dim` argument to a layer. When using Sequential models, prefer using an `Input(shape)` object as the first layer in the model instead.\n",
      "  super().__init__(activity_regularizer=activity_regularizer, **kwargs)\n"
     ]
    },
    {
     "data": {
      "text/html": [
       "<pre style=\"white-space:pre;overflow-x:auto;line-height:normal;font-family:Menlo,'DejaVu Sans Mono',consolas,'Courier New',monospace\"><span style=\"font-weight: bold\">Model: \"sequential_8\"</span>\n",
       "</pre>\n"
      ],
      "text/plain": [
       "\u001b[1mModel: \"sequential_8\"\u001b[0m\n"
      ]
     },
     "metadata": {},
     "output_type": "display_data"
    },
    {
     "data": {
      "text/html": [
       "<pre style=\"white-space:pre;overflow-x:auto;line-height:normal;font-family:Menlo,'DejaVu Sans Mono',consolas,'Courier New',monospace\">┏━━━━━━━━━━━━━━━━━━━━━━━━━━━━━━━━━┳━━━━━━━━━━━━━━━━━━━━━━━━┳━━━━━━━━━━━━━━━┓\n",
       "┃<span style=\"font-weight: bold\"> Layer (type)                    </span>┃<span style=\"font-weight: bold\"> Output Shape           </span>┃<span style=\"font-weight: bold\">       Param # </span>┃\n",
       "┡━━━━━━━━━━━━━━━━━━━━━━━━━━━━━━━━━╇━━━━━━━━━━━━━━━━━━━━━━━━╇━━━━━━━━━━━━━━━┩\n",
       "│ conv1d_32 (<span style=\"color: #0087ff; text-decoration-color: #0087ff\">Conv1D</span>)              │ (<span style=\"color: #00d7ff; text-decoration-color: #00d7ff\">None</span>, <span style=\"color: #00af00; text-decoration-color: #00af00\">100</span>, <span style=\"color: #00af00; text-decoration-color: #00af00\">32</span>)        │           <span style=\"color: #00af00; text-decoration-color: #00af00\">608</span> │\n",
       "├─────────────────────────────────┼────────────────────────┼───────────────┤\n",
       "│ max_pooling1d_32 (<span style=\"color: #0087ff; text-decoration-color: #0087ff\">MaxPooling1D</span>) │ (<span style=\"color: #00d7ff; text-decoration-color: #00d7ff\">None</span>, <span style=\"color: #00af00; text-decoration-color: #00af00\">50</span>, <span style=\"color: #00af00; text-decoration-color: #00af00\">32</span>)         │             <span style=\"color: #00af00; text-decoration-color: #00af00\">0</span> │\n",
       "├─────────────────────────────────┼────────────────────────┼───────────────┤\n",
       "│ conv1d_33 (<span style=\"color: #0087ff; text-decoration-color: #0087ff\">Conv1D</span>)              │ (<span style=\"color: #00d7ff; text-decoration-color: #00d7ff\">None</span>, <span style=\"color: #00af00; text-decoration-color: #00af00\">50</span>, <span style=\"color: #00af00; text-decoration-color: #00af00\">64</span>)         │        <span style=\"color: #00af00; text-decoration-color: #00af00\">10,304</span> │\n",
       "├─────────────────────────────────┼────────────────────────┼───────────────┤\n",
       "│ max_pooling1d_33 (<span style=\"color: #0087ff; text-decoration-color: #0087ff\">MaxPooling1D</span>) │ (<span style=\"color: #00d7ff; text-decoration-color: #00d7ff\">None</span>, <span style=\"color: #00af00; text-decoration-color: #00af00\">25</span>, <span style=\"color: #00af00; text-decoration-color: #00af00\">64</span>)         │             <span style=\"color: #00af00; text-decoration-color: #00af00\">0</span> │\n",
       "├─────────────────────────────────┼────────────────────────┼───────────────┤\n",
       "│ conv1d_34 (<span style=\"color: #0087ff; text-decoration-color: #0087ff\">Conv1D</span>)              │ (<span style=\"color: #00d7ff; text-decoration-color: #00d7ff\">None</span>, <span style=\"color: #00af00; text-decoration-color: #00af00\">25</span>, <span style=\"color: #00af00; text-decoration-color: #00af00\">128</span>)        │        <span style=\"color: #00af00; text-decoration-color: #00af00\">57,472</span> │\n",
       "├─────────────────────────────────┼────────────────────────┼───────────────┤\n",
       "│ max_pooling1d_34 (<span style=\"color: #0087ff; text-decoration-color: #0087ff\">MaxPooling1D</span>) │ (<span style=\"color: #00d7ff; text-decoration-color: #00d7ff\">None</span>, <span style=\"color: #00af00; text-decoration-color: #00af00\">12</span>, <span style=\"color: #00af00; text-decoration-color: #00af00\">128</span>)        │             <span style=\"color: #00af00; text-decoration-color: #00af00\">0</span> │\n",
       "├─────────────────────────────────┼────────────────────────┼───────────────┤\n",
       "│ conv1d_35 (<span style=\"color: #0087ff; text-decoration-color: #0087ff\">Conv1D</span>)              │ (<span style=\"color: #00d7ff; text-decoration-color: #00d7ff\">None</span>, <span style=\"color: #00af00; text-decoration-color: #00af00\">12</span>, <span style=\"color: #00af00; text-decoration-color: #00af00\">200</span>)        │       <span style=\"color: #00af00; text-decoration-color: #00af00\">230,600</span> │\n",
       "├─────────────────────────────────┼────────────────────────┼───────────────┤\n",
       "│ max_pooling1d_35 (<span style=\"color: #0087ff; text-decoration-color: #0087ff\">MaxPooling1D</span>) │ (<span style=\"color: #00d7ff; text-decoration-color: #00d7ff\">None</span>, <span style=\"color: #00af00; text-decoration-color: #00af00\">6</span>, <span style=\"color: #00af00; text-decoration-color: #00af00\">200</span>)         │             <span style=\"color: #00af00; text-decoration-color: #00af00\">0</span> │\n",
       "├─────────────────────────────────┼────────────────────────┼───────────────┤\n",
       "│ lstm_16 (<span style=\"color: #0087ff; text-decoration-color: #0087ff\">LSTM</span>)                  │ (<span style=\"color: #00d7ff; text-decoration-color: #00d7ff\">None</span>, <span style=\"color: #00af00; text-decoration-color: #00af00\">6</span>, <span style=\"color: #00af00; text-decoration-color: #00af00\">200</span>)         │       <span style=\"color: #00af00; text-decoration-color: #00af00\">320,800</span> │\n",
       "├─────────────────────────────────┼────────────────────────┼───────────────┤\n",
       "│ lstm_17 (<span style=\"color: #0087ff; text-decoration-color: #0087ff\">LSTM</span>)                  │ (<span style=\"color: #00d7ff; text-decoration-color: #00d7ff\">None</span>, <span style=\"color: #00af00; text-decoration-color: #00af00\">200</span>)            │       <span style=\"color: #00af00; text-decoration-color: #00af00\">320,800</span> │\n",
       "├─────────────────────────────────┼────────────────────────┼───────────────┤\n",
       "│ dense_16 (<span style=\"color: #0087ff; text-decoration-color: #0087ff\">Dense</span>)                │ (<span style=\"color: #00d7ff; text-decoration-color: #00d7ff\">None</span>, <span style=\"color: #00af00; text-decoration-color: #00af00\">64</span>)             │        <span style=\"color: #00af00; text-decoration-color: #00af00\">12,864</span> │\n",
       "├─────────────────────────────────┼────────────────────────┼───────────────┤\n",
       "│ dropout_8 (<span style=\"color: #0087ff; text-decoration-color: #0087ff\">Dropout</span>)             │ (<span style=\"color: #00d7ff; text-decoration-color: #00d7ff\">None</span>, <span style=\"color: #00af00; text-decoration-color: #00af00\">64</span>)             │             <span style=\"color: #00af00; text-decoration-color: #00af00\">0</span> │\n",
       "├─────────────────────────────────┼────────────────────────┼───────────────┤\n",
       "│ dense_17 (<span style=\"color: #0087ff; text-decoration-color: #0087ff\">Dense</span>)                │ (<span style=\"color: #00d7ff; text-decoration-color: #00d7ff\">None</span>, <span style=\"color: #00af00; text-decoration-color: #00af00\">16</span>)             │         <span style=\"color: #00af00; text-decoration-color: #00af00\">1,040</span> │\n",
       "└─────────────────────────────────┴────────────────────────┴───────────────┘\n",
       "</pre>\n"
      ],
      "text/plain": [
       "┏━━━━━━━━━━━━━━━━━━━━━━━━━━━━━━━━━┳━━━━━━━━━━━━━━━━━━━━━━━━┳━━━━━━━━━━━━━━━┓\n",
       "┃\u001b[1m \u001b[0m\u001b[1mLayer (type)                   \u001b[0m\u001b[1m \u001b[0m┃\u001b[1m \u001b[0m\u001b[1mOutput Shape          \u001b[0m\u001b[1m \u001b[0m┃\u001b[1m \u001b[0m\u001b[1m      Param #\u001b[0m\u001b[1m \u001b[0m┃\n",
       "┡━━━━━━━━━━━━━━━━━━━━━━━━━━━━━━━━━╇━━━━━━━━━━━━━━━━━━━━━━━━╇━━━━━━━━━━━━━━━┩\n",
       "│ conv1d_32 (\u001b[38;5;33mConv1D\u001b[0m)              │ (\u001b[38;5;45mNone\u001b[0m, \u001b[38;5;34m100\u001b[0m, \u001b[38;5;34m32\u001b[0m)        │           \u001b[38;5;34m608\u001b[0m │\n",
       "├─────────────────────────────────┼────────────────────────┼───────────────┤\n",
       "│ max_pooling1d_32 (\u001b[38;5;33mMaxPooling1D\u001b[0m) │ (\u001b[38;5;45mNone\u001b[0m, \u001b[38;5;34m50\u001b[0m, \u001b[38;5;34m32\u001b[0m)         │             \u001b[38;5;34m0\u001b[0m │\n",
       "├─────────────────────────────────┼────────────────────────┼───────────────┤\n",
       "│ conv1d_33 (\u001b[38;5;33mConv1D\u001b[0m)              │ (\u001b[38;5;45mNone\u001b[0m, \u001b[38;5;34m50\u001b[0m, \u001b[38;5;34m64\u001b[0m)         │        \u001b[38;5;34m10,304\u001b[0m │\n",
       "├─────────────────────────────────┼────────────────────────┼───────────────┤\n",
       "│ max_pooling1d_33 (\u001b[38;5;33mMaxPooling1D\u001b[0m) │ (\u001b[38;5;45mNone\u001b[0m, \u001b[38;5;34m25\u001b[0m, \u001b[38;5;34m64\u001b[0m)         │             \u001b[38;5;34m0\u001b[0m │\n",
       "├─────────────────────────────────┼────────────────────────┼───────────────┤\n",
       "│ conv1d_34 (\u001b[38;5;33mConv1D\u001b[0m)              │ (\u001b[38;5;45mNone\u001b[0m, \u001b[38;5;34m25\u001b[0m, \u001b[38;5;34m128\u001b[0m)        │        \u001b[38;5;34m57,472\u001b[0m │\n",
       "├─────────────────────────────────┼────────────────────────┼───────────────┤\n",
       "│ max_pooling1d_34 (\u001b[38;5;33mMaxPooling1D\u001b[0m) │ (\u001b[38;5;45mNone\u001b[0m, \u001b[38;5;34m12\u001b[0m, \u001b[38;5;34m128\u001b[0m)        │             \u001b[38;5;34m0\u001b[0m │\n",
       "├─────────────────────────────────┼────────────────────────┼───────────────┤\n",
       "│ conv1d_35 (\u001b[38;5;33mConv1D\u001b[0m)              │ (\u001b[38;5;45mNone\u001b[0m, \u001b[38;5;34m12\u001b[0m, \u001b[38;5;34m200\u001b[0m)        │       \u001b[38;5;34m230,600\u001b[0m │\n",
       "├─────────────────────────────────┼────────────────────────┼───────────────┤\n",
       "│ max_pooling1d_35 (\u001b[38;5;33mMaxPooling1D\u001b[0m) │ (\u001b[38;5;45mNone\u001b[0m, \u001b[38;5;34m6\u001b[0m, \u001b[38;5;34m200\u001b[0m)         │             \u001b[38;5;34m0\u001b[0m │\n",
       "├─────────────────────────────────┼────────────────────────┼───────────────┤\n",
       "│ lstm_16 (\u001b[38;5;33mLSTM\u001b[0m)                  │ (\u001b[38;5;45mNone\u001b[0m, \u001b[38;5;34m6\u001b[0m, \u001b[38;5;34m200\u001b[0m)         │       \u001b[38;5;34m320,800\u001b[0m │\n",
       "├─────────────────────────────────┼────────────────────────┼───────────────┤\n",
       "│ lstm_17 (\u001b[38;5;33mLSTM\u001b[0m)                  │ (\u001b[38;5;45mNone\u001b[0m, \u001b[38;5;34m200\u001b[0m)            │       \u001b[38;5;34m320,800\u001b[0m │\n",
       "├─────────────────────────────────┼────────────────────────┼───────────────┤\n",
       "│ dense_16 (\u001b[38;5;33mDense\u001b[0m)                │ (\u001b[38;5;45mNone\u001b[0m, \u001b[38;5;34m64\u001b[0m)             │        \u001b[38;5;34m12,864\u001b[0m │\n",
       "├─────────────────────────────────┼────────────────────────┼───────────────┤\n",
       "│ dropout_8 (\u001b[38;5;33mDropout\u001b[0m)             │ (\u001b[38;5;45mNone\u001b[0m, \u001b[38;5;34m64\u001b[0m)             │             \u001b[38;5;34m0\u001b[0m │\n",
       "├─────────────────────────────────┼────────────────────────┼───────────────┤\n",
       "│ dense_17 (\u001b[38;5;33mDense\u001b[0m)                │ (\u001b[38;5;45mNone\u001b[0m, \u001b[38;5;34m16\u001b[0m)             │         \u001b[38;5;34m1,040\u001b[0m │\n",
       "└─────────────────────────────────┴────────────────────────┴───────────────┘\n"
      ]
     },
     "metadata": {},
     "output_type": "display_data"
    },
    {
     "data": {
      "text/html": [
       "<pre style=\"white-space:pre;overflow-x:auto;line-height:normal;font-family:Menlo,'DejaVu Sans Mono',consolas,'Courier New',monospace\"><span style=\"font-weight: bold\"> Total params: </span><span style=\"color: #00af00; text-decoration-color: #00af00\">954,488</span> (3.64 MB)\n",
       "</pre>\n"
      ],
      "text/plain": [
       "\u001b[1m Total params: \u001b[0m\u001b[38;5;34m954,488\u001b[0m (3.64 MB)\n"
      ]
     },
     "metadata": {},
     "output_type": "display_data"
    },
    {
     "data": {
      "text/html": [
       "<pre style=\"white-space:pre;overflow-x:auto;line-height:normal;font-family:Menlo,'DejaVu Sans Mono',consolas,'Courier New',monospace\"><span style=\"font-weight: bold\"> Trainable params: </span><span style=\"color: #00af00; text-decoration-color: #00af00\">954,488</span> (3.64 MB)\n",
       "</pre>\n"
      ],
      "text/plain": [
       "\u001b[1m Trainable params: \u001b[0m\u001b[38;5;34m954,488\u001b[0m (3.64 MB)\n"
      ]
     },
     "metadata": {},
     "output_type": "display_data"
    },
    {
     "data": {
      "text/html": [
       "<pre style=\"white-space:pre;overflow-x:auto;line-height:normal;font-family:Menlo,'DejaVu Sans Mono',consolas,'Courier New',monospace\"><span style=\"font-weight: bold\"> Non-trainable params: </span><span style=\"color: #00af00; text-decoration-color: #00af00\">0</span> (0.00 B)\n",
       "</pre>\n"
      ],
      "text/plain": [
       "\u001b[1m Non-trainable params: \u001b[0m\u001b[38;5;34m0\u001b[0m (0.00 B)\n"
      ]
     },
     "metadata": {},
     "output_type": "display_data"
    }
   ],
   "source": [
    "import tensorflow as tf\n",
    "from tensorflow.keras.models import Sequential\n",
    "from tensorflow.keras.layers import (\n",
    "    Conv1D, MaxPooling1D, LSTM, Dense, Dropout\n",
    ")\n",
    "\n",
    "\n",
    "# X_train_windows.shape == (n_samples, 100, 6)\n",
    "input_shape = (X_train_windows.shape[1], X_train_windows.shape[2])  # ⇒ (100, 6)\n",
    "num_classes  = len(set(y_train_windows_encoded))                    # e.g. 13 activities\n",
    "\n",
    "model_fd_dnn = Sequential([\n",
    "    # C1: 1D‐Conv k=3, 32 filters → S1: pool 2\n",
    "    Conv1D(32, kernel_size=3, activation='relu', padding='same',\n",
    "           input_shape=input_shape),\n",
    "    MaxPooling1D(pool_size=2, strides=2),\n",
    "\n",
    "    # C2: 1D‐Conv k=5, 64 filters → S2: pool 2\n",
    "    Conv1D(64, kernel_size=5, activation='relu', padding='same'),\n",
    "    MaxPooling1D(pool_size=2, strides=2),\n",
    "\n",
    "    # C3: 1D‐Conv k=7, 128 filters → S3: pool 2\n",
    "    Conv1D(128, kernel_size=7, activation='relu', padding='same'),\n",
    "    MaxPooling1D(pool_size=2, strides=2),\n",
    "\n",
    "    # C4: 1D‐Conv k=9, 200 filters → S4: pool 2\n",
    "    Conv1D(200, kernel_size=9, activation='relu', padding='same'),\n",
    "    MaxPooling1D(pool_size=2, strides=2),\n",
    "\n",
    "    # At this point, time‐steps = 100 → 50 → 25 → 12 → 6\n",
    "    # LSTM stack: first returns full sequence, second collapses to vector\n",
    "    LSTM(200, return_sequences=True),\n",
    "    LSTM(200),\n",
    "\n",
    "    # Optional dense & dropout for extra regularization\n",
    "    Dense(64, activation='relu'),\n",
    "    Dropout(0.5),\n",
    "\n",
    "    # Final softmax over your activity classes\n",
    "    Dense(num_classes, activation='softmax')\n",
    "])\n",
    "\n",
    "model_fd_dnn.compile(\n",
    "    optimizer='adam',\n",
    "    loss='sparse_categorical_crossentropy',\n",
    "    metrics=['accuracy']\n",
    ")\n",
    "\n",
    "model_fd_dnn.summary()"
   ]
  },
  {
   "cell_type": "code",
   "execution_count": 88,
   "id": "9e6289a7",
   "metadata": {},
   "outputs": [
    {
     "name": "stdout",
     "output_type": "stream",
     "text": [
      "Epoch 1/25\n",
      "\u001b[1m1739/1739\u001b[0m \u001b[32m━━━━━━━━━━━━━━━━━━━━\u001b[0m\u001b[37m\u001b[0m \u001b[1m34s\u001b[0m 17ms/step - accuracy: 0.6807 - loss: 1.0386 - val_accuracy: 0.7611 - val_loss: 0.8244\n",
      "Epoch 2/25\n",
      "\u001b[1m1739/1739\u001b[0m \u001b[32m━━━━━━━━━━━━━━━━━━━━\u001b[0m\u001b[37m\u001b[0m \u001b[1m31s\u001b[0m 18ms/step - accuracy: 0.8710 - loss: 0.3810 - val_accuracy: 0.7995 - val_loss: 0.6082\n",
      "Epoch 3/25\n",
      "\u001b[1m1739/1739\u001b[0m \u001b[32m━━━━━━━━━━━━━━━━━━━━\u001b[0m\u001b[37m\u001b[0m \u001b[1m32s\u001b[0m 18ms/step - accuracy: 0.8957 - loss: 0.3051 - val_accuracy: 0.8484 - val_loss: 0.4320\n",
      "Epoch 4/25\n",
      "\u001b[1m1739/1739\u001b[0m \u001b[32m━━━━━━━━━━━━━━━━━━━━\u001b[0m\u001b[37m\u001b[0m \u001b[1m33s\u001b[0m 19ms/step - accuracy: 0.9083 - loss: 0.2613 - val_accuracy: 0.7651 - val_loss: 0.6468\n",
      "Epoch 5/25\n",
      "\u001b[1m1739/1739\u001b[0m \u001b[32m━━━━━━━━━━━━━━━━━━━━\u001b[0m\u001b[37m\u001b[0m \u001b[1m33s\u001b[0m 19ms/step - accuracy: 0.9161 - loss: 0.2307 - val_accuracy: 0.7974 - val_loss: 0.5574\n",
      "Epoch 6/25\n",
      "\u001b[1m1739/1739\u001b[0m \u001b[32m━━━━━━━━━━━━━━━━━━━━\u001b[0m\u001b[37m\u001b[0m \u001b[1m34s\u001b[0m 19ms/step - accuracy: 0.9271 - loss: 0.2096 - val_accuracy: 0.8505 - val_loss: 0.4517\n",
      "Epoch 7/25\n",
      "\u001b[1m1739/1739\u001b[0m \u001b[32m━━━━━━━━━━━━━━━━━━━━\u001b[0m\u001b[37m\u001b[0m \u001b[1m34s\u001b[0m 19ms/step - accuracy: 0.9319 - loss: 0.1896 - val_accuracy: 0.7796 - val_loss: 0.9782\n",
      "Epoch 8/25\n",
      "\u001b[1m1739/1739\u001b[0m \u001b[32m━━━━━━━━━━━━━━━━━━━━\u001b[0m\u001b[37m\u001b[0m \u001b[1m34s\u001b[0m 19ms/step - accuracy: 0.9357 - loss: 0.1844 - val_accuracy: 0.7730 - val_loss: 0.6865\n",
      "Epoch 9/25\n",
      "\u001b[1m1739/1739\u001b[0m \u001b[32m━━━━━━━━━━━━━━━━━━━━\u001b[0m\u001b[37m\u001b[0m \u001b[1m35s\u001b[0m 20ms/step - accuracy: 0.9408 - loss: 0.1696 - val_accuracy: 0.7956 - val_loss: 0.7265\n",
      "Epoch 10/25\n",
      "\u001b[1m1739/1739\u001b[0m \u001b[32m━━━━━━━━━━━━━━━━━━━━\u001b[0m\u001b[37m\u001b[0m \u001b[1m35s\u001b[0m 20ms/step - accuracy: 0.9461 - loss: 0.1576 - val_accuracy: 0.7992 - val_loss: 0.7701\n",
      "Epoch 11/25\n",
      "\u001b[1m1739/1739\u001b[0m \u001b[32m━━━━━━━━━━━━━━━━━━━━\u001b[0m\u001b[37m\u001b[0m \u001b[1m36s\u001b[0m 20ms/step - accuracy: 0.9475 - loss: 0.1465 - val_accuracy: 0.8323 - val_loss: 0.6446\n",
      "Epoch 12/25\n",
      "\u001b[1m1739/1739\u001b[0m \u001b[32m━━━━━━━━━━━━━━━━━━━━\u001b[0m\u001b[37m\u001b[0m \u001b[1m35s\u001b[0m 20ms/step - accuracy: 0.9487 - loss: 0.1419 - val_accuracy: 0.7951 - val_loss: 1.0319\n",
      "Epoch 13/25\n",
      "\u001b[1m1739/1739\u001b[0m \u001b[32m━━━━━━━━━━━━━━━━━━━━\u001b[0m\u001b[37m\u001b[0m \u001b[1m35s\u001b[0m 20ms/step - accuracy: 0.9512 - loss: 0.1385 - val_accuracy: 0.8226 - val_loss: 0.5832\n",
      "Epoch 14/25\n",
      "\u001b[1m1739/1739\u001b[0m \u001b[32m━━━━━━━━━━━━━━━━━━━━\u001b[0m\u001b[37m\u001b[0m \u001b[1m35s\u001b[0m 20ms/step - accuracy: 0.9537 - loss: 0.1290 - val_accuracy: 0.7762 - val_loss: 1.1285\n",
      "Epoch 15/25\n",
      "\u001b[1m1739/1739\u001b[0m \u001b[32m━━━━━━━━━━━━━━━━━━━━\u001b[0m\u001b[37m\u001b[0m \u001b[1m34s\u001b[0m 20ms/step - accuracy: 0.9555 - loss: 0.1233 - val_accuracy: 0.7988 - val_loss: 0.9760\n",
      "Epoch 16/25\n",
      "\u001b[1m1739/1739\u001b[0m \u001b[32m━━━━━━━━━━━━━━━━━━━━\u001b[0m\u001b[37m\u001b[0m \u001b[1m33s\u001b[0m 19ms/step - accuracy: 0.9555 - loss: 0.1204 - val_accuracy: 0.8076 - val_loss: 0.7822\n",
      "Epoch 17/25\n",
      "\u001b[1m1739/1739\u001b[0m \u001b[32m━━━━━━━━━━━━━━━━━━━━\u001b[0m\u001b[37m\u001b[0m \u001b[1m32s\u001b[0m 19ms/step - accuracy: 0.9566 - loss: 0.1214 - val_accuracy: 0.8025 - val_loss: 0.8767\n",
      "Epoch 18/25\n",
      "\u001b[1m1739/1739\u001b[0m \u001b[32m━━━━━━━━━━━━━━━━━━━━\u001b[0m\u001b[37m\u001b[0m \u001b[1m32s\u001b[0m 18ms/step - accuracy: 0.9568 - loss: 0.1161 - val_accuracy: 0.7967 - val_loss: 0.8949\n",
      "Epoch 19/25\n",
      "\u001b[1m1739/1739\u001b[0m \u001b[32m━━━━━━━━━━━━━━━━━━━━\u001b[0m\u001b[37m\u001b[0m \u001b[1m32s\u001b[0m 18ms/step - accuracy: 0.9564 - loss: 0.1195 - val_accuracy: 0.7899 - val_loss: 1.0408\n",
      "Epoch 20/25\n",
      "\u001b[1m1739/1739\u001b[0m \u001b[32m━━━━━━━━━━━━━━━━━━━━\u001b[0m\u001b[37m\u001b[0m \u001b[1m34s\u001b[0m 19ms/step - accuracy: 0.9583 - loss: 0.1124 - val_accuracy: 0.7896 - val_loss: 1.1052\n",
      "Epoch 21/25\n",
      "\u001b[1m1739/1739\u001b[0m \u001b[32m━━━━━━━━━━━━━━━━━━━━\u001b[0m\u001b[37m\u001b[0m \u001b[1m34s\u001b[0m 19ms/step - accuracy: 0.9583 - loss: 0.1117 - val_accuracy: 0.7805 - val_loss: 1.4436\n",
      "Epoch 22/25\n",
      "\u001b[1m1739/1739\u001b[0m \u001b[32m━━━━━━━━━━━━━━━━━━━━\u001b[0m\u001b[37m\u001b[0m \u001b[1m33s\u001b[0m 19ms/step - accuracy: 0.9594 - loss: 0.1086 - val_accuracy: 0.7811 - val_loss: 1.2081\n",
      "Epoch 23/25\n",
      "\u001b[1m1739/1739\u001b[0m \u001b[32m━━━━━━━━━━━━━━━━━━━━\u001b[0m\u001b[37m\u001b[0m \u001b[1m32s\u001b[0m 18ms/step - accuracy: 0.9610 - loss: 0.1058 - val_accuracy: 0.7757 - val_loss: 1.8315\n",
      "Epoch 24/25\n",
      "\u001b[1m1739/1739\u001b[0m \u001b[32m━━━━━━━━━━━━━━━━━━━━\u001b[0m\u001b[37m\u001b[0m \u001b[1m34s\u001b[0m 20ms/step - accuracy: 0.9610 - loss: 0.1098 - val_accuracy: 0.7807 - val_loss: 1.5582\n",
      "Epoch 25/25\n",
      "\u001b[1m1739/1739\u001b[0m \u001b[32m━━━━━━━━━━━━━━━━━━━━\u001b[0m\u001b[37m\u001b[0m \u001b[1m33s\u001b[0m 19ms/step - accuracy: 0.9589 - loss: 0.1104 - val_accuracy: 0.7842 - val_loss: 1.5471\n"
     ]
    }
   ],
   "source": [
    "history = model_fd_dnn.fit(X_train_windows, y_train_windows_encoded,\n",
    "                    validation_data=(X_val_windows, y_val_windows_encoded),\n",
    "                    epochs=25, batch_size=32)"
   ]
  },
  {
   "cell_type": "code",
   "execution_count": 89,
   "id": "51a30c92",
   "metadata": {},
   "outputs": [],
   "source": [
    "import matplotlib.pyplot as plt\n",
    "import seaborn as sns\n",
    "from sklearn.metrics import (confusion_matrix, classification_report, \n",
    "                             precision_score, recall_score, f1_score)\n",
    "\n",
    "def evaluate_model(model, X_test, y_test, label_classes=None, plot_confusion_matrix=True, plot_roc=True):\n",
    "\n",
    "    # Evaluate the model for loss and accuracy\n",
    "    loss, accuracy = model.evaluate(X_test, y_test, verbose=0)\n",
    "    print(\"Test Loss: {:.4f}\".format(loss))\n",
    "    print(\"Test Accuracy: {:.4f}\".format(accuracy))\n",
    "\n",
    "    # Generate prediction probabilities and predicted classes\n",
    "    y_pred_prob = model.predict(X_test)\n",
    "    y_pred = np.argmax(y_pred_prob, axis=1)\n",
    "\n",
    "    # Compute confusion matrix\n",
    "    cm = confusion_matrix(y_test, y_pred)\n",
    "    if plot_confusion_matrix:\n",
    "        plt.figure(figsize=(10, 8))\n",
    "        if label_classes is None:\n",
    "            label_classes = [str(i) for i in range(cm.shape[0])]\n",
    "        sns.heatmap(cm, annot=True, fmt=\"d\", cmap='Blues', \n",
    "                    xticklabels=label_classes, yticklabels=label_classes)\n",
    "        plt.xlabel(\"Predicted Label\")\n",
    "        plt.ylabel(\"True Label\")\n",
    "        plt.title(\"Confusion Matrix\")\n",
    "        plt.show()\n",
    "\n",
    "    # Compute and print classification report\n",
    "    report = classification_report(y_test, y_pred, target_names=label_classes)\n",
    "    print(\"Classification Report:\\n\", report)\n",
    "\n",
    "    # Compute weighted precision, recall, and F1 scores\n",
    "    precision = precision_score(y_test, y_pred, average='weighted')\n",
    "    recall = recall_score(y_test, y_pred, average='weighted')\n",
    "    f1 = f1_score(y_test, y_pred, average='weighted')\n",
    "    print(\"Weighted Precision: {:.4f}\".format(precision))\n",
    "    print(\"Weighted Recall: {:.4f}\".format(recall))\n",
    "    print(\"Weighted F1 Score: {:.4f}\".format(f1))\n",
    "\n",
    "    metrics = {\n",
    "        'loss': loss,\n",
    "        'accuracy': accuracy,\n",
    "        'precision': precision,\n",
    "        'recall': recall,\n",
    "        'f1_score': f1\n",
    "    }\n",
    "\n",
    "    return metrics"
   ]
  },
  {
   "cell_type": "code",
   "execution_count": null,
   "id": "d89fa750",
   "metadata": {},
   "outputs": [
    {
     "name": "stdout",
     "output_type": "stream",
     "text": [
      "Test Loss: 1.3068\n",
      "Test Accuracy: 0.8071\n",
      "\u001b[1m560/560\u001b[0m \u001b[32m━━━━━━━━━━━━━━━━━━━━\u001b[0m\u001b[37m\u001b[0m \u001b[1m4s\u001b[0m 7ms/step\n"
     ]
    },
    {
     "data": {
      "image/png": "[encoded data removed]",
      "text/plain": [
       "<Figure size 1000x800 with 2 Axes>"
      ]
     },
     "metadata": {},
     "output_type": "display_data"
    },
    {
     "name": "stdout",
     "output_type": "stream",
     "text": [
      "Classification Report:\n",
      "               precision    recall  f1-score   support\n",
      "\n",
      "         BSC       0.63      0.53      0.57       127\n",
      "         CHU       0.57      0.20      0.30        79\n",
      "         CSI       0.55      0.66      0.60       357\n",
      "         CSO       0.69      0.53      0.60       343\n",
      "         FKL       0.56      0.60      0.58        95\n",
      "         FOL       0.59      0.53      0.56        89\n",
      "         JOG       0.91      0.91      0.91      1209\n",
      "         JUM       0.95      0.88      0.91      1152\n",
      "         LYI       0.53      0.78      0.63      1017\n",
      "         SCH       0.67      0.66      0.66       180\n",
      "         SDL       0.54      0.54      0.54       108\n",
      "         SIT       0.72      0.45      0.56      1594\n",
      "         STD       0.86      0.98      0.91      4565\n",
      "         STN       0.66      0.84      0.74       685\n",
      "         STU       0.48      0.75      0.59       722\n",
      "         WAL       0.97      0.80      0.87      5595\n",
      "\n",
      "    accuracy                           0.81     17917\n",
      "   macro avg       0.68      0.66      0.66     17917\n",
      "weighted avg       0.83      0.81      0.81     17917\n",
      "\n",
      "Weighted Precision: 0.8283\n",
      "Weighted Recall: 0.8071\n",
      "Weighted F1 Score: 0.8073\n"
     ]
    }
   ],
   "source": [
    "label_classes = le.classes_.tolist()\n",
    "metrics = evaluate_model(model_fd_dnn, X_test_windows, y_test_windows_encoded, label_classes=label_classes)"
   ]
  },
  {
   "cell_type": "markdown",
   "id": "dc8eed7a",
   "metadata": {},
   "source": [
    "### 10 - Fold Cross Validation"
   ]
  },
  {
   "cell_type": "code",
   "execution_count": null,
   "id": "947ab33e",
   "metadata": {},
   "outputs": [],
   "source": [
    "from sklearn.model_selection import GroupKFold"
   ]
  },
  {
   "cell_type": "code",
   "execution_count": null,
   "id": "b6b094b3",
   "metadata": {},
   "outputs": [],
   "source": [
    "# Read datasets from the interim directory\n",
    "df_filtered = pd.read_pickle(\"../../data/interim/df_filtered.pkl\")"
   ]
  },
  {
   "cell_type": "code",
   "execution_count": null,
   "id": "88dd0b25",
   "metadata": {},
   "outputs": [],
   "source": [
    "from tensorflow.keras import Input\n",
    "\n",
    "def build_model(input_shape, num_classes):\n",
    "    model_cnn_lstm = Sequential([\n",
    "        Input(shape=input_shape),\n",
    "        Conv1D(filters=64, kernel_size=3, activation='relu', input_shape=input_shape),\n",
    "        Conv1D(filters=128, kernel_size=3, activation='relu'),\n",
    "        MaxPooling1D(pool_size=2),\n",
    "        Conv1D(filters=128, kernel_size=3, activation='relu'),\n",
    "        # The LSTM layer now interprets the feature maps temporally.\n",
    "        LSTM(64, return_sequences=False),\n",
    "        Dense(64, activation='relu'),\n",
    "        Dropout(0.5),\n",
    "        Dense(num_classes, activation='softmax')\n",
    "])\n",
    "\n",
    "    model_cnn_lstm.compile(optimizer='adam',\n",
    "                         loss='sparse_categorical_crossentropy',\n",
    "                         metrics=['accuracy'])\n",
    "    return model_cnn_lstm"
   ]
  },
  {
   "cell_type": "code",
   "execution_count": null,
   "id": "98fb14db",
   "metadata": {},
   "outputs": [],
   "source": [
    "sensor_cols = ['acc_x','acc_y','acc_z','gyro_x','gyro_y','gyro_z']\n",
    "groups     = df_filtered['subject_id'].values\n",
    "gkf        = GroupKFold(n_splits=10)\n",
    "\n",
    "val_losses     = []\n",
    "val_accuracies = []\n",
    "\n",
    "for fold, (train_idx, val_idx) in enumerate(\n",
    "        gkf.split(df_filtered, df_filtered['label'], groups=groups)):\n",
    "\n",
    "    # ----- 1) Select raw fold data -----\n",
    "    df_tr = df_filtered.iloc[train_idx]\n",
    "    df_va = df_filtered.iloc[val_idx]\n",
    "\n",
    "    X_tr_raw = df_tr[sensor_cols].values\n",
    "    y_tr_raw = df_tr['label'].values\n",
    "    X_va_raw = df_va[sensor_cols].values\n",
    "    y_va_raw = df_va['label'].values\n",
    "\n",
    "    # ----- 2) Window -----\n",
    "    X_train_windows, y_train_windows = create_windows(X_tr_raw, y_tr_raw,\n",
    "                                                      window_size=50,\n",
    "                                                      step_size=25)\n",
    "    X_val_windows,   y_val_windows   = create_windows(X_va_raw, y_va_raw,\n",
    "                                                      window_size=50,\n",
    "                                                      step_size=25)\n",
    "\n",
    "    # ----- 3) Encode labels -----\n",
    "    le = LabelEncoder()\n",
    "    y_train_encoded = le.fit_transform(y_train_windows)\n",
    "    y_val_encoded   = le.transform(y_val_windows)\n",
    "\n",
    "    # ----- 4) Build model -----\n",
    "    input_shape = (X_train_windows.shape[1], X_train_windows.shape[2])  # (50,6)\n",
    "    num_classes = len(le.classes_)\n",
    "\n",
    "    model = build_model(input_shape, num_classes)\n",
    "\n",
    "    # ----- 5) Train -----\n",
    "    history = model.fit(\n",
    "        X_train_windows, y_train_encoded,\n",
    "        validation_data=(X_val_windows, y_val_encoded),\n",
    "        epochs=25, batch_size=32, verbose=0\n",
    "    )\n",
    "\n",
    "    # ----- 6) Collect metrics -----\n",
    "    val_loss = history.history['val_loss'][-1]\n",
    "    val_acc  = history.history['val_accuracy'][-1]\n",
    "    val_losses.append(val_loss)\n",
    "    val_accuracies.append(val_acc)\n",
    "\n",
    "    print(f\"Fold {fold+1} — val_loss: {val_loss:.4f}, val_acc: {val_acc:.4%}\")\n",
    "\n",
    "# ----- 7) Aggregate across folds -----\n",
    "mean_loss = np.mean(val_losses)\n",
    "std_loss  = np.std(val_losses)\n",
    "mean_acc  = np.mean(val_accuracies)\n",
    "std_acc   = np.std(val_accuracies)\n",
    "\n",
    "print(\"\\n=== Cross‐Validation Results ===\")\n",
    "print(f\"Val Loss: {mean_loss:.4f} ± {std_loss:.4f}\")\n",
    "print(f\"Val Acc:  {mean_acc:.4%} ± {std_acc:.4%}\")\n"
   ]
  }
 ],
 "metadata": {
  "kernelspec": {
   "display_name": ".venv",
   "language": "python",
   "name": "python3"
  },
  "language_info": {
   "codemirror_mode": {
    "name": "ipython",
    "version": 3
   },
   "file_extension": ".py",
   "mimetype": "text/x-python",
   "name": "python",
   "nbconvert_exporter": "python",
   "pygments_lexer": "ipython3",
   "version": "3.11.4"
  }
 },
 "nbformat": 4,
 "nbformat_minor": 5
}
