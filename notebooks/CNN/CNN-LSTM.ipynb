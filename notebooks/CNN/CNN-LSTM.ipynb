{
 "cells": [
  {
   "cell_type": "code",
   "execution_count": 11,
   "id": "c2ea3f13",
   "metadata": {},
   "outputs": [],
   "source": [
    "import pandas as pd\n",
    "import numpy as np\n",
    "import os\n"
   ]
  },
  {
   "cell_type": "code",
   "execution_count": 12,
   "id": "b214f471",
   "metadata": {},
   "outputs": [],
   "source": [
    "pd.set_option('display.max_columns', None)\n",
    "\n",
    "# Read datasets from the interim directory\n",
    "X_train = pd.read_pickle(\"../../data/interim/X_train.pkl\")\n",
    "X_val = pd.read_pickle(\"../../data/interim/X_val.pkl\")\n",
    "X_test = pd.read_pickle(\"../../data/interim/X_test.pkl\")\n",
    "y_train = pd.read_pickle(\"../../data/interim/y_train.pkl\")\n",
    "y_val = pd.read_pickle(\"../../data/interim/y_val.pkl\")\n",
    "y_test = pd.read_pickle(\"../../data/interim/y_test.pkl\")"
   ]
  },
  {
   "cell_type": "markdown",
   "id": "9e1fef5d",
   "metadata": {},
   "source": [
    "### Segment into Windows"
   ]
  },
  {
   "cell_type": "code",
   "execution_count": 13,
   "id": "72814fe6",
   "metadata": {},
   "outputs": [],
   "source": [
    "sensor_cols = ['acc_x', 'acc_y', 'acc_z', 'gyro_x', 'gyro_y', 'gyro_z']\n",
    "\n",
    "def create_windows(X, y, window_size=100, step_size=50):\n",
    "    X_windows, y_windows = [], []\n",
    "    \n",
    "    for start in range(0, len(X) - window_size + 1, step_size):\n",
    "        end = start + window_size\n",
    "        window_data = X[start:end]\n",
    "        window_labels = y[start:end]\n",
    "\n",
    "        # Majority voting for label assignment\n",
    "        unique, counts = np.unique(window_labels, return_counts=True)\n",
    "        label = unique[np.argmax(counts)]\n",
    "\n",
    "        X_windows.append(window_data)\n",
    "        y_windows.append(label)\n",
    "\n",
    "    return np.array(X_windows), np.array(y_windows)"
   ]
  },
  {
   "cell_type": "code",
   "execution_count": 14,
   "id": "932ff65a",
   "metadata": {},
   "outputs": [],
   "source": [
    "X_train_windows, y_train_windows = create_windows(X_train, y_train)\n",
    "X_val_windows, y_val_windows = create_windows(X_val, y_val)\n",
    "X_test_windows, y_test_windows = create_windows(X_test, y_test)"
   ]
  },
  {
   "cell_type": "markdown",
   "id": "0e9ab8e1",
   "metadata": {},
   "source": [
    "### Encode Label"
   ]
  },
  {
   "cell_type": "code",
   "execution_count": 15,
   "id": "5f41c96c",
   "metadata": {},
   "outputs": [],
   "source": [
    "from sklearn.preprocessing import LabelEncoder\n",
    "\n",
    "# Initialize the LabelEncoder\n",
    "le = LabelEncoder()\n",
    "\n",
    "# Fit and transform on the windowed training labels\n",
    "y_train_windows_encoded = le.fit_transform(y_train_windows)\n",
    "\n",
    "# Transform the validation and test windowed labels based on the same encoding\n",
    "y_val_windows_encoded = le.transform(y_val_windows)\n",
    "y_test_windows_encoded = le.transform(y_test_windows)"
   ]
  },
  {
   "cell_type": "code",
   "execution_count": 16,
   "id": "c852635f",
   "metadata": {},
   "outputs": [
    {
     "name": "stderr",
     "output_type": "stream",
     "text": [
      "c:\\Users\\sovan\\Desktop\\Fall Detection\\fresh-ilab-fall-detection\\.venv\\Lib\\site-packages\\keras\\src\\layers\\convolutional\\base_conv.py:107: UserWarning: Do not pass an `input_shape`/`input_dim` argument to a layer. When using Sequential models, prefer using an `Input(shape)` object as the first layer in the model instead.\n",
      "  super().__init__(activity_regularizer=activity_regularizer, **kwargs)\n"
     ]
    },
    {
     "data": {
      "text/html": [
       "<pre style=\"white-space:pre;overflow-x:auto;line-height:normal;font-family:Menlo,'DejaVu Sans Mono',consolas,'Courier New',monospace\"><span style=\"font-weight: bold\">Model: \"sequential_1\"</span>\n",
       "</pre>\n"
      ],
      "text/plain": [
       "\u001b[1mModel: \"sequential_1\"\u001b[0m\n"
      ]
     },
     "metadata": {},
     "output_type": "display_data"
    },
    {
     "data": {
      "text/html": [
       "<pre style=\"white-space:pre;overflow-x:auto;line-height:normal;font-family:Menlo,'DejaVu Sans Mono',consolas,'Courier New',monospace\">┏━━━━━━━━━━━━━━━━━━━━━━━━━━━━━━━━━┳━━━━━━━━━━━━━━━━━━━━━━━━┳━━━━━━━━━━━━━━━┓\n",
       "┃<span style=\"font-weight: bold\"> Layer (type)                    </span>┃<span style=\"font-weight: bold\"> Output Shape           </span>┃<span style=\"font-weight: bold\">       Param # </span>┃\n",
       "┡━━━━━━━━━━━━━━━━━━━━━━━━━━━━━━━━━╇━━━━━━━━━━━━━━━━━━━━━━━━╇━━━━━━━━━━━━━━━┩\n",
       "│ conv1d_3 (<span style=\"color: #0087ff; text-decoration-color: #0087ff\">Conv1D</span>)               │ (<span style=\"color: #00d7ff; text-decoration-color: #00d7ff\">None</span>, <span style=\"color: #00af00; text-decoration-color: #00af00\">98</span>, <span style=\"color: #00af00; text-decoration-color: #00af00\">64</span>)         │         <span style=\"color: #00af00; text-decoration-color: #00af00\">1,216</span> │\n",
       "├─────────────────────────────────┼────────────────────────┼───────────────┤\n",
       "│ conv1d_4 (<span style=\"color: #0087ff; text-decoration-color: #0087ff\">Conv1D</span>)               │ (<span style=\"color: #00d7ff; text-decoration-color: #00d7ff\">None</span>, <span style=\"color: #00af00; text-decoration-color: #00af00\">96</span>, <span style=\"color: #00af00; text-decoration-color: #00af00\">128</span>)        │        <span style=\"color: #00af00; text-decoration-color: #00af00\">24,704</span> │\n",
       "├─────────────────────────────────┼────────────────────────┼───────────────┤\n",
       "│ max_pooling1d_1 (<span style=\"color: #0087ff; text-decoration-color: #0087ff\">MaxPooling1D</span>)  │ (<span style=\"color: #00d7ff; text-decoration-color: #00d7ff\">None</span>, <span style=\"color: #00af00; text-decoration-color: #00af00\">48</span>, <span style=\"color: #00af00; text-decoration-color: #00af00\">128</span>)        │             <span style=\"color: #00af00; text-decoration-color: #00af00\">0</span> │\n",
       "├─────────────────────────────────┼────────────────────────┼───────────────┤\n",
       "│ conv1d_5 (<span style=\"color: #0087ff; text-decoration-color: #0087ff\">Conv1D</span>)               │ (<span style=\"color: #00d7ff; text-decoration-color: #00d7ff\">None</span>, <span style=\"color: #00af00; text-decoration-color: #00af00\">46</span>, <span style=\"color: #00af00; text-decoration-color: #00af00\">128</span>)        │        <span style=\"color: #00af00; text-decoration-color: #00af00\">49,280</span> │\n",
       "├─────────────────────────────────┼────────────────────────┼───────────────┤\n",
       "│ lstm_1 (<span style=\"color: #0087ff; text-decoration-color: #0087ff\">LSTM</span>)                   │ (<span style=\"color: #00d7ff; text-decoration-color: #00d7ff\">None</span>, <span style=\"color: #00af00; text-decoration-color: #00af00\">64</span>)             │        <span style=\"color: #00af00; text-decoration-color: #00af00\">49,408</span> │\n",
       "├─────────────────────────────────┼────────────────────────┼───────────────┤\n",
       "│ dense_2 (<span style=\"color: #0087ff; text-decoration-color: #0087ff\">Dense</span>)                 │ (<span style=\"color: #00d7ff; text-decoration-color: #00d7ff\">None</span>, <span style=\"color: #00af00; text-decoration-color: #00af00\">64</span>)             │         <span style=\"color: #00af00; text-decoration-color: #00af00\">4,160</span> │\n",
       "├─────────────────────────────────┼────────────────────────┼───────────────┤\n",
       "│ dropout_1 (<span style=\"color: #0087ff; text-decoration-color: #0087ff\">Dropout</span>)             │ (<span style=\"color: #00d7ff; text-decoration-color: #00d7ff\">None</span>, <span style=\"color: #00af00; text-decoration-color: #00af00\">64</span>)             │             <span style=\"color: #00af00; text-decoration-color: #00af00\">0</span> │\n",
       "├─────────────────────────────────┼────────────────────────┼───────────────┤\n",
       "│ dense_3 (<span style=\"color: #0087ff; text-decoration-color: #0087ff\">Dense</span>)                 │ (<span style=\"color: #00d7ff; text-decoration-color: #00d7ff\">None</span>, <span style=\"color: #00af00; text-decoration-color: #00af00\">16</span>)             │         <span style=\"color: #00af00; text-decoration-color: #00af00\">1,040</span> │\n",
       "└─────────────────────────────────┴────────────────────────┴───────────────┘\n",
       "</pre>\n"
      ],
      "text/plain": [
       "┏━━━━━━━━━━━━━━━━━━━━━━━━━━━━━━━━━┳━━━━━━━━━━━━━━━━━━━━━━━━┳━━━━━━━━━━━━━━━┓\n",
       "┃\u001b[1m \u001b[0m\u001b[1mLayer (type)                   \u001b[0m\u001b[1m \u001b[0m┃\u001b[1m \u001b[0m\u001b[1mOutput Shape          \u001b[0m\u001b[1m \u001b[0m┃\u001b[1m \u001b[0m\u001b[1m      Param #\u001b[0m\u001b[1m \u001b[0m┃\n",
       "┡━━━━━━━━━━━━━━━━━━━━━━━━━━━━━━━━━╇━━━━━━━━━━━━━━━━━━━━━━━━╇━━━━━━━━━━━━━━━┩\n",
       "│ conv1d_3 (\u001b[38;5;33mConv1D\u001b[0m)               │ (\u001b[38;5;45mNone\u001b[0m, \u001b[38;5;34m98\u001b[0m, \u001b[38;5;34m64\u001b[0m)         │         \u001b[38;5;34m1,216\u001b[0m │\n",
       "├─────────────────────────────────┼────────────────────────┼───────────────┤\n",
       "│ conv1d_4 (\u001b[38;5;33mConv1D\u001b[0m)               │ (\u001b[38;5;45mNone\u001b[0m, \u001b[38;5;34m96\u001b[0m, \u001b[38;5;34m128\u001b[0m)        │        \u001b[38;5;34m24,704\u001b[0m │\n",
       "├─────────────────────────────────┼────────────────────────┼───────────────┤\n",
       "│ max_pooling1d_1 (\u001b[38;5;33mMaxPooling1D\u001b[0m)  │ (\u001b[38;5;45mNone\u001b[0m, \u001b[38;5;34m48\u001b[0m, \u001b[38;5;34m128\u001b[0m)        │             \u001b[38;5;34m0\u001b[0m │\n",
       "├─────────────────────────────────┼────────────────────────┼───────────────┤\n",
       "│ conv1d_5 (\u001b[38;5;33mConv1D\u001b[0m)               │ (\u001b[38;5;45mNone\u001b[0m, \u001b[38;5;34m46\u001b[0m, \u001b[38;5;34m128\u001b[0m)        │        \u001b[38;5;34m49,280\u001b[0m │\n",
       "├─────────────────────────────────┼────────────────────────┼───────────────┤\n",
       "│ lstm_1 (\u001b[38;5;33mLSTM\u001b[0m)                   │ (\u001b[38;5;45mNone\u001b[0m, \u001b[38;5;34m64\u001b[0m)             │        \u001b[38;5;34m49,408\u001b[0m │\n",
       "├─────────────────────────────────┼────────────────────────┼───────────────┤\n",
       "│ dense_2 (\u001b[38;5;33mDense\u001b[0m)                 │ (\u001b[38;5;45mNone\u001b[0m, \u001b[38;5;34m64\u001b[0m)             │         \u001b[38;5;34m4,160\u001b[0m │\n",
       "├─────────────────────────────────┼────────────────────────┼───────────────┤\n",
       "│ dropout_1 (\u001b[38;5;33mDropout\u001b[0m)             │ (\u001b[38;5;45mNone\u001b[0m, \u001b[38;5;34m64\u001b[0m)             │             \u001b[38;5;34m0\u001b[0m │\n",
       "├─────────────────────────────────┼────────────────────────┼───────────────┤\n",
       "│ dense_3 (\u001b[38;5;33mDense\u001b[0m)                 │ (\u001b[38;5;45mNone\u001b[0m, \u001b[38;5;34m16\u001b[0m)             │         \u001b[38;5;34m1,040\u001b[0m │\n",
       "└─────────────────────────────────┴────────────────────────┴───────────────┘\n"
      ]
     },
     "metadata": {},
     "output_type": "display_data"
    },
    {
     "data": {
      "text/html": [
       "<pre style=\"white-space:pre;overflow-x:auto;line-height:normal;font-family:Menlo,'DejaVu Sans Mono',consolas,'Courier New',monospace\"><span style=\"font-weight: bold\"> Total params: </span><span style=\"color: #00af00; text-decoration-color: #00af00\">129,808</span> (507.06 KB)\n",
       "</pre>\n"
      ],
      "text/plain": [
       "\u001b[1m Total params: \u001b[0m\u001b[38;5;34m129,808\u001b[0m (507.06 KB)\n"
      ]
     },
     "metadata": {},
     "output_type": "display_data"
    },
    {
     "data": {
      "text/html": [
       "<pre style=\"white-space:pre;overflow-x:auto;line-height:normal;font-family:Menlo,'DejaVu Sans Mono',consolas,'Courier New',monospace\"><span style=\"font-weight: bold\"> Trainable params: </span><span style=\"color: #00af00; text-decoration-color: #00af00\">129,808</span> (507.06 KB)\n",
       "</pre>\n"
      ],
      "text/plain": [
       "\u001b[1m Trainable params: \u001b[0m\u001b[38;5;34m129,808\u001b[0m (507.06 KB)\n"
      ]
     },
     "metadata": {},
     "output_type": "display_data"
    },
    {
     "data": {
      "text/html": [
       "<pre style=\"white-space:pre;overflow-x:auto;line-height:normal;font-family:Menlo,'DejaVu Sans Mono',consolas,'Courier New',monospace\"><span style=\"font-weight: bold\"> Non-trainable params: </span><span style=\"color: #00af00; text-decoration-color: #00af00\">0</span> (0.00 B)\n",
       "</pre>\n"
      ],
      "text/plain": [
       "\u001b[1m Non-trainable params: \u001b[0m\u001b[38;5;34m0\u001b[0m (0.00 B)\n"
      ]
     },
     "metadata": {},
     "output_type": "display_data"
    }
   ],
   "source": [
    "import tensorflow as tf\n",
    "from tensorflow.keras.models import Sequential\n",
    "from tensorflow.keras.layers import Conv1D, MaxPooling1D, LSTM, Dense, Dropout\n",
    "\n",
    "# Define your input shape: e.g., (window_length, channels)\n",
    "input_shape = (X_train_windows.shape[1], X_train_windows.shape[2])\n",
    "num_classes = len(set(y_train_windows_encoded))  # 15 or 16 classes based on your labels\n",
    "\n",
    "model_cnn_lstm = Sequential([\n",
    "    Conv1D(filters=64, kernel_size=3, activation='relu', input_shape=input_shape),\n",
    "    Conv1D(filters=128, kernel_size=3, activation='relu'),\n",
    "    MaxPooling1D(pool_size=2),\n",
    "    Conv1D(filters=128, kernel_size=3, activation='relu'),\n",
    "    # The LSTM layer now interprets the feature maps temporally.\n",
    "    LSTM(64, return_sequences=False),\n",
    "    Dense(64, activation='relu'),\n",
    "    Dropout(0.5),\n",
    "    Dense(num_classes, activation='softmax')\n",
    "])\n",
    "\n",
    "model_cnn_lstm.compile(optimizer='adam',\n",
    "                         loss='sparse_categorical_crossentropy',\n",
    "                         metrics=['accuracy'])\n",
    "\n",
    "model_cnn_lstm.summary()\n"
   ]
  },
  {
   "cell_type": "code",
   "execution_count": 17,
   "id": "9e6289a7",
   "metadata": {},
   "outputs": [
    {
     "name": "stdout",
     "output_type": "stream",
     "text": [
      "Epoch 1/25\n",
      "\u001b[1m1739/1739\u001b[0m \u001b[32m━━━━━━━━━━━━━━━━━━━━\u001b[0m\u001b[37m\u001b[0m \u001b[1m35s\u001b[0m 18ms/step - accuracy: 0.6742 - loss: 1.0834 - val_accuracy: 0.8041 - val_loss: 0.5598\n",
      "Epoch 2/25\n",
      "\u001b[1m1739/1739\u001b[0m \u001b[32m━━━━━━━━━━━━━━━━━━━━\u001b[0m\u001b[37m\u001b[0m \u001b[1m33s\u001b[0m 19ms/step - accuracy: 0.8610 - loss: 0.4314 - val_accuracy: 0.7887 - val_loss: 0.6349\n",
      "Epoch 3/25\n",
      "\u001b[1m1739/1739\u001b[0m \u001b[32m━━━━━━━━━━━━━━━━━━━━\u001b[0m\u001b[37m\u001b[0m \u001b[1m33s\u001b[0m 19ms/step - accuracy: 0.8837 - loss: 0.3546 - val_accuracy: 0.7898 - val_loss: 0.5885\n",
      "Epoch 4/25\n",
      "\u001b[1m1739/1739\u001b[0m \u001b[32m━━━━━━━━━━━━━━━━━━━━\u001b[0m\u001b[37m\u001b[0m \u001b[1m34s\u001b[0m 19ms/step - accuracy: 0.8934 - loss: 0.3079 - val_accuracy: 0.8155 - val_loss: 0.5232\n",
      "Epoch 5/25\n",
      "\u001b[1m1739/1739\u001b[0m \u001b[32m━━━━━━━━━━━━━━━━━━━━\u001b[0m\u001b[37m\u001b[0m \u001b[1m34s\u001b[0m 19ms/step - accuracy: 0.9113 - loss: 0.2615 - val_accuracy: 0.8331 - val_loss: 0.5711\n",
      "Epoch 6/25\n",
      "\u001b[1m1739/1739\u001b[0m \u001b[32m━━━━━━━━━━━━━━━━━━━━\u001b[0m\u001b[37m\u001b[0m \u001b[1m33s\u001b[0m 19ms/step - accuracy: 0.9156 - loss: 0.2424 - val_accuracy: 0.7955 - val_loss: 0.6133\n",
      "Epoch 7/25\n",
      "\u001b[1m1739/1739\u001b[0m \u001b[32m━━━━━━━━━━━━━━━━━━━━\u001b[0m\u001b[37m\u001b[0m \u001b[1m33s\u001b[0m 19ms/step - accuracy: 0.9189 - loss: 0.2340 - val_accuracy: 0.8144 - val_loss: 0.5396\n",
      "Epoch 8/25\n",
      "\u001b[1m1739/1739\u001b[0m \u001b[32m━━━━━━━━━━━━━━━━━━━━\u001b[0m\u001b[37m\u001b[0m \u001b[1m34s\u001b[0m 19ms/step - accuracy: 0.9270 - loss: 0.2145 - val_accuracy: 0.8479 - val_loss: 0.4661\n",
      "Epoch 9/25\n",
      "\u001b[1m1739/1739\u001b[0m \u001b[32m━━━━━━━━━━━━━━━━━━━━\u001b[0m\u001b[37m\u001b[0m \u001b[1m34s\u001b[0m 19ms/step - accuracy: 0.9301 - loss: 0.2002 - val_accuracy: 0.8123 - val_loss: 0.5752\n",
      "Epoch 10/25\n",
      "\u001b[1m1739/1739\u001b[0m \u001b[32m━━━━━━━━━━━━━━━━━━━━\u001b[0m\u001b[37m\u001b[0m \u001b[1m33s\u001b[0m 19ms/step - accuracy: 0.9312 - loss: 0.1915 - val_accuracy: 0.8580 - val_loss: 0.4334\n",
      "Epoch 11/25\n",
      "\u001b[1m1739/1739\u001b[0m \u001b[32m━━━━━━━━━━━━━━━━━━━━\u001b[0m\u001b[37m\u001b[0m \u001b[1m33s\u001b[0m 19ms/step - accuracy: 0.9346 - loss: 0.1875 - val_accuracy: 0.7999 - val_loss: 0.6274\n",
      "Epoch 12/25\n",
      "\u001b[1m1739/1739\u001b[0m \u001b[32m━━━━━━━━━━━━━━━━━━━━\u001b[0m\u001b[37m\u001b[0m \u001b[1m34s\u001b[0m 19ms/step - accuracy: 0.9372 - loss: 0.1773 - val_accuracy: 0.8223 - val_loss: 0.6012\n",
      "Epoch 13/25\n",
      "\u001b[1m1739/1739\u001b[0m \u001b[32m━━━━━━━━━━━━━━━━━━━━\u001b[0m\u001b[37m\u001b[0m \u001b[1m34s\u001b[0m 19ms/step - accuracy: 0.9387 - loss: 0.1747 - val_accuracy: 0.8095 - val_loss: 0.6101\n",
      "Epoch 14/25\n",
      "\u001b[1m1739/1739\u001b[0m \u001b[32m━━━━━━━━━━━━━━━━━━━━\u001b[0m\u001b[37m\u001b[0m \u001b[1m34s\u001b[0m 19ms/step - accuracy: 0.9403 - loss: 0.1681 - val_accuracy: 0.8130 - val_loss: 0.6638\n",
      "Epoch 15/25\n",
      "\u001b[1m1739/1739\u001b[0m \u001b[32m━━━━━━━━━━━━━━━━━━━━\u001b[0m\u001b[37m\u001b[0m \u001b[1m34s\u001b[0m 19ms/step - accuracy: 0.9411 - loss: 0.1650 - val_accuracy: 0.8192 - val_loss: 0.6643\n",
      "Epoch 16/25\n",
      "\u001b[1m1739/1739\u001b[0m \u001b[32m━━━━━━━━━━━━━━━━━━━━\u001b[0m\u001b[37m\u001b[0m \u001b[1m34s\u001b[0m 19ms/step - accuracy: 0.9438 - loss: 0.1540 - val_accuracy: 0.7874 - val_loss: 0.7858\n",
      "Epoch 17/25\n",
      "\u001b[1m1739/1739\u001b[0m \u001b[32m━━━━━━━━━━━━━━━━━━━━\u001b[0m\u001b[37m\u001b[0m \u001b[1m34s\u001b[0m 19ms/step - accuracy: 0.9443 - loss: 0.1523 - val_accuracy: 0.8056 - val_loss: 0.7300\n",
      "Epoch 18/25\n",
      "\u001b[1m1739/1739\u001b[0m \u001b[32m━━━━━━━━━━━━━━━━━━━━\u001b[0m\u001b[37m\u001b[0m \u001b[1m34s\u001b[0m 19ms/step - accuracy: 0.9431 - loss: 0.1553 - val_accuracy: 0.8092 - val_loss: 0.7427\n",
      "Epoch 19/25\n",
      "\u001b[1m1739/1739\u001b[0m \u001b[32m━━━━━━━━━━━━━━━━━━━━\u001b[0m\u001b[37m\u001b[0m \u001b[1m34s\u001b[0m 19ms/step - accuracy: 0.9485 - loss: 0.1434 - val_accuracy: 0.8116 - val_loss: 0.7255\n",
      "Epoch 20/25\n",
      "\u001b[1m1739/1739\u001b[0m \u001b[32m━━━━━━━━━━━━━━━━━━━━\u001b[0m\u001b[37m\u001b[0m \u001b[1m34s\u001b[0m 19ms/step - accuracy: 0.9485 - loss: 0.1416 - val_accuracy: 0.8128 - val_loss: 0.7353\n",
      "Epoch 21/25\n",
      "\u001b[1m1739/1739\u001b[0m \u001b[32m━━━━━━━━━━━━━━━━━━━━\u001b[0m\u001b[37m\u001b[0m \u001b[1m34s\u001b[0m 20ms/step - accuracy: 0.9476 - loss: 0.1435 - val_accuracy: 0.8321 - val_loss: 0.6115\n",
      "Epoch 22/25\n",
      "\u001b[1m1739/1739\u001b[0m \u001b[32m━━━━━━━━━━━━━━━━━━━━\u001b[0m\u001b[37m\u001b[0m \u001b[1m34s\u001b[0m 19ms/step - accuracy: 0.9492 - loss: 0.1360 - val_accuracy: 0.8101 - val_loss: 0.7660\n",
      "Epoch 23/25\n",
      "\u001b[1m1739/1739\u001b[0m \u001b[32m━━━━━━━━━━━━━━━━━━━━\u001b[0m\u001b[37m\u001b[0m \u001b[1m35s\u001b[0m 20ms/step - accuracy: 0.9496 - loss: 0.1369 - val_accuracy: 0.8120 - val_loss: 0.8572\n",
      "Epoch 24/25\n",
      "\u001b[1m1739/1739\u001b[0m \u001b[32m━━━━━━━━━━━━━━━━━━━━\u001b[0m\u001b[37m\u001b[0m \u001b[1m35s\u001b[0m 20ms/step - accuracy: 0.9539 - loss: 0.1265 - val_accuracy: 0.8209 - val_loss: 0.8006\n",
      "Epoch 25/25\n",
      "\u001b[1m1739/1739\u001b[0m \u001b[32m━━━━━━━━━━━━━━━━━━━━\u001b[0m\u001b[37m\u001b[0m \u001b[1m36s\u001b[0m 21ms/step - accuracy: 0.9515 - loss: 0.1350 - val_accuracy: 0.8004 - val_loss: 0.8575\n"
     ]
    }
   ],
   "source": [
    "history = model_cnn_lstm.fit(X_train_windows, y_train_windows_encoded,\n",
    "                    validation_data=(X_val_windows, y_val_windows_encoded),\n",
    "                    epochs=25, batch_size=32)"
   ]
  },
  {
   "cell_type": "code",
   "execution_count": 18,
   "id": "51a30c92",
   "metadata": {},
   "outputs": [],
   "source": [
    "import matplotlib.pyplot as plt\n",
    "import seaborn as sns\n",
    "from sklearn.metrics import (confusion_matrix, classification_report, \n",
    "                             precision_score, recall_score, f1_score)\n",
    "\n",
    "def evaluate_model(model, X_test, y_test, label_classes=None, plot_confusion_matrix=True, plot_roc=True):\n",
    "\n",
    "    # Evaluate the model for loss and accuracy\n",
    "    loss, accuracy = model.evaluate(X_test, y_test, verbose=0)\n",
    "    print(\"Test Loss: {:.4f}\".format(loss))\n",
    "    print(\"Test Accuracy: {:.4f}\".format(accuracy))\n",
    "\n",
    "    # Generate prediction probabilities and predicted classes\n",
    "    y_pred_prob = model.predict(X_test)\n",
    "    y_pred = np.argmax(y_pred_prob, axis=1)\n",
    "\n",
    "    # Compute confusion matrix\n",
    "    cm = confusion_matrix(y_test, y_pred)\n",
    "    if plot_confusion_matrix:\n",
    "        plt.figure(figsize=(10, 8))\n",
    "        if label_classes is None:\n",
    "            label_classes = [str(i) for i in range(cm.shape[0])]\n",
    "        sns.heatmap(cm, annot=True, fmt=\"d\", cmap='Blues', \n",
    "                    xticklabels=label_classes, yticklabels=label_classes)\n",
    "        plt.xlabel(\"Predicted Label\")\n",
    "        plt.ylabel(\"True Label\")\n",
    "        plt.title(\"Confusion Matrix\")\n",
    "        plt.show()\n",
    "\n",
    "    # Compute and print classification report\n",
    "    report = classification_report(y_test, y_pred, target_names=label_classes)\n",
    "    print(\"Classification Report:\\n\", report)\n",
    "\n",
    "    # Compute weighted precision, recall, and F1 scores\n",
    "    precision = precision_score(y_test, y_pred, average='weighted')\n",
    "    recall = recall_score(y_test, y_pred, average='weighted')\n",
    "    f1 = f1_score(y_test, y_pred, average='weighted')\n",
    "    print(\"Weighted Precision: {:.4f}\".format(precision))\n",
    "    print(\"Weighted Recall: {:.4f}\".format(recall))\n",
    "    print(\"Weighted F1 Score: {:.4f}\".format(f1))\n",
    "\n",
    "    metrics = {\n",
    "        'loss': loss,\n",
    "        'accuracy': accuracy,\n",
    "        'precision': precision,\n",
    "        'recall': recall,\n",
    "        'f1_score': f1\n",
    "    }\n",
    "\n",
    "    return metrics"
   ]
  },
  {
   "cell_type": "code",
   "execution_count": 19,
   "id": "d89fa750",
   "metadata": {},
   "outputs": [
    {
     "name": "stdout",
     "output_type": "stream",
     "text": [
      "Test Loss: 1.0347\n",
      "Test Accuracy: 0.8422\n",
      "\u001b[1m560/560\u001b[0m \u001b[32m━━━━━━━━━━━━━━━━━━━━\u001b[0m\u001b[37m\u001b[0m \u001b[1m5s\u001b[0m 8ms/step\n"
     ]
    },
    {
     "data": {
      "image/png": "[encoded data removed]",
      "text/plain": [
       "<Figure size 1000x800 with 2 Axes>"
      ]
     },
     "metadata": {},
     "output_type": "display_data"
    },
    {
     "name": "stdout",
     "output_type": "stream",
     "text": [
      "Classification Report:\n",
      "               precision    recall  f1-score   support\n",
      "\n",
      "         BSC       0.60      0.60      0.60       127\n",
      "         CHU       0.86      0.23      0.36        79\n",
      "         CSI       0.65      0.69      0.67       357\n",
      "         CSO       0.73      0.73      0.73       343\n",
      "         FKL       0.63      0.61      0.62        95\n",
      "         FOL       0.65      0.56      0.60        89\n",
      "         JOG       0.91      0.94      0.92      1209\n",
      "         JUM       0.81      0.98      0.89      1152\n",
      "         LYI       0.57      0.71      0.63      1017\n",
      "         SCH       0.76      0.64      0.70       180\n",
      "         SDL       0.71      0.50      0.59       108\n",
      "         SIT       0.71      0.50      0.59      1594\n",
      "         STD       0.88      0.98      0.93      4565\n",
      "         STN       0.66      0.79      0.72       685\n",
      "         STU       0.79      0.71      0.75       722\n",
      "         WAL       0.97      0.88      0.92      5595\n",
      "\n",
      "    accuracy                           0.84     17917\n",
      "   macro avg       0.74      0.69      0.70     17917\n",
      "weighted avg       0.85      0.84      0.84     17917\n",
      "\n",
      "Weighted Precision: 0.8463\n",
      "Weighted Recall: 0.8422\n",
      "Weighted F1 Score: 0.8388\n"
     ]
    }
   ],
   "source": [
    "label_classes = [\n",
    "    'BSC', 'CHU', 'CSI', 'CSO', 'FKL', 'FOL', \n",
    "    'JOG', 'JUM', 'LYI', 'SCH', 'SDL', 'SIT', \n",
    "    'STD', 'STN', 'STU', 'WAL'\n",
    "]\n",
    "\n",
    "metrics = evaluate_model(model_cnn_lstm, X_test_windows, y_test_windows_encoded, label_classes=label_classes)\n"
   ]
  },
  {
   "cell_type": "markdown",
   "id": "dc8eed7a",
   "metadata": {},
   "source": [
    "### 10 - Fold Cross Validation"
   ]
  },
  {
   "cell_type": "code",
   "execution_count": null,
   "id": "947ab33e",
   "metadata": {},
   "outputs": [],
   "source": [
    "from sklearn.model_selection import GroupKFold"
   ]
  },
  {
   "cell_type": "code",
   "execution_count": null,
   "id": "b6b094b3",
   "metadata": {},
   "outputs": [],
   "source": [
    "# Read datasets from the interim directory\n",
    "df_filtered = pd.read_pickle(\"../../data/interim/df_filtered.pkl\")"
   ]
  },
  {
   "cell_type": "code",
   "execution_count": null,
   "id": "88dd0b25",
   "metadata": {},
   "outputs": [],
   "source": [
    "from tensorflow.keras import Input\n",
    "\n",
    "def build_model(input_shape, num_classes):\n",
    "    model_cnn_lstm = Sequential([\n",
    "        Input(shape=input_shape),\n",
    "        Conv1D(filters=64, kernel_size=3, activation='relu', input_shape=input_shape),\n",
    "        Conv1D(filters=128, kernel_size=3, activation='relu'),\n",
    "        MaxPooling1D(pool_size=2),\n",
    "        Conv1D(filters=128, kernel_size=3, activation='relu'),\n",
    "        # The LSTM layer now interprets the feature maps temporally.\n",
    "        LSTM(64, return_sequences=False),\n",
    "        Dense(64, activation='relu'),\n",
    "        Dropout(0.5),\n",
    "        Dense(num_classes, activation='softmax')\n",
    "])\n",
    "\n",
    "    model_cnn_lstm.compile(optimizer='adam',\n",
    "                         loss='sparse_categorical_crossentropy',\n",
    "                         metrics=['accuracy'])\n",
    "    return model_cnn_lstm"
   ]
  },
  {
   "cell_type": "code",
   "execution_count": null,
   "id": "98fb14db",
   "metadata": {},
   "outputs": [],
   "source": [
    "sensor_cols = ['acc_x','acc_y','acc_z','gyro_x','gyro_y','gyro_z']\n",
    "groups     = df_filtered['subject_id'].values\n",
    "gkf        = GroupKFold(n_splits=10)\n",
    "\n",
    "val_losses     = []\n",
    "val_accuracies = []\n",
    "\n",
    "for fold, (train_idx, val_idx) in enumerate(\n",
    "        gkf.split(df_filtered, df_filtered['label'], groups=groups)):\n",
    "\n",
    "    # ----- 1) Select raw fold data -----\n",
    "    df_tr = df_filtered.iloc[train_idx]\n",
    "    df_va = df_filtered.iloc[val_idx]\n",
    "\n",
    "    X_tr_raw = df_tr[sensor_cols].values\n",
    "    y_tr_raw = df_tr['label'].values\n",
    "    X_va_raw = df_va[sensor_cols].values\n",
    "    y_va_raw = df_va['label'].values\n",
    "\n",
    "    # ----- 2) Window -----\n",
    "    X_train_windows, y_train_windows = create_windows(X_tr_raw, y_tr_raw,\n",
    "                                                      window_size=50,\n",
    "                                                      step_size=25)\n",
    "    X_val_windows,   y_val_windows   = create_windows(X_va_raw, y_va_raw,\n",
    "                                                      window_size=50,\n",
    "                                                      step_size=25)\n",
    "\n",
    "    # ----- 3) Encode labels -----\n",
    "    le = LabelEncoder()\n",
    "    y_train_encoded = le.fit_transform(y_train_windows)\n",
    "    y_val_encoded   = le.transform(y_val_windows)\n",
    "\n",
    "    # ----- 4) Build model -----\n",
    "    input_shape = (X_train_windows.shape[1], X_train_windows.shape[2])  # (50,6)\n",
    "    num_classes = len(le.classes_)\n",
    "\n",
    "    model = build_model(input_shape, num_classes)\n",
    "\n",
    "    # ----- 5) Train -----\n",
    "    history = model.fit(\n",
    "        X_train_windows, y_train_encoded,\n",
    "        validation_data=(X_val_windows, y_val_encoded),\n",
    "        epochs=25, batch_size=32, verbose=0\n",
    "    )\n",
    "\n",
    "    # ----- 6) Collect metrics -----\n",
    "    val_loss = history.history['val_loss'][-1]\n",
    "    val_acc  = history.history['val_accuracy'][-1]\n",
    "    val_losses.append(val_loss)\n",
    "    val_accuracies.append(val_acc)\n",
    "\n",
    "    print(f\"Fold {fold+1} — val_loss: {val_loss:.4f}, val_acc: {val_acc:.4%}\")\n",
    "\n",
    "# ----- 7) Aggregate across folds -----\n",
    "mean_loss = np.mean(val_losses)\n",
    "std_loss  = np.std(val_losses)\n",
    "mean_acc  = np.mean(val_accuracies)\n",
    "std_acc   = np.std(val_accuracies)\n",
    "\n",
    "print(\"\\n=== Cross‐Validation Results ===\")\n",
    "print(f\"Val Loss: {mean_loss:.4f} ± {std_loss:.4f}\")\n",
    "print(f\"Val Acc:  {mean_acc:.4%} ± {std_acc:.4%}\")\n"
   ]
  }
 ],
 "metadata": {
  "kernelspec": {
   "display_name": ".venv",
   "language": "python",
   "name": "python3"
  },
  "language_info": {
   "codemirror_mode": {
    "name": "ipython",
    "version": 3
   },
   "file_extension": ".py",
   "mimetype": "text/x-python",
   "name": "python",
   "nbconvert_exporter": "python",
   "pygments_lexer": "ipython3",
   "version": "3.11.4"
  }
 },
 "nbformat": 4,
 "nbformat_minor": 5
}
