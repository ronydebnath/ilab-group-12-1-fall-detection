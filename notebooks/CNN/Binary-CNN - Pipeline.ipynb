{
    "cells": [
     {
      "cell_type": "code",
      "execution_count": 1,
      "id": "c2ea3f13",
      "metadata": {},
      "outputs": [],
      "source": [
       "import pandas as pd\n",
       "import numpy as np\n",
       "import os\n"
      ]
     },
     {
      "cell_type": "code",
      "execution_count": 2,
      "id": "cb9ea3e8",
      "metadata": {},
      "outputs": [],
      "source": [
       "file_path = \"../../data/raw/MobiAct_combined.csv\""
      ]
     },
     {
      "cell_type": "code",
      "execution_count": 3,
      "id": "75e2198e",
      "metadata": {},
      "outputs": [],
      "source": [
       "dtype_map = {\n",
       "    \"subject_id\": \"int16\",\n",
       "    \"trial\": \"int16\",\n",
       "    \"acc_x\": \"float32\", \"acc_y\": \"float32\", \"acc_z\": \"float32\",\n",
       "    \"gyro_x\": \"float32\",\"gyro_y\": \"float32\",\"gyro_z\": \"float32\",\n",
       "    \"azimuth\": \"float32\",\t\"pitch\": \"float32\",\t\"roll\": \"float32\",\n",
       "    \"label\": \"category\"\n",
       "}\n",
       "\n",
       "df = pd.read_csv(\n",
       "    file_path,\n",
       "    dtype=dtype_map,        # reduces memory footprint \n",
       "    engine='c')   "
      ]
     },
     {
      "cell_type": "code",
      "execution_count": 4,
      "id": "83f459fb",
      "metadata": {},
      "outputs": [
       {
        "data": {
         "text/html": [
          "<div>\n",
          "<style scoped>\n",
          "    .dataframe tbody tr th:only-of-type {\n",
          "        vertical-align: middle;\n",
          "    }\n",
          "\n",
          "    .dataframe tbody tr th {\n",
          "        vertical-align: top;\n",
          "    }\n",
          "\n",
          "    .dataframe thead th {\n",
          "        text-align: right;\n",
          "    }\n",
          "</style>\n",
          "<table border=\"1\" class=\"dataframe\">\n",
          "  <thead>\n",
          "    <tr style=\"text-align: right;\">\n",
          "      <th></th>\n",
          "      <th>timestamp</th>\n",
          "      <th>rel_time</th>\n",
          "      <th>acc_x</th>\n",
          "      <th>acc_y</th>\n",
          "      <th>acc_z</th>\n",
          "      <th>gyro_x</th>\n",
          "      <th>gyro_y</th>\n",
          "      <th>gyro_z</th>\n",
          "      <th>azimuth</th>\n",
          "      <th>pitch</th>\n",
          "      <th>roll</th>\n",
          "      <th>label</th>\n",
          "      <th>subject_id</th>\n",
          "      <th>trial</th>\n",
          "    </tr>\n",
          "  </thead>\n",
          "  <tbody>\n",
          "    <tr>\n",
          "      <th>0</th>\n",
          "      <td>1295405261000</td>\n",
          "      <td>0.000000</td>\n",
          "      <td>-1.407311</td>\n",
          "      <td>9.614395</td>\n",
          "      <td>-2.086666</td>\n",
          "      <td>-0.844216</td>\n",
          "      <td>0.409280</td>\n",
          "      <td>0.086437</td>\n",
          "      <td>92.746895</td>\n",
          "      <td>-36.879684</td>\n",
          "      <td>-11.741077</td>\n",
          "      <td>STD</td>\n",
          "      <td>10</td>\n",
          "      <td>1</td>\n",
          "    </tr>\n",
          "    <tr>\n",
          "      <th>1</th>\n",
          "      <td>1295410262000</td>\n",
          "      <td>0.005001</td>\n",
          "      <td>-1.406354</td>\n",
          "      <td>9.612960</td>\n",
          "      <td>-2.084512</td>\n",
          "      <td>-0.711047</td>\n",
          "      <td>0.346971</td>\n",
          "      <td>0.076358</td>\n",
          "      <td>92.205360</td>\n",
          "      <td>-37.470173</td>\n",
          "      <td>-11.839779</td>\n",
          "      <td>STD</td>\n",
          "      <td>10</td>\n",
          "      <td>1</td>\n",
          "    </tr>\n",
          "    <tr>\n",
          "      <th>2</th>\n",
          "      <td>1295415352000</td>\n",
          "      <td>0.010091</td>\n",
          "      <td>-1.405380</td>\n",
          "      <td>9.611498</td>\n",
          "      <td>-2.082320</td>\n",
          "      <td>-0.598953</td>\n",
          "      <td>0.093462</td>\n",
          "      <td>0.025045</td>\n",
          "      <td>91.743050</td>\n",
          "      <td>-38.090790</td>\n",
          "      <td>-11.880902</td>\n",
          "      <td>STD</td>\n",
          "      <td>10</td>\n",
          "      <td>1</td>\n",
          "    </tr>\n",
          "    <tr>\n",
          "      <th>3</th>\n",
          "      <td>1295420307000</td>\n",
          "      <td>0.015046</td>\n",
          "      <td>-1.404432</td>\n",
          "      <td>9.610076</td>\n",
          "      <td>-2.080186</td>\n",
          "      <td>-0.128893</td>\n",
          "      <td>-0.012828</td>\n",
          "      <td>-0.002443</td>\n",
          "      <td>91.267319</td>\n",
          "      <td>-38.842915</td>\n",
          "      <td>-11.933741</td>\n",
          "      <td>STD</td>\n",
          "      <td>10</td>\n",
          "      <td>1</td>\n",
          "    </tr>\n",
          "    <tr>\n",
          "      <th>4</th>\n",
          "      <td>1295425257000</td>\n",
          "      <td>0.019996</td>\n",
          "      <td>-1.403484</td>\n",
          "      <td>9.608654</td>\n",
          "      <td>-2.078054</td>\n",
          "      <td>0.049480</td>\n",
          "      <td>0.018326</td>\n",
          "      <td>0.016493</td>\n",
          "      <td>90.819679</td>\n",
          "      <td>-39.538643</td>\n",
          "      <td>-11.957446</td>\n",
          "      <td>STD</td>\n",
          "      <td>10</td>\n",
          "      <td>1</td>\n",
          "    </tr>\n",
          "    <tr>\n",
          "      <th>...</th>\n",
          "      <td>...</td>\n",
          "      <td>...</td>\n",
          "      <td>...</td>\n",
          "      <td>...</td>\n",
          "      <td>...</td>\n",
          "      <td>...</td>\n",
          "      <td>...</td>\n",
          "      <td>...</td>\n",
          "      <td>...</td>\n",
          "      <td>...</td>\n",
          "      <td>...</td>\n",
          "      <td>...</td>\n",
          "      <td>...</td>\n",
          "      <td>...</td>\n",
          "    </tr>\n",
          "    <tr>\n",
          "      <th>16756320</th>\n",
          "      <td>10354577784000</td>\n",
          "      <td>299.969995</td>\n",
          "      <td>-0.907934</td>\n",
          "      <td>13.533889</td>\n",
          "      <td>4.335380</td>\n",
          "      <td>1.207070</td>\n",
          "      <td>-6.215859</td>\n",
          "      <td>1.962099</td>\n",
          "      <td>218.442352</td>\n",
          "      <td>-56.026966</td>\n",
          "      <td>-33.223778</td>\n",
          "      <td>WAL</td>\n",
          "      <td>9</td>\n",
          "      <td>1</td>\n",
          "    </tr>\n",
          "    <tr>\n",
          "      <th>16756321</th>\n",
          "      <td>10354582775000</td>\n",
          "      <td>299.974986</td>\n",
          "      <td>-1.867024</td>\n",
          "      <td>12.331459</td>\n",
          "      <td>2.439285</td>\n",
          "      <td>0.968221</td>\n",
          "      <td>-6.103155</td>\n",
          "      <td>1.773953</td>\n",
          "      <td>220.688690</td>\n",
          "      <td>-57.077301</td>\n",
          "      <td>-31.897688</td>\n",
          "      <td>WAL</td>\n",
          "      <td>9</td>\n",
          "      <td>1</td>\n",
          "    </tr>\n",
          "    <tr>\n",
          "      <th>16756322</th>\n",
          "      <td>10354588060000</td>\n",
          "      <td>299.980271</td>\n",
          "      <td>-2.924407</td>\n",
          "      <td>11.485553</td>\n",
          "      <td>0.782717</td>\n",
          "      <td>0.740674</td>\n",
          "      <td>-6.034738</td>\n",
          "      <td>1.459663</td>\n",
          "      <td>222.816406</td>\n",
          "      <td>-58.044624</td>\n",
          "      <td>-30.614605</td>\n",
          "      <td>WAL</td>\n",
          "      <td>9</td>\n",
          "      <td>1</td>\n",
          "    </tr>\n",
          "    <tr>\n",
          "      <th>16756323</th>\n",
          "      <td>10354592749000</td>\n",
          "      <td>299.984960</td>\n",
          "      <td>-3.726923</td>\n",
          "      <td>11.084407</td>\n",
          "      <td>-0.258194</td>\n",
          "      <td>0.536645</td>\n",
          "      <td>-5.905845</td>\n",
          "      <td>1.027781</td>\n",
          "      <td>224.671646</td>\n",
          "      <td>-58.777103</td>\n",
          "      <td>-29.624798</td>\n",
          "      <td>WAL</td>\n",
          "      <td>9</td>\n",
          "      <td>1</td>\n",
          "    </tr>\n",
          "    <tr>\n",
          "      <th>16756324</th>\n",
          "      <td>10354597768000</td>\n",
          "      <td>299.989979</td>\n",
          "      <td>-4.531702</td>\n",
          "      <td>10.794686</td>\n",
          "      <td>-1.200935</td>\n",
          "      <td>0.355524</td>\n",
          "      <td>-5.699373</td>\n",
          "      <td>0.550390</td>\n",
          "      <td>226.457153</td>\n",
          "      <td>-59.391144</td>\n",
          "      <td>-28.733915</td>\n",
          "      <td>WAL</td>\n",
          "      <td>9</td>\n",
          "      <td>1</td>\n",
          "    </tr>\n",
          "  </tbody>\n",
          "</table>\n",
          "<p>16756325 rows × 14 columns</p>\n",
          "</div>"
         ],
         "text/plain": [
          "               timestamp    rel_time     acc_x      acc_y     acc_z    gyro_x  \\\n",
          "0          1295405261000    0.000000 -1.407311   9.614395 -2.086666 -0.844216   \n",
          "1          1295410262000    0.005001 -1.406354   9.612960 -2.084512 -0.711047   \n",
          "2          1295415352000    0.010091 -1.405380   9.611498 -2.082320 -0.598953   \n",
          "3          1295420307000    0.015046 -1.404432   9.610076 -2.080186 -0.128893   \n",
          "4          1295425257000    0.019996 -1.403484   9.608654 -2.078054  0.049480   \n",
          "...                  ...         ...       ...        ...       ...       ...   \n",
          "16756320  10354577784000  299.969995 -0.907934  13.533889  4.335380  1.207070   \n",
          "16756321  10354582775000  299.974986 -1.867024  12.331459  2.439285  0.968221   \n",
          "16756322  10354588060000  299.980271 -2.924407  11.485553  0.782717  0.740674   \n",
          "16756323  10354592749000  299.984960 -3.726923  11.084407 -0.258194  0.536645   \n",
          "16756324  10354597768000  299.989979 -4.531702  10.794686 -1.200935  0.355524   \n",
          "\n",
          "            gyro_y    gyro_z     azimuth      pitch       roll label  \\\n",
          "0         0.409280  0.086437   92.746895 -36.879684 -11.741077   STD   \n",
          "1         0.346971  0.076358   92.205360 -37.470173 -11.839779   STD   \n",
          "2         0.093462  0.025045   91.743050 -38.090790 -11.880902   STD   \n",
          "3        -0.012828 -0.002443   91.267319 -38.842915 -11.933741   STD   \n",
          "4         0.018326  0.016493   90.819679 -39.538643 -11.957446   STD   \n",
          "...            ...       ...         ...        ...        ...   ...   \n",
          "16756320 -6.215859  1.962099  218.442352 -56.026966 -33.223778   WAL   \n",
          "16756321 -6.103155  1.773953  220.688690 -57.077301 -31.897688   WAL   \n",
          "16756322 -6.034738  1.459663  222.816406 -58.044624 -30.614605   WAL   \n",
          "16756323 -5.905845  1.027781  224.671646 -58.777103 -29.624798   WAL   \n",
          "16756324 -5.699373  0.550390  226.457153 -59.391144 -28.733915   WAL   \n",
          "\n",
          "          subject_id  trial  \n",
          "0                 10      1  \n",
          "1                 10      1  \n",
          "2                 10      1  \n",
          "3                 10      1  \n",
          "4                 10      1  \n",
          "...              ...    ...  \n",
          "16756320           9      1  \n",
          "16756321           9      1  \n",
          "16756322           9      1  \n",
          "16756323           9      1  \n",
          "16756324           9      1  \n",
          "\n",
          "[16756325 rows x 14 columns]"
         ]
        },
        "execution_count": 4,
        "metadata": {},
        "output_type": "execute_result"
       }
      ],
      "source": [
       "df"
      ]
     },
     {
      "cell_type": "code",
      "execution_count": 5,
      "id": "1b078cf2",
      "metadata": {},
      "outputs": [],
      "source": [
       "fall_labels = ['BSC', 'FKL', 'SDL', 'FOL']\n",
       "post_fall = ['LYI']\n",
       "\n",
       "df['fall_label'] = df['label'].apply(\n",
       "    lambda x: 'FALL' if x in fall_labels else ('POST_FALL' if x in post_fall else 'ADL')\n",
       ")\n"
      ]
     },
     {
      "cell_type": "code",
      "execution_count": 6,
      "id": "8db88954",
      "metadata": {},
      "outputs": [],
      "source": [
       "import scipy.signal as signal\n",
       "def apply_low_pass_filter(data, cutoff=3, fs=10, order=4):\n",
       "    nyquist = 0.5 * fs\n",
       "    normal_cutoff = cutoff / nyquist\n",
       "    b, a = signal.butter(order, normal_cutoff, btype='low', analog=False)\n",
       "    df_filtered = data.copy()\n",
       "    for col in ['acc_x', 'acc_y', 'acc_z', 'gyro_x', 'gyro_y', 'gyro_z']:\n",
       "        df_filtered[col] = signal.filtfilt(b, a, data[col])\n",
       "    return df_filtered\n"
      ]
     },
     {
      "cell_type": "code",
      "execution_count": 7,
      "id": "bb065bcb",
      "metadata": {},
      "outputs": [],
      "source": [
       "df = apply_low_pass_filter(df)"
      ]
     },
     {
      "cell_type": "code",
      "execution_count": 8,
      "id": "b106fd34",
      "metadata": {},
      "outputs": [],
      "source": [
       "from sklearn.preprocessing import StandardScaler\n",
       "\n",
       "scaler = StandardScaler()\n",
       "sensor_cols = ['acc_x', 'acc_y', 'acc_z', 'gyro_x', 'gyro_y', 'gyro_z', 'azimuth','pitch','roll']\n",
       "df[sensor_cols] = scaler.fit_transform(df[sensor_cols])"
      ]
     },
     {
      "cell_type": "code",
      "execution_count": 9,
      "id": "ced70b6b",
      "metadata": {},
      "outputs": [
       {
        "name": "stdout",
        "output_type": "stream",
        "text": [
         "Train subjects: {np.int16(2), np.int16(3), np.int16(4), np.int16(7), np.int16(8), np.int16(11), np.int16(12), np.int16(14), np.int16(15), np.int16(16), np.int16(18), np.int16(20), np.int16(21), np.int16(22), np.int16(23), np.int16(25), np.int16(28), np.int16(30), np.int16(31), np.int16(32), np.int16(33), np.int16(34), np.int16(35), np.int16(36), np.int16(38), np.int16(39), np.int16(40), np.int16(42), np.int16(43), np.int16(44), np.int16(45), np.int16(47), np.int16(48), np.int16(49), np.int16(50), np.int16(51), np.int16(52), np.int16(54), np.int16(56), np.int16(57), np.int16(58), np.int16(61), np.int16(63), np.int16(64), np.int16(66), np.int16(67)}\n",
         "Val subjects: {np.int16(59), np.int16(9), np.int16(19), np.int16(53), np.int16(55), np.int16(24), np.int16(27)}\n",
         "Test subjects: {np.int16(1), np.int16(65), np.int16(37), np.int16(5), np.int16(6), np.int16(41), np.int16(10), np.int16(13), np.int16(46), np.int16(17), np.int16(26), np.int16(60), np.int16(29), np.int16(62)}\n"
        ]
       }
      ],
      "source": [
       "from sklearn.model_selection import GroupShuffleSplit\n",
       "\n",
       "# Get your subject group array\n",
       "groups = df['subject_id'].values\n",
       "\n",
       "# 1. Split off test subjects\n",
       "gss1 = GroupShuffleSplit(n_splits=1, test_size=0.2, random_state=42)\n",
       "trainval_idx, test_idx = next(gss1.split(df, df['label'], groups=groups))\n",
       "\n",
       "trainval_subjects = df.iloc[trainval_idx]['subject_id'].unique()\n",
       "test_subjects = df.iloc[test_idx]['subject_id'].unique()\n",
       "\n",
       "df_trainval = df[df['subject_id'].isin(trainval_subjects)].copy()\n",
       "df_test     = df[df['subject_id'].isin(test_subjects)].copy()\n",
       "\n",
       "# 2. Split val subjects from trainval\n",
       "groups_trainval = df_trainval['subject_id'].values\n",
       "gss2 = GroupShuffleSplit(n_splits=1, test_size=0.125, random_state=42)\n",
       "train_idx, val_idx = next(gss2.split(df_trainval, df_trainval['label'], groups=groups_trainval))\n",
       "\n",
       "train_subjects = df_trainval.iloc[train_idx]['subject_id'].unique()\n",
       "val_subjects   = df_trainval.iloc[val_idx]['subject_id'].unique()\n",
       "\n",
       "df_train = df_trainval[df_trainval['subject_id'].isin(train_subjects)].copy()\n",
       "df_val   = df_trainval[df_trainval['subject_id'].isin(val_subjects)].copy()\n",
       "\n",
       "print(\"Train subjects:\", set(train_subjects))\n",
       "print(\"Val subjects:\", set(val_subjects))\n",
       "print(\"Test subjects:\", set(test_subjects))\n"
      ]
     },
     {
      "cell_type": "code",
      "execution_count": 10,
      "id": "b3cfe1a5",
      "metadata": {},
      "outputs": [],
      "source": [
       "X_train = df_train[sensor_cols]\n",
       "X_val = df_val[sensor_cols]\n",
       "X_test = df_test[sensor_cols]\n",
       "\n",
       "y_train = df_train['fall_label']\n",
       "y_val= df_val['fall_label']\n",
       "y_test = df_test['fall_label']"
      ]
     },
     {
      "cell_type": "code",
      "execution_count": null,
      "id": "57572789",
      "metadata": {},
      "outputs": [],
      "source": [
       "X_train"
      ]
     },
     {
      "cell_type": "code",
      "execution_count": 19,
      "id": "9c7aec9e",
      "metadata": {},
      "outputs": [
       {
        "data": {
         "text/plain": [
          "fall_label\n",
          "ADL          10279606\n",
          "POST_FALL      711873\n",
          "FALL           256837\n",
          "Name: count, dtype: int64"
         ]
        },
        "execution_count": 19,
        "metadata": {},
        "output_type": "execute_result"
       }
      ],
      "source": [
       "y_train.value_counts()"
      ]
     },
     {
      "cell_type": "markdown",
      "id": "9e1fef5d",
      "metadata": {},
      "source": [
       "### Segment into Windows"
      ]
     },
     {
      "cell_type": "code",
      "execution_count": 20,
      "id": "72814fe6",
      "metadata": {},
      "outputs": [],
      "source": [
       "sensor_cols = ['acc_x', 'acc_y', 'acc_z', 'gyro_x', 'gyro_y', 'gyro_z', 'azimuth', 'pitch', 'roll']\n",
       "\n",
       "def create_windows(X, y, window_size=500, step_size = 250):\n",
       "    X_windows, y_windows = [], []\n",
       "\n",
       "    for start in range(0, len(X) - window_size + 1, step_size):  # No overlap\n",
       "        end = start + window_size\n",
       "        window_data = X[start:end]\n",
       "        window_labels = y[start:end]\n",
       "        unique_labels = set(window_labels)\n",
       "\n",
       "        # Labeling logic (you can simplify this now)\n",
       "        if \"ADL\" in unique_labels and \"FALL\" in unique_labels:\n",
       "            continue\n",
       "        elif \"POST_FALL\" in unique_labels and \"ADL\" in unique_labels:\n",
       "            continue\n",
       "        elif \"FALL\" in unique_labels and \"POST_FALL\" in unique_labels:\n",
       "            label = \"FALL\"\n",
       "        elif \"FALL\" in unique_labels:\n",
       "            label = \"FALL\"\n",
       "        elif \"ADL\" in unique_labels:\n",
       "            label = \"ADL\"\n",
       "\n",
       "        X_windows.append(window_data)\n",
       "        y_windows.append(label)\n",
       "\n",
       "    return np.array(X_windows), np.array(y_windows)"
      ]
     },
     {
      "cell_type": "code",
      "execution_count": 21,
      "id": "932ff65a",
      "metadata": {},
      "outputs": [],
      "source": [
       "X_train_windows, y_train_windows = create_windows(X_train, y_train)\n",
       "X_val_windows, y_val_windows = create_windows(X_val, y_val)\n",
       "X_test_windows, y_test_windows = create_windows(X_test, y_test)"
      ]
     },
     {
      "cell_type": "code",
      "execution_count": 22,
      "id": "a7a1ac9d",
      "metadata": {},
      "outputs": [],
      "source": [
       "from sklearn.preprocessing import LabelEncoder\n",
       "le = LabelEncoder()\n",
       "y_train_encoded = le.fit_transform(y_train_windows)\n",
       "y_val_encoded = le.transform(y_val_windows)\n",
       "y_test_encoded = le.transform(y_test_windows)\n"
      ]
     },
     {
      "cell_type": "code",
      "execution_count": 23,
      "id": "e2dd7821",
      "metadata": {},
      "outputs": [],
      "source": [
       "# Ensure they are NumPy arrays\n",
       "y_train_encoded = np.array(y_train_encoded)\n",
       "y_val_encoded = np.array(y_val_encoded)\n",
       "y_test_encoded = np.array(y_test_encoded)"
      ]
     },
     {
      "cell_type": "markdown",
      "id": "0e9ab8e1",
      "metadata": {},
      "source": [
       "### Encode Label"
      ]
     },
     {
      "cell_type": "code",
      "execution_count": 24,
      "id": "1d15f952",
      "metadata": {},
      "outputs": [
       {
        "data": {
         "text/plain": [
          "500"
         ]
        },
        "execution_count": 24,
        "metadata": {},
        "output_type": "execute_result"
       }
      ],
      "source": [
       "X_train_windows.shape[1]"
      ]
     },
     {
      "cell_type": "code",
      "execution_count": 25,
      "id": "c852635f",
      "metadata": {},
      "outputs": [
       {
        "name": "stderr",
        "output_type": "stream",
        "text": [
         "c:\\Users\\sovan\\Desktop\\Fall Detection\\fresh-ilab-fall-detection\\.venv\\Lib\\site-packages\\keras\\src\\layers\\rnn\\rnn.py:200: UserWarning: Do not pass an `input_shape`/`input_dim` argument to a layer. When using Sequential models, prefer using an `Input(shape)` object as the first layer in the model instead.\n",
         "  super().__init__(**kwargs)\n"
        ]
       },
       {
        "data": {
         "text/html": [
          "<pre style=\"white-space:pre;overflow-x:auto;line-height:normal;font-family:Menlo,'DejaVu Sans Mono',consolas,'Courier New',monospace\"><span style=\"font-weight: bold\">Model: \"sequential\"</span>\n",
          "</pre>\n"
         ],
         "text/plain": [
          "\u001b[1mModel: \"sequential\"\u001b[0m\n"
         ]
        },
        "metadata": {},
        "output_type": "display_data"
       },
       {
        "data": {
         "text/html": [
          "<pre style=\"white-space:pre;overflow-x:auto;line-height:normal;font-family:Menlo,'DejaVu Sans Mono',consolas,'Courier New',monospace\">┏━━━━━━━━━━━━━━━━━━━━━━━━━━━━━━━━━┳━━━━━━━━━━━━━━━━━━━━━━━━┳━━━━━━━━━━━━━━━┓\n",
          "┃<span style=\"font-weight: bold\"> Layer (type)                    </span>┃<span style=\"font-weight: bold\"> Output Shape           </span>┃<span style=\"font-weight: bold\">       Param # </span>┃\n",
          "┡━━━━━━━━━━━━━━━━━━━━━━━━━━━━━━━━━╇━━━━━━━━━━━━━━━━━━━━━━━━╇━━━━━━━━━━━━━━━┩\n",
          "│ lstm (<span style=\"color: #0087ff; text-decoration-color: #0087ff\">LSTM</span>)                     │ (<span style=\"color: #00d7ff; text-decoration-color: #00d7ff\">None</span>, <span style=\"color: #00af00; text-decoration-color: #00af00\">500</span>, <span style=\"color: #00af00; text-decoration-color: #00af00\">32</span>)        │         <span style=\"color: #00af00; text-decoration-color: #00af00\">5,376</span> │\n",
          "├─────────────────────────────────┼────────────────────────┼───────────────┤\n",
          "│ lstm_1 (<span style=\"color: #0087ff; text-decoration-color: #0087ff\">LSTM</span>)                   │ (<span style=\"color: #00d7ff; text-decoration-color: #00d7ff\">None</span>, <span style=\"color: #00af00; text-decoration-color: #00af00\">500</span>, <span style=\"color: #00af00; text-decoration-color: #00af00\">32</span>)        │         <span style=\"color: #00af00; text-decoration-color: #00af00\">8,320</span> │\n",
          "├─────────────────────────────────┼────────────────────────┼───────────────┤\n",
          "│ conv1d (<span style=\"color: #0087ff; text-decoration-color: #0087ff\">Conv1D</span>)                 │ (<span style=\"color: #00d7ff; text-decoration-color: #00d7ff\">None</span>, <span style=\"color: #00af00; text-decoration-color: #00af00\">246</span>, <span style=\"color: #00af00; text-decoration-color: #00af00\">64</span>)        │        <span style=\"color: #00af00; text-decoration-color: #00af00\">18,496</span> │\n",
          "├─────────────────────────────────┼────────────────────────┼───────────────┤\n",
          "│ max_pooling1d (<span style=\"color: #0087ff; text-decoration-color: #0087ff\">MaxPooling1D</span>)    │ (<span style=\"color: #00d7ff; text-decoration-color: #00d7ff\">None</span>, <span style=\"color: #00af00; text-decoration-color: #00af00\">123</span>, <span style=\"color: #00af00; text-decoration-color: #00af00\">64</span>)        │             <span style=\"color: #00af00; text-decoration-color: #00af00\">0</span> │\n",
          "├─────────────────────────────────┼────────────────────────┼───────────────┤\n",
          "│ conv1d_1 (<span style=\"color: #0087ff; text-decoration-color: #0087ff\">Conv1D</span>)               │ (<span style=\"color: #00d7ff; text-decoration-color: #00d7ff\">None</span>, <span style=\"color: #00af00; text-decoration-color: #00af00\">115</span>, <span style=\"color: #00af00; text-decoration-color: #00af00\">128</span>)       │        <span style=\"color: #00af00; text-decoration-color: #00af00\">73,856</span> │\n",
          "├─────────────────────────────────┼────────────────────────┼───────────────┤\n",
          "│ batch_normalization             │ (<span style=\"color: #00d7ff; text-decoration-color: #00d7ff\">None</span>, <span style=\"color: #00af00; text-decoration-color: #00af00\">115</span>, <span style=\"color: #00af00; text-decoration-color: #00af00\">128</span>)       │           <span style=\"color: #00af00; text-decoration-color: #00af00\">512</span> │\n",
          "│ (<span style=\"color: #0087ff; text-decoration-color: #0087ff\">BatchNormalization</span>)            │                        │               │\n",
          "├─────────────────────────────────┼────────────────────────┼───────────────┤\n",
          "│ global_average_pooling1d        │ (<span style=\"color: #00d7ff; text-decoration-color: #00d7ff\">None</span>, <span style=\"color: #00af00; text-decoration-color: #00af00\">128</span>)            │             <span style=\"color: #00af00; text-decoration-color: #00af00\">0</span> │\n",
          "│ (<span style=\"color: #0087ff; text-decoration-color: #0087ff\">GlobalAveragePooling1D</span>)        │                        │               │\n",
          "├─────────────────────────────────┼────────────────────────┼───────────────┤\n",
          "│ dropout (<span style=\"color: #0087ff; text-decoration-color: #0087ff\">Dropout</span>)               │ (<span style=\"color: #00d7ff; text-decoration-color: #00d7ff\">None</span>, <span style=\"color: #00af00; text-decoration-color: #00af00\">128</span>)            │             <span style=\"color: #00af00; text-decoration-color: #00af00\">0</span> │\n",
          "├─────────────────────────────────┼────────────────────────┼───────────────┤\n",
          "│ dense (<span style=\"color: #0087ff; text-decoration-color: #0087ff\">Dense</span>)                   │ (<span style=\"color: #00d7ff; text-decoration-color: #00d7ff\">None</span>, <span style=\"color: #00af00; text-decoration-color: #00af00\">2</span>)              │           <span style=\"color: #00af00; text-decoration-color: #00af00\">258</span> │\n",
          "└─────────────────────────────────┴────────────────────────┴───────────────┘\n",
          "</pre>\n"
         ],
         "text/plain": [
          "┏━━━━━━━━━━━━━━━━━━━━━━━━━━━━━━━━━┳━━━━━━━━━━━━━━━━━━━━━━━━┳━━━━━━━━━━━━━━━┓\n",
          "┃\u001b[1m \u001b[0m\u001b[1mLayer (type)                   \u001b[0m\u001b[1m \u001b[0m┃\u001b[1m \u001b[0m\u001b[1mOutput Shape          \u001b[0m\u001b[1m \u001b[0m┃\u001b[1m \u001b[0m\u001b[1m      Param #\u001b[0m\u001b[1m \u001b[0m┃\n",
          "┡━━━━━━━━━━━━━━━━━━━━━━━━━━━━━━━━━╇━━━━━━━━━━━━━━━━━━━━━━━━╇━━━━━━━━━━━━━━━┩\n",
          "│ lstm (\u001b[38;5;33mLSTM\u001b[0m)                     │ (\u001b[38;5;45mNone\u001b[0m, \u001b[38;5;34m500\u001b[0m, \u001b[38;5;34m32\u001b[0m)        │         \u001b[38;5;34m5,376\u001b[0m │\n",
          "├─────────────────────────────────┼────────────────────────┼───────────────┤\n",
          "│ lstm_1 (\u001b[38;5;33mLSTM\u001b[0m)                   │ (\u001b[38;5;45mNone\u001b[0m, \u001b[38;5;34m500\u001b[0m, \u001b[38;5;34m32\u001b[0m)        │         \u001b[38;5;34m8,320\u001b[0m │\n",
          "├─────────────────────────────────┼────────────────────────┼───────────────┤\n",
          "│ conv1d (\u001b[38;5;33mConv1D\u001b[0m)                 │ (\u001b[38;5;45mNone\u001b[0m, \u001b[38;5;34m246\u001b[0m, \u001b[38;5;34m64\u001b[0m)        │        \u001b[38;5;34m18,496\u001b[0m │\n",
          "├─────────────────────────────────┼────────────────────────┼───────────────┤\n",
          "│ max_pooling1d (\u001b[38;5;33mMaxPooling1D\u001b[0m)    │ (\u001b[38;5;45mNone\u001b[0m, \u001b[38;5;34m123\u001b[0m, \u001b[38;5;34m64\u001b[0m)        │             \u001b[38;5;34m0\u001b[0m │\n",
          "├─────────────────────────────────┼────────────────────────┼───────────────┤\n",
          "│ conv1d_1 (\u001b[38;5;33mConv1D\u001b[0m)               │ (\u001b[38;5;45mNone\u001b[0m, \u001b[38;5;34m115\u001b[0m, \u001b[38;5;34m128\u001b[0m)       │        \u001b[38;5;34m73,856\u001b[0m │\n",
          "├─────────────────────────────────┼────────────────────────┼───────────────┤\n",
          "│ batch_normalization             │ (\u001b[38;5;45mNone\u001b[0m, \u001b[38;5;34m115\u001b[0m, \u001b[38;5;34m128\u001b[0m)       │           \u001b[38;5;34m512\u001b[0m │\n",
          "│ (\u001b[38;5;33mBatchNormalization\u001b[0m)            │                        │               │\n",
          "├─────────────────────────────────┼────────────────────────┼───────────────┤\n",
          "│ global_average_pooling1d        │ (\u001b[38;5;45mNone\u001b[0m, \u001b[38;5;34m128\u001b[0m)            │             \u001b[38;5;34m0\u001b[0m │\n",
          "│ (\u001b[38;5;33mGlobalAveragePooling1D\u001b[0m)        │                        │               │\n",
          "├─────────────────────────────────┼────────────────────────┼───────────────┤\n",
          "│ dropout (\u001b[38;5;33mDropout\u001b[0m)               │ (\u001b[38;5;45mNone\u001b[0m, \u001b[38;5;34m128\u001b[0m)            │             \u001b[38;5;34m0\u001b[0m │\n",
          "├─────────────────────────────────┼────────────────────────┼───────────────┤\n",
          "│ dense (\u001b[38;5;33mDense\u001b[0m)                   │ (\u001b[38;5;45mNone\u001b[0m, \u001b[38;5;34m2\u001b[0m)              │           \u001b[38;5;34m258\u001b[0m │\n",
          "└─────────────────────────────────┴────────────────────────┴───────────────┘\n"
         ]
        },
        "metadata": {},
        "output_type": "display_data"
       },
       {
        "data": {
         "text/html": [
          "<pre style=\"white-space:pre;overflow-x:auto;line-height:normal;font-family:Menlo,'DejaVu Sans Mono',consolas,'Courier New',monospace\"><span style=\"font-weight: bold\"> Total params: </span><span style=\"color: #00af00; text-decoration-color: #00af00\">106,818</span> (417.26 KB)\n",
          "</pre>\n"
         ],
         "text/plain": [
          "\u001b[1m Total params: \u001b[0m\u001b[38;5;34m106,818\u001b[0m (417.26 KB)\n"
         ]
        },
        "metadata": {},
        "output_type": "display_data"
       },
       {
        "data": {
         "text/html": [
          "<pre style=\"white-space:pre;overflow-x:auto;line-height:normal;font-family:Menlo,'DejaVu Sans Mono',consolas,'Courier New',monospace\"><span style=\"font-weight: bold\"> Trainable params: </span><span style=\"color: #00af00; text-decoration-color: #00af00\">106,562</span> (416.26 KB)\n",
          "</pre>\n"
         ],
         "text/plain": [
          "\u001b[1m Trainable params: \u001b[0m\u001b[38;5;34m106,562\u001b[0m (416.26 KB)\n"
         ]
        },
        "metadata": {},
        "output_type": "display_data"
       },
       {
        "data": {
         "text/html": [
          "<pre style=\"white-space:pre;overflow-x:auto;line-height:normal;font-family:Menlo,'DejaVu Sans Mono',consolas,'Courier New',monospace\"><span style=\"font-weight: bold\"> Non-trainable params: </span><span style=\"color: #00af00; text-decoration-color: #00af00\">256</span> (1.00 KB)\n",
          "</pre>\n"
         ],
         "text/plain": [
          "\u001b[1m Non-trainable params: \u001b[0m\u001b[38;5;34m256\u001b[0m (1.00 KB)\n"
         ]
        },
        "metadata": {},
        "output_type": "display_data"
       }
      ],
      "source": [
       "from tensorflow.keras.models import Sequential\n",
       "from tensorflow.keras.layers import LSTM, Conv1D, MaxPooling1D, BatchNormalization\n",
       "from tensorflow.keras.layers import GlobalAveragePooling1D, Dropout, Dense\n",
       "from tensorflow.keras.optimizers import Adam\n",
       "from tensorflow.keras.metrics import Precision, Recall, AUC\n",
       "\n",
       "\n",
       "# Implementation of \"LSTM-CNN Architecture for Human Activity Recognition\" by Kun Xia et al. (IEEE Access, 2020)\n",
       "# Adapted from https://github.com/quotation2520/CAGE4HAR/blob/main/models/LSTM_CNN.py\n",
       "\n",
       "## X_train_windows.shape == (n_samples, 100, 6)\n",
       "input_shape = (X_train_windows.shape[1], X_train_windows.shape[2]) \n",
       "num_classes = len(set(y_train_encoded))                  \n",
       "\n",
       "model_lstm_conv = Sequential([\n",
       "\n",
       "    # ——— LSTM stack ———\n",
       "    # first LSTM returns full sequence\n",
       "    LSTM(32, return_sequences=True, input_shape=input_shape),\n",
       "    # second LSTM also returns full sequence\n",
       "    LSTM(32, return_sequences=True),\n",
       "\n",
       "    # ——— 1D‐Conv + Pool ———\n",
       "    Conv1D(\n",
       "        filters=64,\n",
       "        kernel_size=9,\n",
       "        strides=2,\n",
       "        activation='relu',\n",
       "        padding='valid'   # matches PyTorch default\n",
       "    ),\n",
       "    MaxPooling1D(pool_size=2, strides=2),\n",
       "\n",
       "    # ——— second Conv block ———\n",
       "    Conv1D(\n",
       "        filters=128,\n",
       "        kernel_size=9,\n",
       "        strides=1,\n",
       "        activation='relu',\n",
       "        padding='valid'\n",
       "    ),\n",
       "\n",
       "    # ——— batch‐norm & spatial collapse ———\n",
       "    BatchNormalization(),            # normalise over feature‐axis\n",
       "    GlobalAveragePooling1D(),        # mean over time dimension\n",
       "\n",
       "    # ——— classification head ———\n",
       "    Dropout(0.5),\n",
       "    Dense(num_classes, activation='softmax')\n",
       "])\n",
       "\n",
       "model_lstm_conv.compile(\n",
       "    optimizer=Adam(learning_rate=0.001),\n",
       "    loss='sparse_categorical_crossentropy',\n",
       "    metrics=['accuracy']\n",
       ")\n",
       "\n",
       "model_lstm_conv.summary()"
      ]
     },
     {
      "cell_type": "code",
      "execution_count": 26,
      "id": "0c05daa6",
      "metadata": {},
      "outputs": [],
      "source": [
       "from sklearn.utils import class_weight"
      ]
     },
     {
      "cell_type": "code",
      "execution_count": 27,
      "id": "817510a9",
      "metadata": {},
      "outputs": [],
      "source": [
       "# Compute class weights to handle imbalance\n",
       "y_train_array = np.array(y_train_encoded)\n",
       "class_weights = class_weight.compute_class_weight(\n",
       "    class_weight='balanced',\n",
       "    classes=np.unique(y_train_array),\n",
       "    y=y_train_array\n",
       ")\n",
       "class_weights = dict(enumerate(class_weights))\n"
      ]
     },
     {
      "cell_type": "code",
      "execution_count": 28,
      "id": "cb7b333b",
      "metadata": {},
      "outputs": [
       {
        "data": {
         "text/plain": [
          "{0: np.float64(0.5344189126223116), 1: np.float64(7.76344852155326)}"
         ]
        },
        "execution_count": 28,
        "metadata": {},
        "output_type": "execute_result"
       }
      ],
      "source": [
       "class_weights"
      ]
     },
     {
      "cell_type": "code",
      "execution_count": 29,
      "id": "9e6289a7",
      "metadata": {},
      "outputs": [
       {
        "name": "stdout",
        "output_type": "stream",
        "text": [
         "Epoch 1/20\n",
         "\u001b[1m681/681\u001b[0m \u001b[32m━━━━━━━━━━━━━━━━━━━━\u001b[0m\u001b[37m\u001b[0m \u001b[1m178s\u001b[0m 254ms/step - accuracy: 0.8423 - loss: 0.3359 - val_accuracy: 0.9069 - val_loss: 0.3133\n",
         "Epoch 2/20\n",
         "\u001b[1m681/681\u001b[0m \u001b[32m━━━━━━━━━━━━━━━━━━━━\u001b[0m\u001b[37m\u001b[0m \u001b[1m171s\u001b[0m 251ms/step - accuracy: 0.9212 - loss: 0.1707 - val_accuracy: 0.8923 - val_loss: 0.3654\n",
         "Epoch 3/20\n",
         "\u001b[1m681/681\u001b[0m \u001b[32m━━━━━━━━━━━━━━━━━━━━\u001b[0m\u001b[37m\u001b[0m \u001b[1m171s\u001b[0m 251ms/step - accuracy: 0.9324 - loss: 0.1398 - val_accuracy: 0.8965 - val_loss: 0.3743\n",
         "Epoch 4/20\n",
         "\u001b[1m681/681\u001b[0m \u001b[32m━━━━━━━━━━━━━━━━━━━━\u001b[0m\u001b[37m\u001b[0m \u001b[1m169s\u001b[0m 248ms/step - accuracy: 0.9363 - loss: 0.1275 - val_accuracy: 0.9034 - val_loss: 0.3358\n",
         "Epoch 5/20\n",
         "\u001b[1m681/681\u001b[0m \u001b[32m━━━━━━━━━━━━━━━━━━━━\u001b[0m\u001b[37m\u001b[0m \u001b[1m171s\u001b[0m 251ms/step - accuracy: 0.9426 - loss: 0.1222 - val_accuracy: 0.9128 - val_loss: 0.3450\n",
         "Epoch 6/20\n",
         "\u001b[1m681/681\u001b[0m \u001b[32m━━━━━━━━━━━━━━━━━━━━\u001b[0m\u001b[37m\u001b[0m \u001b[1m168s\u001b[0m 246ms/step - accuracy: 0.9457 - loss: 0.1124 - val_accuracy: 0.9037 - val_loss: 0.3446\n",
         "Epoch 7/20\n",
         "\u001b[1m681/681\u001b[0m \u001b[32m━━━━━━━━━━━━━━━━━━━━\u001b[0m\u001b[37m\u001b[0m \u001b[1m177s\u001b[0m 260ms/step - accuracy: 0.9408 - loss: 0.1197 - val_accuracy: 0.9027 - val_loss: 0.3186\n",
         "Epoch 8/20\n",
         "\u001b[1m681/681\u001b[0m \u001b[32m━━━━━━━━━━━━━━━━━━━━\u001b[0m\u001b[37m\u001b[0m \u001b[1m166s\u001b[0m 244ms/step - accuracy: 0.9499 - loss: 0.1056 - val_accuracy: 0.9009 - val_loss: 0.4706\n",
         "Epoch 9/20\n",
         "\u001b[1m681/681\u001b[0m \u001b[32m━━━━━━━━━━━━━━━━━━━━\u001b[0m\u001b[37m\u001b[0m \u001b[1m173s\u001b[0m 254ms/step - accuracy: 0.9501 - loss: 0.1026 - val_accuracy: 0.8905 - val_loss: 0.4639\n",
         "Epoch 10/20\n",
         "\u001b[1m681/681\u001b[0m \u001b[32m━━━━━━━━━━━━━━━━━━━━\u001b[0m\u001b[37m\u001b[0m \u001b[1m166s\u001b[0m 244ms/step - accuracy: 0.9573 - loss: 0.0901 - val_accuracy: 0.9163 - val_loss: 0.3458\n",
         "Epoch 11/20\n",
         "\u001b[1m681/681\u001b[0m \u001b[32m━━━━━━━━━━━━━━━━━━━━\u001b[0m\u001b[37m\u001b[0m \u001b[1m178s\u001b[0m 261ms/step - accuracy: 0.9587 - loss: 0.0957 - val_accuracy: 0.9257 - val_loss: 0.3368\n",
         "Epoch 12/20\n",
         "\u001b[1m681/681\u001b[0m \u001b[32m━━━━━━━━━━━━━━━━━━━━\u001b[0m\u001b[37m\u001b[0m \u001b[1m209s\u001b[0m 307ms/step - accuracy: 0.9658 - loss: 0.0747 - val_accuracy: 0.9326 - val_loss: 0.2913\n",
         "Epoch 13/20\n",
         "\u001b[1m681/681\u001b[0m \u001b[32m━━━━━━━━━━━━━━━━━━━━\u001b[0m\u001b[37m\u001b[0m \u001b[1m193s\u001b[0m 283ms/step - accuracy: 0.9652 - loss: 0.0758 - val_accuracy: 0.8938 - val_loss: 0.4000\n",
         "Epoch 14/20\n",
         "\u001b[1m681/681\u001b[0m \u001b[32m━━━━━━━━━━━━━━━━━━━━\u001b[0m\u001b[37m\u001b[0m \u001b[1m205s\u001b[0m 301ms/step - accuracy: 0.9723 - loss: 0.0659 - val_accuracy: 0.9302 - val_loss: 0.2873\n",
         "Epoch 15/20\n",
         "\u001b[1m681/681\u001b[0m \u001b[32m━━━━━━━━━━━━━━━━━━━━\u001b[0m\u001b[37m\u001b[0m \u001b[1m265s\u001b[0m 306ms/step - accuracy: 0.9696 - loss: 0.0665 - val_accuracy: 0.9016 - val_loss: 0.3225\n",
         "Epoch 16/20\n",
         "\u001b[1m681/681\u001b[0m \u001b[32m━━━━━━━━━━━━━━━━━━━━\u001b[0m\u001b[37m\u001b[0m \u001b[1m210s\u001b[0m 308ms/step - accuracy: 0.9599 - loss: 0.0815 - val_accuracy: 0.9212 - val_loss: 0.3186\n",
         "Epoch 17/20\n",
         "\u001b[1m681/681\u001b[0m \u001b[32m━━━━━━━━━━━━━━━━━━━━\u001b[0m\u001b[37m\u001b[0m \u001b[1m206s\u001b[0m 302ms/step - accuracy: 0.9622 - loss: 0.0765 - val_accuracy: 0.9311 - val_loss: 0.3505\n",
         "Epoch 18/20\n",
         "\u001b[1m681/681\u001b[0m \u001b[32m━━━━━━━━━━━━━━━━━━━━\u001b[0m\u001b[37m\u001b[0m \u001b[1m208s\u001b[0m 305ms/step - accuracy: 0.9677 - loss: 0.0659 - val_accuracy: 0.9263 - val_loss: 0.3646\n",
         "Epoch 19/20\n",
         "\u001b[1m681/681\u001b[0m \u001b[32m━━━━━━━━━━━━━━━━━━━━\u001b[0m\u001b[37m\u001b[0m \u001b[1m213s\u001b[0m 313ms/step - accuracy: 0.9690 - loss: 0.0602 - val_accuracy: 0.8902 - val_loss: 0.4428\n",
         "Epoch 20/20\n",
         "\u001b[1m681/681\u001b[0m \u001b[32m━━━━━━━━━━━━━━━━━━━━\u001b[0m\u001b[37m\u001b[0m \u001b[1m209s\u001b[0m 306ms/step - accuracy: 0.9712 - loss: 0.0721 - val_accuracy: 0.9239 - val_loss: 0.3460\n"
        ]
       }
      ],
      "source": [
       "history = model_lstm_conv.fit(\n",
       "    X_train_windows, y_train_encoded,\n",
       "    validation_data=(X_val_windows, y_val_encoded),\n",
       "    epochs=20,\n",
       "    batch_size=64,\n",
       "    class_weight=class_weights\n",
       ")"
      ]
     },
     {
      "cell_type": "code",
      "execution_count": 32,
      "id": "51a30c92",
      "metadata": {},
      "outputs": [],
      "source": [
       "import matplotlib.pyplot as plt\n",
       "import seaborn as sns\n",
       "from sklearn.metrics import (confusion_matrix, classification_report, \n",
       "                             precision_score, recall_score, f1_score)\n",
       "\n",
       "\n",
       "def evaluate_model(model, X_test, y_test, label_classes=None, plot_confusion_matrix=True, plot_roc=False):\n",
       "    # Evaluate the model\n",
       "    results = model.evaluate(X_test, y_test, verbose=0)\n",
       "    metric_names = model.metrics_names\n",
       "    metrics_dict = dict(zip(metric_names, results))\n",
       "\n",
       "    print(\"Evaluation Metrics:\")\n",
       "    for name, value in metrics_dict.items():\n",
       "        print(f\"{name.capitalize()}: {value:.4f}\")\n",
       "\n",
       "    # Predict class probabilities and take argmax for predicted class\n",
       "    y_pred_prob = model.predict(X_test)\n",
       "    y_pred = np.argmax(y_pred_prob, axis=1)\n",
       "\n",
       "    # Confusion matrix\n",
       "    cm = confusion_matrix(y_test, y_pred)\n",
       "    if plot_confusion_matrix:\n",
       "        plt.figure(figsize=(10, 8))\n",
       "        sns.heatmap(cm, annot=True, fmt=\"d\", cmap='Blues',\n",
       "                    xticklabels=label_classes if label_classes else np.unique(y_test),\n",
       "                    yticklabels=label_classes if label_classes else np.unique(y_test))\n",
       "        plt.xlabel(\"Predicted Label\")\n",
       "        plt.ylabel(\"True Label\")\n",
       "        plt.title(\"Confusion Matrix\")\n",
       "        plt.show()\n",
       "\n",
       "    # Classification report\n",
       "    report = classification_report(y_test, y_pred, target_names=label_classes if label_classes else None)\n",
       "    print(\"Classification Report:\\n\", report)\n",
       "\n",
       "    # Macro-averaged metrics across all classes\n",
       "    precision = precision_score(y_test, y_pred, average='macro')\n",
       "    recall = recall_score(y_test, y_pred, average='macro')\n",
       "    f1 = f1_score(y_test, y_pred, average='macro')\n",
       "    print(\"Macro Precision (sklearn): {:.4f}\".format(precision))\n",
       "    print(\"Macro Recall (sklearn): {:.4f}\".format(recall))\n",
       "    print(\"Macro F1 Score: {:.4f}\".format(f1))\n",
       "\n",
       "    # Update metrics dictionary to include sklearn metrics\n",
       "    metrics_dict.update({\n",
       "        'macro_precision': precision,\n",
       "        'macro_recall': recall,\n",
       "        'macro_f1_score': f1\n",
       "    })\n",
       "\n",
       "    return metrics_dict"
      ]
     },
     {
      "cell_type": "code",
      "execution_count": 33,
      "id": "d89fa750",
      "metadata": {},
      "outputs": [
       {
        "name": "stdout",
        "output_type": "stream",
        "text": [
         "Evaluation Metrics:\n",
         "Loss: 0.1400\n",
         "Compile_metrics: 0.9586\n",
         "\u001b[1m442/442\u001b[0m \u001b[32m━━━━━━━━━━━━━━━━━━━━\u001b[0m\u001b[37m\u001b[0m \u001b[1m38s\u001b[0m 86ms/step\n"
        ]
       },
       {
        "data": {
         "image/png": "[encoded data removed]",
         "text/plain": [
          "<Figure size 1000x800 with 2 Axes>"
         ]
        },
        "metadata": {},
        "output_type": "display_data"
       },
       {
        "name": "stdout",
        "output_type": "stream",
        "text": [
         "Classification Report:\n",
         "               precision    recall  f1-score   support\n",
         "\n",
         "         ADL       1.00      0.96      0.98     13341\n",
         "        FALL       0.58      0.95      0.72       797\n",
         "\n",
         "    accuracy                           0.96     14138\n",
         "   macro avg       0.79      0.95      0.85     14138\n",
         "weighted avg       0.97      0.96      0.96     14138\n",
         "\n",
         "Macro Precision (sklearn): 0.7892\n",
         "Macro Recall (sklearn): 0.9539\n",
         "Macro F1 Score: 0.8493\n"
        ]
       }
      ],
      "source": [
       "label_classes = le.classes_.tolist()\n",
       "metrics = evaluate_model(model_lstm_conv, X_test_windows, y_test_encoded, label_classes=label_classes)\n"
      ]
     }
    ],
    "metadata": {
     "kernelspec": {
      "display_name": ".venv",
      "language": "python",
      "name": "python3"
     },
     "language_info": {
      "codemirror_mode": {
       "name": "ipython",
       "version": 3
      },
      "file_extension": ".py",
      "mimetype": "text/x-python",
      "name": "python",
      "nbconvert_exporter": "python",
      "pygments_lexer": "ipython3",
      "version": "3.11.4"
     }
    },
    "nbformat": 4,
    "nbformat_minor": 5
   }
   