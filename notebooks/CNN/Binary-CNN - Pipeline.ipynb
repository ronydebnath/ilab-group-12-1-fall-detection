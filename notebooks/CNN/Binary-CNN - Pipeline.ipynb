{
    "cells": [
     {
      "cell_type": "code",
      "execution_count": 1,
      "id": "c2ea3f13",
      "metadata": {},
      "outputs": [],
      "source": [
       "import pandas as pd\n",
       "import numpy as np\n",
       "import os\n"
      ]
     },
     {
      "cell_type": "code",
      "execution_count": 2,
      "id": "75e2198e",
      "metadata": {},
      "outputs": [],
      "source": [
       "df = pd.read_pickle('../../data/interim/df_filtered_binary.pkl')"
      ]
     },
     {
      "cell_type": "code",
      "execution_count": 3,
      "id": "83f459fb",
      "metadata": {},
      "outputs": [
       {
        "data": {
         "text/html": [
          "<div>\n",
          "<style scoped>\n",
          "    .dataframe tbody tr th:only-of-type {\n",
          "        vertical-align: middle;\n",
          "    }\n",
          "\n",
          "    .dataframe tbody tr th {\n",
          "        vertical-align: top;\n",
          "    }\n",
          "\n",
          "    .dataframe thead th {\n",
          "        text-align: right;\n",
          "    }\n",
          "</style>\n",
          "<table border=\"1\" class=\"dataframe\">\n",
          "  <thead>\n",
          "    <tr style=\"text-align: right;\">\n",
          "      <th></th>\n",
          "      <th>acc_x</th>\n",
          "      <th>acc_y</th>\n",
          "      <th>acc_z</th>\n",
          "      <th>gyro_x</th>\n",
          "      <th>gyro_y</th>\n",
          "      <th>gyro_z</th>\n",
          "      <th>azimuth</th>\n",
          "      <th>pitch</th>\n",
          "      <th>roll</th>\n",
          "      <th>label</th>\n",
          "      <th>subject_id</th>\n",
          "      <th>fall_label</th>\n",
          "    </tr>\n",
          "  </thead>\n",
          "  <tbody>\n",
          "    <tr>\n",
          "      <th>0</th>\n",
          "      <td>0.120127</td>\n",
          "      <td>-2.217653</td>\n",
          "      <td>-0.298938</td>\n",
          "      <td>-0.006791</td>\n",
          "      <td>0.033568</td>\n",
          "      <td>-0.003344</td>\n",
          "      <td>-0.982106</td>\n",
          "      <td>1.466176</td>\n",
          "      <td>1.076405</td>\n",
          "      <td>STD</td>\n",
          "      <td>1</td>\n",
          "      <td>ADL</td>\n",
          "    </tr>\n",
          "    <tr>\n",
          "      <th>1</th>\n",
          "      <td>0.128787</td>\n",
          "      <td>-2.215478</td>\n",
          "      <td>-0.330573</td>\n",
          "      <td>-0.012438</td>\n",
          "      <td>0.028701</td>\n",
          "      <td>0.005826</td>\n",
          "      <td>-1.011898</td>\n",
          "      <td>1.529641</td>\n",
          "      <td>0.967330</td>\n",
          "      <td>STD</td>\n",
          "      <td>1</td>\n",
          "      <td>ADL</td>\n",
          "    </tr>\n",
          "    <tr>\n",
          "      <th>2</th>\n",
          "      <td>0.125399</td>\n",
          "      <td>-2.210226</td>\n",
          "      <td>-0.371455</td>\n",
          "      <td>-0.010902</td>\n",
          "      <td>0.023067</td>\n",
          "      <td>0.004100</td>\n",
          "      <td>-1.034774</td>\n",
          "      <td>1.586706</td>\n",
          "      <td>0.860239</td>\n",
          "      <td>STD</td>\n",
          "      <td>1</td>\n",
          "      <td>ADL</td>\n",
          "    </tr>\n",
          "    <tr>\n",
          "      <th>3</th>\n",
          "      <td>0.117923</td>\n",
          "      <td>-2.207260</td>\n",
          "      <td>-0.396612</td>\n",
          "      <td>-0.009458</td>\n",
          "      <td>0.018697</td>\n",
          "      <td>0.000048</td>\n",
          "      <td>-1.052174</td>\n",
          "      <td>1.638619</td>\n",
          "      <td>0.758519</td>\n",
          "      <td>STD</td>\n",
          "      <td>1</td>\n",
          "      <td>ADL</td>\n",
          "    </tr>\n",
          "    <tr>\n",
          "      <th>4</th>\n",
          "      <td>0.118343</td>\n",
          "      <td>-2.208842</td>\n",
          "      <td>-0.387711</td>\n",
          "      <td>-0.012425</td>\n",
          "      <td>0.017044</td>\n",
          "      <td>0.003507</td>\n",
          "      <td>-1.064748</td>\n",
          "      <td>1.686520</td>\n",
          "      <td>0.659668</td>\n",
          "      <td>STD</td>\n",
          "      <td>1</td>\n",
          "      <td>ADL</td>\n",
          "    </tr>\n",
          "    <tr>\n",
          "      <th>...</th>\n",
          "      <td>...</td>\n",
          "      <td>...</td>\n",
          "      <td>...</td>\n",
          "      <td>...</td>\n",
          "      <td>...</td>\n",
          "      <td>...</td>\n",
          "      <td>...</td>\n",
          "      <td>...</td>\n",
          "      <td>...</td>\n",
          "      <td>...</td>\n",
          "      <td>...</td>\n",
          "      <td>...</td>\n",
          "    </tr>\n",
          "    <tr>\n",
          "      <th>109057760</th>\n",
          "      <td>0.450731</td>\n",
          "      <td>0.535045</td>\n",
          "      <td>-0.324386</td>\n",
          "      <td>-0.031796</td>\n",
          "      <td>-0.059572</td>\n",
          "      <td>-0.027028</td>\n",
          "      <td>-0.127635</td>\n",
          "      <td>-0.706084</td>\n",
          "      <td>0.517298</td>\n",
          "      <td>STD</td>\n",
          "      <td>67</td>\n",
          "      <td>ADL</td>\n",
          "    </tr>\n",
          "    <tr>\n",
          "      <th>109057761</th>\n",
          "      <td>0.481948</td>\n",
          "      <td>0.536976</td>\n",
          "      <td>-0.334319</td>\n",
          "      <td>-0.016996</td>\n",
          "      <td>-0.046264</td>\n",
          "      <td>-0.028323</td>\n",
          "      <td>-0.126733</td>\n",
          "      <td>-0.705844</td>\n",
          "      <td>0.516299</td>\n",
          "      <td>STD</td>\n",
          "      <td>67</td>\n",
          "      <td>ADL</td>\n",
          "    </tr>\n",
          "    <tr>\n",
          "      <th>109057762</th>\n",
          "      <td>0.502064</td>\n",
          "      <td>0.539007</td>\n",
          "      <td>-0.333029</td>\n",
          "      <td>0.000452</td>\n",
          "      <td>-0.029247</td>\n",
          "      <td>-0.023712</td>\n",
          "      <td>-0.126094</td>\n",
          "      <td>-0.706144</td>\n",
          "      <td>0.516886</td>\n",
          "      <td>STD</td>\n",
          "      <td>67</td>\n",
          "      <td>ADL</td>\n",
          "    </tr>\n",
          "    <tr>\n",
          "      <th>109057763</th>\n",
          "      <td>0.498980</td>\n",
          "      <td>0.536931</td>\n",
          "      <td>-0.329682</td>\n",
          "      <td>0.008017</td>\n",
          "      <td>-0.019459</td>\n",
          "      <td>-0.027067</td>\n",
          "      <td>-0.125563</td>\n",
          "      <td>-0.706848</td>\n",
          "      <td>0.518772</td>\n",
          "      <td>STD</td>\n",
          "      <td>67</td>\n",
          "      <td>ADL</td>\n",
          "    </tr>\n",
          "    <tr>\n",
          "      <th>109057764</th>\n",
          "      <td>0.482349</td>\n",
          "      <td>0.530969</td>\n",
          "      <td>-0.329319</td>\n",
          "      <td>0.004509</td>\n",
          "      <td>-0.019331</td>\n",
          "      <td>-0.043241</td>\n",
          "      <td>-0.125423</td>\n",
          "      <td>-0.707065</td>\n",
          "      <td>0.519359</td>\n",
          "      <td>STD</td>\n",
          "      <td>67</td>\n",
          "      <td>ADL</td>\n",
          "    </tr>\n",
          "  </tbody>\n",
          "</table>\n",
          "<p>4138427 rows × 12 columns</p>\n",
          "</div>"
         ],
         "text/plain": [
          "              acc_x     acc_y     acc_z    gyro_x    gyro_y    gyro_z  \\\n",
          "0          0.120127 -2.217653 -0.298938 -0.006791  0.033568 -0.003344   \n",
          "1          0.128787 -2.215478 -0.330573 -0.012438  0.028701  0.005826   \n",
          "2          0.125399 -2.210226 -0.371455 -0.010902  0.023067  0.004100   \n",
          "3          0.117923 -2.207260 -0.396612 -0.009458  0.018697  0.000048   \n",
          "4          0.118343 -2.208842 -0.387711 -0.012425  0.017044  0.003507   \n",
          "...             ...       ...       ...       ...       ...       ...   \n",
          "109057760  0.450731  0.535045 -0.324386 -0.031796 -0.059572 -0.027028   \n",
          "109057761  0.481948  0.536976 -0.334319 -0.016996 -0.046264 -0.028323   \n",
          "109057762  0.502064  0.539007 -0.333029  0.000452 -0.029247 -0.023712   \n",
          "109057763  0.498980  0.536931 -0.329682  0.008017 -0.019459 -0.027067   \n",
          "109057764  0.482349  0.530969 -0.329319  0.004509 -0.019331 -0.043241   \n",
          "\n",
          "            azimuth     pitch      roll label  subject_id fall_label  \n",
          "0         -0.982106  1.466176  1.076405   STD           1        ADL  \n",
          "1         -1.011898  1.529641  0.967330   STD           1        ADL  \n",
          "2         -1.034774  1.586706  0.860239   STD           1        ADL  \n",
          "3         -1.052174  1.638619  0.758519   STD           1        ADL  \n",
          "4         -1.064748  1.686520  0.659668   STD           1        ADL  \n",
          "...             ...       ...       ...   ...         ...        ...  \n",
          "109057760 -0.127635 -0.706084  0.517298   STD          67        ADL  \n",
          "109057761 -0.126733 -0.705844  0.516299   STD          67        ADL  \n",
          "109057762 -0.126094 -0.706144  0.516886   STD          67        ADL  \n",
          "109057763 -0.125563 -0.706848  0.518772   STD          67        ADL  \n",
          "109057764 -0.125423 -0.707065  0.519359   STD          67        ADL  \n",
          "\n",
          "[4138427 rows x 12 columns]"
         ]
        },
        "execution_count": 3,
        "metadata": {},
        "output_type": "execute_result"
       }
      ],
      "source": [
       "df"
      ]
     },
     {
      "cell_type": "code",
      "execution_count": 4,
      "id": "8f51b0e4",
      "metadata": {},
      "outputs": [
       {
        "data": {
         "text/plain": [
          "fall_label\n",
          "ADL     4046413\n",
          "FALL      92014\n",
          "Name: count, dtype: int64"
         ]
        },
        "execution_count": 4,
        "metadata": {},
        "output_type": "execute_result"
       }
      ],
      "source": [
       "df['fall_label'].value_counts()"
      ]
     },
     {
      "cell_type": "code",
      "execution_count": 5,
      "id": "ced70b6b",
      "metadata": {},
      "outputs": [
       {
        "name": "stdout",
        "output_type": "stream",
        "text": [
         "Train subjects: {np.int16(2), np.int16(3), np.int16(4), np.int16(7), np.int16(8), np.int16(11), np.int16(12), np.int16(14), np.int16(15), np.int16(16), np.int16(18), np.int16(20), np.int16(21), np.int16(22), np.int16(23), np.int16(25), np.int16(28), np.int16(30), np.int16(31), np.int16(32), np.int16(33), np.int16(34), np.int16(35), np.int16(36), np.int16(38), np.int16(39), np.int16(40), np.int16(42), np.int16(43), np.int16(44), np.int16(45), np.int16(47), np.int16(48), np.int16(49), np.int16(50), np.int16(51), np.int16(52), np.int16(54), np.int16(56), np.int16(57), np.int16(58), np.int16(61), np.int16(63), np.int16(64), np.int16(66), np.int16(67)}\n",
         "Val subjects: {np.int16(9), np.int16(59), np.int16(19), np.int16(53), np.int16(55), np.int16(24), np.int16(27)}\n",
         "Test subjects: {np.int16(1), np.int16(65), np.int16(5), np.int16(6), np.int16(37), np.int16(41), np.int16(10), np.int16(13), np.int16(46), np.int16(17), np.int16(26), np.int16(60), np.int16(29), np.int16(62)}\n"
        ]
       }
      ],
      "source": [
       "from sklearn.model_selection import GroupShuffleSplit\n",
       "\n",
       "# Get your subject group array\n",
       "groups = df['subject_id'].values\n",
       "\n",
       "# 1. Split off test subjects\n",
       "gss1 = GroupShuffleSplit(n_splits=1, test_size=0.2, random_state=42)\n",
       "trainval_idx, test_idx = next(gss1.split(df, df['label'], groups=groups))\n",
       "\n",
       "trainval_subjects = df.iloc[trainval_idx]['subject_id'].unique()\n",
       "test_subjects = df.iloc[test_idx]['subject_id'].unique()\n",
       "\n",
       "df_trainval = df[df['subject_id'].isin(trainval_subjects)].copy()\n",
       "df_test     = df[df['subject_id'].isin(test_subjects)].copy()\n",
       "\n",
       "# 2. Split val subjects from trainval\n",
       "groups_trainval = df_trainval['subject_id'].values\n",
       "gss2 = GroupShuffleSplit(n_splits=1, test_size=0.125, random_state=42)\n",
       "train_idx, val_idx = next(gss2.split(df_trainval, df_trainval['label'], groups=groups_trainval))\n",
       "\n",
       "train_subjects = df_trainval.iloc[train_idx]['subject_id'].unique()\n",
       "val_subjects   = df_trainval.iloc[val_idx]['subject_id'].unique()\n",
       "\n",
       "df_train = df_trainval[df_trainval['subject_id'].isin(train_subjects)].copy()\n",
       "df_val   = df_trainval[df_trainval['subject_id'].isin(val_subjects)].copy()\n",
       "\n",
       "print(\"Train subjects:\", set(train_subjects))\n",
       "print(\"Val subjects:\", set(val_subjects))\n",
       "print(\"Test subjects:\", set(test_subjects))\n"
      ]
     },
     {
      "cell_type": "code",
      "execution_count": 6,
      "id": "b214f471",
      "metadata": {},
      "outputs": [],
      "source": [
       "sensor_cols = ['acc_x', 'acc_y', 'acc_z', 'gyro_x', 'gyro_y', 'gyro_z', 'azimuth','pitch','roll']"
      ]
     },
     {
      "cell_type": "code",
      "execution_count": 7,
      "id": "b3cfe1a5",
      "metadata": {},
      "outputs": [],
      "source": [
       "X_train_binary = df_train[sensor_cols]\n",
       "X_val_binary = df_val[sensor_cols]\n",
       "X_test_binary = df_test[sensor_cols]\n",
       "\n",
       "y_train_binary = df_train['fall_label']\n",
       "y_val_binary = df_val['fall_label']\n",
       "y_test_binary = df_test['fall_label']"
      ]
     },
     {
      "cell_type": "code",
      "execution_count": 8,
      "id": "57572789",
      "metadata": {},
      "outputs": [
       {
        "data": {
         "text/html": [
          "<div>\n",
          "<style scoped>\n",
          "    .dataframe tbody tr th:only-of-type {\n",
          "        vertical-align: middle;\n",
          "    }\n",
          "\n",
          "    .dataframe tbody tr th {\n",
          "        vertical-align: top;\n",
          "    }\n",
          "\n",
          "    .dataframe thead th {\n",
          "        text-align: right;\n",
          "    }\n",
          "</style>\n",
          "<table border=\"1\" class=\"dataframe\">\n",
          "  <thead>\n",
          "    <tr style=\"text-align: right;\">\n",
          "      <th></th>\n",
          "      <th>acc_x</th>\n",
          "      <th>acc_y</th>\n",
          "      <th>acc_z</th>\n",
          "      <th>gyro_x</th>\n",
          "      <th>gyro_y</th>\n",
          "      <th>gyro_z</th>\n",
          "      <th>azimuth</th>\n",
          "      <th>pitch</th>\n",
          "      <th>roll</th>\n",
          "    </tr>\n",
          "  </thead>\n",
          "  <tbody>\n",
          "    <tr>\n",
          "      <th>634004</th>\n",
          "      <td>-0.458843</td>\n",
          "      <td>-0.004343</td>\n",
          "      <td>-0.272226</td>\n",
          "      <td>0.032586</td>\n",
          "      <td>-0.057479</td>\n",
          "      <td>0.017799</td>\n",
          "      <td>0.151812</td>\n",
          "      <td>-0.795093</td>\n",
          "      <td>-1.048645</td>\n",
          "    </tr>\n",
          "    <tr>\n",
          "      <th>634005</th>\n",
          "      <td>-0.881271</td>\n",
          "      <td>0.789259</td>\n",
          "      <td>-0.322166</td>\n",
          "      <td>0.031217</td>\n",
          "      <td>-0.012802</td>\n",
          "      <td>-0.002940</td>\n",
          "      <td>0.136114</td>\n",
          "      <td>-0.778771</td>\n",
          "      <td>-0.997640</td>\n",
          "    </tr>\n",
          "    <tr>\n",
          "      <th>634006</th>\n",
          "      <td>-0.750800</td>\n",
          "      <td>0.547177</td>\n",
          "      <td>-0.330515</td>\n",
          "      <td>0.042022</td>\n",
          "      <td>0.011359</td>\n",
          "      <td>-0.011404</td>\n",
          "      <td>0.121327</td>\n",
          "      <td>-0.765772</td>\n",
          "      <td>-0.956557</td>\n",
          "    </tr>\n",
          "    <tr>\n",
          "      <th>634007</th>\n",
          "      <td>-0.640295</td>\n",
          "      <td>0.394234</td>\n",
          "      <td>-0.315634</td>\n",
          "      <td>0.030857</td>\n",
          "      <td>0.012073</td>\n",
          "      <td>-0.015476</td>\n",
          "      <td>0.108499</td>\n",
          "      <td>-0.754728</td>\n",
          "      <td>-0.921267</td>\n",
          "    </tr>\n",
          "    <tr>\n",
          "      <th>634008</th>\n",
          "      <td>-0.686538</td>\n",
          "      <td>0.550332</td>\n",
          "      <td>-0.359439</td>\n",
          "      <td>0.009593</td>\n",
          "      <td>0.003928</td>\n",
          "      <td>-0.010498</td>\n",
          "      <td>0.098456</td>\n",
          "      <td>-0.744377</td>\n",
          "      <td>-0.889684</td>\n",
          "    </tr>\n",
          "    <tr>\n",
          "      <th>...</th>\n",
          "      <td>...</td>\n",
          "      <td>...</td>\n",
          "      <td>...</td>\n",
          "      <td>...</td>\n",
          "      <td>...</td>\n",
          "      <td>...</td>\n",
          "      <td>...</td>\n",
          "      <td>...</td>\n",
          "      <td>...</td>\n",
          "    </tr>\n",
          "    <tr>\n",
          "      <th>109057760</th>\n",
          "      <td>0.450731</td>\n",
          "      <td>0.535045</td>\n",
          "      <td>-0.324386</td>\n",
          "      <td>-0.031796</td>\n",
          "      <td>-0.059572</td>\n",
          "      <td>-0.027028</td>\n",
          "      <td>-0.127635</td>\n",
          "      <td>-0.706084</td>\n",
          "      <td>0.517298</td>\n",
          "    </tr>\n",
          "    <tr>\n",
          "      <th>109057761</th>\n",
          "      <td>0.481948</td>\n",
          "      <td>0.536976</td>\n",
          "      <td>-0.334319</td>\n",
          "      <td>-0.016996</td>\n",
          "      <td>-0.046264</td>\n",
          "      <td>-0.028323</td>\n",
          "      <td>-0.126733</td>\n",
          "      <td>-0.705844</td>\n",
          "      <td>0.516299</td>\n",
          "    </tr>\n",
          "    <tr>\n",
          "      <th>109057762</th>\n",
          "      <td>0.502064</td>\n",
          "      <td>0.539007</td>\n",
          "      <td>-0.333029</td>\n",
          "      <td>0.000452</td>\n",
          "      <td>-0.029247</td>\n",
          "      <td>-0.023712</td>\n",
          "      <td>-0.126094</td>\n",
          "      <td>-0.706144</td>\n",
          "      <td>0.516886</td>\n",
          "    </tr>\n",
          "    <tr>\n",
          "      <th>109057763</th>\n",
          "      <td>0.498980</td>\n",
          "      <td>0.536931</td>\n",
          "      <td>-0.329682</td>\n",
          "      <td>0.008017</td>\n",
          "      <td>-0.019459</td>\n",
          "      <td>-0.027067</td>\n",
          "      <td>-0.125563</td>\n",
          "      <td>-0.706848</td>\n",
          "      <td>0.518772</td>\n",
          "    </tr>\n",
          "    <tr>\n",
          "      <th>109057764</th>\n",
          "      <td>0.482349</td>\n",
          "      <td>0.530969</td>\n",
          "      <td>-0.329319</td>\n",
          "      <td>0.004509</td>\n",
          "      <td>-0.019331</td>\n",
          "      <td>-0.043241</td>\n",
          "      <td>-0.125423</td>\n",
          "      <td>-0.707065</td>\n",
          "      <td>0.519359</td>\n",
          "    </tr>\n",
          "  </tbody>\n",
          "</table>\n",
          "<p>2781516 rows × 9 columns</p>\n",
          "</div>"
         ],
         "text/plain": [
          "              acc_x     acc_y     acc_z    gyro_x    gyro_y    gyro_z  \\\n",
          "634004    -0.458843 -0.004343 -0.272226  0.032586 -0.057479  0.017799   \n",
          "634005    -0.881271  0.789259 -0.322166  0.031217 -0.012802 -0.002940   \n",
          "634006    -0.750800  0.547177 -0.330515  0.042022  0.011359 -0.011404   \n",
          "634007    -0.640295  0.394234 -0.315634  0.030857  0.012073 -0.015476   \n",
          "634008    -0.686538  0.550332 -0.359439  0.009593  0.003928 -0.010498   \n",
          "...             ...       ...       ...       ...       ...       ...   \n",
          "109057760  0.450731  0.535045 -0.324386 -0.031796 -0.059572 -0.027028   \n",
          "109057761  0.481948  0.536976 -0.334319 -0.016996 -0.046264 -0.028323   \n",
          "109057762  0.502064  0.539007 -0.333029  0.000452 -0.029247 -0.023712   \n",
          "109057763  0.498980  0.536931 -0.329682  0.008017 -0.019459 -0.027067   \n",
          "109057764  0.482349  0.530969 -0.329319  0.004509 -0.019331 -0.043241   \n",
          "\n",
          "            azimuth     pitch      roll  \n",
          "634004     0.151812 -0.795093 -1.048645  \n",
          "634005     0.136114 -0.778771 -0.997640  \n",
          "634006     0.121327 -0.765772 -0.956557  \n",
          "634007     0.108499 -0.754728 -0.921267  \n",
          "634008     0.098456 -0.744377 -0.889684  \n",
          "...             ...       ...       ...  \n",
          "109057760 -0.127635 -0.706084  0.517298  \n",
          "109057761 -0.126733 -0.705844  0.516299  \n",
          "109057762 -0.126094 -0.706144  0.516886  \n",
          "109057763 -0.125563 -0.706848  0.518772  \n",
          "109057764 -0.125423 -0.707065  0.519359  \n",
          "\n",
          "[2781516 rows x 9 columns]"
         ]
        },
        "execution_count": 8,
        "metadata": {},
        "output_type": "execute_result"
       }
      ],
      "source": [
       "X_train_binary"
      ]
     },
     {
      "cell_type": "code",
      "execution_count": 9,
      "id": "9c7aec9e",
      "metadata": {},
      "outputs": [
       {
        "data": {
         "text/plain": [
          "634004       ADL\n",
          "634005       ADL\n",
          "634006       ADL\n",
          "634007       ADL\n",
          "634008       ADL\n",
          "            ... \n",
          "109057760    ADL\n",
          "109057761    ADL\n",
          "109057762    ADL\n",
          "109057763    ADL\n",
          "109057764    ADL\n",
          "Name: fall_label, Length: 2781516, dtype: object"
         ]
        },
        "execution_count": 9,
        "metadata": {},
        "output_type": "execute_result"
       }
      ],
      "source": [
       "y_train_binary"
      ]
     },
     {
      "cell_type": "markdown",
      "id": "9e1fef5d",
      "metadata": {},
      "source": [
       "### Segment into Windows"
      ]
     },
     {
      "cell_type": "code",
      "execution_count": 46,
      "id": "72814fe6",
      "metadata": {},
      "outputs": [],
      "source": [
       "sensor_cols = ['acc_x', 'acc_y', 'acc_z', 'gyro_x', 'gyro_y', 'gyro_z', 'azimuth', 'pitch', 'roll']\n",
       "\n",
       "def create_windows(X, y, window_size=400, step_size=62, positive_label=\"FALL\"): \n",
       "    X_windows, y_windows = [], []\n",
       "    \n",
       "    for start in range(0, len(X) - window_size + 1, step_size):\n",
       "        end = start + window_size\n",
       "        window_data = X[start:end]\n",
       "        window_labels = y[start:end]\n",
       "        \n",
       "        # any-positive labeling\n",
       "        if np.any(window_labels == positive_label):\n",
       "            label = positive_label\n",
       "        else:\n",
       "            label = \"ADL\"  # default class\n",
       "\n",
       "        X_windows.append(window_data)\n",
       "        y_windows.append(label)\n",
       "\n",
       "    return np.array(X_windows), np.array(y_windows)\n"
      ]
     },
     {
      "cell_type": "code",
      "execution_count": 47,
      "id": "932ff65a",
      "metadata": {},
      "outputs": [],
      "source": [
       "X_train_windows, y_train_windows = create_windows(X_train_binary, y_train_binary)\n",
       "X_val_windows, y_val_windows = create_windows(X_val_binary, y_val_binary)\n",
       "X_test_windows, y_test_windows = create_windows(X_test_binary, y_test_binary)"
      ]
     },
     {
      "cell_type": "code",
      "execution_count": 48,
      "id": "0afc2eeb-333b-4430-a78d-d1c6f810ac1a",
      "metadata": {},
      "outputs": [],
      "source": [
       "df = pd.DataFrame(y_val_windows)"
      ]
     },
     {
      "cell_type": "code",
      "execution_count": 45,
      "id": "9656df4d-5b4a-44cc-a213-7931bb0dd508",
      "metadata": {},
      "outputs": [
       {
        "data": {
         "text/plain": [
          "0  \n",
          "ADL    7430\n",
          "Name: count, dtype: int64"
         ]
        },
        "execution_count": 45,
        "metadata": {},
        "output_type": "execute_result"
       }
      ],
      "source": [
       "df.value_counts()"
      ]
     },
     {
      "cell_type": "code",
      "execution_count": 17,
      "id": "92e7c57e",
      "metadata": {},
      "outputs": [
       {
        "data": {
         "text/plain": [
          "(44857, 400, 9)"
         ]
        },
        "execution_count": 17,
        "metadata": {},
        "output_type": "execute_result"
       }
      ],
      "source": [
       "X_train_windows.shape"
      ]
     },
     {
      "cell_type": "code",
      "execution_count": 18,
      "id": "f7b1e43b",
      "metadata": {},
      "outputs": [
       {
        "data": {
         "text/plain": [
          "(7430, 400, 9)"
         ]
        },
        "execution_count": 18,
        "metadata": {},
        "output_type": "execute_result"
       }
      ],
      "source": [
       "X_val_windows.shape"
      ]
     },
     {
      "cell_type": "markdown",
      "id": "0e9ab8e1",
      "metadata": {},
      "source": [
       "### Encode Label"
      ]
     },
     {
      "cell_type": "code",
      "execution_count": 19,
      "id": "5f41c96c",
      "metadata": {},
      "outputs": [],
      "source": [
       "label_map = {'ADL': 0, 'FALL': 1}\n",
       "y_train_windows_encoded = np.vectorize(label_map.get)(y_train_windows)\n",
       "y_val_windows_encoded = np.vectorize(label_map.get)(y_val_windows)\n",
       "y_test_windows_encoded = np.vectorize(label_map.get)(y_test_windows)"
      ]
     },
     {
      "cell_type": "code",
      "execution_count": 24,
      "id": "c852635f",
      "metadata": {},
      "outputs": [
       {
        "name": "stderr",
        "output_type": "stream",
        "text": [
         "C:\\Users\\sovan\\anaconda3\\Lib\\site-packages\\keras\\src\\layers\\convolutional\\base_conv.py:107: UserWarning: Do not pass an `input_shape`/`input_dim` argument to a layer. When using Sequential models, prefer using an `Input(shape)` object as the first layer in the model instead.\n",
         "  super().__init__(activity_regularizer=activity_regularizer, **kwargs)\n"
        ]
       },
       {
        "data": {
         "text/html": [
          "<pre style=\"white-space:pre;overflow-x:auto;line-height:normal;font-family:Menlo,'DejaVu Sans Mono',consolas,'Courier New',monospace\"><span style=\"font-weight: bold\">Model: \"sequential_1\"</span>\n",
          "</pre>\n"
         ],
         "text/plain": [
          "\u001b[1mModel: \"sequential_1\"\u001b[0m\n"
         ]
        },
        "metadata": {},
        "output_type": "display_data"
       },
       {
        "data": {
         "text/html": [
          "<pre style=\"white-space:pre;overflow-x:auto;line-height:normal;font-family:Menlo,'DejaVu Sans Mono',consolas,'Courier New',monospace\">┏━━━━━━━━━━━━━━━━━━━━━━━━━━━━━━━━━━━━━━┳━━━━━━━━━━━━━━━━━━━━━━━━━━━━━┳━━━━━━━━━━━━━━━━━┓\n",
          "┃<span style=\"font-weight: bold\"> Layer (type)                         </span>┃<span style=\"font-weight: bold\"> Output Shape                </span>┃<span style=\"font-weight: bold\">         Param # </span>┃\n",
          "┡━━━━━━━━━━━━━━━━━━━━━━━━━━━━━━━━━━━━━━╇━━━━━━━━━━━━━━━━━━━━━━━━━━━━━╇━━━━━━━━━━━━━━━━━┩\n",
          "│ conv1d_4 (<span style=\"color: #0087ff; text-decoration-color: #0087ff\">Conv1D</span>)                    │ (<span style=\"color: #00d7ff; text-decoration-color: #00d7ff\">None</span>, <span style=\"color: #00af00; text-decoration-color: #00af00\">396</span>, <span style=\"color: #00af00; text-decoration-color: #00af00\">64</span>)             │           <span style=\"color: #00af00; text-decoration-color: #00af00\">2,944</span> │\n",
          "├──────────────────────────────────────┼─────────────────────────────┼─────────────────┤\n",
          "│ conv1d_5 (<span style=\"color: #0087ff; text-decoration-color: #0087ff\">Conv1D</span>)                    │ (<span style=\"color: #00d7ff; text-decoration-color: #00d7ff\">None</span>, <span style=\"color: #00af00; text-decoration-color: #00af00\">392</span>, <span style=\"color: #00af00; text-decoration-color: #00af00\">64</span>)             │          <span style=\"color: #00af00; text-decoration-color: #00af00\">20,544</span> │\n",
          "├──────────────────────────────────────┼─────────────────────────────┼─────────────────┤\n",
          "│ conv1d_6 (<span style=\"color: #0087ff; text-decoration-color: #0087ff\">Conv1D</span>)                    │ (<span style=\"color: #00d7ff; text-decoration-color: #00d7ff\">None</span>, <span style=\"color: #00af00; text-decoration-color: #00af00\">388</span>, <span style=\"color: #00af00; text-decoration-color: #00af00\">64</span>)             │          <span style=\"color: #00af00; text-decoration-color: #00af00\">20,544</span> │\n",
          "├──────────────────────────────────────┼─────────────────────────────┼─────────────────┤\n",
          "│ conv1d_7 (<span style=\"color: #0087ff; text-decoration-color: #0087ff\">Conv1D</span>)                    │ (<span style=\"color: #00d7ff; text-decoration-color: #00d7ff\">None</span>, <span style=\"color: #00af00; text-decoration-color: #00af00\">384</span>, <span style=\"color: #00af00; text-decoration-color: #00af00\">64</span>)             │          <span style=\"color: #00af00; text-decoration-color: #00af00\">20,544</span> │\n",
          "├──────────────────────────────────────┼─────────────────────────────┼─────────────────┤\n",
          "│ flatten_1 (<span style=\"color: #0087ff; text-decoration-color: #0087ff\">Flatten</span>)                  │ (<span style=\"color: #00d7ff; text-decoration-color: #00d7ff\">None</span>, <span style=\"color: #00af00; text-decoration-color: #00af00\">24576</span>)               │               <span style=\"color: #00af00; text-decoration-color: #00af00\">0</span> │\n",
          "├──────────────────────────────────────┼─────────────────────────────┼─────────────────┤\n",
          "│ dropout_3 (<span style=\"color: #0087ff; text-decoration-color: #0087ff\">Dropout</span>)                  │ (<span style=\"color: #00d7ff; text-decoration-color: #00d7ff\">None</span>, <span style=\"color: #00af00; text-decoration-color: #00af00\">24576</span>)               │               <span style=\"color: #00af00; text-decoration-color: #00af00\">0</span> │\n",
          "├──────────────────────────────────────┼─────────────────────────────┼─────────────────┤\n",
          "│ dense_3 (<span style=\"color: #0087ff; text-decoration-color: #0087ff\">Dense</span>)                      │ (<span style=\"color: #00d7ff; text-decoration-color: #00d7ff\">None</span>, <span style=\"color: #00af00; text-decoration-color: #00af00\">128</span>)                 │       <span style=\"color: #00af00; text-decoration-color: #00af00\">3,145,856</span> │\n",
          "├──────────────────────────────────────┼─────────────────────────────┼─────────────────┤\n",
          "│ dropout_4 (<span style=\"color: #0087ff; text-decoration-color: #0087ff\">Dropout</span>)                  │ (<span style=\"color: #00d7ff; text-decoration-color: #00d7ff\">None</span>, <span style=\"color: #00af00; text-decoration-color: #00af00\">128</span>)                 │               <span style=\"color: #00af00; text-decoration-color: #00af00\">0</span> │\n",
          "├──────────────────────────────────────┼─────────────────────────────┼─────────────────┤\n",
          "│ dense_4 (<span style=\"color: #0087ff; text-decoration-color: #0087ff\">Dense</span>)                      │ (<span style=\"color: #00d7ff; text-decoration-color: #00d7ff\">None</span>, <span style=\"color: #00af00; text-decoration-color: #00af00\">128</span>)                 │          <span style=\"color: #00af00; text-decoration-color: #00af00\">16,512</span> │\n",
          "├──────────────────────────────────────┼─────────────────────────────┼─────────────────┤\n",
          "│ dropout_5 (<span style=\"color: #0087ff; text-decoration-color: #0087ff\">Dropout</span>)                  │ (<span style=\"color: #00d7ff; text-decoration-color: #00d7ff\">None</span>, <span style=\"color: #00af00; text-decoration-color: #00af00\">128</span>)                 │               <span style=\"color: #00af00; text-decoration-color: #00af00\">0</span> │\n",
          "├──────────────────────────────────────┼─────────────────────────────┼─────────────────┤\n",
          "│ dense_5 (<span style=\"color: #0087ff; text-decoration-color: #0087ff\">Dense</span>)                      │ (<span style=\"color: #00d7ff; text-decoration-color: #00d7ff\">None</span>, <span style=\"color: #00af00; text-decoration-color: #00af00\">1</span>)                   │             <span style=\"color: #00af00; text-decoration-color: #00af00\">129</span> │\n",
          "└──────────────────────────────────────┴─────────────────────────────┴─────────────────┘\n",
          "</pre>\n"
         ],
         "text/plain": [
          "┏━━━━━━━━━━━━━━━━━━━━━━━━━━━━━━━━━━━━━━┳━━━━━━━━━━━━━━━━━━━━━━━━━━━━━┳━━━━━━━━━━━━━━━━━┓\n",
          "┃\u001b[1m \u001b[0m\u001b[1mLayer (type)                        \u001b[0m\u001b[1m \u001b[0m┃\u001b[1m \u001b[0m\u001b[1mOutput Shape               \u001b[0m\u001b[1m \u001b[0m┃\u001b[1m \u001b[0m\u001b[1m        Param #\u001b[0m\u001b[1m \u001b[0m┃\n",
          "┡━━━━━━━━━━━━━━━━━━━━━━━━━━━━━━━━━━━━━━╇━━━━━━━━━━━━━━━━━━━━━━━━━━━━━╇━━━━━━━━━━━━━━━━━┩\n",
          "│ conv1d_4 (\u001b[38;5;33mConv1D\u001b[0m)                    │ (\u001b[38;5;45mNone\u001b[0m, \u001b[38;5;34m396\u001b[0m, \u001b[38;5;34m64\u001b[0m)             │           \u001b[38;5;34m2,944\u001b[0m │\n",
          "├──────────────────────────────────────┼─────────────────────────────┼─────────────────┤\n",
          "│ conv1d_5 (\u001b[38;5;33mConv1D\u001b[0m)                    │ (\u001b[38;5;45mNone\u001b[0m, \u001b[38;5;34m392\u001b[0m, \u001b[38;5;34m64\u001b[0m)             │          \u001b[38;5;34m20,544\u001b[0m │\n",
          "├──────────────────────────────────────┼─────────────────────────────┼─────────────────┤\n",
          "│ conv1d_6 (\u001b[38;5;33mConv1D\u001b[0m)                    │ (\u001b[38;5;45mNone\u001b[0m, \u001b[38;5;34m388\u001b[0m, \u001b[38;5;34m64\u001b[0m)             │          \u001b[38;5;34m20,544\u001b[0m │\n",
          "├──────────────────────────────────────┼─────────────────────────────┼─────────────────┤\n",
          "│ conv1d_7 (\u001b[38;5;33mConv1D\u001b[0m)                    │ (\u001b[38;5;45mNone\u001b[0m, \u001b[38;5;34m384\u001b[0m, \u001b[38;5;34m64\u001b[0m)             │          \u001b[38;5;34m20,544\u001b[0m │\n",
          "├──────────────────────────────────────┼─────────────────────────────┼─────────────────┤\n",
          "│ flatten_1 (\u001b[38;5;33mFlatten\u001b[0m)                  │ (\u001b[38;5;45mNone\u001b[0m, \u001b[38;5;34m24576\u001b[0m)               │               \u001b[38;5;34m0\u001b[0m │\n",
          "├──────────────────────────────────────┼─────────────────────────────┼─────────────────┤\n",
          "│ dropout_3 (\u001b[38;5;33mDropout\u001b[0m)                  │ (\u001b[38;5;45mNone\u001b[0m, \u001b[38;5;34m24576\u001b[0m)               │               \u001b[38;5;34m0\u001b[0m │\n",
          "├──────────────────────────────────────┼─────────────────────────────┼─────────────────┤\n",
          "│ dense_3 (\u001b[38;5;33mDense\u001b[0m)                      │ (\u001b[38;5;45mNone\u001b[0m, \u001b[38;5;34m128\u001b[0m)                 │       \u001b[38;5;34m3,145,856\u001b[0m │\n",
          "├──────────────────────────────────────┼─────────────────────────────┼─────────────────┤\n",
          "│ dropout_4 (\u001b[38;5;33mDropout\u001b[0m)                  │ (\u001b[38;5;45mNone\u001b[0m, \u001b[38;5;34m128\u001b[0m)                 │               \u001b[38;5;34m0\u001b[0m │\n",
          "├──────────────────────────────────────┼─────────────────────────────┼─────────────────┤\n",
          "│ dense_4 (\u001b[38;5;33mDense\u001b[0m)                      │ (\u001b[38;5;45mNone\u001b[0m, \u001b[38;5;34m128\u001b[0m)                 │          \u001b[38;5;34m16,512\u001b[0m │\n",
          "├──────────────────────────────────────┼─────────────────────────────┼─────────────────┤\n",
          "│ dropout_5 (\u001b[38;5;33mDropout\u001b[0m)                  │ (\u001b[38;5;45mNone\u001b[0m, \u001b[38;5;34m128\u001b[0m)                 │               \u001b[38;5;34m0\u001b[0m │\n",
          "├──────────────────────────────────────┼─────────────────────────────┼─────────────────┤\n",
          "│ dense_5 (\u001b[38;5;33mDense\u001b[0m)                      │ (\u001b[38;5;45mNone\u001b[0m, \u001b[38;5;34m1\u001b[0m)                   │             \u001b[38;5;34m129\u001b[0m │\n",
          "└──────────────────────────────────────┴─────────────────────────────┴─────────────────┘\n"
         ]
        },
        "metadata": {},
        "output_type": "display_data"
       },
       {
        "data": {
         "text/html": [
          "<pre style=\"white-space:pre;overflow-x:auto;line-height:normal;font-family:Menlo,'DejaVu Sans Mono',consolas,'Courier New',monospace\"><span style=\"font-weight: bold\"> Total params: </span><span style=\"color: #00af00; text-decoration-color: #00af00\">3,227,073</span> (12.31 MB)\n",
          "</pre>\n"
         ],
         "text/plain": [
          "\u001b[1m Total params: \u001b[0m\u001b[38;5;34m3,227,073\u001b[0m (12.31 MB)\n"
         ]
        },
        "metadata": {},
        "output_type": "display_data"
       },
       {
        "data": {
         "text/html": [
          "<pre style=\"white-space:pre;overflow-x:auto;line-height:normal;font-family:Menlo,'DejaVu Sans Mono',consolas,'Courier New',monospace\"><span style=\"font-weight: bold\"> Trainable params: </span><span style=\"color: #00af00; text-decoration-color: #00af00\">3,227,073</span> (12.31 MB)\n",
          "</pre>\n"
         ],
         "text/plain": [
          "\u001b[1m Trainable params: \u001b[0m\u001b[38;5;34m3,227,073\u001b[0m (12.31 MB)\n"
         ]
        },
        "metadata": {},
        "output_type": "display_data"
       },
       {
        "data": {
         "text/html": [
          "<pre style=\"white-space:pre;overflow-x:auto;line-height:normal;font-family:Menlo,'DejaVu Sans Mono',consolas,'Courier New',monospace\"><span style=\"font-weight: bold\"> Non-trainable params: </span><span style=\"color: #00af00; text-decoration-color: #00af00\">0</span> (0.00 B)\n",
          "</pre>\n"
         ],
         "text/plain": [
          "\u001b[1m Non-trainable params: \u001b[0m\u001b[38;5;34m0\u001b[0m (0.00 B)\n"
         ]
        },
        "metadata": {},
        "output_type": "display_data"
       }
      ],
      "source": [
       "import tensorflow as tf\n",
       "from tensorflow.keras.models import Sequential\n",
       "from tensorflow.keras.layers import Conv1D, MaxPooling1D,GlobalAveragePooling1D, LSTM, Dense, Dropout, Flatten\n",
       "from tensorflow.keras.optimizers import Adam\n",
       "from tensorflow.keras.metrics import Precision, Recall, AUC\n",
       "\n",
       "\n",
       "input_shape = (X_train_windows.shape[1], X_train_windows.shape[2])  \n",
       "\n",
       "model = Sequential([\n",
       "    Conv1D(filters=64, kernel_size=5, activation='relu', input_shape=input_shape),\n",
       "    Conv1D(filters=64, kernel_size=5, activation='relu'),\n",
       "    Conv1D(filters=64, kernel_size=5, activation='relu'),\n",
       "    Conv1D(filters=64, kernel_size=5, activation='relu'),\n",
       "    Flatten(),\n",
       "    Dropout(0.5),\n",
       "    Dense(128, activation='relu'),\n",
       "    Dropout(0.5),\n",
       "    Dense(128, activation='relu'),\n",
       "    Dropout(0.5),\n",
       "    Dense(1, activation='sigmoid')  # Binary output\n",
       "])\n",
       "\n",
       "model.compile(optimizer=Adam(learning_rate=0.001),\n",
       "              loss='binary_crossentropy',\n",
       "              metrics=[Precision(), Recall()])\n",
       "\n",
       "model.summary()"
      ]
     },
     {
      "cell_type": "code",
      "execution_count": 25,
      "id": "0c05daa6",
      "metadata": {},
      "outputs": [],
      "source": [
       "from sklearn.utils import class_weight"
      ]
     },
     {
      "cell_type": "code",
      "execution_count": 26,
      "id": "817510a9",
      "metadata": {},
      "outputs": [],
      "source": [
       "# Compute class weights to handle imbalance\n",
       "y_train_array = np.array(y_train_windows_encoded)\n",
       "class_weights = class_weight.compute_class_weight(\n",
       "    class_weight='balanced',\n",
       "    classes=np.unique(y_train_array),\n",
       "    y=y_train_array\n",
       ")\n",
       "class_weights = dict(enumerate(class_weights))\n"
      ]
     },
     {
      "cell_type": "code",
      "execution_count": 27,
      "id": "9e6289a7",
      "metadata": {},
      "outputs": [
       {
        "name": "stdout",
        "output_type": "stream",
        "text": [
         "Epoch 1/100\n",
         "\u001b[1m701/701\u001b[0m \u001b[32m━━━━━━━━━━━━━━━━━━━━\u001b[0m\u001b[37m\u001b[0m \u001b[1m49s\u001b[0m 65ms/step - loss: 0.0101 - precision: 0.0000e+00 - recall: 0.0000e+00 - val_loss: 0.0000e+00 - val_precision: 0.0000e+00 - val_recall: 0.0000e+00\n",
         "Epoch 2/100\n",
         "\u001b[1m701/701\u001b[0m \u001b[32m━━━━━━━━━━━━━━━━━━━━\u001b[0m\u001b[37m\u001b[0m \u001b[1m44s\u001b[0m 62ms/step - loss: 1.7128e-13 - precision: 0.0000e+00 - recall: 0.0000e+00 - val_loss: 0.0000e+00 - val_precision: 0.0000e+00 - val_recall: 0.0000e+00\n",
         "Epoch 3/100\n",
         "\u001b[1m701/701\u001b[0m \u001b[32m━━━━━━━━━━━━━━━━━━━━\u001b[0m\u001b[37m\u001b[0m \u001b[1m44s\u001b[0m 62ms/step - loss: 2.4722e-13 - precision: 0.0000e+00 - recall: 0.0000e+00 - val_loss: 0.0000e+00 - val_precision: 0.0000e+00 - val_recall: 0.0000e+00\n",
         "Epoch 4/100\n",
         "\u001b[1m701/701\u001b[0m \u001b[32m━━━━━━━━━━━━━━━━━━━━\u001b[0m\u001b[37m\u001b[0m \u001b[1m44s\u001b[0m 62ms/step - loss: 3.9405e-15 - precision: 0.0000e+00 - recall: 0.0000e+00 - val_loss: 0.0000e+00 - val_precision: 0.0000e+00 - val_recall: 0.0000e+00\n",
         "Epoch 5/100\n",
         "\u001b[1m701/701\u001b[0m \u001b[32m━━━━━━━━━━━━━━━━━━━━\u001b[0m\u001b[37m\u001b[0m \u001b[1m44s\u001b[0m 63ms/step - loss: 7.6671e-15 - precision: 0.0000e+00 - recall: 0.0000e+00 - val_loss: 0.0000e+00 - val_precision: 0.0000e+00 - val_recall: 0.0000e+00\n",
         "Epoch 6/100\n",
         "\u001b[1m701/701\u001b[0m \u001b[32m━━━━━━━━━━━━━━━━━━━━\u001b[0m\u001b[37m\u001b[0m \u001b[1m45s\u001b[0m 65ms/step - loss: 1.5797e-10 - precision: 0.0000e+00 - recall: 0.0000e+00 - val_loss: 0.0000e+00 - val_precision: 0.0000e+00 - val_recall: 0.0000e+00\n",
         "Epoch 7/100\n",
         "\u001b[1m701/701\u001b[0m \u001b[32m━━━━━━━━━━━━━━━━━━━━\u001b[0m\u001b[37m\u001b[0m \u001b[1m44s\u001b[0m 62ms/step - loss: 1.0236e-13 - precision: 0.0000e+00 - recall: 0.0000e+00 - val_loss: 0.0000e+00 - val_precision: 0.0000e+00 - val_recall: 0.0000e+00\n",
         "Epoch 8/100\n",
         "\u001b[1m701/701\u001b[0m \u001b[32m━━━━━━━━━━━━━━━━━━━━\u001b[0m\u001b[37m\u001b[0m \u001b[1m44s\u001b[0m 63ms/step - loss: 1.7707e-17 - precision: 0.0000e+00 - recall: 0.0000e+00 - val_loss: 0.0000e+00 - val_precision: 0.0000e+00 - val_recall: 0.0000e+00\n",
         "Epoch 9/100\n",
         "\u001b[1m573/701\u001b[0m \u001b[32m━━━━━━━━━━━━━━━━\u001b[0m\u001b[37m━━━━\u001b[0m \u001b[1m7s\u001b[0m 61ms/step - loss: 4.7823e-17 - precision: 0.0000e+00 - recall: 0.0000e+00 "
        ]
       },
       {
        "ename": "KeyboardInterrupt",
        "evalue": "",
        "output_type": "error",
        "traceback": [
         "\u001b[1;31m---------------------------------------------------------------------------\u001b[0m",
         "\u001b[1;31mKeyboardInterrupt\u001b[0m                         Traceback (most recent call last)",
         "Cell \u001b[1;32mIn[27], line 1\u001b[0m\n\u001b[1;32m----> 1\u001b[0m history \u001b[38;5;241m=\u001b[39m model\u001b[38;5;241m.\u001b[39mfit(\n\u001b[0;32m      2\u001b[0m     X_train_windows, y_train_windows_encoded,\n\u001b[0;32m      3\u001b[0m     validation_data\u001b[38;5;241m=\u001b[39m(X_val_windows, y_val_windows_encoded),\n\u001b[0;32m      4\u001b[0m     epochs\u001b[38;5;241m=\u001b[39m\u001b[38;5;241m100\u001b[39m,\n\u001b[0;32m      5\u001b[0m     batch_size\u001b[38;5;241m=\u001b[39m\u001b[38;5;241m64\u001b[39m,\n\u001b[0;32m      6\u001b[0m     class_weight\u001b[38;5;241m=\u001b[39mclass_weights\n\u001b[0;32m      7\u001b[0m )\n",
         "File \u001b[1;32m~\\anaconda3\\Lib\\site-packages\\keras\\src\\utils\\traceback_utils.py:117\u001b[0m, in \u001b[0;36mfilter_traceback.<locals>.error_handler\u001b[1;34m(*args, **kwargs)\u001b[0m\n\u001b[0;32m    115\u001b[0m filtered_tb \u001b[38;5;241m=\u001b[39m \u001b[38;5;28;01mNone\u001b[39;00m\n\u001b[0;32m    116\u001b[0m \u001b[38;5;28;01mtry\u001b[39;00m:\n\u001b[1;32m--> 117\u001b[0m     \u001b[38;5;28;01mreturn\u001b[39;00m fn(\u001b[38;5;241m*\u001b[39margs, \u001b[38;5;241m*\u001b[39m\u001b[38;5;241m*\u001b[39mkwargs)\n\u001b[0;32m    118\u001b[0m \u001b[38;5;28;01mexcept\u001b[39;00m \u001b[38;5;167;01mException\u001b[39;00m \u001b[38;5;28;01mas\u001b[39;00m e:\n\u001b[0;32m    119\u001b[0m     filtered_tb \u001b[38;5;241m=\u001b[39m _process_traceback_frames(e\u001b[38;5;241m.\u001b[39m__traceback__)\n",
         "File \u001b[1;32m~\\anaconda3\\Lib\\site-packages\\keras\\src\\backend\\tensorflow\\trainer.py:371\u001b[0m, in \u001b[0;36mTensorFlowTrainer.fit\u001b[1;34m(self, x, y, batch_size, epochs, verbose, callbacks, validation_split, validation_data, shuffle, class_weight, sample_weight, initial_epoch, steps_per_epoch, validation_steps, validation_batch_size, validation_freq)\u001b[0m\n\u001b[0;32m    369\u001b[0m \u001b[38;5;28;01mfor\u001b[39;00m step, iterator \u001b[38;5;129;01min\u001b[39;00m epoch_iterator:\n\u001b[0;32m    370\u001b[0m     callbacks\u001b[38;5;241m.\u001b[39mon_train_batch_begin(step)\n\u001b[1;32m--> 371\u001b[0m     logs \u001b[38;5;241m=\u001b[39m \u001b[38;5;28mself\u001b[39m\u001b[38;5;241m.\u001b[39mtrain_function(iterator)\n\u001b[0;32m    372\u001b[0m     callbacks\u001b[38;5;241m.\u001b[39mon_train_batch_end(step, logs)\n\u001b[0;32m    373\u001b[0m     \u001b[38;5;28;01mif\u001b[39;00m \u001b[38;5;28mself\u001b[39m\u001b[38;5;241m.\u001b[39mstop_training:\n",
         "File \u001b[1;32m~\\anaconda3\\Lib\\site-packages\\keras\\src\\backend\\tensorflow\\trainer.py:219\u001b[0m, in \u001b[0;36mTensorFlowTrainer._make_function.<locals>.function\u001b[1;34m(iterator)\u001b[0m\n\u001b[0;32m    215\u001b[0m \u001b[38;5;28;01mdef\u001b[39;00m \u001b[38;5;21mfunction\u001b[39m(iterator):\n\u001b[0;32m    216\u001b[0m     \u001b[38;5;28;01mif\u001b[39;00m \u001b[38;5;28misinstance\u001b[39m(\n\u001b[0;32m    217\u001b[0m         iterator, (tf\u001b[38;5;241m.\u001b[39mdata\u001b[38;5;241m.\u001b[39mIterator, tf\u001b[38;5;241m.\u001b[39mdistribute\u001b[38;5;241m.\u001b[39mDistributedIterator)\n\u001b[0;32m    218\u001b[0m     ):\n\u001b[1;32m--> 219\u001b[0m         opt_outputs \u001b[38;5;241m=\u001b[39m multi_step_on_iterator(iterator)\n\u001b[0;32m    220\u001b[0m         \u001b[38;5;28;01mif\u001b[39;00m \u001b[38;5;129;01mnot\u001b[39;00m opt_outputs\u001b[38;5;241m.\u001b[39mhas_value():\n\u001b[0;32m    221\u001b[0m             \u001b[38;5;28;01mraise\u001b[39;00m \u001b[38;5;167;01mStopIteration\u001b[39;00m\n",
         "File \u001b[1;32m~\\anaconda3\\Lib\\site-packages\\tensorflow\\python\\util\\traceback_utils.py:150\u001b[0m, in \u001b[0;36mfilter_traceback.<locals>.error_handler\u001b[1;34m(*args, **kwargs)\u001b[0m\n\u001b[0;32m    148\u001b[0m filtered_tb \u001b[38;5;241m=\u001b[39m \u001b[38;5;28;01mNone\u001b[39;00m\n\u001b[0;32m    149\u001b[0m \u001b[38;5;28;01mtry\u001b[39;00m:\n\u001b[1;32m--> 150\u001b[0m   \u001b[38;5;28;01mreturn\u001b[39;00m fn(\u001b[38;5;241m*\u001b[39margs, \u001b[38;5;241m*\u001b[39m\u001b[38;5;241m*\u001b[39mkwargs)\n\u001b[0;32m    151\u001b[0m \u001b[38;5;28;01mexcept\u001b[39;00m \u001b[38;5;167;01mException\u001b[39;00m \u001b[38;5;28;01mas\u001b[39;00m e:\n\u001b[0;32m    152\u001b[0m   filtered_tb \u001b[38;5;241m=\u001b[39m _process_traceback_frames(e\u001b[38;5;241m.\u001b[39m__traceback__)\n",
         "File \u001b[1;32m~\\anaconda3\\Lib\\site-packages\\tensorflow\\python\\eager\\polymorphic_function\\polymorphic_function.py:833\u001b[0m, in \u001b[0;36mFunction.__call__\u001b[1;34m(self, *args, **kwds)\u001b[0m\n\u001b[0;32m    830\u001b[0m compiler \u001b[38;5;241m=\u001b[39m \u001b[38;5;124m\"\u001b[39m\u001b[38;5;124mxla\u001b[39m\u001b[38;5;124m\"\u001b[39m \u001b[38;5;28;01mif\u001b[39;00m \u001b[38;5;28mself\u001b[39m\u001b[38;5;241m.\u001b[39m_jit_compile \u001b[38;5;28;01melse\u001b[39;00m \u001b[38;5;124m\"\u001b[39m\u001b[38;5;124mnonXla\u001b[39m\u001b[38;5;124m\"\u001b[39m\n\u001b[0;32m    832\u001b[0m \u001b[38;5;28;01mwith\u001b[39;00m OptionalXlaContext(\u001b[38;5;28mself\u001b[39m\u001b[38;5;241m.\u001b[39m_jit_compile):\n\u001b[1;32m--> 833\u001b[0m   result \u001b[38;5;241m=\u001b[39m \u001b[38;5;28mself\u001b[39m\u001b[38;5;241m.\u001b[39m_call(\u001b[38;5;241m*\u001b[39margs, \u001b[38;5;241m*\u001b[39m\u001b[38;5;241m*\u001b[39mkwds)\n\u001b[0;32m    835\u001b[0m new_tracing_count \u001b[38;5;241m=\u001b[39m \u001b[38;5;28mself\u001b[39m\u001b[38;5;241m.\u001b[39mexperimental_get_tracing_count()\n\u001b[0;32m    836\u001b[0m without_tracing \u001b[38;5;241m=\u001b[39m (tracing_count \u001b[38;5;241m==\u001b[39m new_tracing_count)\n",
         "File \u001b[1;32m~\\anaconda3\\Lib\\site-packages\\tensorflow\\python\\eager\\polymorphic_function\\polymorphic_function.py:878\u001b[0m, in \u001b[0;36mFunction._call\u001b[1;34m(self, *args, **kwds)\u001b[0m\n\u001b[0;32m    875\u001b[0m \u001b[38;5;28mself\u001b[39m\u001b[38;5;241m.\u001b[39m_lock\u001b[38;5;241m.\u001b[39mrelease()\n\u001b[0;32m    876\u001b[0m \u001b[38;5;66;03m# In this case we have not created variables on the first call. So we can\u001b[39;00m\n\u001b[0;32m    877\u001b[0m \u001b[38;5;66;03m# run the first trace but we should fail if variables are created.\u001b[39;00m\n\u001b[1;32m--> 878\u001b[0m results \u001b[38;5;241m=\u001b[39m tracing_compilation\u001b[38;5;241m.\u001b[39mcall_function(\n\u001b[0;32m    879\u001b[0m     args, kwds, \u001b[38;5;28mself\u001b[39m\u001b[38;5;241m.\u001b[39m_variable_creation_config\n\u001b[0;32m    880\u001b[0m )\n\u001b[0;32m    881\u001b[0m \u001b[38;5;28;01mif\u001b[39;00m \u001b[38;5;28mself\u001b[39m\u001b[38;5;241m.\u001b[39m_created_variables:\n\u001b[0;32m    882\u001b[0m   \u001b[38;5;28;01mraise\u001b[39;00m \u001b[38;5;167;01mValueError\u001b[39;00m(\u001b[38;5;124m\"\u001b[39m\u001b[38;5;124mCreating variables on a non-first call to a function\u001b[39m\u001b[38;5;124m\"\u001b[39m\n\u001b[0;32m    883\u001b[0m                    \u001b[38;5;124m\"\u001b[39m\u001b[38;5;124m decorated with tf.function.\u001b[39m\u001b[38;5;124m\"\u001b[39m)\n",
         "File \u001b[1;32m~\\anaconda3\\Lib\\site-packages\\tensorflow\\python\\eager\\polymorphic_function\\tracing_compilation.py:139\u001b[0m, in \u001b[0;36mcall_function\u001b[1;34m(args, kwargs, tracing_options)\u001b[0m\n\u001b[0;32m    137\u001b[0m bound_args \u001b[38;5;241m=\u001b[39m function\u001b[38;5;241m.\u001b[39mfunction_type\u001b[38;5;241m.\u001b[39mbind(\u001b[38;5;241m*\u001b[39margs, \u001b[38;5;241m*\u001b[39m\u001b[38;5;241m*\u001b[39mkwargs)\n\u001b[0;32m    138\u001b[0m flat_inputs \u001b[38;5;241m=\u001b[39m function\u001b[38;5;241m.\u001b[39mfunction_type\u001b[38;5;241m.\u001b[39munpack_inputs(bound_args)\n\u001b[1;32m--> 139\u001b[0m \u001b[38;5;28;01mreturn\u001b[39;00m function\u001b[38;5;241m.\u001b[39m_call_flat(  \u001b[38;5;66;03m# pylint: disable=protected-access\u001b[39;00m\n\u001b[0;32m    140\u001b[0m     flat_inputs, captured_inputs\u001b[38;5;241m=\u001b[39mfunction\u001b[38;5;241m.\u001b[39mcaptured_inputs\n\u001b[0;32m    141\u001b[0m )\n",
         "File \u001b[1;32m~\\anaconda3\\Lib\\site-packages\\tensorflow\\python\\eager\\polymorphic_function\\concrete_function.py:1322\u001b[0m, in \u001b[0;36mConcreteFunction._call_flat\u001b[1;34m(self, tensor_inputs, captured_inputs)\u001b[0m\n\u001b[0;32m   1318\u001b[0m possible_gradient_type \u001b[38;5;241m=\u001b[39m gradients_util\u001b[38;5;241m.\u001b[39mPossibleTapeGradientTypes(args)\n\u001b[0;32m   1319\u001b[0m \u001b[38;5;28;01mif\u001b[39;00m (possible_gradient_type \u001b[38;5;241m==\u001b[39m gradients_util\u001b[38;5;241m.\u001b[39mPOSSIBLE_GRADIENT_TYPES_NONE\n\u001b[0;32m   1320\u001b[0m     \u001b[38;5;129;01mand\u001b[39;00m executing_eagerly):\n\u001b[0;32m   1321\u001b[0m   \u001b[38;5;66;03m# No tape is watching; skip to running the function.\u001b[39;00m\n\u001b[1;32m-> 1322\u001b[0m   \u001b[38;5;28;01mreturn\u001b[39;00m \u001b[38;5;28mself\u001b[39m\u001b[38;5;241m.\u001b[39m_inference_function\u001b[38;5;241m.\u001b[39mcall_preflattened(args)\n\u001b[0;32m   1323\u001b[0m forward_backward \u001b[38;5;241m=\u001b[39m \u001b[38;5;28mself\u001b[39m\u001b[38;5;241m.\u001b[39m_select_forward_and_backward_functions(\n\u001b[0;32m   1324\u001b[0m     args,\n\u001b[0;32m   1325\u001b[0m     possible_gradient_type,\n\u001b[0;32m   1326\u001b[0m     executing_eagerly)\n\u001b[0;32m   1327\u001b[0m forward_function, args_with_tangents \u001b[38;5;241m=\u001b[39m forward_backward\u001b[38;5;241m.\u001b[39mforward()\n",
         "File \u001b[1;32m~\\anaconda3\\Lib\\site-packages\\tensorflow\\python\\eager\\polymorphic_function\\atomic_function.py:216\u001b[0m, in \u001b[0;36mAtomicFunction.call_preflattened\u001b[1;34m(self, args)\u001b[0m\n\u001b[0;32m    214\u001b[0m \u001b[38;5;28;01mdef\u001b[39;00m \u001b[38;5;21mcall_preflattened\u001b[39m(\u001b[38;5;28mself\u001b[39m, args: Sequence[core\u001b[38;5;241m.\u001b[39mTensor]) \u001b[38;5;241m-\u001b[39m\u001b[38;5;241m>\u001b[39m Any:\n\u001b[0;32m    215\u001b[0m \u001b[38;5;250m  \u001b[39m\u001b[38;5;124;03m\"\"\"Calls with flattened tensor inputs and returns the structured output.\"\"\"\u001b[39;00m\n\u001b[1;32m--> 216\u001b[0m   flat_outputs \u001b[38;5;241m=\u001b[39m \u001b[38;5;28mself\u001b[39m\u001b[38;5;241m.\u001b[39mcall_flat(\u001b[38;5;241m*\u001b[39margs)\n\u001b[0;32m    217\u001b[0m   \u001b[38;5;28;01mreturn\u001b[39;00m \u001b[38;5;28mself\u001b[39m\u001b[38;5;241m.\u001b[39mfunction_type\u001b[38;5;241m.\u001b[39mpack_output(flat_outputs)\n",
         "File \u001b[1;32m~\\anaconda3\\Lib\\site-packages\\tensorflow\\python\\eager\\polymorphic_function\\atomic_function.py:251\u001b[0m, in \u001b[0;36mAtomicFunction.call_flat\u001b[1;34m(self, *args)\u001b[0m\n\u001b[0;32m    249\u001b[0m \u001b[38;5;28;01mwith\u001b[39;00m record\u001b[38;5;241m.\u001b[39mstop_recording():\n\u001b[0;32m    250\u001b[0m   \u001b[38;5;28;01mif\u001b[39;00m \u001b[38;5;28mself\u001b[39m\u001b[38;5;241m.\u001b[39m_bound_context\u001b[38;5;241m.\u001b[39mexecuting_eagerly():\n\u001b[1;32m--> 251\u001b[0m     outputs \u001b[38;5;241m=\u001b[39m \u001b[38;5;28mself\u001b[39m\u001b[38;5;241m.\u001b[39m_bound_context\u001b[38;5;241m.\u001b[39mcall_function(\n\u001b[0;32m    252\u001b[0m         \u001b[38;5;28mself\u001b[39m\u001b[38;5;241m.\u001b[39mname,\n\u001b[0;32m    253\u001b[0m         \u001b[38;5;28mlist\u001b[39m(args),\n\u001b[0;32m    254\u001b[0m         \u001b[38;5;28mlen\u001b[39m(\u001b[38;5;28mself\u001b[39m\u001b[38;5;241m.\u001b[39mfunction_type\u001b[38;5;241m.\u001b[39mflat_outputs),\n\u001b[0;32m    255\u001b[0m     )\n\u001b[0;32m    256\u001b[0m   \u001b[38;5;28;01melse\u001b[39;00m:\n\u001b[0;32m    257\u001b[0m     outputs \u001b[38;5;241m=\u001b[39m make_call_op_in_graph(\n\u001b[0;32m    258\u001b[0m         \u001b[38;5;28mself\u001b[39m,\n\u001b[0;32m    259\u001b[0m         \u001b[38;5;28mlist\u001b[39m(args),\n\u001b[0;32m    260\u001b[0m         \u001b[38;5;28mself\u001b[39m\u001b[38;5;241m.\u001b[39m_bound_context\u001b[38;5;241m.\u001b[39mfunction_call_options\u001b[38;5;241m.\u001b[39mas_attrs(),\n\u001b[0;32m    261\u001b[0m     )\n",
         "File \u001b[1;32m~\\anaconda3\\Lib\\site-packages\\tensorflow\\python\\eager\\context.py:1688\u001b[0m, in \u001b[0;36mContext.call_function\u001b[1;34m(self, name, tensor_inputs, num_outputs)\u001b[0m\n\u001b[0;32m   1686\u001b[0m cancellation_context \u001b[38;5;241m=\u001b[39m cancellation\u001b[38;5;241m.\u001b[39mcontext()\n\u001b[0;32m   1687\u001b[0m \u001b[38;5;28;01mif\u001b[39;00m cancellation_context \u001b[38;5;129;01mis\u001b[39;00m \u001b[38;5;28;01mNone\u001b[39;00m:\n\u001b[1;32m-> 1688\u001b[0m   outputs \u001b[38;5;241m=\u001b[39m execute\u001b[38;5;241m.\u001b[39mexecute(\n\u001b[0;32m   1689\u001b[0m       name\u001b[38;5;241m.\u001b[39mdecode(\u001b[38;5;124m\"\u001b[39m\u001b[38;5;124mutf-8\u001b[39m\u001b[38;5;124m\"\u001b[39m),\n\u001b[0;32m   1690\u001b[0m       num_outputs\u001b[38;5;241m=\u001b[39mnum_outputs,\n\u001b[0;32m   1691\u001b[0m       inputs\u001b[38;5;241m=\u001b[39mtensor_inputs,\n\u001b[0;32m   1692\u001b[0m       attrs\u001b[38;5;241m=\u001b[39mattrs,\n\u001b[0;32m   1693\u001b[0m       ctx\u001b[38;5;241m=\u001b[39m\u001b[38;5;28mself\u001b[39m,\n\u001b[0;32m   1694\u001b[0m   )\n\u001b[0;32m   1695\u001b[0m \u001b[38;5;28;01melse\u001b[39;00m:\n\u001b[0;32m   1696\u001b[0m   outputs \u001b[38;5;241m=\u001b[39m execute\u001b[38;5;241m.\u001b[39mexecute_with_cancellation(\n\u001b[0;32m   1697\u001b[0m       name\u001b[38;5;241m.\u001b[39mdecode(\u001b[38;5;124m\"\u001b[39m\u001b[38;5;124mutf-8\u001b[39m\u001b[38;5;124m\"\u001b[39m),\n\u001b[0;32m   1698\u001b[0m       num_outputs\u001b[38;5;241m=\u001b[39mnum_outputs,\n\u001b[1;32m   (...)\u001b[0m\n\u001b[0;32m   1702\u001b[0m       cancellation_manager\u001b[38;5;241m=\u001b[39mcancellation_context,\n\u001b[0;32m   1703\u001b[0m   )\n",
         "File \u001b[1;32m~\\anaconda3\\Lib\\site-packages\\tensorflow\\python\\eager\\execute.py:53\u001b[0m, in \u001b[0;36mquick_execute\u001b[1;34m(op_name, num_outputs, inputs, attrs, ctx, name)\u001b[0m\n\u001b[0;32m     51\u001b[0m \u001b[38;5;28;01mtry\u001b[39;00m:\n\u001b[0;32m     52\u001b[0m   ctx\u001b[38;5;241m.\u001b[39mensure_initialized()\n\u001b[1;32m---> 53\u001b[0m   tensors \u001b[38;5;241m=\u001b[39m pywrap_tfe\u001b[38;5;241m.\u001b[39mTFE_Py_Execute(ctx\u001b[38;5;241m.\u001b[39m_handle, device_name, op_name,\n\u001b[0;32m     54\u001b[0m                                       inputs, attrs, num_outputs)\n\u001b[0;32m     55\u001b[0m \u001b[38;5;28;01mexcept\u001b[39;00m core\u001b[38;5;241m.\u001b[39m_NotOkStatusException \u001b[38;5;28;01mas\u001b[39;00m e:\n\u001b[0;32m     56\u001b[0m   \u001b[38;5;28;01mif\u001b[39;00m name \u001b[38;5;129;01mis\u001b[39;00m \u001b[38;5;129;01mnot\u001b[39;00m \u001b[38;5;28;01mNone\u001b[39;00m:\n",
         "\u001b[1;31mKeyboardInterrupt\u001b[0m: "
        ]
       }
      ],
      "source": [
       "history = model.fit(\n",
       "    X_train_windows, y_train_windows_encoded,\n",
       "    validation_data=(X_val_windows, y_val_windows_encoded),\n",
       "    epochs=100,\n",
       "    batch_size=64,\n",
       "    class_weight=class_weights\n",
       ")"
      ]
     },
     {
      "cell_type": "code",
      "execution_count": null,
      "id": "51a30c92",
      "metadata": {},
      "outputs": [],
      "source": [
       "import matplotlib.pyplot as plt\n",
       "import seaborn as sns\n",
       "from sklearn.metrics import (confusion_matrix, classification_report, \n",
       "                             precision_score, recall_score, f1_score)\n",
       "import numpy as np\n",
       "\n",
       "def evaluate_model(model, X_test, y_test, label_classes=None, plot_confusion_matrix=True, plot_roc=True):\n",
       "    # Evaluate the model for loss and accuracy\n",
       "    loss, accuracy = model.evaluate(X_test, y_test, verbose=0)\n",
       "    print(\"Test Loss: {:.4f}\".format(loss))\n",
       "    print(\"Test Accuracy: {:.4f}\".format(accuracy))\n",
       "\n",
       "    # Generate prediction probabilities and predicted classes\n",
       "    y_pred_prob = model.predict(X_test)\n",
       "    \n",
       "    # Apply threshold for binary classification (0.5)\n",
       "    y_pred = (y_pred_prob > 0.5).astype(\"int32\")  # Convert to 0 or 1\n",
       "\n",
       "    # Compute confusion matrix\n",
       "    cm = confusion_matrix(y_test, y_pred)\n",
       "    if plot_confusion_matrix:\n",
       "        plt.figure(figsize=(10, 8))\n",
       "        sns.heatmap(cm, annot=True, fmt=\"d\", cmap='Blues', \n",
       "                    xticklabels=label_classes if label_classes else ['Class 0', 'Class 1'], \n",
       "                    yticklabels=label_classes if label_classes else ['Class 0', 'Class 1'])\n",
       "        plt.xlabel(\"Predicted Label\")\n",
       "        plt.ylabel(\"True Label\")\n",
       "        plt.title(\"Confusion Matrix\")\n",
       "        plt.show()\n",
       "\n",
       "    # Compute and print classification report\n",
       "    report = classification_report(y_test, y_pred, target_names=label_classes if label_classes else ['Class 0', 'Class 1'])\n",
       "    print(\"Classification Report:\\n\", report)\n",
       "\n",
       "    # Compute binary precision, recall, and F1 scores\n",
       "    precision = precision_score(y_test, y_pred, average='binary')\n",
       "    recall = recall_score(y_test, y_pred, average='binary')\n",
       "    f1 = f1_score(y_test, y_pred, average='binary')\n",
       "    print(\"Binary Precision: {:.4f}\".format(precision))\n",
       "    print(\"Binary Recall: {:.4f}\".format(recall))\n",
       "    print(\"Binary F1 Score: {:.4f}\".format(f1))\n",
       "\n",
       "    metrics = {\n",
       "        'loss': loss,\n",
       "        'accuracy': accuracy,\n",
       "        'precision': precision,\n",
       "        'recall': recall,\n",
       "        'f1_score': f1\n",
       "    }\n",
       "\n",
       "    return metrics\n"
      ]
     },
     {
      "cell_type": "code",
      "execution_count": null,
      "id": "d89fa750",
      "metadata": {},
      "outputs": [],
      "source": [
       "metrics = evaluate_model(model, X_test_windows, y_test_windows_encoded)\n"
      ]
     },
     {
      "cell_type": "code",
      "execution_count": null,
      "id": "b6ea0521-0f55-4516-a5ef-53d17373ff51",
      "metadata": {},
      "outputs": [],
      "source": []
     }
    ],
    "metadata": {
     "kernelspec": {
      "display_name": "Python 3 (ipykernel)",
      "language": "python",
      "name": "python3"
     },
     "language_info": {
      "codemirror_mode": {
       "name": "ipython",
       "version": 3
      },
      "file_extension": ".py",
      "mimetype": "text/x-python",
      "name": "python",
      "nbconvert_exporter": "python",
      "pygments_lexer": "ipython3",
      "version": "3.11.5"
     }
    },
    "nbformat": 4,
    "nbformat_minor": 5
   }