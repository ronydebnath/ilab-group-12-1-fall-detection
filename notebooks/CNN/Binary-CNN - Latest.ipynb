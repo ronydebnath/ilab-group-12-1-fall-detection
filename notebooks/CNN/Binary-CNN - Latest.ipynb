{
 "cells": [
  {
   "cell_type": "code",
   "execution_count": 1,
   "id": "c2ea3f13",
   "metadata": {},
   "outputs": [],
   "source": [
    "import pandas as pd\n",
    "import numpy as np\n",
    "import os\n"
   ]
  },
  {
   "cell_type": "code",
   "execution_count": 2,
   "id": "cb9ea3e8",
   "metadata": {},
   "outputs": [],
   "source": [
    "file_path = \"../../data/raw/MobiAct_combined.csv\""
   ]
  },
  {
   "cell_type": "code",
   "execution_count": 3,
   "id": "75e2198e",
   "metadata": {},
   "outputs": [],
   "source": [
    "dtype_map = {\n",
    "    \"subject_id\": \"int16\",\n",
    "    \"trial\": \"int16\",\n",
    "    \"acc_x\": \"float32\", \"acc_y\": \"float32\", \"acc_z\": \"float32\",\n",
    "    \"gyro_x\": \"float32\",\"gyro_y\": \"float32\",\"gyro_z\": \"float32\",\n",
    "    \"azimuth\": \"float32\",\t\"pitch\": \"float32\",\t\"roll\": \"float32\",\n",
    "    \"label\": \"category\"\n",
    "}\n",
    "\n",
    "df = pd.read_csv(\n",
    "    file_path,\n",
    "    dtype=dtype_map,        # reduces memory footprint \n",
    "    engine='c')   "
   ]
  },
  {
   "cell_type": "code",
   "execution_count": 4,
   "id": "83f459fb",
   "metadata": {},
   "outputs": [
    {
     "data": {
      "text/html": [
       "<div>\n",
       "<style scoped>\n",
       "    .dataframe tbody tr th:only-of-type {\n",
       "        vertical-align: middle;\n",
       "    }\n",
       "\n",
       "    .dataframe tbody tr th {\n",
       "        vertical-align: top;\n",
       "    }\n",
       "\n",
       "    .dataframe thead th {\n",
       "        text-align: right;\n",
       "    }\n",
       "</style>\n",
       "<table border=\"1\" class=\"dataframe\">\n",
       "  <thead>\n",
       "    <tr style=\"text-align: right;\">\n",
       "      <th></th>\n",
       "      <th>timestamp</th>\n",
       "      <th>rel_time</th>\n",
       "      <th>acc_x</th>\n",
       "      <th>acc_y</th>\n",
       "      <th>acc_z</th>\n",
       "      <th>gyro_x</th>\n",
       "      <th>gyro_y</th>\n",
       "      <th>gyro_z</th>\n",
       "      <th>azimuth</th>\n",
       "      <th>pitch</th>\n",
       "      <th>roll</th>\n",
       "      <th>label</th>\n",
       "      <th>subject_id</th>\n",
       "      <th>trial</th>\n",
       "    </tr>\n",
       "  </thead>\n",
       "  <tbody>\n",
       "    <tr>\n",
       "      <th>0</th>\n",
       "      <td>1295405261000</td>\n",
       "      <td>0.000000</td>\n",
       "      <td>-1.407311</td>\n",
       "      <td>9.614395</td>\n",
       "      <td>-2.086666</td>\n",
       "      <td>-0.844216</td>\n",
       "      <td>0.409280</td>\n",
       "      <td>0.086437</td>\n",
       "      <td>92.746895</td>\n",
       "      <td>-36.879684</td>\n",
       "      <td>-11.741077</td>\n",
       "      <td>STD</td>\n",
       "      <td>10</td>\n",
       "      <td>1</td>\n",
       "    </tr>\n",
       "    <tr>\n",
       "      <th>1</th>\n",
       "      <td>1295410262000</td>\n",
       "      <td>0.005001</td>\n",
       "      <td>-1.406354</td>\n",
       "      <td>9.612960</td>\n",
       "      <td>-2.084512</td>\n",
       "      <td>-0.711047</td>\n",
       "      <td>0.346971</td>\n",
       "      <td>0.076358</td>\n",
       "      <td>92.205360</td>\n",
       "      <td>-37.470173</td>\n",
       "      <td>-11.839779</td>\n",
       "      <td>STD</td>\n",
       "      <td>10</td>\n",
       "      <td>1</td>\n",
       "    </tr>\n",
       "    <tr>\n",
       "      <th>2</th>\n",
       "      <td>1295415352000</td>\n",
       "      <td>0.010091</td>\n",
       "      <td>-1.405380</td>\n",
       "      <td>9.611498</td>\n",
       "      <td>-2.082320</td>\n",
       "      <td>-0.598953</td>\n",
       "      <td>0.093462</td>\n",
       "      <td>0.025045</td>\n",
       "      <td>91.743050</td>\n",
       "      <td>-38.090790</td>\n",
       "      <td>-11.880902</td>\n",
       "      <td>STD</td>\n",
       "      <td>10</td>\n",
       "      <td>1</td>\n",
       "    </tr>\n",
       "    <tr>\n",
       "      <th>3</th>\n",
       "      <td>1295420307000</td>\n",
       "      <td>0.015046</td>\n",
       "      <td>-1.404432</td>\n",
       "      <td>9.610076</td>\n",
       "      <td>-2.080186</td>\n",
       "      <td>-0.128893</td>\n",
       "      <td>-0.012828</td>\n",
       "      <td>-0.002443</td>\n",
       "      <td>91.267319</td>\n",
       "      <td>-38.842915</td>\n",
       "      <td>-11.933741</td>\n",
       "      <td>STD</td>\n",
       "      <td>10</td>\n",
       "      <td>1</td>\n",
       "    </tr>\n",
       "    <tr>\n",
       "      <th>4</th>\n",
       "      <td>1295425257000</td>\n",
       "      <td>0.019996</td>\n",
       "      <td>-1.403484</td>\n",
       "      <td>9.608654</td>\n",
       "      <td>-2.078054</td>\n",
       "      <td>0.049480</td>\n",
       "      <td>0.018326</td>\n",
       "      <td>0.016493</td>\n",
       "      <td>90.819679</td>\n",
       "      <td>-39.538643</td>\n",
       "      <td>-11.957446</td>\n",
       "      <td>STD</td>\n",
       "      <td>10</td>\n",
       "      <td>1</td>\n",
       "    </tr>\n",
       "    <tr>\n",
       "      <th>...</th>\n",
       "      <td>...</td>\n",
       "      <td>...</td>\n",
       "      <td>...</td>\n",
       "      <td>...</td>\n",
       "      <td>...</td>\n",
       "      <td>...</td>\n",
       "      <td>...</td>\n",
       "      <td>...</td>\n",
       "      <td>...</td>\n",
       "      <td>...</td>\n",
       "      <td>...</td>\n",
       "      <td>...</td>\n",
       "      <td>...</td>\n",
       "      <td>...</td>\n",
       "    </tr>\n",
       "    <tr>\n",
       "      <th>16756320</th>\n",
       "      <td>10354577784000</td>\n",
       "      <td>299.969995</td>\n",
       "      <td>-0.907934</td>\n",
       "      <td>13.533889</td>\n",
       "      <td>4.335380</td>\n",
       "      <td>1.207070</td>\n",
       "      <td>-6.215859</td>\n",
       "      <td>1.962099</td>\n",
       "      <td>218.442352</td>\n",
       "      <td>-56.026966</td>\n",
       "      <td>-33.223778</td>\n",
       "      <td>WAL</td>\n",
       "      <td>9</td>\n",
       "      <td>1</td>\n",
       "    </tr>\n",
       "    <tr>\n",
       "      <th>16756321</th>\n",
       "      <td>10354582775000</td>\n",
       "      <td>299.974986</td>\n",
       "      <td>-1.867024</td>\n",
       "      <td>12.331459</td>\n",
       "      <td>2.439285</td>\n",
       "      <td>0.968221</td>\n",
       "      <td>-6.103155</td>\n",
       "      <td>1.773953</td>\n",
       "      <td>220.688690</td>\n",
       "      <td>-57.077301</td>\n",
       "      <td>-31.897688</td>\n",
       "      <td>WAL</td>\n",
       "      <td>9</td>\n",
       "      <td>1</td>\n",
       "    </tr>\n",
       "    <tr>\n",
       "      <th>16756322</th>\n",
       "      <td>10354588060000</td>\n",
       "      <td>299.980271</td>\n",
       "      <td>-2.924407</td>\n",
       "      <td>11.485553</td>\n",
       "      <td>0.782717</td>\n",
       "      <td>0.740674</td>\n",
       "      <td>-6.034738</td>\n",
       "      <td>1.459663</td>\n",
       "      <td>222.816406</td>\n",
       "      <td>-58.044624</td>\n",
       "      <td>-30.614605</td>\n",
       "      <td>WAL</td>\n",
       "      <td>9</td>\n",
       "      <td>1</td>\n",
       "    </tr>\n",
       "    <tr>\n",
       "      <th>16756323</th>\n",
       "      <td>10354592749000</td>\n",
       "      <td>299.984960</td>\n",
       "      <td>-3.726923</td>\n",
       "      <td>11.084407</td>\n",
       "      <td>-0.258194</td>\n",
       "      <td>0.536645</td>\n",
       "      <td>-5.905845</td>\n",
       "      <td>1.027781</td>\n",
       "      <td>224.671646</td>\n",
       "      <td>-58.777103</td>\n",
       "      <td>-29.624798</td>\n",
       "      <td>WAL</td>\n",
       "      <td>9</td>\n",
       "      <td>1</td>\n",
       "    </tr>\n",
       "    <tr>\n",
       "      <th>16756324</th>\n",
       "      <td>10354597768000</td>\n",
       "      <td>299.989979</td>\n",
       "      <td>-4.531702</td>\n",
       "      <td>10.794686</td>\n",
       "      <td>-1.200935</td>\n",
       "      <td>0.355524</td>\n",
       "      <td>-5.699373</td>\n",
       "      <td>0.550390</td>\n",
       "      <td>226.457153</td>\n",
       "      <td>-59.391144</td>\n",
       "      <td>-28.733915</td>\n",
       "      <td>WAL</td>\n",
       "      <td>9</td>\n",
       "      <td>1</td>\n",
       "    </tr>\n",
       "  </tbody>\n",
       "</table>\n",
       "<p>16756325 rows × 14 columns</p>\n",
       "</div>"
      ],
      "text/plain": [
       "               timestamp    rel_time     acc_x      acc_y     acc_z    gyro_x  \\\n",
       "0          1295405261000    0.000000 -1.407311   9.614395 -2.086666 -0.844216   \n",
       "1          1295410262000    0.005001 -1.406354   9.612960 -2.084512 -0.711047   \n",
       "2          1295415352000    0.010091 -1.405380   9.611498 -2.082320 -0.598953   \n",
       "3          1295420307000    0.015046 -1.404432   9.610076 -2.080186 -0.128893   \n",
       "4          1295425257000    0.019996 -1.403484   9.608654 -2.078054  0.049480   \n",
       "...                  ...         ...       ...        ...       ...       ...   \n",
       "16756320  10354577784000  299.969995 -0.907934  13.533889  4.335380  1.207070   \n",
       "16756321  10354582775000  299.974986 -1.867024  12.331459  2.439285  0.968221   \n",
       "16756322  10354588060000  299.980271 -2.924407  11.485553  0.782717  0.740674   \n",
       "16756323  10354592749000  299.984960 -3.726923  11.084407 -0.258194  0.536645   \n",
       "16756324  10354597768000  299.989979 -4.531702  10.794686 -1.200935  0.355524   \n",
       "\n",
       "            gyro_y    gyro_z     azimuth      pitch       roll label  \\\n",
       "0         0.409280  0.086437   92.746895 -36.879684 -11.741077   STD   \n",
       "1         0.346971  0.076358   92.205360 -37.470173 -11.839779   STD   \n",
       "2         0.093462  0.025045   91.743050 -38.090790 -11.880902   STD   \n",
       "3        -0.012828 -0.002443   91.267319 -38.842915 -11.933741   STD   \n",
       "4         0.018326  0.016493   90.819679 -39.538643 -11.957446   STD   \n",
       "...            ...       ...         ...        ...        ...   ...   \n",
       "16756320 -6.215859  1.962099  218.442352 -56.026966 -33.223778   WAL   \n",
       "16756321 -6.103155  1.773953  220.688690 -57.077301 -31.897688   WAL   \n",
       "16756322 -6.034738  1.459663  222.816406 -58.044624 -30.614605   WAL   \n",
       "16756323 -5.905845  1.027781  224.671646 -58.777103 -29.624798   WAL   \n",
       "16756324 -5.699373  0.550390  226.457153 -59.391144 -28.733915   WAL   \n",
       "\n",
       "          subject_id  trial  \n",
       "0                 10      1  \n",
       "1                 10      1  \n",
       "2                 10      1  \n",
       "3                 10      1  \n",
       "4                 10      1  \n",
       "...              ...    ...  \n",
       "16756320           9      1  \n",
       "16756321           9      1  \n",
       "16756322           9      1  \n",
       "16756323           9      1  \n",
       "16756324           9      1  \n",
       "\n",
       "[16756325 rows x 14 columns]"
      ]
     },
     "execution_count": 4,
     "metadata": {},
     "output_type": "execute_result"
    }
   ],
   "source": [
    "df"
   ]
  },
  {
   "cell_type": "code",
   "execution_count": 5,
   "id": "1b078cf2",
   "metadata": {},
   "outputs": [],
   "source": [
    "\n",
    "fall_labels = ['BSC', 'FKL', 'SDL', 'FOL']\n",
    "post_fall = ['LYI']\n",
    "\n",
    "df['fall_label'] = df['label'].apply(\n",
    "    lambda x: 'FALL' if x in fall_labels else ('POST_FALL' if x in post_fall else 'ADL')\n",
    ")\n"
   ]
  },
  {
   "cell_type": "code",
   "execution_count": 6,
   "id": "8db88954",
   "metadata": {},
   "outputs": [],
   "source": [
    "import scipy.signal as signal\n",
    "def apply_low_pass_filter(data, cutoff=3, fs=10, order=4):\n",
    "    nyquist = 0.5 * fs\n",
    "    normal_cutoff = cutoff / nyquist\n",
    "    b, a = signal.butter(order, normal_cutoff, btype='low', analog=False)\n",
    "    df_filtered = data.copy()\n",
    "    for col in ['acc_x', 'acc_y', 'acc_z', 'gyro_x', 'gyro_y', 'gyro_z']:\n",
    "        df_filtered[col] = signal.filtfilt(b, a, data[col])\n",
    "    return df_filtered\n"
   ]
  },
  {
   "cell_type": "code",
   "execution_count": 7,
   "id": "bb065bcb",
   "metadata": {},
   "outputs": [],
   "source": [
    "df = apply_low_pass_filter(df)"
   ]
  },
  {
   "cell_type": "code",
   "execution_count": 8,
   "id": "b106fd34",
   "metadata": {},
   "outputs": [],
   "source": [
    "from sklearn.preprocessing import StandardScaler\n",
    "\n",
    "scaler = StandardScaler()\n",
    "sensor_cols = ['acc_x', 'acc_y', 'acc_z', 'gyro_x', 'gyro_y', 'gyro_z', 'azimuth','pitch','roll']\n",
    "df[sensor_cols] = scaler.fit_transform(df[sensor_cols])"
   ]
  },
  {
   "cell_type": "code",
   "execution_count": 9,
   "id": "d9e678e8",
   "metadata": {},
   "outputs": [],
   "source": [
    "X = df[sensor_cols]\n",
    "y = df['fall_label']"
   ]
  },
  {
   "cell_type": "markdown",
   "id": "db51d583",
   "metadata": {},
   "source": [
    "### Extract window / Label data based on dynamic window"
   ]
  },
  {
   "cell_type": "code",
   "execution_count": 10,
   "id": "56b44f6d",
   "metadata": {},
   "outputs": [],
   "source": [
    "from typing import Tuple, List\n",
    "\n",
    "def sliding_multi_window(\n",
    "    X: np.ndarray,\n",
    "    y: np.ndarray,\n",
    "    fs: int = 200,\n",
    "    subwindow_duration: float = 0.2,\n",
    "    overlap: float = 0.5,\n",
    "    include_post_fall: bool = True\n",
    ") -> Tuple[np.ndarray, np.ndarray]:\n",
    "    \"\"\"\n",
    "    Implements label-based main windows with fixed-size, overlapping sub-windows.\n",
    "    \n",
    "    Parameters\n",
    "    ----------\n",
    "    X : np.ndarray, shape (n_samples, n_features)\n",
    "        Time-series sensor data (e.g., acc_x, acc_y, ..., gyro_z).\n",
    "    y : np.ndarray, shape (n_samples,)\n",
    "        Frame-level labels: 'ADL', 'FALL', 'POST_FALL', etc.\n",
    "    fs : int\n",
    "        Sampling rate in Hz (e.g., 200).\n",
    "    subwindow_duration : float\n",
    "        Duration of each sub-window in seconds (e.g., 0.2).\n",
    "    overlap : float\n",
    "        Fractional overlap between sub-windows (0 to <1, e.g., 0.5 for 50%).\n",
    "    include_post_fall : bool\n",
    "        If True, emits 'POST_FALL' windows; if False, merges POST_FALL into 'FALL'.\n",
    "    \n",
    "    Returns\n",
    "    -------\n",
    "    X_sub : np.ndarray, shape (n_subwindows, window_size, n_features)\n",
    "        Array of all extracted sub-windows.\n",
    "    y_sub : np.ndarray, shape (n_subwindows,)\n",
    "        Corresponding labels for each sub-window.\n",
    "    \"\"\"\n",
    "    # Compute window parameters\n",
    "    window_size = int(fs * subwindow_duration)\n",
    "    step_size = int(window_size * (1 - overlap))\n",
    "    if step_size < 1:\n",
    "        raise ValueError(\"Overlap too large: step size <1 sample.\")\n",
    "    \n",
    "    # Ensure proper indexing\n",
    "    X_arr = np.asarray(X)\n",
    "    y_arr = np.asarray(y)\n",
    "    \n",
    "    X_sub, y_sub = [], []\n",
    "    \n",
    "    # Helper to slice sub-windows within a main segment\n",
    "    def emit_windows(segment: np.ndarray, label: str):\n",
    "        for start in range(0, len(segment) - window_size + 1, step_size):\n",
    "            end = start + window_size\n",
    "            X_sub.append(segment[start:end])\n",
    "            y_sub.append(label)\n",
    "    \n",
    "    # Find contiguous main windows by label\n",
    "    curr_label = y_arr[0]\n",
    "    seg_start = 0\n",
    "    for i in range(1, len(y_arr)):\n",
    "        if y_arr[i] != curr_label:\n",
    "            segment = X_arr[seg_start:i]\n",
    "            if curr_label == \"ADL\":\n",
    "                emit_windows(segment, \"ADL\")\n",
    "            elif curr_label == \"FALL\":\n",
    "                emit_windows(segment, \"FALL\")\n",
    "            elif curr_label == \"POST_FALL\":\n",
    "                if include_post_fall:\n",
    "                    emit_windows(segment, \"POST_FALL\")\n",
    "                else:\n",
    "                    emit_windows(segment, \"FALL\")\n",
    "            # start next main window\n",
    "            seg_start = i\n",
    "            curr_label = y_arr[i]\n",
    "    \n",
    "    # Handle the last main window\n",
    "    segment = X_arr[seg_start:]\n",
    "    if curr_label == \"ADL\":\n",
    "        emit_windows(segment, \"ADL\")\n",
    "    elif curr_label == \"FALL\":\n",
    "        emit_windows(segment, \"FALL\")\n",
    "    elif curr_label == \"POST_FALL\":\n",
    "        if include_post_fall:\n",
    "            emit_windows(segment, \"POST_FALL\")\n",
    "        else:\n",
    "            emit_windows(segment, \"FALL\")\n",
    "    \n",
    "    return np.stack(X_sub, axis=0), np.array(y_sub)"
   ]
  },
  {
   "cell_type": "code",
   "execution_count": null,
   "id": "9356847b",
   "metadata": {},
   "outputs": [],
   "source": [
    "X_windows, y_windows = sliding_multi_window(X, y, fs =200,subwindow_duration=0.4, overlap=0.5,include_post_fall=False)"
   ]
  },
  {
   "cell_type": "code",
   "execution_count": 28,
   "id": "4d415d92",
   "metadata": {},
   "outputs": [
    {
     "data": {
      "text/plain": [
       "0   \n",
       "ADL     306463\n",
       "FALL     25266\n",
       "Name: count, dtype: int64"
      ]
     },
     "execution_count": 28,
     "metadata": {},
     "output_type": "execute_result"
    }
   ],
   "source": [
    "pd.DataFrame(y_windows).value_counts()"
   ]
  },
  {
   "cell_type": "markdown",
   "id": "43524836",
   "metadata": {},
   "source": [
    "### Train/val/test split"
   ]
  },
  {
   "cell_type": "code",
   "execution_count": 29,
   "id": "b8062655",
   "metadata": {},
   "outputs": [],
   "source": [
    "from sklearn.model_selection import train_test_split\n",
    "\n",
    "# 1) First split off the test set (e.g., 20% of the data):\n",
    "X_temp, X_test, y_temp, y_test = train_test_split(\n",
    "    X_windows,\n",
    "    y_windows,\n",
    "    test_size=0.2,\n",
    "    stratify=y_windows,\n",
    "    random_state=42\n",
    ")\n",
    "\n",
    "# 2) Now split the remaining ‘temp’ into train and val (e.g., 10% of original → 12.5% of temp):\n",
    "X_train, X_val, y_train, y_val = train_test_split(\n",
    "    X_temp,\n",
    "    y_temp,\n",
    "    test_size=0.125,            # so that val ≈ 0.125 of temp → 0.1 of total\n",
    "    stratify=y_temp,\n",
    "    random_state=42\n",
    ")\n"
   ]
  },
  {
   "cell_type": "code",
   "execution_count": 30,
   "id": "9c7aec9e",
   "metadata": {},
   "outputs": [
    {
     "data": {
      "text/plain": [
       "0   \n",
       "ADL     214524\n",
       "FALL     17686\n",
       "Name: count, dtype: int64"
      ]
     },
     "execution_count": 30,
     "metadata": {},
     "output_type": "execute_result"
    }
   ],
   "source": [
    "pd.DataFrame(y_train).value_counts()"
   ]
  },
  {
   "cell_type": "markdown",
   "id": "9e1fef5d",
   "metadata": {},
   "source": [
    "### Encode variables"
   ]
  },
  {
   "cell_type": "code",
   "execution_count": 31,
   "id": "a7a1ac9d",
   "metadata": {},
   "outputs": [],
   "source": [
    "from sklearn.preprocessing import LabelEncoder\n",
    "le = LabelEncoder()\n",
    "y_train_encoded = le.fit_transform(y_train)\n",
    "y_val_encoded = le.transform(y_val)\n",
    "y_test_encoded = le.transform(y_test)\n"
   ]
  },
  {
   "cell_type": "code",
   "execution_count": 32,
   "id": "e2dd7821",
   "metadata": {},
   "outputs": [],
   "source": [
    "# Ensure they are NumPy arrays\n",
    "y_train_encoded = np.array(y_train_encoded)\n",
    "y_val_encoded = np.array(y_val_encoded)\n",
    "y_test_encoded = np.array(y_test_encoded)"
   ]
  },
  {
   "cell_type": "markdown",
   "id": "0e9ab8e1",
   "metadata": {},
   "source": [
    "### Encode Label"
   ]
  },
  {
   "cell_type": "code",
   "execution_count": 33,
   "id": "1d15f952",
   "metadata": {},
   "outputs": [
    {
     "data": {
      "text/plain": [
       "(232210, 100, 9)"
      ]
     },
     "execution_count": 33,
     "metadata": {},
     "output_type": "execute_result"
    }
   ],
   "source": [
    "X_train.shape"
   ]
  },
  {
   "cell_type": "code",
   "execution_count": 34,
   "id": "c852635f",
   "metadata": {},
   "outputs": [],
   "source": [
    "import tensorflow as tf\n",
    "from tensorflow.keras.losses import Loss\n",
    "\n",
    "class SparseCategoricalFocalLoss(Loss):\n",
    "    def __init__(self, gamma=2., alpha=1., from_logits=False, **kwargs):\n",
    "        super().__init__(**kwargs)\n",
    "        self.gamma = gamma\n",
    "        self.alpha = alpha\n",
    "        self.from_logits = from_logits\n",
    "\n",
    "    def call(self, y_true, y_pred):\n",
    "        y_true = tf.cast(y_true, tf.int32)\n",
    "        y_true_one_hot = tf.one_hot(y_true, depth=tf.shape(y_pred)[-1])\n",
    "\n",
    "        if self.from_logits:\n",
    "            y_pred = tf.nn.softmax(y_pred)\n",
    "\n",
    "        pt = tf.reduce_sum(y_pred * y_true_one_hot, axis=-1)\n",
    "        loss = -self.alpha * tf.pow(1. - pt, self.gamma) * tf.math.log(tf.clip_by_value(pt, 1e-8, 1.0))\n",
    "        return tf.reduce_mean(loss)\n"
   ]
  },
  {
   "cell_type": "code",
   "execution_count": 35,
   "id": "c88c7dc3",
   "metadata": {},
   "outputs": [
    {
     "name": "stderr",
     "output_type": "stream",
     "text": [
      "c:\\Users\\sovan\\Desktop\\Fall Detection\\New ilab\\ilab-group-12-1-fall-detection\\.venv\\Lib\\site-packages\\keras\\src\\layers\\rnn\\rnn.py:200: UserWarning: Do not pass an `input_shape`/`input_dim` argument to a layer. When using Sequential models, prefer using an `Input(shape)` object as the first layer in the model instead.\n",
      "  super().__init__(**kwargs)\n"
     ]
    },
    {
     "data": {
      "text/html": [
       "<pre style=\"white-space:pre;overflow-x:auto;line-height:normal;font-family:Menlo,'DejaVu Sans Mono',consolas,'Courier New',monospace\"><span style=\"font-weight: bold\">Model: \"sequential_1\"</span>\n",
       "</pre>\n"
      ],
      "text/plain": [
       "\u001b[1mModel: \"sequential_1\"\u001b[0m\n"
      ]
     },
     "metadata": {},
     "output_type": "display_data"
    },
    {
     "data": {
      "text/html": [
       "<pre style=\"white-space:pre;overflow-x:auto;line-height:normal;font-family:Menlo,'DejaVu Sans Mono',consolas,'Courier New',monospace\">┏━━━━━━━━━━━━━━━━━━━━━━━━━━━━━━━━━┳━━━━━━━━━━━━━━━━━━━━━━━━┳━━━━━━━━━━━━━━━┓\n",
       "┃<span style=\"font-weight: bold\"> Layer (type)                    </span>┃<span style=\"font-weight: bold\"> Output Shape           </span>┃<span style=\"font-weight: bold\">       Param # </span>┃\n",
       "┡━━━━━━━━━━━━━━━━━━━━━━━━━━━━━━━━━╇━━━━━━━━━━━━━━━━━━━━━━━━╇━━━━━━━━━━━━━━━┩\n",
       "│ lstm_2 (<span style=\"color: #0087ff; text-decoration-color: #0087ff\">LSTM</span>)                   │ (<span style=\"color: #00d7ff; text-decoration-color: #00d7ff\">None</span>, <span style=\"color: #00af00; text-decoration-color: #00af00\">100</span>, <span style=\"color: #00af00; text-decoration-color: #00af00\">32</span>)        │         <span style=\"color: #00af00; text-decoration-color: #00af00\">5,376</span> │\n",
       "├─────────────────────────────────┼────────────────────────┼───────────────┤\n",
       "│ lstm_3 (<span style=\"color: #0087ff; text-decoration-color: #0087ff\">LSTM</span>)                   │ (<span style=\"color: #00d7ff; text-decoration-color: #00d7ff\">None</span>, <span style=\"color: #00af00; text-decoration-color: #00af00\">100</span>, <span style=\"color: #00af00; text-decoration-color: #00af00\">32</span>)        │         <span style=\"color: #00af00; text-decoration-color: #00af00\">8,320</span> │\n",
       "├─────────────────────────────────┼────────────────────────┼───────────────┤\n",
       "│ conv1d_2 (<span style=\"color: #0087ff; text-decoration-color: #0087ff\">Conv1D</span>)               │ (<span style=\"color: #00d7ff; text-decoration-color: #00d7ff\">None</span>, <span style=\"color: #00af00; text-decoration-color: #00af00\">49</span>, <span style=\"color: #00af00; text-decoration-color: #00af00\">64</span>)         │         <span style=\"color: #00af00; text-decoration-color: #00af00\">6,208</span> │\n",
       "├─────────────────────────────────┼────────────────────────┼───────────────┤\n",
       "│ max_pooling1d_1 (<span style=\"color: #0087ff; text-decoration-color: #0087ff\">MaxPooling1D</span>)  │ (<span style=\"color: #00d7ff; text-decoration-color: #00d7ff\">None</span>, <span style=\"color: #00af00; text-decoration-color: #00af00\">24</span>, <span style=\"color: #00af00; text-decoration-color: #00af00\">64</span>)         │             <span style=\"color: #00af00; text-decoration-color: #00af00\">0</span> │\n",
       "├─────────────────────────────────┼────────────────────────┼───────────────┤\n",
       "│ conv1d_3 (<span style=\"color: #0087ff; text-decoration-color: #0087ff\">Conv1D</span>)               │ (<span style=\"color: #00d7ff; text-decoration-color: #00d7ff\">None</span>, <span style=\"color: #00af00; text-decoration-color: #00af00\">22</span>, <span style=\"color: #00af00; text-decoration-color: #00af00\">128</span>)        │        <span style=\"color: #00af00; text-decoration-color: #00af00\">24,704</span> │\n",
       "├─────────────────────────────────┼────────────────────────┼───────────────┤\n",
       "│ batch_normalization_1           │ (<span style=\"color: #00d7ff; text-decoration-color: #00d7ff\">None</span>, <span style=\"color: #00af00; text-decoration-color: #00af00\">22</span>, <span style=\"color: #00af00; text-decoration-color: #00af00\">128</span>)        │           <span style=\"color: #00af00; text-decoration-color: #00af00\">512</span> │\n",
       "│ (<span style=\"color: #0087ff; text-decoration-color: #0087ff\">BatchNormalization</span>)            │                        │               │\n",
       "├─────────────────────────────────┼────────────────────────┼───────────────┤\n",
       "│ global_average_pooling1d_1      │ (<span style=\"color: #00d7ff; text-decoration-color: #00d7ff\">None</span>, <span style=\"color: #00af00; text-decoration-color: #00af00\">128</span>)            │             <span style=\"color: #00af00; text-decoration-color: #00af00\">0</span> │\n",
       "│ (<span style=\"color: #0087ff; text-decoration-color: #0087ff\">GlobalAveragePooling1D</span>)        │                        │               │\n",
       "├─────────────────────────────────┼────────────────────────┼───────────────┤\n",
       "│ dropout_1 (<span style=\"color: #0087ff; text-decoration-color: #0087ff\">Dropout</span>)             │ (<span style=\"color: #00d7ff; text-decoration-color: #00d7ff\">None</span>, <span style=\"color: #00af00; text-decoration-color: #00af00\">128</span>)            │             <span style=\"color: #00af00; text-decoration-color: #00af00\">0</span> │\n",
       "├─────────────────────────────────┼────────────────────────┼───────────────┤\n",
       "│ dense_1 (<span style=\"color: #0087ff; text-decoration-color: #0087ff\">Dense</span>)                 │ (<span style=\"color: #00d7ff; text-decoration-color: #00d7ff\">None</span>, <span style=\"color: #00af00; text-decoration-color: #00af00\">2</span>)              │           <span style=\"color: #00af00; text-decoration-color: #00af00\">258</span> │\n",
       "└─────────────────────────────────┴────────────────────────┴───────────────┘\n",
       "</pre>\n"
      ],
      "text/plain": [
       "┏━━━━━━━━━━━━━━━━━━━━━━━━━━━━━━━━━┳━━━━━━━━━━━━━━━━━━━━━━━━┳━━━━━━━━━━━━━━━┓\n",
       "┃\u001b[1m \u001b[0m\u001b[1mLayer (type)                   \u001b[0m\u001b[1m \u001b[0m┃\u001b[1m \u001b[0m\u001b[1mOutput Shape          \u001b[0m\u001b[1m \u001b[0m┃\u001b[1m \u001b[0m\u001b[1m      Param #\u001b[0m\u001b[1m \u001b[0m┃\n",
       "┡━━━━━━━━━━━━━━━━━━━━━━━━━━━━━━━━━╇━━━━━━━━━━━━━━━━━━━━━━━━╇━━━━━━━━━━━━━━━┩\n",
       "│ lstm_2 (\u001b[38;5;33mLSTM\u001b[0m)                   │ (\u001b[38;5;45mNone\u001b[0m, \u001b[38;5;34m100\u001b[0m, \u001b[38;5;34m32\u001b[0m)        │         \u001b[38;5;34m5,376\u001b[0m │\n",
       "├─────────────────────────────────┼────────────────────────┼───────────────┤\n",
       "│ lstm_3 (\u001b[38;5;33mLSTM\u001b[0m)                   │ (\u001b[38;5;45mNone\u001b[0m, \u001b[38;5;34m100\u001b[0m, \u001b[38;5;34m32\u001b[0m)        │         \u001b[38;5;34m8,320\u001b[0m │\n",
       "├─────────────────────────────────┼────────────────────────┼───────────────┤\n",
       "│ conv1d_2 (\u001b[38;5;33mConv1D\u001b[0m)               │ (\u001b[38;5;45mNone\u001b[0m, \u001b[38;5;34m49\u001b[0m, \u001b[38;5;34m64\u001b[0m)         │         \u001b[38;5;34m6,208\u001b[0m │\n",
       "├─────────────────────────────────┼────────────────────────┼───────────────┤\n",
       "│ max_pooling1d_1 (\u001b[38;5;33mMaxPooling1D\u001b[0m)  │ (\u001b[38;5;45mNone\u001b[0m, \u001b[38;5;34m24\u001b[0m, \u001b[38;5;34m64\u001b[0m)         │             \u001b[38;5;34m0\u001b[0m │\n",
       "├─────────────────────────────────┼────────────────────────┼───────────────┤\n",
       "│ conv1d_3 (\u001b[38;5;33mConv1D\u001b[0m)               │ (\u001b[38;5;45mNone\u001b[0m, \u001b[38;5;34m22\u001b[0m, \u001b[38;5;34m128\u001b[0m)        │        \u001b[38;5;34m24,704\u001b[0m │\n",
       "├─────────────────────────────────┼────────────────────────┼───────────────┤\n",
       "│ batch_normalization_1           │ (\u001b[38;5;45mNone\u001b[0m, \u001b[38;5;34m22\u001b[0m, \u001b[38;5;34m128\u001b[0m)        │           \u001b[38;5;34m512\u001b[0m │\n",
       "│ (\u001b[38;5;33mBatchNormalization\u001b[0m)            │                        │               │\n",
       "├─────────────────────────────────┼────────────────────────┼───────────────┤\n",
       "│ global_average_pooling1d_1      │ (\u001b[38;5;45mNone\u001b[0m, \u001b[38;5;34m128\u001b[0m)            │             \u001b[38;5;34m0\u001b[0m │\n",
       "│ (\u001b[38;5;33mGlobalAveragePooling1D\u001b[0m)        │                        │               │\n",
       "├─────────────────────────────────┼────────────────────────┼───────────────┤\n",
       "│ dropout_1 (\u001b[38;5;33mDropout\u001b[0m)             │ (\u001b[38;5;45mNone\u001b[0m, \u001b[38;5;34m128\u001b[0m)            │             \u001b[38;5;34m0\u001b[0m │\n",
       "├─────────────────────────────────┼────────────────────────┼───────────────┤\n",
       "│ dense_1 (\u001b[38;5;33mDense\u001b[0m)                 │ (\u001b[38;5;45mNone\u001b[0m, \u001b[38;5;34m2\u001b[0m)              │           \u001b[38;5;34m258\u001b[0m │\n",
       "└─────────────────────────────────┴────────────────────────┴───────────────┘\n"
      ]
     },
     "metadata": {},
     "output_type": "display_data"
    },
    {
     "data": {
      "text/html": [
       "<pre style=\"white-space:pre;overflow-x:auto;line-height:normal;font-family:Menlo,'DejaVu Sans Mono',consolas,'Courier New',monospace\"><span style=\"font-weight: bold\"> Total params: </span><span style=\"color: #00af00; text-decoration-color: #00af00\">45,378</span> (177.26 KB)\n",
       "</pre>\n"
      ],
      "text/plain": [
       "\u001b[1m Total params: \u001b[0m\u001b[38;5;34m45,378\u001b[0m (177.26 KB)\n"
      ]
     },
     "metadata": {},
     "output_type": "display_data"
    },
    {
     "data": {
      "text/html": [
       "<pre style=\"white-space:pre;overflow-x:auto;line-height:normal;font-family:Menlo,'DejaVu Sans Mono',consolas,'Courier New',monospace\"><span style=\"font-weight: bold\"> Trainable params: </span><span style=\"color: #00af00; text-decoration-color: #00af00\">45,122</span> (176.26 KB)\n",
       "</pre>\n"
      ],
      "text/plain": [
       "\u001b[1m Trainable params: \u001b[0m\u001b[38;5;34m45,122\u001b[0m (176.26 KB)\n"
      ]
     },
     "metadata": {},
     "output_type": "display_data"
    },
    {
     "data": {
      "text/html": [
       "<pre style=\"white-space:pre;overflow-x:auto;line-height:normal;font-family:Menlo,'DejaVu Sans Mono',consolas,'Courier New',monospace\"><span style=\"font-weight: bold\"> Non-trainable params: </span><span style=\"color: #00af00; text-decoration-color: #00af00\">256</span> (1.00 KB)\n",
       "</pre>\n"
      ],
      "text/plain": [
       "\u001b[1m Non-trainable params: \u001b[0m\u001b[38;5;34m256\u001b[0m (1.00 KB)\n"
      ]
     },
     "metadata": {},
     "output_type": "display_data"
    }
   ],
   "source": [
    "from tensorflow.keras.models import Sequential\n",
    "from tensorflow.keras.layers import LSTM, Conv1D, MaxPooling1D, BatchNormalization\n",
    "from tensorflow.keras.layers import GlobalAveragePooling1D, Dropout, Dense\n",
    "from tensorflow.keras.optimizers import Adam\n",
    "from tensorflow.keras.metrics import Precision, Recall, AUC\n",
    "\n",
    "# Implementation of \"LSTM-CNN Architecture for Human Activity Recognition\" by Kun Xia et al. (IEEE Access, 2020)\n",
    "# Adapted from https://github.com/quotation2520/CAGE4HAR/blob/main/models/LSTM_CNN.py\n",
    "\n",
    "## X_train_windows.shape == (n_samples, 100, 6)\n",
    "input_shape = (X_train.shape[1], X_train.shape[2]) \n",
    "num_classes = len(set(y_train_encoded))                  \n",
    "\n",
    "model_lstm_conv = Sequential([\n",
    "\n",
    "    # ——— LSTM stack ———\n",
    "    # first LSTM returns full sequence\n",
    "    LSTM(32, return_sequences=True, input_shape=input_shape),\n",
    "    # second LSTM also returns full sequence\n",
    "    LSTM(32, return_sequences=True),\n",
    "\n",
    "    # ——— 1D‐Conv + Pool ———\n",
    "    Conv1D(\n",
    "        filters=64,\n",
    "        kernel_size=3,\n",
    "        strides=2,\n",
    "        activation='relu',\n",
    "        padding='valid'   # matches PyTorch default\n",
    "    ),\n",
    "    MaxPooling1D(pool_size=2, strides=2),\n",
    "\n",
    "    # ——— second Conv block ———\n",
    "    Conv1D(\n",
    "        filters=128,\n",
    "        kernel_size=3,\n",
    "        strides=1,\n",
    "        activation='relu',\n",
    "        padding='valid'\n",
    "    ),\n",
    "\n",
    "    # ——— batch‐norm & spatial collapse ———\n",
    "    BatchNormalization(),            # normalise over feature‐axis\n",
    "    GlobalAveragePooling1D(),        # mean over time dimension\n",
    "\n",
    "    # ——— classification head ———\n",
    "    Dropout(0.5),\n",
    "    Dense(num_classes, activation='softmax')\n",
    "])\n",
    "\n",
    "model_lstm_conv.compile(\n",
    "    optimizer=Adam(1e-3),\n",
    "    loss=SparseCategoricalFocalLoss(gamma=2., alpha=1.0),\n",
    "    metrics=['accuracy']\n",
    ")\n",
    "\n",
    "model_lstm_conv.summary()"
   ]
  },
  {
   "cell_type": "code",
   "execution_count": 36,
   "id": "9e6289a7",
   "metadata": {},
   "outputs": [
    {
     "name": "stdout",
     "output_type": "stream",
     "text": [
      "Epoch 1/20\n",
      "\u001b[1m3629/3629\u001b[0m \u001b[32m━━━━━━━━━━━━━━━━━━━━\u001b[0m\u001b[37m\u001b[0m \u001b[1m275s\u001b[0m 74ms/step - accuracy: 0.9222 - loss: 0.0561 - val_accuracy: 0.9599 - val_loss: 0.0286\n",
      "Epoch 2/20\n",
      "\u001b[1m3629/3629\u001b[0m \u001b[32m━━━━━━━━━━━━━━━━━━━━\u001b[0m\u001b[37m\u001b[0m \u001b[1m272s\u001b[0m 75ms/step - accuracy: 0.9616 - loss: 0.0270 - val_accuracy: 0.9682 - val_loss: 0.0227\n",
      "Epoch 3/20\n",
      "\u001b[1m3629/3629\u001b[0m \u001b[32m━━━━━━━━━━━━━━━━━━━━\u001b[0m\u001b[37m\u001b[0m \u001b[1m269s\u001b[0m 74ms/step - accuracy: 0.9695 - loss: 0.0220 - val_accuracy: 0.9734 - val_loss: 0.0199\n",
      "Epoch 4/20\n",
      "\u001b[1m3629/3629\u001b[0m \u001b[32m━━━━━━━━━━━━━━━━━━━━\u001b[0m\u001b[37m\u001b[0m \u001b[1m269s\u001b[0m 74ms/step - accuracy: 0.9732 - loss: 0.0197 - val_accuracy: 0.9755 - val_loss: 0.0178\n",
      "Epoch 5/20\n",
      "\u001b[1m3629/3629\u001b[0m \u001b[32m━━━━━━━━━━━━━━━━━━━━\u001b[0m\u001b[37m\u001b[0m \u001b[1m268s\u001b[0m 74ms/step - accuracy: 0.9761 - loss: 0.0175 - val_accuracy: 0.9770 - val_loss: 0.0171\n",
      "Epoch 6/20\n",
      "\u001b[1m3629/3629\u001b[0m \u001b[32m━━━━━━━━━━━━━━━━━━━━\u001b[0m\u001b[37m\u001b[0m \u001b[1m258s\u001b[0m 71ms/step - accuracy: 0.9782 - loss: 0.0162 - val_accuracy: 0.9793 - val_loss: 0.0153\n",
      "Epoch 7/20\n",
      "\u001b[1m3629/3629\u001b[0m \u001b[32m━━━━━━━━━━━━━━━━━━━━\u001b[0m\u001b[37m\u001b[0m \u001b[1m232s\u001b[0m 64ms/step - accuracy: 0.9801 - loss: 0.0148 - val_accuracy: 0.9797 - val_loss: 0.0152\n",
      "Epoch 8/20\n",
      "\u001b[1m3629/3629\u001b[0m \u001b[32m━━━━━━━━━━━━━━━━━━━━\u001b[0m\u001b[37m\u001b[0m \u001b[1m204s\u001b[0m 56ms/step - accuracy: 0.9813 - loss: 0.0136 - val_accuracy: 0.9792 - val_loss: 0.0143\n",
      "Epoch 9/20\n",
      "\u001b[1m3629/3629\u001b[0m \u001b[32m━━━━━━━━━━━━━━━━━━━━\u001b[0m\u001b[37m\u001b[0m \u001b[1m212s\u001b[0m 58ms/step - accuracy: 0.9821 - loss: 0.0131 - val_accuracy: 0.9821 - val_loss: 0.0131\n",
      "Epoch 10/20\n",
      "\u001b[1m3629/3629\u001b[0m \u001b[32m━━━━━━━━━━━━━━━━━━━━\u001b[0m\u001b[37m\u001b[0m \u001b[1m215s\u001b[0m 59ms/step - accuracy: 0.9829 - loss: 0.0123 - val_accuracy: 0.9833 - val_loss: 0.0127\n",
      "Epoch 11/20\n",
      "\u001b[1m3629/3629\u001b[0m \u001b[32m━━━━━━━━━━━━━━━━━━━━\u001b[0m\u001b[37m\u001b[0m \u001b[1m211s\u001b[0m 58ms/step - accuracy: 0.9838 - loss: 0.0112 - val_accuracy: 0.9818 - val_loss: 0.0128\n",
      "Epoch 12/20\n",
      "\u001b[1m3629/3629\u001b[0m \u001b[32m━━━━━━━━━━━━━━━━━━━━\u001b[0m\u001b[37m\u001b[0m \u001b[1m211s\u001b[0m 58ms/step - accuracy: 0.9852 - loss: 0.0110 - val_accuracy: 0.9850 - val_loss: 0.0112\n",
      "Epoch 13/20\n",
      "\u001b[1m3629/3629\u001b[0m \u001b[32m━━━━━━━━━━━━━━━━━━━━\u001b[0m\u001b[37m\u001b[0m \u001b[1m206s\u001b[0m 57ms/step - accuracy: 0.9854 - loss: 0.0105 - val_accuracy: 0.9854 - val_loss: 0.0110\n",
      "Epoch 14/20\n",
      "\u001b[1m3629/3629\u001b[0m \u001b[32m━━━━━━━━━━━━━━━━━━━━\u001b[0m\u001b[37m\u001b[0m \u001b[1m206s\u001b[0m 57ms/step - accuracy: 0.9869 - loss: 0.0096 - val_accuracy: 0.9843 - val_loss: 0.0122\n",
      "Epoch 15/20\n",
      "\u001b[1m3629/3629\u001b[0m \u001b[32m━━━━━━━━━━━━━━━━━━━━\u001b[0m\u001b[37m\u001b[0m \u001b[1m209s\u001b[0m 58ms/step - accuracy: 0.9869 - loss: 0.0095 - val_accuracy: 0.9833 - val_loss: 0.0124\n",
      "Epoch 16/20\n",
      "\u001b[1m3629/3629\u001b[0m \u001b[32m━━━━━━━━━━━━━━━━━━━━\u001b[0m\u001b[37m\u001b[0m \u001b[1m200s\u001b[0m 55ms/step - accuracy: 0.9868 - loss: 0.0094 - val_accuracy: 0.9854 - val_loss: 0.0107\n",
      "Epoch 17/20\n",
      "\u001b[1m3629/3629\u001b[0m \u001b[32m━━━━━━━━━━━━━━━━━━━━\u001b[0m\u001b[37m\u001b[0m \u001b[1m196s\u001b[0m 54ms/step - accuracy: 0.9883 - loss: 0.0086 - val_accuracy: 0.9860 - val_loss: 0.0105\n",
      "Epoch 18/20\n",
      "\u001b[1m3629/3629\u001b[0m \u001b[32m━━━━━━━━━━━━━━━━━━━━\u001b[0m\u001b[37m\u001b[0m \u001b[1m186s\u001b[0m 51ms/step - accuracy: 0.9881 - loss: 0.0084 - val_accuracy: 0.9859 - val_loss: 0.0103\n",
      "Epoch 19/20\n",
      "\u001b[1m3629/3629\u001b[0m \u001b[32m━━━━━━━━━━━━━━━━━━━━\u001b[0m\u001b[37m\u001b[0m \u001b[1m206s\u001b[0m 57ms/step - accuracy: 0.9888 - loss: 0.0081 - val_accuracy: 0.9868 - val_loss: 0.0100\n",
      "Epoch 20/20\n",
      "\u001b[1m3629/3629\u001b[0m \u001b[32m━━━━━━━━━━━━━━━━━━━━\u001b[0m\u001b[37m\u001b[0m \u001b[1m204s\u001b[0m 56ms/step - accuracy: 0.9893 - loss: 0.0076 - val_accuracy: 0.9866 - val_loss: 0.0106\n"
     ]
    }
   ],
   "source": [
    "history = model_lstm_conv.fit(\n",
    "    X_train, y_train_encoded,\n",
    "    validation_data=(X_val, y_val_encoded),\n",
    "    epochs=20,\n",
    "    batch_size=64\n",
    ")"
   ]
  },
  {
   "cell_type": "code",
   "execution_count": 43,
   "id": "51a30c92",
   "metadata": {},
   "outputs": [],
   "source": [
    "import matplotlib.pyplot as plt\n",
    "import seaborn as sns\n",
    "from sklearn.metrics import (confusion_matrix, classification_report, \n",
    "                             precision_score, recall_score, f1_score)\n",
    "\n",
    "\n",
    "def evaluate_model(model, X_test, y_test, label_classes=None, plot_confusion_matrix=True, plot_roc=False):\n",
    "    # Evaluate the model\n",
    "    results = model.evaluate(X_test, y_test, verbose=0)\n",
    "    metric_names = model.metrics_names\n",
    "    metrics_dict = dict(zip(metric_names, results))\n",
    "\n",
    "    print(\"Evaluation Metrics:\")\n",
    "    for name, value in metrics_dict.items():\n",
    "        print(f\"{name.capitalize()}: {value:.4f}\")\n",
    "\n",
    "    # Predict class probabilities and take argmax for predicted class\n",
    "    y_pred_prob = model.predict(X_test)\n",
    "    y_pred = np.argmax(y_pred_prob, axis=1)\n",
    "\n",
    "    # Confusion matrix\n",
    "    cm = confusion_matrix(y_test, y_pred)\n",
    "    cm_percent = cm.astype('float') / cm.sum(axis=1, keepdims=True) * 100  # row-wise normalization\n",
    "\n",
    "    if plot_confusion_matrix:\n",
    "        plt.figure(figsize=(10, 8))\n",
    "        sns.heatmap(cm_percent, annot=True, fmt=\".2f\", cmap='Blues',\n",
    "                    xticklabels=label_classes if label_classes else np.unique(y_test),\n",
    "                    yticklabels=label_classes if label_classes else np.unique(y_test))\n",
    "        plt.xlabel(\"Predicted Label\")\n",
    "        plt.ylabel(\"True Label\")\n",
    "        plt.title(\"Confusion Matrix (%)\")\n",
    "        plt.show()\n",
    "\n",
    "    # Classification report\n",
    "    report = classification_report(y_test, y_pred, target_names=label_classes if label_classes else None)\n",
    "    print(\"Classification Report:\\n\", report)\n",
    "\n",
    "    # Macro-averaged metrics across all classes\n",
    "    precision = precision_score(y_test, y_pred, average='macro')\n",
    "    recall = recall_score(y_test, y_pred, average='macro')\n",
    "    f1 = f1_score(y_test, y_pred, average='macro')\n",
    "    print(\"Macro Precision (sklearn): {:.4f}\".format(precision))\n",
    "    print(\"Macro Recall (sklearn): {:.4f}\".format(recall))\n",
    "    print(\"Macro F1 Score: {:.4f}\".format(f1))\n",
    "\n",
    "    # Update metrics dictionary to include sklearn metrics\n",
    "    metrics_dict.update({\n",
    "        'macro_precision': precision,\n",
    "        'macro_recall': recall,\n",
    "        'macro_f1_score': f1\n",
    "    })\n",
    "\n",
    "    return metrics_dict"
   ]
  },
  {
   "cell_type": "code",
   "execution_count": 44,
   "id": "d89fa750",
   "metadata": {},
   "outputs": [
    {
     "name": "stdout",
     "output_type": "stream",
     "text": [
      "Evaluation Metrics:\n",
      "Loss: 0.0102\n",
      "Compile_metrics: 0.9866\n",
      "\u001b[1m2074/2074\u001b[0m \u001b[32m━━━━━━━━━━━━━━━━━━━━\u001b[0m\u001b[37m\u001b[0m \u001b[1m26s\u001b[0m 13ms/step\n"
     ]
    },
    {
     "data": {
      "image/png": "[encoded data removed]",
      "text/plain": [
       "<Figure size 1000x800 with 2 Axes>"
      ]
     },
     "metadata": {},
     "output_type": "display_data"
    },
    {
     "name": "stdout",
     "output_type": "stream",
     "text": [
      "Classification Report:\n",
      "               precision    recall  f1-score   support\n",
      "\n",
      "         ADL       0.99      0.99      0.99     61293\n",
      "        FALL       0.90      0.93      0.91      5053\n",
      "\n",
      "    accuracy                           0.99     66346\n",
      "   macro avg       0.95      0.96      0.95     66346\n",
      "weighted avg       0.99      0.99      0.99     66346\n",
      "\n",
      "Macro Precision (sklearn): 0.9467\n",
      "Macro Recall (sklearn): 0.9600\n",
      "Macro F1 Score: 0.9532\n"
     ]
    }
   ],
   "source": [
    "label_classes = le.classes_.tolist()\n",
    "metrics = evaluate_model(model_lstm_conv, X_test, y_test_encoded, label_classes=label_classes)\n"
   ]
  },
  {
   "cell_type": "markdown",
   "id": "aaea926d",
   "metadata": {},
   "source": [
    "### 10-Fold Cross Validation"
   ]
  },
  {
   "cell_type": "code",
   "execution_count": null,
   "id": "4b4cede8",
   "metadata": {},
   "outputs": [],
   "source": [
    "def create_model(input_shape, num_classes):\n",
    "    model = Sequential([\n",
    "        LSTM(32, return_sequences=True, input_shape=input_shape),\n",
    "        LSTM(32, return_sequences=True),\n",
    "        Conv1D(64, kernel_size=3, strides=2, activation='relu', padding='valid'),\n",
    "        MaxPooling1D(pool_size=2, strides=2),\n",
    "        Conv1D(128, kernel_size=3, strides=1, activation='relu', padding='valid'),\n",
    "        BatchNormalization(),\n",
    "        GlobalAveragePooling1D(),\n",
    "        Dropout(0.5),\n",
    "        Dense(num_classes, activation='softmax')\n",
    "    ])\n",
    "    model.compile(\n",
    "        optimizer=Adam(1e-3),\n",
    "        loss=SparseCategoricalFocalLoss(gamma=2., alpha=1.0),\n",
    "        metrics=['accuracy']\n",
    "    )\n",
    "    return model\n"
   ]
  },
  {
   "cell_type": "code",
   "execution_count": null,
   "id": "0dcdef17",
   "metadata": {},
   "outputs": [],
   "source": [
    "from sklearn.metrics import precision_score, recall_score, f1_score\n",
    "\n",
    "fold_precisions = []\n",
    "fold_recalls = []\n",
    "fold_f1s = []\n",
    "\n",
    "for fold, (train_idx, val_idx) in enumerate(kfold.split(X_train, y_train_encoded)):\n",
    "    print(f\"\\n🟦 Fold {fold+1}\")\n",
    "\n",
    "    # Split the data\n",
    "    X_tr, X_val = X_train[train_idx], X_train[val_idx]\n",
    "    y_tr, y_val = y_train_encoded[train_idx], y_train_encoded[val_idx]\n",
    "\n",
    "    # Create and train the model\n",
    "    model = create_model(input_shape, num_classes)\n",
    "    model.fit(\n",
    "        X_tr, y_tr,\n",
    "        validation_data=(X_val, y_val),\n",
    "        epochs=20,\n",
    "        batch_size=64,\n",
    "        verbose=1\n",
    "    )\n",
    "\n",
    "    # Predict\n",
    "    y_pred_probs = model.predict(X_val)\n",
    "    y_pred = np.argmax(y_pred_probs, axis=1)\n",
    "\n",
    "    # Calculate metrics\n",
    "    precision = precision_score(y_val, y_pred, average='macro', zero_division=0)\n",
    "    recall = recall_score(y_val, y_pred, average='macro', zero_division=0)\n",
    "    f1 = f1_score(y_val, y_pred, average='macro', zero_division=0)\n",
    "\n",
    "    print(f\"✅ Fold {fold+1} Precision: {precision:.4f}, Recall: {recall:.4f}, F1: {f1:.4f}\")\n",
    "\n",
    "    fold_precisions.append(precision)\n",
    "    fold_recalls.append(recall)\n",
    "    fold_f1s.append(f1)\n"
   ]
  },
  {
   "cell_type": "code",
   "execution_count": null,
   "id": "64f4e213",
   "metadata": {},
   "outputs": [],
   "source": [
    "print(f\"\\n📊 Mean Precision: {np.mean(fold_precisions):.4f} ± {np.std(fold_precisions):.4f}\")\n",
    "print(f\"📊 Mean Recall:    {np.mean(fold_recalls):.4f} ± {np.std(fold_recalls):.4f}\")\n",
    "print(f\"📊 Mean F1 Score:  {np.mean(fold_f1s):.4f} ± {np.std(fold_f1s):.4f}\")"
   ]
  }
 ],
 "metadata": {
  "kernelspec": {
   "display_name": ".venv",
   "language": "python",
   "name": "python3"
  },
  "language_info": {
   "codemirror_mode": {
    "name": "ipython",
    "version": 3
   },
   "file_extension": ".py",
   "mimetype": "text/x-python",
   "name": "python",
   "nbconvert_exporter": "python",
   "pygments_lexer": "ipython3",
   "version": "3.11.4"
  }
 },
 "nbformat": 4,
 "nbformat_minor": 5
}
