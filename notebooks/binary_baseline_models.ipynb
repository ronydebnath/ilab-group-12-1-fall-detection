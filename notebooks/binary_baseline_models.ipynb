{
 "cells": [
  {
   "cell_type": "markdown",
   "id": "00f6d87c-66de-487c-bbb2-25ee3442d30d",
   "metadata": {},
   "source": [
    " # Binary Classification Task for Fall Detection with MobiAct Dataset"
   ]
  },
  {
   "cell_type": "markdown",
   "id": "77af4bcb-2043-4aa7-a341-51fa77dba7b6",
   "metadata": {},
   "source": [
    "**MobiAct Paper (1st Release):** https://www.researchgate.net/publication/302973506_The_MobiAct_Dataset_Recognition_of_Activities_of_Daily_Living_using_Smartphones\n",
    "\n",
    "**MobiAct Paper (2nd Release):** https://www.researchgate.net/publication/318548841_Human_Daily_Activity_and_Fall_Recognition_Using_a_Smartphone's_Acceleration_Sensor"
   ]
  },
  {
   "cell_type": "markdown",
   "id": "d21da4e9-60bb-475b-b852-f316f75f38fd",
   "metadata": {},
   "source": [
    "**Methodologies:**\n",
    "\n",
    "- Anomaly Detection: Falls can be categorized as abnormal and sudden activities of a persons physical activity routine.\n",
    "\n",
    "- Threshold based approaches.\n",
    "\n",
    "- Machine Learning techniques (outperforms recognition accuracy)."
   ]
  },
  {
   "cell_type": "markdown",
   "id": "8e9ca55c-f419-458c-b8bd-b7f21450b42d",
   "metadata": {},
   "source": [
    "# 1. Import Packages"
   ]
  },
  {
   "cell_type": "code",
   "execution_count": 44,
   "id": "ed6b3df0-db77-4eae-8304-da0af941533f",
   "metadata": {},
   "outputs": [],
   "source": [
    "import pandas as pd\n",
    "import numpy as np\n",
    "from sklearn.ensemble import RandomForestClassifier\n",
    "from sklearn.linear_model import LogisticRegression\n",
    "from sklearn.svm import SVC\n",
    "from sklearn.neural_network import MLPClassifier\n",
    "from sklearn.metrics import classification_report, confusion_matrix, roc_auc_score\n",
    "from sklearn.model_selection import train_test_split\n",
    "import matplotlib.pyplot as plt\n",
    "import seaborn as sns\n",
    "\n",
    "# Set pandas to display all columns\n",
    "pd.set_option('display.max_columns', None)"
   ]
  },
  {
   "cell_type": "code",
   "execution_count": 3,
   "id": "0225c1a7-b704-4f28-ba51-93048f9f4bc4",
   "metadata": {},
   "outputs": [
    {
     "name": "stdout",
     "output_type": "stream",
     "text": [
      "C:\\Users\\Usuario\\Documents\\Repos\\ilab-group-12-1-fall-detection\\notebooks\n"
     ]
    }
   ],
   "source": [
    "import os\n",
    "print(os.getcwd())  # This shows where your script is running from"
   ]
  },
  {
   "cell_type": "markdown",
   "id": "4811a6d6-98bf-4204-bf79-77d8153bcb23",
   "metadata": {},
   "source": [
    "# 2. Load Dataset"
   ]
  },
  {
   "cell_type": "code",
   "execution_count": 4,
   "id": "3b39ed5d-65a7-42e5-928d-43b718517d60",
   "metadata": {},
   "outputs": [],
   "source": [
    "# Load datasets\n",
    "df_50ms = pd.read_pickle(\"../data/raw/df_resample_50ms.pkl\")\n",
    "df_100ms = pd.read_pickle(\"../data/raw/df_resample_100ms.pkl\")\n",
    "df_200ms = pd.read_pickle(\"../data/raw/df_resample_200ms.pkl\")"
   ]
  },
  {
   "cell_type": "markdown",
   "id": "e82b95d2-67ba-4e64-bc3f-08d300abe347",
   "metadata": {},
   "source": [
    "The data is already resampled (at 50ms, 100ms, 200ms) to ensure uniform time intervals between sensor readings, making our time series data consistent."
   ]
  },
  {
   "cell_type": "markdown",
   "id": "eca7827c-fa97-40aa-b556-8ab7a6532501",
   "metadata": {},
   "source": [
    "# 3. Initial Dataset Exploration"
   ]
  },
  {
   "cell_type": "markdown",
   "id": "82c0d5f1-6a62-46c8-aef9-7394acb07d1a",
   "metadata": {},
   "source": [
    "**MobiAct Dataset**\n",
    "\n",
    "* Records of accelerometer, gyroscope, orientation sensors of a smartphone.\n",
    "* 66 subjects.\n",
    "* 12 different types of ADLs.\n",
    "* 4 different types of falls.\n",
    "* 1 scenario of daily living.\n",
    "* More than 3200 trials."
   ]
  },
  {
   "cell_type": "code",
   "execution_count": 5,
   "id": "80fc9886-7418-40f8-ad17-398a308354db",
   "metadata": {},
   "outputs": [
    {
     "data": {
      "text/html": [
       "<div>\n",
       "<style scoped>\n",
       "    .dataframe tbody tr th:only-of-type {\n",
       "        vertical-align: middle;\n",
       "    }\n",
       "\n",
       "    .dataframe tbody tr th {\n",
       "        vertical-align: top;\n",
       "    }\n",
       "\n",
       "    .dataframe thead th {\n",
       "        text-align: right;\n",
       "    }\n",
       "</style>\n",
       "<table border=\"1\" class=\"dataframe\">\n",
       "  <thead>\n",
       "    <tr style=\"text-align: right;\">\n",
       "      <th></th>\n",
       "      <th>acc_x</th>\n",
       "      <th>acc_y</th>\n",
       "      <th>acc_z</th>\n",
       "      <th>gyro_x</th>\n",
       "      <th>gyro_y</th>\n",
       "      <th>gyro_z</th>\n",
       "      <th>label</th>\n",
       "      <th>subject_id</th>\n",
       "      <th>trial</th>\n",
       "      <th>age</th>\n",
       "      <th>height</th>\n",
       "      <th>weight</th>\n",
       "      <th>gender</th>\n",
       "    </tr>\n",
       "    <tr>\n",
       "      <th>timestamp</th>\n",
       "      <th></th>\n",
       "      <th></th>\n",
       "      <th></th>\n",
       "      <th></th>\n",
       "      <th></th>\n",
       "      <th></th>\n",
       "      <th></th>\n",
       "      <th></th>\n",
       "      <th></th>\n",
       "      <th></th>\n",
       "      <th></th>\n",
       "      <th></th>\n",
       "      <th></th>\n",
       "    </tr>\n",
       "  </thead>\n",
       "  <tbody>\n",
       "    <tr>\n",
       "      <th>1970-01-01 00:00:58.100</th>\n",
       "      <td>-0.450704</td>\n",
       "      <td>9.777446</td>\n",
       "      <td>0.893127</td>\n",
       "      <td>-0.016901</td>\n",
       "      <td>-0.023247</td>\n",
       "      <td>-0.003631</td>\n",
       "      <td>STD</td>\n",
       "      <td>64.0</td>\n",
       "      <td>1.0</td>\n",
       "      <td>26.0</td>\n",
       "      <td>181.0</td>\n",
       "      <td>70.0</td>\n",
       "      <td>M</td>\n",
       "    </tr>\n",
       "    <tr>\n",
       "      <th>1970-01-01 00:00:58.150</th>\n",
       "      <td>-0.446619</td>\n",
       "      <td>9.821682</td>\n",
       "      <td>0.833732</td>\n",
       "      <td>-0.016829</td>\n",
       "      <td>-0.009896</td>\n",
       "      <td>-0.000183</td>\n",
       "      <td>STD</td>\n",
       "      <td>64.0</td>\n",
       "      <td>1.0</td>\n",
       "      <td>26.0</td>\n",
       "      <td>181.0</td>\n",
       "      <td>70.0</td>\n",
       "      <td>M</td>\n",
       "    </tr>\n",
       "    <tr>\n",
       "      <th>1970-01-01 00:00:58.200</th>\n",
       "      <td>-0.406528</td>\n",
       "      <td>9.806871</td>\n",
       "      <td>0.807646</td>\n",
       "      <td>-0.014294</td>\n",
       "      <td>-0.019548</td>\n",
       "      <td>-0.004459</td>\n",
       "      <td>STD</td>\n",
       "      <td>64.0</td>\n",
       "      <td>1.0</td>\n",
       "      <td>26.0</td>\n",
       "      <td>181.0</td>\n",
       "      <td>70.0</td>\n",
       "      <td>M</td>\n",
       "    </tr>\n",
       "    <tr>\n",
       "      <th>1970-01-01 00:00:58.250</th>\n",
       "      <td>-0.439627</td>\n",
       "      <td>9.887962</td>\n",
       "      <td>1.013191</td>\n",
       "      <td>-0.045632</td>\n",
       "      <td>0.042791</td>\n",
       "      <td>0.016280</td>\n",
       "      <td>STD</td>\n",
       "      <td>64.0</td>\n",
       "      <td>1.0</td>\n",
       "      <td>26.0</td>\n",
       "      <td>181.0</td>\n",
       "      <td>70.0</td>\n",
       "      <td>M</td>\n",
       "    </tr>\n",
       "    <tr>\n",
       "      <th>1970-01-01 00:00:58.300</th>\n",
       "      <td>-0.455615</td>\n",
       "      <td>9.793036</td>\n",
       "      <td>1.098758</td>\n",
       "      <td>-0.094470</td>\n",
       "      <td>0.156717</td>\n",
       "      <td>0.018204</td>\n",
       "      <td>STD</td>\n",
       "      <td>64.0</td>\n",
       "      <td>1.0</td>\n",
       "      <td>26.0</td>\n",
       "      <td>181.0</td>\n",
       "      <td>70.0</td>\n",
       "      <td>M</td>\n",
       "    </tr>\n",
       "  </tbody>\n",
       "</table>\n",
       "</div>"
      ],
      "text/plain": [
       "                            acc_x     acc_y     acc_z    gyro_x    gyro_y  \\\n",
       "timestamp                                                                   \n",
       "1970-01-01 00:00:58.100 -0.450704  9.777446  0.893127 -0.016901 -0.023247   \n",
       "1970-01-01 00:00:58.150 -0.446619  9.821682  0.833732 -0.016829 -0.009896   \n",
       "1970-01-01 00:00:58.200 -0.406528  9.806871  0.807646 -0.014294 -0.019548   \n",
       "1970-01-01 00:00:58.250 -0.439627  9.887962  1.013191 -0.045632  0.042791   \n",
       "1970-01-01 00:00:58.300 -0.455615  9.793036  1.098758 -0.094470  0.156717   \n",
       "\n",
       "                           gyro_z label  subject_id  trial   age  height  \\\n",
       "timestamp                                                                  \n",
       "1970-01-01 00:00:58.100 -0.003631   STD        64.0    1.0  26.0   181.0   \n",
       "1970-01-01 00:00:58.150 -0.000183   STD        64.0    1.0  26.0   181.0   \n",
       "1970-01-01 00:00:58.200 -0.004459   STD        64.0    1.0  26.0   181.0   \n",
       "1970-01-01 00:00:58.250  0.016280   STD        64.0    1.0  26.0   181.0   \n",
       "1970-01-01 00:00:58.300  0.018204   STD        64.0    1.0  26.0   181.0   \n",
       "\n",
       "                         weight gender  \n",
       "timestamp                               \n",
       "1970-01-01 00:00:58.100    70.0      M  \n",
       "1970-01-01 00:00:58.150    70.0      M  \n",
       "1970-01-01 00:00:58.200    70.0      M  \n",
       "1970-01-01 00:00:58.250    70.0      M  \n",
       "1970-01-01 00:00:58.300    70.0      M  "
      ]
     },
     "execution_count": 5,
     "metadata": {},
     "output_type": "execute_result"
    }
   ],
   "source": [
    "df_50ms.head()"
   ]
  },
  {
   "cell_type": "code",
   "execution_count": 8,
   "id": "4ce24f9c-90a6-499d-8f08-200cf757235a",
   "metadata": {},
   "outputs": [
    {
     "data": {
      "text/plain": [
       "['acc_x',\n",
       " 'acc_y',\n",
       " 'acc_z',\n",
       " 'gyro_x',\n",
       " 'gyro_y',\n",
       " 'gyro_z',\n",
       " 'label',\n",
       " 'subject_id',\n",
       " 'trial',\n",
       " 'age',\n",
       " 'height',\n",
       " 'weight',\n",
       " 'gender']"
      ]
     },
     "execution_count": 8,
     "metadata": {},
     "output_type": "execute_result"
    }
   ],
   "source": [
    "df_50ms.columns.to_list()"
   ]
  },
  {
   "cell_type": "code",
   "execution_count": 6,
   "id": "18bd2dbe-5f47-494f-99a3-e929526e7d7e",
   "metadata": {},
   "outputs": [
    {
     "data": {
      "text/plain": [
       "label\n",
       "WAL    158710\n",
       "STD    157895\n",
       "SIT     45046\n",
       "JOG     38975\n",
       "JUM     32612\n",
       "LYI     28675\n",
       "STU     22531\n",
       "STN     21767\n",
       "CSO     11378\n",
       "CSI     10585\n",
       "SCH      5304\n",
       "BSC      2892\n",
       "FKL      2508\n",
       "SDL      2371\n",
       "FOL      2086\n",
       "CHU      1660\n",
       "Name: count, dtype: int64"
      ]
     },
     "execution_count": 6,
     "metadata": {},
     "output_type": "execute_result"
    }
   ],
   "source": [
    "df_50ms['label'].value_counts(dropna=False)"
   ]
  },
  {
   "cell_type": "markdown",
   "id": "564f82fa-640b-44b4-8bc6-cd77072bd3d4",
   "metadata": {},
   "source": [
    "## Data Dictionary"
   ]
  },
  {
   "cell_type": "markdown",
   "id": "6fe61c20-2b53-49cf-bc22-74fefa37b6ed",
   "metadata": {},
   "source": [
    "* **WAL:** Walking\n",
    "* **STD:** Standing\n",
    "* **SIT:** Sitting on chair\n",
    "* **JOG:** Jogging\n",
    "* **JUM:** Jumping\n",
    "* **LYI:** Lying\n",
    "* **STU:** Stairs up\n",
    "* **STN:** Stairs down\n",
    "* **CSO:** Car step out\n",
    "* **CSI:** Car step in\n",
    "* **SCH:** Stand to sit (sit on chair)\n",
    "* <u>**BSC:** Back-sitting-chair</u>. Fall backward while trying to sit on a chair.\n",
    "* <u>**FKL:** Front-knees-lying</u>. Fall forward from standing, first impact on knees.\n",
    "* <u>**SDL:** Sideward-lying</u>. Fall sideward from standing, bending legs.\n",
    "* <u>**FOL:** Forward-lying</u>. Fall forward from standing, use of hands to dampen fall.\n",
    "* **CHU:** Sit to stand (chair up)"
   ]
  },
  {
   "cell_type": "markdown",
   "id": "4c62e283-a0ea-4ec3-90f9-db97d1fc37be",
   "metadata": {},
   "source": [
    "# 4. Preprocessing for Modelling"
   ]
  },
  {
   "cell_type": "markdown",
   "id": "bfbcd1ed-9169-4765-8c97-29572208a974",
   "metadata": {},
   "source": [
    "We need to distinguish between **fall events** and **non-fall (ADL – Activities of Daily Living) events**."
   ]
  },
  {
   "cell_type": "markdown",
   "id": "704b295a-fce7-455f-816d-4d44603fb571",
   "metadata": {},
   "source": [
    "**[4.1] Binary Labeling:**\n",
    "\n",
    "Transform the label column into a binary class.\n",
    "\n",
    "1 = Fall\n",
    "\n",
    "0 = Not Fall (any ADL)"
   ]
  },
  {
   "cell_type": "code",
   "execution_count": 10,
   "id": "b47b90df-f41c-43cf-be95-a02810aebeeb",
   "metadata": {},
   "outputs": [],
   "source": [
    "def label_falls(df):\n",
    "    fall_labels = ['BSC', 'FKL', 'SDL', 'FOL']\n",
    "    df = df.copy()\n",
    "    df['binary_label'] = df['label'].apply(lambda x: 1 if x in fall_labels else 0)\n",
    "    return df"
   ]
  },
  {
   "cell_type": "markdown",
   "id": "6a2a96b1-edd3-422b-9a60-c4646cdac4e1",
   "metadata": {},
   "source": [
    "**[4.2] Feature Extraction:**\n",
    "\n",
    "MobiAct is time-series based.\n",
    "Since ML Classifiers can't directly consume raw time series data (sequence of sensor readings over time), we need to segment the data using sliding windows and extract features from each window.\n",
    "\n",
    "X = np.array(features) — the features.\n",
    "\n",
    "y = np.array(labels) — the binary labels.\n",
    "\n",
    "As these are the baseline models is okay. We will use deep learning models that can learn from sequences (e.g. RNNs, CNNs, Transformers) later.\n",
    "\n",
    "1. Segment the time series (e.g. with a sliding window of 2.5 seconds).\n",
    "2. Summarise each segment with features like: mean, std, min, max.\n",
    "3. Each segment becomes one row in the feature matrix — suitable for supervised learning."
   ]
  },
  {
   "cell_type": "code",
   "execution_count": 11,
   "id": "700952ca-f2cb-4609-8d85-200722e1eaef",
   "metadata": {},
   "outputs": [],
   "source": [
    "def extract_features_from_windows(df, window_duration_s=2.5, overlap=0.5, sampling_rate_ms=50):\n",
    "    \"\"\"\n",
    "    Slide window through each trial of each subject.\n",
    "    Extract statistical features per window: mean, std, min, max.\n",
    "    \"\"\"\n",
    "    window_size = int(window_duration_s * 1000 / sampling_rate_ms)\n",
    "    step_size = int(window_size * (1 - overlap))\n",
    "    \n",
    "    features = []\n",
    "    labels = []\n",
    "    \n",
    "    for subject in df['subject_id'].unique():\n",
    "        subject_data = df[df['subject_id'] == subject]\n",
    "        \n",
    "        for trial in subject_data['trial'].unique():\n",
    "            trial_data = subject_data[subject_data['trial'] == trial]\n",
    "            trial_data = trial_data.sort_index()  # sort by timestamp\n",
    "\n",
    "            signal_data = trial_data[['acc_x', 'acc_y', 'acc_z', 'gyro_x', 'gyro_y', 'gyro_z']].values\n",
    "            binary_labels = trial_data['binary_label'].values\n",
    "\n",
    "            for start in range(0, len(signal_data) - window_size + 1, step_size):\n",
    "                window = signal_data[start:start + window_size]\n",
    "                window_labels = binary_labels[start:start + window_size]\n",
    "                label = int(np.any(window_labels))  # 1 if fall happened in the window\n",
    "                \n",
    "                # statistical features\n",
    "                feat = np.concatenate([\n",
    "                    window.mean(axis=0),\n",
    "                    window.std(axis=0),\n",
    "                    window.min(axis=0),\n",
    "                    window.max(axis=0),\n",
    "                ])\n",
    "                \n",
    "                features.append(feat)\n",
    "                labels.append(label)\n",
    "    \n",
    "    return np.array(features), np.array(labels)"
   ]
  },
  {
   "cell_type": "markdown",
   "id": "b6a2d562-fb00-4c7a-b90d-118d7f431735",
   "metadata": {},
   "source": [
    "**[4.3] Train/Test Split:**\n",
    "\n",
    "Stratified Random Train-Test Split"
   ]
  },
  {
   "cell_type": "code",
   "execution_count": 12,
   "id": "11c48a86-9af5-4c68-b500-8fb7a53a3c44",
   "metadata": {},
   "outputs": [],
   "source": [
    "def split_data(X, y, test_size=0.2, random_state=42):\n",
    "    \"\"\"\n",
    "    Perform stratified train-test split to preserve fall/non-fall proportion.\n",
    "    \"\"\"\n",
    "    return train_test_split(X, y, test_size=test_size, stratify=y, random_state=random_state)"
   ]
  },
  {
   "cell_type": "markdown",
   "id": "83a9efbd-a326-4003-95c9-ef8f147c87f5",
   "metadata": {},
   "source": [
    "# 5. Train Model"
   ]
  },
  {
   "cell_type": "code",
   "execution_count": 29,
   "id": "fbdf9848-dd9c-4078-bac7-457ca99cab52",
   "metadata": {},
   "outputs": [],
   "source": [
    "def train_model(X_train, y_train, model_type=\"random_forest\", **kwargs):\n",
    "    \"\"\"\n",
    "    Train a classifier. Supported types: 'random_forest', 'logistic', 'svm', 'mlp'\n",
    "    \"\"\"\n",
    "    if model_type == \"random_forest\":\n",
    "        model = RandomForestClassifier(n_estimators=100, random_state=42, **kwargs)\n",
    "    elif model_type == \"logistic\":\n",
    "        model = LogisticRegression(max_iter=1000, random_state=42, **kwargs)\n",
    "    elif model_type == \"svm\":\n",
    "        model = SVC(probability=True, random_state=42, **kwargs)\n",
    "    elif model_type == \"mlp\":\n",
    "        model = MLPClassifier(hidden_layer_sizes=(100,), max_iter=300, random_state=42, **kwargs)\n",
    "    else:\n",
    "        raise ValueError(f\"Unsupported model type: {model_type}\")\n",
    "    \n",
    "    model.fit(X_train, y_train)\n",
    "    return model"
   ]
  },
  {
   "cell_type": "markdown",
   "id": "3e732a8e-014f-48a4-a257-307947bc75b4",
   "metadata": {},
   "source": [
    "# 6. Evaluate Model"
   ]
  },
  {
   "cell_type": "markdown",
   "id": "e6a9bf69-015c-4326-a583-54d9db2bbf2a",
   "metadata": {},
   "source": [
    "Key metrics:\n",
    "\n",
    "* Accuracy\n",
    "\n",
    "* Precision, Recall, F1-score\n",
    "\n",
    "* Confusion Matrix\n",
    "\n",
    "* ROC AUC\n",
    "\n",
    "Focus on recall for falls (class 1) — since missing a fall is riskier than a false positive."
   ]
  },
  {
   "cell_type": "code",
   "execution_count": 32,
   "id": "961c32cc-dffe-4ece-b903-2e4e55cd8efb",
   "metadata": {},
   "outputs": [],
   "source": [
    "from sklearn.metrics import classification_report, confusion_matrix, roc_auc_score\n",
    "\n",
    "def evaluate_model(model, X_test, y_test, model_name=None, show_confusion_matrix=True):\n",
    "    \"\"\"\n",
    "    Evaluate the model and print standard classification metrics.\n",
    "    \"\"\"\n",
    "    if model_name:\n",
    "        print(f\"\\n📈 Evaluation Results for Model: {model_name}\")\n",
    "\n",
    "    y_pred = model.predict(X_test)\n",
    "\n",
    "    print(\"\\nClassification Report:\")\n",
    "    print(classification_report(y_test, y_pred, digits=4))\n",
    "\n",
    "    if show_confusion_matrix:\n",
    "        print(\"\\nConfusion Matrix:\")\n",
    "        print(confusion_matrix(y_test, y_pred))\n",
    "\n",
    "    try:\n",
    "        y_proba = model.predict_proba(X_test)[:, 1]\n",
    "        roc_auc = roc_auc_score(y_test, y_proba)\n",
    "        print(f\"\\nROC AUC: {roc_auc:.4f}\")\n",
    "    except AttributeError:\n",
    "        print(\"\\nROC AUC not available (predict_proba missing for this model).\")"
   ]
  },
  {
   "cell_type": "markdown",
   "id": "5ee4b36c-90ea-47e6-b817-f6c7b5282e23",
   "metadata": {},
   "source": [
    "# 7. Run Pipeline"
   ]
  },
  {
   "cell_type": "code",
   "execution_count": 35,
   "id": "0a440049-49cb-4f58-be0a-2fca69e835f0",
   "metadata": {},
   "outputs": [],
   "source": [
    "def run_pipeline(df, sampling_rate_ms, window_duration_s=2.5, overlap=0.5, model_type=\"random_forest\"):\n",
    "    print(f\"\\n📊 Running pipeline for sampling rate = {sampling_rate_ms} ms | Model = {model_type}\")\n",
    "\n",
    "    df = label_falls(df)\n",
    "\n",
    "    X, y = extract_features_from_windows(\n",
    "        df,\n",
    "        window_duration_s=window_duration_s,\n",
    "        overlap=overlap,\n",
    "        sampling_rate_ms=sampling_rate_ms\n",
    "    )\n",
    "\n",
    "    print(f\"\\nTotal windows: {len(y)} | Fall: {np.sum(y)} | Non-Fall: {len(y) - np.sum(y)}\")\n",
    "\n",
    "    X_train, X_test, y_train, y_test = split_data(X, y)\n",
    "\n",
    "    model = train_model(X_train, y_train, model_type=model_type)\n",
    "\n",
    "    evaluate_model(model, X_test, y_test, model_name=model_type)\n",
    "\n",
    "    return model"
   ]
  },
  {
   "cell_type": "markdown",
   "id": "f018eda1-75f8-4d5a-86d2-e27476689a96",
   "metadata": {},
   "source": [
    "**[7.1] Run pipeline for `df_50ms`**"
   ]
  },
  {
   "cell_type": "code",
   "execution_count": 36,
   "id": "1c378409-c71f-4028-921c-e9d09454cfb6",
   "metadata": {},
   "outputs": [
    {
     "name": "stdout",
     "output_type": "stream",
     "text": [
      "\n",
      "📊 Running pipeline for sampling rate = 50 ms | Model = random_forest\n",
      "\n",
      "Total windows: 21282 | Fall: 879 | Non-Fall: 20403\n",
      "\n",
      "📈 Evaluation Results for Model: random_forest\n",
      "\n",
      "Classification Report:\n",
      "              precision    recall  f1-score   support\n",
      "\n",
      "           0     0.9696    0.9995    0.9843      4081\n",
      "           1     0.9600    0.2727    0.4248       176\n",
      "\n",
      "    accuracy                         0.9695      4257\n",
      "   macro avg     0.9648    0.6361    0.7045      4257\n",
      "weighted avg     0.9692    0.9695    0.9612      4257\n",
      "\n",
      "\n",
      "Confusion Matrix:\n",
      "[[4079    2]\n",
      " [ 128   48]]\n",
      "\n",
      "ROC AUC: 0.9224\n",
      "\n",
      "📊 Running pipeline for sampling rate = 50 ms | Model = logistic\n",
      "\n",
      "Total windows: 21282 | Fall: 879 | Non-Fall: 20403\n",
      "\n",
      "📈 Evaluation Results for Model: logistic\n",
      "\n",
      "Classification Report:\n",
      "              precision    recall  f1-score   support\n",
      "\n",
      "           0     0.9683    0.9961    0.9820      4081\n",
      "           1     0.7288    0.2443    0.3660       176\n",
      "\n",
      "    accuracy                         0.9650      4257\n",
      "   macro avg     0.8486    0.6202    0.6740      4257\n",
      "weighted avg     0.9584    0.9650    0.9565      4257\n",
      "\n",
      "\n",
      "Confusion Matrix:\n",
      "[[4065   16]\n",
      " [ 133   43]]\n",
      "\n",
      "ROC AUC: 0.8648\n",
      "\n",
      "📊 Running pipeline for sampling rate = 50 ms | Model = svm\n",
      "\n",
      "Total windows: 21282 | Fall: 879 | Non-Fall: 20403\n",
      "\n",
      "📈 Evaluation Results for Model: svm\n",
      "\n",
      "Classification Report:\n",
      "              precision    recall  f1-score   support\n",
      "\n",
      "           0     0.9659    0.9995    0.9824      4081\n",
      "           1     0.9412    0.1818    0.3048       176\n",
      "\n",
      "    accuracy                         0.9657      4257\n",
      "   macro avg     0.9535    0.5907    0.6436      4257\n",
      "weighted avg     0.9649    0.9657    0.9544      4257\n",
      "\n",
      "\n",
      "Confusion Matrix:\n",
      "[[4079    2]\n",
      " [ 144   32]]\n",
      "\n",
      "ROC AUC: 0.8249\n",
      "\n",
      "📊 Running pipeline for sampling rate = 50 ms | Model = mlp\n",
      "\n",
      "Total windows: 21282 | Fall: 879 | Non-Fall: 20403\n",
      "\n",
      "📈 Evaluation Results for Model: mlp\n",
      "\n",
      "Classification Report:\n",
      "              precision    recall  f1-score   support\n",
      "\n",
      "           0     0.9746    0.9949    0.9846      4081\n",
      "           1     0.7692    0.3977    0.5243       176\n",
      "\n",
      "    accuracy                         0.9702      4257\n",
      "   macro avg     0.8719    0.6963    0.7545      4257\n",
      "weighted avg     0.9661    0.9702    0.9656      4257\n",
      "\n",
      "\n",
      "Confusion Matrix:\n",
      "[[4060   21]\n",
      " [ 106   70]]\n",
      "\n",
      "ROC AUC: 0.9191\n"
     ]
    }
   ],
   "source": [
    "for model_type in [\"random_forest\", \"logistic\", \"svm\", \"mlp\"]:\n",
    "    run_pipeline(df_50ms, sampling_rate_ms=50, model_type=model_type)"
   ]
  },
  {
   "cell_type": "markdown",
   "id": "88cfea03-0c26-461c-b320-ba3ad2061972",
   "metadata": {},
   "source": [
    "**Best Performer for Fall Detection @50ms:**\n",
    "\n",
    "**MLP (Multilayer Perceptron)** has the best F1-score (0.5243) and recall (0.3977) for fall detection."
   ]
  },
  {
   "cell_type": "markdown",
   "id": "3d737e76-2c5b-4af4-b419-c16534184b62",
   "metadata": {},
   "source": [
    "**[7.2] Run pipeline for `df_100ms`**"
   ]
  },
  {
   "cell_type": "code",
   "execution_count": 38,
   "id": "39d66d9d-b912-4328-b811-0c3a761f932a",
   "metadata": {},
   "outputs": [
    {
     "name": "stdout",
     "output_type": "stream",
     "text": [
      "\n",
      "📊 Running pipeline for sampling rate = 100 ms | Model = random_forest\n",
      "\n",
      "Total windows: 69983 | Fall: 3158 | Non-Fall: 66825\n",
      "\n",
      "📈 Evaluation Results for Model: random_forest\n",
      "\n",
      "Classification Report:\n",
      "              precision    recall  f1-score   support\n",
      "\n",
      "           0     0.9810    0.9990    0.9900     13365\n",
      "           1     0.9664    0.5918    0.7341       632\n",
      "\n",
      "    accuracy                         0.9806     13997\n",
      "   macro avg     0.9737    0.7954    0.8620     13997\n",
      "weighted avg     0.9804    0.9806    0.9784     13997\n",
      "\n",
      "\n",
      "Confusion Matrix:\n",
      "[[13352    13]\n",
      " [  258   374]]\n",
      "\n",
      "ROC AUC: 0.9844\n",
      "\n",
      "📊 Running pipeline for sampling rate = 100 ms | Model = logistic\n",
      "\n",
      "Total windows: 69983 | Fall: 3158 | Non-Fall: 66825\n",
      "\n",
      "📈 Evaluation Results for Model: logistic\n",
      "\n",
      "Classification Report:\n",
      "              precision    recall  f1-score   support\n",
      "\n",
      "           0     0.9722    0.9938    0.9829     13365\n",
      "           1     0.7522    0.3987    0.5212       632\n",
      "\n",
      "    accuracy                         0.9669     13997\n",
      "   macro avg     0.8622    0.6963    0.7520     13997\n",
      "weighted avg     0.9623    0.9669    0.9620     13997\n",
      "\n",
      "\n",
      "Confusion Matrix:\n",
      "[[13282    83]\n",
      " [  380   252]]\n",
      "\n",
      "ROC AUC: 0.9395\n",
      "\n",
      "📊 Running pipeline for sampling rate = 100 ms | Model = svm\n",
      "\n",
      "Total windows: 69983 | Fall: 3158 | Non-Fall: 66825\n",
      "\n",
      "📈 Evaluation Results for Model: svm\n",
      "\n",
      "Classification Report:\n",
      "              precision    recall  f1-score   support\n",
      "\n",
      "           0     0.9742    0.9995    0.9867     13365\n",
      "           1     0.9754    0.4399    0.6063       632\n",
      "\n",
      "    accuracy                         0.9742     13997\n",
      "   macro avg     0.9748    0.7197    0.7965     13997\n",
      "weighted avg     0.9742    0.9742    0.9695     13997\n",
      "\n",
      "\n",
      "Confusion Matrix:\n",
      "[[13358     7]\n",
      " [  354   278]]\n",
      "\n",
      "ROC AUC: 0.9209\n",
      "\n",
      "📊 Running pipeline for sampling rate = 100 ms | Model = mlp\n",
      "\n",
      "Total windows: 69983 | Fall: 3158 | Non-Fall: 66825\n",
      "\n",
      "📈 Evaluation Results for Model: mlp\n",
      "\n",
      "Classification Report:\n",
      "              precision    recall  f1-score   support\n",
      "\n",
      "           0     0.9878    0.9942    0.9910     13365\n",
      "           1     0.8571    0.7405    0.7946       632\n",
      "\n",
      "    accuracy                         0.9827     13997\n",
      "   macro avg     0.9225    0.8673    0.8928     13997\n",
      "weighted avg     0.9819    0.9827    0.9821     13997\n",
      "\n",
      "\n",
      "Confusion Matrix:\n",
      "[[13287    78]\n",
      " [  164   468]]\n",
      "\n",
      "ROC AUC: 0.9830\n"
     ]
    }
   ],
   "source": [
    "for model_type in [\"random_forest\", \"logistic\", \"svm\", \"mlp\"]:\n",
    "    run_pipeline(df_100ms, sampling_rate_ms=100, model_type=model_type)"
   ]
  },
  {
   "cell_type": "markdown",
   "id": "e44788d4-f7e9-49d3-b0c4-c2eba241ba49",
   "metadata": {},
   "source": [
    "**Best Performer for Fall Detection @100ms:**\n",
    "\n",
    "**MLP** again has the highest recall (0.7405), F1-score (0.7946), and a near-top ROC AUC, making it the most reliable model for detecting falls.\n",
    "\n",
    "Compared to 50ms, all models generally improved at 100ms, especially in recall and F1-score."
   ]
  },
  {
   "cell_type": "markdown",
   "id": "daf20a3d-158e-4bca-8049-e1fb2df3b455",
   "metadata": {},
   "source": [
    "**[7.3] Run pipeline for `df_200ms`**"
   ]
  },
  {
   "cell_type": "code",
   "execution_count": 40,
   "id": "3da6c8c3-120f-4127-8f08-c7485d8278a4",
   "metadata": {},
   "outputs": [
    {
     "name": "stdout",
     "output_type": "stream",
     "text": [
      "\n",
      "📊 Running pipeline for sampling rate = 200 ms | Model = random_forest\n",
      "\n",
      "Total windows: 70855 | Fall: 3200 | Non-Fall: 67655\n",
      "\n",
      "📈 Evaluation Results for Model: random_forest\n",
      "\n",
      "Classification Report:\n",
      "              precision    recall  f1-score   support\n",
      "\n",
      "           0     0.9788    0.9976    0.9881     13531\n",
      "           1     0.9158    0.5437    0.6824       640\n",
      "\n",
      "    accuracy                         0.9771     14171\n",
      "   macro avg     0.9473    0.7707    0.8352     14171\n",
      "weighted avg     0.9760    0.9771    0.9743     14171\n",
      "\n",
      "\n",
      "Confusion Matrix:\n",
      "[[13499    32]\n",
      " [  292   348]]\n",
      "\n",
      "ROC AUC: 0.9804\n",
      "\n",
      "📊 Running pipeline for sampling rate = 200 ms | Model = logistic\n",
      "\n",
      "Total windows: 70855 | Fall: 3200 | Non-Fall: 67655\n",
      "\n",
      "📈 Evaluation Results for Model: logistic\n",
      "\n",
      "Classification Report:\n",
      "              precision    recall  f1-score   support\n",
      "\n",
      "           0     0.9680    0.9945    0.9811     13531\n",
      "           1     0.7249    0.3047    0.4290       640\n",
      "\n",
      "    accuracy                         0.9634     14171\n",
      "   macro avg     0.8464    0.6496    0.7051     14171\n",
      "weighted avg     0.9570    0.9634    0.9561     14171\n",
      "\n",
      "\n",
      "Confusion Matrix:\n",
      "[[13457    74]\n",
      " [  445   195]]\n",
      "\n",
      "ROC AUC: 0.9227\n",
      "\n",
      "📊 Running pipeline for sampling rate = 200 ms | Model = svm\n",
      "\n",
      "Total windows: 70855 | Fall: 3200 | Non-Fall: 67655\n",
      "\n",
      "📈 Evaluation Results for Model: svm\n",
      "\n",
      "Classification Report:\n",
      "              precision    recall  f1-score   support\n",
      "\n",
      "           0     0.9708    0.9985    0.9845     13531\n",
      "           1     0.9213    0.3656    0.5235       640\n",
      "\n",
      "    accuracy                         0.9699     14171\n",
      "   macro avg     0.9460    0.6821    0.7540     14171\n",
      "weighted avg     0.9686    0.9699    0.9637     14171\n",
      "\n",
      "\n",
      "Confusion Matrix:\n",
      "[[13511    20]\n",
      " [  406   234]]\n",
      "\n",
      "ROC AUC: 0.9117\n",
      "\n",
      "📊 Running pipeline for sampling rate = 200 ms | Model = mlp\n",
      "\n",
      "Total windows: 70855 | Fall: 3200 | Non-Fall: 67655\n",
      "\n",
      "📈 Evaluation Results for Model: mlp\n",
      "\n",
      "Classification Report:\n",
      "              precision    recall  f1-score   support\n",
      "\n",
      "           0     0.9827    0.9933    0.9880     13531\n",
      "           1     0.8174    0.6297    0.7114       640\n",
      "\n",
      "    accuracy                         0.9769     14171\n",
      "   macro avg     0.9001    0.8115    0.8497     14171\n",
      "weighted avg     0.9752    0.9769    0.9755     14171\n",
      "\n",
      "\n",
      "Confusion Matrix:\n",
      "[[13441    90]\n",
      " [  237   403]]\n",
      "\n",
      "ROC AUC: 0.9815\n"
     ]
    }
   ],
   "source": [
    "for model_type in [\"random_forest\", \"logistic\", \"svm\", \"mlp\"]:\n",
    "    run_pipeline(df_200ms, sampling_rate_ms=200, model_type=model_type)"
   ]
  },
  {
   "cell_type": "markdown",
   "id": "fe51fcaa-db90-439f-9560-f093392075ce",
   "metadata": {},
   "source": [
    "**Best Performer for Fall Detection @200ms:**\n",
    "\n",
    "**MLP** again has the highest recall (0.6297), F1-score (0.7114).\n",
    "\n",
    "Compared to 100ms, the models performance is lower."
   ]
  },
  {
   "cell_type": "markdown",
   "id": "00935f21-3417-4776-95f4-eb7cab47ac38",
   "metadata": {},
   "source": [
    "# 8. Results Summary"
   ]
  },
  {
   "cell_type": "markdown",
   "id": "e435cd54-134e-4cd2-b2f9-4f912d07dd65",
   "metadata": {},
   "source": [
    "| Sampling Rate | Model         | Accuracy | Recall (Fall) | F1-Score (Fall) | ROC AUC |\n",
    "|---------------|---------------|----------|----------------|------------------|---------|\n",
    "| 50ms          | Random Forest | 0.9695   | 0.2727         | 0.4248           | 0.9224  |\n",
    "| 50ms          | Logistic      | 0.9650   | 0.2443         | 0.3660           | 0.8648  |\n",
    "| 50ms          | SVM           | 0.9657   | 0.1818         | 0.3048           | 0.8249  |\n",
    "| 50ms          | MLP           | 0.9702   | 0.3977         | 0.5243           | 0.9191  |\n",
    "| 100ms         | Random Forest | 0.9806   | 0.5918         | 0.7341           | 0.9844  |\n",
    "| 100ms         | Logistic      | 0.9669   | 0.3987         | 0.5212           | 0.9395  |\n",
    "| 100ms         | SVM           | 0.9742   | 0.4399         | 0.6063           | 0.9209  |\n",
    "| 100ms         | **MLP**       | **0.9827** | **0.7405**     | **0.7946**       | **0.9830**  |\n",
    "| 200ms         | Random Forest | 0.9771   | 0.5437         | 0.6824           | 0.9804  |\n",
    "| 200ms         | Logistic      | 0.9634   | 0.3047         | 0.4290           | 0.9227  |\n",
    "| 200ms         | SVM           | 0.9699   | 0.3656         | 0.5235           | 0.9117  |\n",
    "| 200ms         | MLP           | 0.9769   | 0.6297         | 0.7114           | 0.9815  |\n"
   ]
  },
  {
   "cell_type": "code",
   "execution_count": 60,
   "id": "94bfa0d7-e670-4030-af2b-b4175c146e2d",
   "metadata": {},
   "outputs": [
    {
     "data": {
      "image/png": "[encoded data removed]",
      "text/plain": [
       "<Figure size 1000x1500 with 3 Axes>"
      ]
     },
     "metadata": {},
     "output_type": "display_data"
    }
   ],
   "source": [
    "# Data\n",
    "data = [\n",
    "    (\"50ms\", \"Random Forest\", 0.9695, 0.2727, 0.4248, 0.9224),\n",
    "    (\"50ms\", \"Logistic\", 0.9650, 0.2443, 0.3660, 0.8648),\n",
    "    (\"50ms\", \"SVM\", 0.9657, 0.1818, 0.3048, 0.8249),\n",
    "    (\"50ms\", \"MLP\", 0.9702, 0.3977, 0.5243, 0.9191),\n",
    "    (\"100ms\", \"Random Forest\", 0.9806, 0.5918, 0.7341, 0.9844),\n",
    "    (\"100ms\", \"Logistic\", 0.9669, 0.3987, 0.5212, 0.9395),\n",
    "    (\"100ms\", \"SVM\", 0.9742, 0.4399, 0.6063, 0.9209),\n",
    "    (\"100ms\", \"MLP\", 0.9827, 0.7405, 0.7946, 0.9830),\n",
    "    (\"200ms\", \"Random Forest\", 0.9771, 0.5437, 0.6824, 0.9804),\n",
    "    (\"200ms\", \"Logistic\", 0.9634, 0.3047, 0.4290, 0.9227),\n",
    "    (\"200ms\", \"SVM\", 0.9699, 0.3656, 0.5235, 0.9117),\n",
    "    (\"200ms\", \"MLP\", 0.9769, 0.6297, 0.7114, 0.9815),\n",
    "]\n",
    "\n",
    "df = pd.DataFrame(data, columns=[\"Sampling Rate\", \"Model\", \"Accuracy\", \"Recall\", \"F1-Score\", \"ROC AUC\"])\n",
    "metrics = [\"Accuracy\", \"Recall\", \"F1-Score\"]\n",
    "\n",
    "# Plot each metric in a separate subplot\n",
    "fig, axes = plt.subplots(nrows=3, ncols=1, figsize=(10, 15), sharex=True)\n",
    "\n",
    "for ax, metric in zip(axes, metrics):\n",
    "    sns.barplot(data=df, x=\"Model\", y=metric, hue=\"Sampling Rate\", palette=\"Set2\", errorbar=None, ax=ax)\n",
    "    ax.set_title(f\"{metric} by Model and Sampling Rate\", fontsize=12, pad=15)  # <- spacing added here\n",
    "    ax.set_ylabel(metric)\n",
    "    ax.set_ylim(0, 1)\n",
    "    ax.grid(axis='y', linestyle='', alpha=0.7)\n",
    "\n",
    "    # Add labels on bars\n",
    "    for container in ax.containers:\n",
    "        ax.bar_label(container, fmt=\"%.2f\", padding=3, fontsize=9)\n",
    "\n",
    "# Turn off plot borders (spines)\n",
    "for ax in axes:\n",
    "    for spine in ax.spines.values():\n",
    "        spine.set_visible(False)\n",
    "\n",
    "axes[-1].set_xlabel(\"Model\")\n",
    "plt.suptitle(\"Fall Detection Model Performance\", fontsize=14)\n",
    "plt.tight_layout(rect=[0, 0, 1, 0.97])\n",
    "plt.show()"
   ]
  },
  {
   "cell_type": "code",
   "execution_count": 51,
   "id": "db4d45bb-a321-416a-81d9-482c93a9a777",
   "metadata": {},
   "outputs": [
    {
     "data": {
      "image/png": "[encoded data removed]",
      "text/plain": [
       "<Figure size 800x600 with 2 Axes>"
      ]
     },
     "metadata": {},
     "output_type": "display_data"
    }
   ],
   "source": [
    "# Pivot for heatmap\n",
    "heatmap_data = df.pivot(index=\"Model\", columns=\"Sampling Rate\", values=\"F1-Score\")\n",
    "\n",
    "plt.figure(figsize=(8, 6))\n",
    "sns.heatmap(heatmap_data, annot=True, fmt=\".3f\", cmap=\"Blues\", cbar_kws={'label': 'F1-Score'})\n",
    "plt.title(\"F1-Score Heatmap by Model and Sampling Rate\")\n",
    "plt.ylabel(\"Model\")\n",
    "plt.xlabel(\"Sampling Rate\")\n",
    "plt.tight_layout()\n",
    "plt.show()"
   ]
  },
  {
   "cell_type": "markdown",
   "id": "b58ecf0f-86ea-4ab8-80de-9dc564511b43",
   "metadata": {},
   "source": [
    "**Best Model for Fall Detection**\n",
    "Based on the highest recall and F1-score for detecting falls, the top performer is:\n",
    "\n",
    "**MLP at 100ms**\n",
    "\n",
    "* Accuracy = 0.9827 The proportion of total predictions that were correct.\n",
    "\n",
    "* Recall = 0.7405 The proportion of actual falls that were correctly detected.\n",
    "\n",
    "* F1-score = 0.7946 Harmonic mean of precision and recall.\n",
    "\n",
    "* ROC AUC = 0.9830 How well the model separates falls from non-falls across all thresholds."
   ]
  }
 ],
 "metadata": {
  "kernelspec": {
   "display_name": "Python 3 (ipykernel)",
   "language": "python",
   "name": "python3"
  },
  "language_info": {
   "codemirror_mode": {
    "name": "ipython",
    "version": 3
   },
   "file_extension": ".py",
   "mimetype": "text/x-python",
   "name": "python",
   "nbconvert_exporter": "python",
   "pygments_lexer": "ipython3",
   "version": "3.11.3"
  }
 },
 "nbformat": 4,
 "nbformat_minor": 5
}
