{
 "cells": [
  {
   "cell_type": "code",
   "execution_count": 2,
   "metadata": {},
   "outputs": [],
   "source": [
    "import pandas as pd"
   ]
  },
  {
   "cell_type": "code",
   "execution_count": 4,
   "metadata": {},
   "outputs": [],
   "source": [
    "# Read dataset\n",
    "df = pd.read_csv('../data/raw/combined_dataset.csv')\n"
   ]
  },
  {
   "cell_type": "code",
   "execution_count": 5,
   "metadata": {},
   "outputs": [
    {
     "data": {
      "text/html": [
       "<div>\n",
       "<style scoped>\n",
       "    .dataframe tbody tr th:only-of-type {\n",
       "        vertical-align: middle;\n",
       "    }\n",
       "\n",
       "    .dataframe tbody tr th {\n",
       "        vertical-align: top;\n",
       "    }\n",
       "\n",
       "    .dataframe thead th {\n",
       "        text-align: right;\n",
       "    }\n",
       "</style>\n",
       "<table border=\"1\" class=\"dataframe\">\n",
       "  <thead>\n",
       "    <tr style=\"text-align: right;\">\n",
       "      <th></th>\n",
       "      <th>timestamp</th>\n",
       "      <th>x</th>\n",
       "      <th>y</th>\n",
       "      <th>z</th>\n",
       "      <th>subject</th>\n",
       "      <th>category</th>\n",
       "      <th>activity</th>\n",
       "      <th>sensor</th>\n",
       "      <th>trial</th>\n",
       "    </tr>\n",
       "  </thead>\n",
       "  <tbody>\n",
       "    <tr>\n",
       "      <th>0</th>\n",
       "      <td>2318482693000</td>\n",
       "      <td>0.890643</td>\n",
       "      <td>-9.576807</td>\n",
       "      <td>-0.019154</td>\n",
       "      <td>sub1</td>\n",
       "      <td>FALLS</td>\n",
       "      <td>BSC</td>\n",
       "      <td>acc</td>\n",
       "      <td>1</td>\n",
       "    </tr>\n",
       "    <tr>\n",
       "      <th>1</th>\n",
       "      <td>2318492108000</td>\n",
       "      <td>0.919373</td>\n",
       "      <td>-9.595961</td>\n",
       "      <td>-0.057461</td>\n",
       "      <td>sub1</td>\n",
       "      <td>FALLS</td>\n",
       "      <td>BSC</td>\n",
       "      <td>acc</td>\n",
       "      <td>1</td>\n",
       "    </tr>\n",
       "    <tr>\n",
       "      <th>2</th>\n",
       "      <td>2318503365000</td>\n",
       "      <td>0.871489</td>\n",
       "      <td>-9.595961</td>\n",
       "      <td>-0.057461</td>\n",
       "      <td>sub1</td>\n",
       "      <td>FALLS</td>\n",
       "      <td>BSC</td>\n",
       "      <td>acc</td>\n",
       "      <td>1</td>\n",
       "    </tr>\n",
       "    <tr>\n",
       "      <th>3</th>\n",
       "      <td>2318512831000</td>\n",
       "      <td>0.852336</td>\n",
       "      <td>-9.643845</td>\n",
       "      <td>-0.038307</td>\n",
       "      <td>sub1</td>\n",
       "      <td>FALLS</td>\n",
       "      <td>BSC</td>\n",
       "      <td>acc</td>\n",
       "      <td>1</td>\n",
       "    </tr>\n",
       "    <tr>\n",
       "      <th>4</th>\n",
       "      <td>2318523222000</td>\n",
       "      <td>0.871489</td>\n",
       "      <td>-9.634268</td>\n",
       "      <td>-0.057461</td>\n",
       "      <td>sub1</td>\n",
       "      <td>FALLS</td>\n",
       "      <td>BSC</td>\n",
       "      <td>acc</td>\n",
       "      <td>1</td>\n",
       "    </tr>\n",
       "    <tr>\n",
       "      <th>...</th>\n",
       "      <td>...</td>\n",
       "      <td>...</td>\n",
       "      <td>...</td>\n",
       "      <td>...</td>\n",
       "      <td>...</td>\n",
       "      <td>...</td>\n",
       "      <td>...</td>\n",
       "      <td>...</td>\n",
       "      <td>...</td>\n",
       "    </tr>\n",
       "    <tr>\n",
       "      <th>5804821</th>\n",
       "      <td>759949519000</td>\n",
       "      <td>258.757500</td>\n",
       "      <td>6.500066</td>\n",
       "      <td>-47.713290</td>\n",
       "      <td>sub9</td>\n",
       "      <td>FALLS</td>\n",
       "      <td>SDL</td>\n",
       "      <td>ori</td>\n",
       "      <td>3</td>\n",
       "    </tr>\n",
       "    <tr>\n",
       "      <th>5804822</th>\n",
       "      <td>759954457000</td>\n",
       "      <td>258.748470</td>\n",
       "      <td>6.498722</td>\n",
       "      <td>-47.701267</td>\n",
       "      <td>sub9</td>\n",
       "      <td>FALLS</td>\n",
       "      <td>SDL</td>\n",
       "      <td>ori</td>\n",
       "      <td>3</td>\n",
       "    </tr>\n",
       "    <tr>\n",
       "      <th>5804823</th>\n",
       "      <td>759959490000</td>\n",
       "      <td>258.736420</td>\n",
       "      <td>6.492827</td>\n",
       "      <td>-47.690780</td>\n",
       "      <td>sub9</td>\n",
       "      <td>FALLS</td>\n",
       "      <td>SDL</td>\n",
       "      <td>ori</td>\n",
       "      <td>3</td>\n",
       "    </tr>\n",
       "    <tr>\n",
       "      <th>5804824</th>\n",
       "      <td>759964438000</td>\n",
       "      <td>258.726380</td>\n",
       "      <td>6.492289</td>\n",
       "      <td>-47.682583</td>\n",
       "      <td>sub9</td>\n",
       "      <td>FALLS</td>\n",
       "      <td>SDL</td>\n",
       "      <td>ori</td>\n",
       "      <td>3</td>\n",
       "    </tr>\n",
       "    <tr>\n",
       "      <th>5804825</th>\n",
       "      <td>759969477000</td>\n",
       "      <td>258.718020</td>\n",
       "      <td>6.482976</td>\n",
       "      <td>-47.677937</td>\n",
       "      <td>sub9</td>\n",
       "      <td>FALLS</td>\n",
       "      <td>SDL</td>\n",
       "      <td>ori</td>\n",
       "      <td>3</td>\n",
       "    </tr>\n",
       "  </tbody>\n",
       "</table>\n",
       "<p>5804826 rows × 9 columns</p>\n",
       "</div>"
      ],
      "text/plain": [
       "             timestamp           x         y          z subject category  \\\n",
       "0        2318482693000    0.890643 -9.576807  -0.019154    sub1    FALLS   \n",
       "1        2318492108000    0.919373 -9.595961  -0.057461    sub1    FALLS   \n",
       "2        2318503365000    0.871489 -9.595961  -0.057461    sub1    FALLS   \n",
       "3        2318512831000    0.852336 -9.643845  -0.038307    sub1    FALLS   \n",
       "4        2318523222000    0.871489 -9.634268  -0.057461    sub1    FALLS   \n",
       "...                ...         ...       ...        ...     ...      ...   \n",
       "5804821   759949519000  258.757500  6.500066 -47.713290    sub9    FALLS   \n",
       "5804822   759954457000  258.748470  6.498722 -47.701267    sub9    FALLS   \n",
       "5804823   759959490000  258.736420  6.492827 -47.690780    sub9    FALLS   \n",
       "5804824   759964438000  258.726380  6.492289 -47.682583    sub9    FALLS   \n",
       "5804825   759969477000  258.718020  6.482976 -47.677937    sub9    FALLS   \n",
       "\n",
       "        activity sensor  trial  \n",
       "0            BSC    acc      1  \n",
       "1            BSC    acc      1  \n",
       "2            BSC    acc      1  \n",
       "3            BSC    acc      1  \n",
       "4            BSC    acc      1  \n",
       "...          ...    ...    ...  \n",
       "5804821      SDL    ori      3  \n",
       "5804822      SDL    ori      3  \n",
       "5804823      SDL    ori      3  \n",
       "5804824      SDL    ori      3  \n",
       "5804825      SDL    ori      3  \n",
       "\n",
       "[5804826 rows x 9 columns]"
      ]
     },
     "execution_count": 5,
     "metadata": {},
     "output_type": "execute_result"
    }
   ],
   "source": [
    "df"
   ]
  },
  {
   "cell_type": "code",
   "execution_count": null,
   "metadata": {},
   "outputs": [],
   "source": [
    "# Select only accelerometer and gyrometer\n",
    "new_df = df[df['sensor'] != 'ori']\n",
    "\n",
    "df['subject'].nunique()"
   ]
  },
  {
   "cell_type": "code",
   "execution_count": null,
   "metadata": {},
   "outputs": [],
   "source": [
    "# Split into Acceleration and Gyroscope data\n",
    "acc_df = df[df['sensor'] == 'acc'].drop(columns=['sensor'])\n",
    "gyro_df = df[df['sensor'] == 'gyro'].drop(columns=['sensor'])"
   ]
  },
  {
   "cell_type": "code",
   "execution_count": null,
   "metadata": {},
   "outputs": [],
   "source": [
    "# Ensure the timestamp is in datetime format\n",
    "acc_df['timestamp'] = pd.to_datetime(acc_df['timestamp'], unit = 'ns')\n",
    "\n",
    "gyro_df['timestamp'] = pd.to_datetime(gyro_df['timestamp'],  unit = 'ns')"
   ]
  },
  {
   "cell_type": "code",
   "execution_count": null,
   "metadata": {},
   "outputs": [],
   "source": [
    "# Index the timestamp\n",
    "acc_df.index = acc_df['timestamp'] \n",
    "gyro_df.index = gyro_df['timestamp'] "
   ]
  },
  {
   "cell_type": "code",
   "execution_count": null,
   "metadata": {},
   "outputs": [],
   "source": [
    "# Delete the timestamp columns\n",
    "del acc_df['timestamp']\n",
    "del gyro_df['timestamp']"
   ]
  },
  {
   "cell_type": "code",
   "execution_count": null,
   "metadata": {},
   "outputs": [],
   "source": [
    "# Merge: Keep all gyro timestamps, add acc data\n",
    "df_merged = gyro_df.merge(acc_df.iloc[:,:3], how=\"left\", left_index=True, right_index=True)\n",
    "df_merged.interpolate(method=\"linear\", inplace=True)"
   ]
  },
  {
   "cell_type": "markdown",
   "metadata": {},
   "source": [
    "Here we have a lot of missing accelerometer data beccause gyrometer is \n",
    "measured at a higher rate than accelerometer and the chances of it measuring \n",
    "at the same exact ms is low. We pick the gyro data to sync accelerometer because it measures with the highest frequency. The empty accelerometer data will be linearly interpolated"
   ]
  },
  {
   "cell_type": "code",
   "execution_count": null,
   "metadata": {},
   "outputs": [],
   "source": [
    "df_merged = df_merged.dropna() # Drop NA"
   ]
  },
  {
   "cell_type": "code",
   "execution_count": null,
   "metadata": {},
   "outputs": [],
   "source": [
    "# Rename columns\n",
    "df_merged.columns = ['gyr_x', 'gyr_y', 'gyr_z', 'subject', 'category', 'activity', 'trial', 'acc_x', 'acc_y', 'acc_z']\n",
    "\n",
    "# 2.3 million row remain after llinear interppolation\n"
   ]
  },
  {
   "cell_type": "code",
   "execution_count": null,
   "metadata": {},
   "outputs": [],
   "source": [
    "# Creating the subject DataFrame from Mobifall description\n",
    "subject_data = {\n",
    "    \"id\": [1, 2, 3, 4, 5, 6, 7, 8, 9, 10, 11, 12, 13, 14, 15, 16, 17, 18, 19, 20, 21, 29, 30, 31],\n",
    "    \"age\": [32, 26, 26, 32, 36, 22, 25, 22, 30, 26, 26, 29, 24, 24, 25, 27, 25, 25, 25, 26, 25, 27, 47, 27],\n",
    "    \"height\": [180, 169, 164, 186, 160, 172, 189, 183, 177, 170, 168, 178, 177, 178, 173, 172, 173, 176, 161, 178, 180, 186, 172, 170],\n",
    "    \"weight\": [85, 64, 55, 93, 50, 62, 80, 93, 102, 90, 80, 83, 62, 85, 82, 56, 67, 73, 63, 71, 70, 103, 90, 75],\n",
    "    \"gender\": [\"M\", \"M\", \"F\", \"M\", \"F\", \"F\", \"M\", \"M\", \"M\", \"F\", \"F\", \"M\", \"M\", \"M\", \"M\", \"F\", \"M\", \"M\", \"F\", \"M\", \"M\", \"M\", \"M\", \"M\"]\n",
    "}\n",
    "\n",
    "df = pd.DataFrame(subject_data)\n",
    "\n",
    "# Modifying the id column to add \"sub_\" prefix\n",
    "df[\"id\"] = \"sub\" + df[\"id\"].astype(str)\n",
    "\n",
    "df.rename(columns={'id': 'subject'}, inplace = True)"
   ]
  },
  {
   "cell_type": "code",
   "execution_count": null,
   "metadata": {},
   "outputs": [],
   "source": [
    "# Add subjects detail\n",
    "df_merged = df_merged.merge(df, on = 'subject')\n"
   ]
  },
  {
   "cell_type": "code",
   "execution_count": null,
   "metadata": {},
   "outputs": [],
   "source": [
    "# Select only relevant columns\n",
    "mobifall_df = df_merged[['acc_x','acc_y','acc_z','gyr_x','gyr_y','gyr_z','age','height','weight','gender', 'category']]\n"
   ]
  },
  {
   "cell_type": "code",
   "execution_count": null,
   "metadata": {},
   "outputs": [],
   "source": [
    "# Export to csv\n",
    "mobifall_df.to_csv('../../data/interim/mobifall_df.csv', index = False)"
   ]
  }
 ],
 "metadata": {
  "kernelspec": {
   "display_name": "base",
   "language": "python",
   "name": "python3"
  },
  "language_info": {
   "codemirror_mode": {
    "name": "ipython",
    "version": 3
   },
   "file_extension": ".py",
   "mimetype": "text/x-python",
   "name": "python",
   "nbconvert_exporter": "python",
   "pygments_lexer": "ipython3",
   "version": "3.11.5"
  }
 },
 "nbformat": 4,
 "nbformat_minor": 2
}
