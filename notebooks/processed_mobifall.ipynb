{
 "cells": [
  {
   "cell_type": "code",
   "execution_count": 1,
   "metadata": {},
   "outputs": [],
   "source": [
    "import pandas as pd"
   ]
  },
  {
   "cell_type": "code",
   "execution_count": null,
   "metadata": {},
   "outputs": [],
   "source": [
    "# Read dataset\n",
    "df = pd.read_csv('../../data/raw/combined_dataset.csv')\n"
   ]
  },
  {
   "cell_type": "code",
   "execution_count": null,
   "metadata": {},
   "outputs": [],
   "source": [
    "# Select only accelerometer and gyrometer\n",
    "new_df = df[df['sensor'] != 'ori']\n",
    "\n",
    "df['subject'].nunique()"
   ]
  },
  {
   "cell_type": "code",
   "execution_count": null,
   "metadata": {},
   "outputs": [],
   "source": [
    "# Split into Acceleration and Gyroscope data\n",
    "acc_df = df[df['sensor'] == 'acc'].drop(columns=['sensor'])\n",
    "gyro_df = df[df['sensor'] == 'gyro'].drop(columns=['sensor'])"
   ]
  },
  {
   "cell_type": "code",
   "execution_count": null,
   "metadata": {},
   "outputs": [],
   "source": [
    "# Ensure the timestamp is in datetime format\n",
    "acc_df['timestamp'] = pd.to_datetime(acc_df['timestamp'], unit = 'ns')\n",
    "\n",
    "gyro_df['timestamp'] = pd.to_datetime(gyro_df['timestamp'],  unit = 'ns')"
   ]
  },
  {
   "cell_type": "code",
   "execution_count": null,
   "metadata": {},
   "outputs": [],
   "source": [
    "# Index the timestamp\n",
    "acc_df.index = acc_df['timestamp'] \n",
    "gyro_df.index = gyro_df['timestamp'] "
   ]
  },
  {
   "cell_type": "code",
   "execution_count": null,
   "metadata": {},
   "outputs": [],
   "source": [
    "# Delete the timestamp columns\n",
    "del acc_df['timestamp']\n",
    "del gyro_df['timestamp']"
   ]
  },
  {
   "cell_type": "code",
   "execution_count": null,
   "metadata": {},
   "outputs": [],
   "source": [
    "# Merge: Keep all gyro timestamps, add acc data\n",
    "df_merged = gyro_df.merge(acc_df.iloc[:,:3], how=\"left\", left_index=True, right_index=True)\n",
    "df_merged.interpolate(method=\"linear\", inplace=True)"
   ]
  },
  {
   "cell_type": "markdown",
   "metadata": {},
   "source": [
    "Here we have a lot of missing accelerometer data beccause gyrometer is \n",
    "measured at a higher rate than accelerometer and the chances of it measuring \n",
    "at the same exact ms is low. We pick the gyro data to sync accelerometer because it measures with the highest frequency. The empty accelerometer data will be linearly interpolated"
   ]
  },
  {
   "cell_type": "code",
   "execution_count": null,
   "metadata": {},
   "outputs": [],
   "source": [
    "df_merged = df_merged.dropna() # Drop NA"
   ]
  },
  {
   "cell_type": "code",
   "execution_count": null,
   "metadata": {},
   "outputs": [],
   "source": [
    "# Rename columns\n",
    "df_merged.columns = ['gyr_x', 'gyr_y', 'gyr_z', 'subject', 'category', 'activity', 'trial', 'acc_x', 'acc_y', 'acc_z']\n",
    "\n",
    "# 2.3 million row remain after llinear interppolation\n"
   ]
  },
  {
   "cell_type": "code",
   "execution_count": null,
   "metadata": {},
   "outputs": [],
   "source": [
    "# Creating the subject DataFrame from Mobifall description\n",
    "subject_data = {\n",
    "    \"id\": [1, 2, 3, 4, 5, 6, 7, 8, 9, 10, 11, 12, 13, 14, 15, 16, 17, 18, 19, 20, 21, 29, 30, 31],\n",
    "    \"age\": [32, 26, 26, 32, 36, 22, 25, 22, 30, 26, 26, 29, 24, 24, 25, 27, 25, 25, 25, 26, 25, 27, 47, 27],\n",
    "    \"height\": [180, 169, 164, 186, 160, 172, 189, 183, 177, 170, 168, 178, 177, 178, 173, 172, 173, 176, 161, 178, 180, 186, 172, 170],\n",
    "    \"weight\": [85, 64, 55, 93, 50, 62, 80, 93, 102, 90, 80, 83, 62, 85, 82, 56, 67, 73, 63, 71, 70, 103, 90, 75],\n",
    "    \"gender\": [\"M\", \"M\", \"F\", \"M\", \"F\", \"F\", \"M\", \"M\", \"M\", \"F\", \"F\", \"M\", \"M\", \"M\", \"M\", \"F\", \"M\", \"M\", \"F\", \"M\", \"M\", \"M\", \"M\", \"M\"]\n",
    "}\n",
    "\n",
    "df = pd.DataFrame(subject_data)\n",
    "\n",
    "# Modifying the id column to add \"sub_\" prefix\n",
    "df[\"id\"] = \"sub\" + df[\"id\"].astype(str)\n",
    "\n",
    "df.rename(columns={'id': 'subject'}, inplace = True)"
   ]
  },
  {
   "cell_type": "code",
   "execution_count": null,
   "metadata": {},
   "outputs": [],
   "source": [
    "# Add subjects detail\n",
    "df_merged = df_merged.merge(df, on = 'subject')\n"
   ]
  },
  {
   "cell_type": "code",
   "execution_count": null,
   "metadata": {},
   "outputs": [],
   "source": [
    "# Select only relevant columns\n",
    "mobifall_df = df_merged[['acc_x','acc_y','acc_z','gyr_x','gyr_y','gyr_z','age','height','weight','gender', 'category']]\n"
   ]
  },
  {
   "cell_type": "code",
   "execution_count": null,
   "metadata": {},
   "outputs": [],
   "source": [
    "# Export to csv\n",
    "mobifall_df.to_csv('../../data/interim/mobifall_df.csv', index = False)"
   ]
  }
 ],
 "metadata": {
  "kernelspec": {
   "display_name": "base",
   "language": "python",
   "name": "python3"
  },
  "language_info": {
   "codemirror_mode": {
    "name": "ipython",
    "version": 3
   },
   "file_extension": ".py",
   "mimetype": "text/x-python",
   "name": "python",
   "nbconvert_exporter": "python",
   "pygments_lexer": "ipython3",
   "version": "3.11.5"
  }
 },
 "nbformat": 4,
 "nbformat_minor": 2
}
