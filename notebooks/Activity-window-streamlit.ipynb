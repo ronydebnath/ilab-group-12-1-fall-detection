{
 "cells": [
  {
   "cell_type": "code",
   "execution_count": 2,
   "id": "81f4e5af",
   "metadata": {},
   "outputs": [
    {
     "name": "stderr",
     "output_type": "stream",
     "text": [
      "/Users/vega7unk/anaconda3/lib/python3.11/site-packages/pandas/core/arrays/masked.py:60: UserWarning: Pandas requires version '1.3.6' or newer of 'bottleneck' (version '1.3.5' currently installed).\n",
      "  from pandas.core import (\n"
     ]
    }
   ],
   "source": [
    "import os\n",
    "import pandas as pd\n",
    "import numpy as np\n",
    "from sklearn.model_selection import GroupShuffleSplit"
   ]
  },
  {
   "cell_type": "code",
   "execution_count": 3,
   "id": "e6399257",
   "metadata": {},
   "outputs": [],
   "source": [
    "dtype_map = {\n",
    "    \"subject_id\": \"int16\",\n",
    "    \"trial\": \"int16\",\n",
    "    \"acc_x\": \"float32\", \"acc_y\": \"float32\", \"acc_z\": \"float32\",\n",
    "    \"gyro_x\": \"float32\",\"gyro_y\": \"float32\",\"gyro_z\": \"float32\",\n",
    "    \"azimuth\": \"float32\", \"pitch\": \"float32\", \"roll\": \"float32\",\n",
    "    \"label\": \"category\"\n",
    "}\n",
    "df = pd.read_csv(\"../data/raw/MobiAct_combined.csv\", dtype=dtype_map)"
   ]
  },
  {
   "cell_type": "code",
   "execution_count": 4,
   "id": "2ae87a6d",
   "metadata": {},
   "outputs": [
    {
     "data": {
      "text/html": [
       "<div>\n",
       "<style scoped>\n",
       "    .dataframe tbody tr th:only-of-type {\n",
       "        vertical-align: middle;\n",
       "    }\n",
       "\n",
       "    .dataframe tbody tr th {\n",
       "        vertical-align: top;\n",
       "    }\n",
       "\n",
       "    .dataframe thead th {\n",
       "        text-align: right;\n",
       "    }\n",
       "</style>\n",
       "<table border=\"1\" class=\"dataframe\">\n",
       "  <thead>\n",
       "    <tr style=\"text-align: right;\">\n",
       "      <th></th>\n",
       "      <th>timestamp</th>\n",
       "      <th>rel_time</th>\n",
       "      <th>acc_x</th>\n",
       "      <th>acc_y</th>\n",
       "      <th>acc_z</th>\n",
       "      <th>gyro_x</th>\n",
       "      <th>gyro_y</th>\n",
       "      <th>gyro_z</th>\n",
       "      <th>azimuth</th>\n",
       "      <th>pitch</th>\n",
       "      <th>roll</th>\n",
       "      <th>label</th>\n",
       "      <th>subject_id</th>\n",
       "      <th>trial</th>\n",
       "    </tr>\n",
       "  </thead>\n",
       "  <tbody>\n",
       "    <tr>\n",
       "      <th>0</th>\n",
       "      <td>1295405261000</td>\n",
       "      <td>0.000000</td>\n",
       "      <td>-1.407311</td>\n",
       "      <td>9.614395</td>\n",
       "      <td>-2.086666</td>\n",
       "      <td>-0.844216</td>\n",
       "      <td>0.409280</td>\n",
       "      <td>0.086437</td>\n",
       "      <td>92.746895</td>\n",
       "      <td>-36.879684</td>\n",
       "      <td>-11.741077</td>\n",
       "      <td>STD</td>\n",
       "      <td>10</td>\n",
       "      <td>1</td>\n",
       "    </tr>\n",
       "    <tr>\n",
       "      <th>1</th>\n",
       "      <td>1295410262000</td>\n",
       "      <td>0.005001</td>\n",
       "      <td>-1.406354</td>\n",
       "      <td>9.612960</td>\n",
       "      <td>-2.084512</td>\n",
       "      <td>-0.711047</td>\n",
       "      <td>0.346971</td>\n",
       "      <td>0.076358</td>\n",
       "      <td>92.205360</td>\n",
       "      <td>-37.470173</td>\n",
       "      <td>-11.839779</td>\n",
       "      <td>STD</td>\n",
       "      <td>10</td>\n",
       "      <td>1</td>\n",
       "    </tr>\n",
       "    <tr>\n",
       "      <th>2</th>\n",
       "      <td>1295415352000</td>\n",
       "      <td>0.010091</td>\n",
       "      <td>-1.405380</td>\n",
       "      <td>9.611498</td>\n",
       "      <td>-2.082320</td>\n",
       "      <td>-0.598953</td>\n",
       "      <td>0.093462</td>\n",
       "      <td>0.025045</td>\n",
       "      <td>91.743050</td>\n",
       "      <td>-38.090790</td>\n",
       "      <td>-11.880902</td>\n",
       "      <td>STD</td>\n",
       "      <td>10</td>\n",
       "      <td>1</td>\n",
       "    </tr>\n",
       "    <tr>\n",
       "      <th>3</th>\n",
       "      <td>1295420307000</td>\n",
       "      <td>0.015046</td>\n",
       "      <td>-1.404432</td>\n",
       "      <td>9.610076</td>\n",
       "      <td>-2.080186</td>\n",
       "      <td>-0.128893</td>\n",
       "      <td>-0.012828</td>\n",
       "      <td>-0.002443</td>\n",
       "      <td>91.267319</td>\n",
       "      <td>-38.842915</td>\n",
       "      <td>-11.933741</td>\n",
       "      <td>STD</td>\n",
       "      <td>10</td>\n",
       "      <td>1</td>\n",
       "    </tr>\n",
       "    <tr>\n",
       "      <th>4</th>\n",
       "      <td>1295425257000</td>\n",
       "      <td>0.019996</td>\n",
       "      <td>-1.403484</td>\n",
       "      <td>9.608654</td>\n",
       "      <td>-2.078054</td>\n",
       "      <td>0.049480</td>\n",
       "      <td>0.018326</td>\n",
       "      <td>0.016493</td>\n",
       "      <td>90.819679</td>\n",
       "      <td>-39.538643</td>\n",
       "      <td>-11.957446</td>\n",
       "      <td>STD</td>\n",
       "      <td>10</td>\n",
       "      <td>1</td>\n",
       "    </tr>\n",
       "  </tbody>\n",
       "</table>\n",
       "</div>"
      ],
      "text/plain": [
       "       timestamp  rel_time     acc_x     acc_y     acc_z    gyro_x    gyro_y  \\\n",
       "0  1295405261000  0.000000 -1.407311  9.614395 -2.086666 -0.844216  0.409280   \n",
       "1  1295410262000  0.005001 -1.406354  9.612960 -2.084512 -0.711047  0.346971   \n",
       "2  1295415352000  0.010091 -1.405380  9.611498 -2.082320 -0.598953  0.093462   \n",
       "3  1295420307000  0.015046 -1.404432  9.610076 -2.080186 -0.128893 -0.012828   \n",
       "4  1295425257000  0.019996 -1.403484  9.608654 -2.078054  0.049480  0.018326   \n",
       "\n",
       "     gyro_z    azimuth      pitch       roll label  subject_id  trial  \n",
       "0  0.086437  92.746895 -36.879684 -11.741077   STD          10      1  \n",
       "1  0.076358  92.205360 -37.470173 -11.839779   STD          10      1  \n",
       "2  0.025045  91.743050 -38.090790 -11.880902   STD          10      1  \n",
       "3 -0.002443  91.267319 -38.842915 -11.933741   STD          10      1  \n",
       "4  0.016493  90.819679 -39.538643 -11.957446   STD          10      1  "
      ]
     },
     "execution_count": 4,
     "metadata": {},
     "output_type": "execute_result"
    }
   ],
   "source": [
    "df.head()"
   ]
  },
  {
   "cell_type": "code",
   "execution_count": 5,
   "id": "e3e53b94",
   "metadata": {},
   "outputs": [],
   "source": [
    "fall_labels = ['BSC', 'FKL', 'SDL', 'FOL']\n",
    "post_fall   = ['LYI']\n",
    "df['fall_label'] = df['label'].apply(\n",
    "    lambda x: 'FALL' if x in fall_labels \n",
    "              else ('POST_FALL' if x in post_fall else 'ADL')\n",
    ")"
   ]
  },
  {
   "cell_type": "code",
   "execution_count": 6,
   "id": "2012b115",
   "metadata": {},
   "outputs": [],
   "source": [
    "gss = GroupShuffleSplit(n_splits=1, test_size=0.2, random_state=42)\n",
    "train_idx, test_idx = next(gss.split(df, df['fall_label'], groups=df['subject_id']))\n",
    "df_train = df.iloc[train_idx].reset_index(drop=True)\n",
    "df_test  = df.iloc[test_idx].reset_index(drop=True)"
   ]
  },
  {
   "cell_type": "code",
   "execution_count": 7,
   "id": "13f453df",
   "metadata": {},
   "outputs": [],
   "source": [
    "df_full = df_test[(df_test.subject_id==17) & (df_test.trial==3)]\n",
    "df_full.to_csv(\"../app/samples/full_trace_subject17_trial3.csv\", index=False)"
   ]
  },
  {
   "cell_type": "code",
   "execution_count": 6,
   "id": "bfdb2a00",
   "metadata": {},
   "outputs": [],
   "source": [
    "def extract_windows(df, window_size=500, step_size=250):\n",
    "    windows = []\n",
    "    for start in range(0, len(df) - window_size + 1, step_size):\n",
    "        win = df.iloc[start:start+window_size].copy()\n",
    "        labels = win['fall_label'].unique()\n",
    "        # only keep if it’s purely FALL or purely ADL\n",
    "        if 'FALL' in labels and 'ADL' not in labels:\n",
    "            win_label = 'FALL'\n",
    "        elif 'ADL' in labels and 'FALL' not in labels:\n",
    "            win_label = 'ADL'\n",
    "        else:\n",
    "            continue\n",
    "        win['window_label'] = win_label\n",
    "        windows.append(win)\n",
    "    return windows"
   ]
  },
  {
   "cell_type": "code",
   "execution_count": 7,
   "id": "c16ed7ee",
   "metadata": {},
   "outputs": [],
   "source": [
    "train_windows = extract_windows(df_train)\n",
    "test_windows  = extract_windows(df_test)"
   ]
  },
  {
   "cell_type": "code",
   "execution_count": 11,
   "id": "90c9a56b",
   "metadata": {},
   "outputs": [
    {
     "name": "stdout",
     "output_type": "stream",
     "text": [
      "Saved 50 train windows and 50 test windows under `extracted_windows/`.\n"
     ]
    }
   ],
   "source": [
    "output_base = \"extracted_windows\"\n",
    "for split_name, windows in [(\"train\", train_windows), (\"test\", test_windows)]:\n",
    "    out_dir = os.path.join(output_base, split_name)\n",
    "    os.makedirs(out_dir, exist_ok=True)\n",
    "    # save first 5 windows (or len(windows) if fewer)\n",
    "    for i, win_df in enumerate(windows[:50]):\n",
    "        fn = f\"window_{i}_{win_df['window_label'].iloc[0]}.csv\"\n",
    "        win_df.to_csv(os.path.join(out_dir, fn), index=False)\n",
    "\n",
    "print(f\"Saved {min(50,len(train_windows))} train windows and \"\n",
    "      f\"{min(50,len(test_windows))} test windows under `{output_base}/`.\")\n"
   ]
  },
  {
   "cell_type": "code",
   "execution_count": null,
   "id": "2693ecc1",
   "metadata": {},
   "outputs": [],
   "source": []
  }
 ],
 "metadata": {
  "kernelspec": {
   "display_name": "Python 3 (ipykernel)",
   "language": "python",
   "name": "python3"
  },
  "language_info": {
   "codemirror_mode": {
    "name": "ipython",
    "version": 3
   },
   "file_extension": ".py",
   "mimetype": "text/x-python",
   "name": "python",
   "nbconvert_exporter": "python",
   "pygments_lexer": "ipython3",
   "version": "3.11.3"
  }
 },
 "nbformat": 4,
 "nbformat_minor": 5
}
