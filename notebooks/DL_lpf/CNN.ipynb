{
 "cells": [
  {
   "cell_type": "code",
   "execution_count": 1,
   "id": "c489fea5",
   "metadata": {},
   "outputs": [
    {
     "name": "stderr",
     "output_type": "stream",
     "text": [
      "/Users/vega7unk/anaconda3/lib/python3.11/site-packages/pandas/core/arrays/masked.py:60: UserWarning: Pandas requires version '1.3.6' or newer of 'bottleneck' (version '1.3.5' currently installed).\n",
      "  from pandas.core import (\n"
     ]
    }
   ],
   "source": [
    "import pandas as pd\n",
    "import numpy as np"
   ]
  },
  {
   "cell_type": "code",
   "execution_count": 2,
   "id": "e8247f62",
   "metadata": {},
   "outputs": [
    {
     "name": "stdout",
     "output_type": "stream",
     "text": [
      "/Users/vega7unk/Documents/4th Sem DSI/ilab project/ilab-group-12-1-fall-detection/notebooks\n"
     ]
    }
   ],
   "source": [
    "import os\n",
    "print(os.getcwd())"
   ]
  },
  {
   "cell_type": "code",
   "execution_count": 3,
   "id": "6f6a3fc9",
   "metadata": {},
   "outputs": [],
   "source": [
    "pd.set_option('display.max_columns', None)\n",
    "\n",
    "df = pd.read_pickle(\"../data/df_filtered_cnn.pkl\")"
   ]
  },
  {
   "cell_type": "code",
   "execution_count": 4,
   "id": "af9e1aca",
   "metadata": {
    "scrolled": true
   },
   "outputs": [
    {
     "data": {
      "text/html": [
       "<div>\n",
       "<style scoped>\n",
       "    .dataframe tbody tr th:only-of-type {\n",
       "        vertical-align: middle;\n",
       "    }\n",
       "\n",
       "    .dataframe tbody tr th {\n",
       "        vertical-align: top;\n",
       "    }\n",
       "\n",
       "    .dataframe thead th {\n",
       "        text-align: right;\n",
       "    }\n",
       "</style>\n",
       "<table border=\"1\" class=\"dataframe\">\n",
       "  <thead>\n",
       "    <tr style=\"text-align: right;\">\n",
       "      <th></th>\n",
       "      <th>acc_x</th>\n",
       "      <th>acc_y</th>\n",
       "      <th>acc_z</th>\n",
       "      <th>gyro_x</th>\n",
       "      <th>gyro_y</th>\n",
       "      <th>gyro_z</th>\n",
       "      <th>label</th>\n",
       "    </tr>\n",
       "    <tr>\n",
       "      <th>timestamp</th>\n",
       "      <th></th>\n",
       "      <th></th>\n",
       "      <th></th>\n",
       "      <th></th>\n",
       "      <th></th>\n",
       "      <th></th>\n",
       "      <th></th>\n",
       "    </tr>\n",
       "  </thead>\n",
       "  <tbody>\n",
       "    <tr>\n",
       "      <th>1970-01-01 00:38:38.700</th>\n",
       "      <td>0.209754</td>\n",
       "      <td>-2.331582</td>\n",
       "      <td>-0.203113</td>\n",
       "      <td>0.037081</td>\n",
       "      <td>0.031012</td>\n",
       "      <td>-0.012518</td>\n",
       "      <td>BSC</td>\n",
       "    </tr>\n",
       "    <tr>\n",
       "      <th>1970-01-01 00:38:38.800</th>\n",
       "      <td>0.203321</td>\n",
       "      <td>-2.349069</td>\n",
       "      <td>-0.194536</td>\n",
       "      <td>0.066225</td>\n",
       "      <td>0.079630</td>\n",
       "      <td>0.009396</td>\n",
       "      <td>BSC</td>\n",
       "    </tr>\n",
       "    <tr>\n",
       "      <th>1970-01-01 00:38:38.900</th>\n",
       "      <td>0.249716</td>\n",
       "      <td>-2.355785</td>\n",
       "      <td>-0.211275</td>\n",
       "      <td>0.196319</td>\n",
       "      <td>0.130287</td>\n",
       "      <td>0.033033</td>\n",
       "      <td>BSC</td>\n",
       "    </tr>\n",
       "    <tr>\n",
       "      <th>1970-01-01 00:38:39.000</th>\n",
       "      <td>0.276253</td>\n",
       "      <td>-2.345908</td>\n",
       "      <td>-0.201750</td>\n",
       "      <td>0.452604</td>\n",
       "      <td>0.035785</td>\n",
       "      <td>0.063763</td>\n",
       "      <td>BSC</td>\n",
       "    </tr>\n",
       "    <tr>\n",
       "      <th>1970-01-01 00:38:39.100</th>\n",
       "      <td>0.229522</td>\n",
       "      <td>-2.311028</td>\n",
       "      <td>-0.161954</td>\n",
       "      <td>0.682246</td>\n",
       "      <td>0.042157</td>\n",
       "      <td>0.127645</td>\n",
       "      <td>BSC</td>\n",
       "    </tr>\n",
       "  </tbody>\n",
       "</table>\n",
       "</div>"
      ],
      "text/plain": [
       "                            acc_x     acc_y     acc_z    gyro_x    gyro_y  \\\n",
       "timestamp                                                                   \n",
       "1970-01-01 00:38:38.700  0.209754 -2.331582 -0.203113  0.037081  0.031012   \n",
       "1970-01-01 00:38:38.800  0.203321 -2.349069 -0.194536  0.066225  0.079630   \n",
       "1970-01-01 00:38:38.900  0.249716 -2.355785 -0.211275  0.196319  0.130287   \n",
       "1970-01-01 00:38:39.000  0.276253 -2.345908 -0.201750  0.452604  0.035785   \n",
       "1970-01-01 00:38:39.100  0.229522 -2.311028 -0.161954  0.682246  0.042157   \n",
       "\n",
       "                           gyro_z label  \n",
       "timestamp                                \n",
       "1970-01-01 00:38:38.700 -0.012518   BSC  \n",
       "1970-01-01 00:38:38.800  0.009396   BSC  \n",
       "1970-01-01 00:38:38.900  0.033033   BSC  \n",
       "1970-01-01 00:38:39.000  0.063763   BSC  \n",
       "1970-01-01 00:38:39.100  0.127645   BSC  "
      ]
     },
     "execution_count": 4,
     "metadata": {},
     "output_type": "execute_result"
    }
   ],
   "source": [
    "df.head()"
   ]
  },
  {
   "cell_type": "code",
   "execution_count": 5,
   "id": "c6020006",
   "metadata": {},
   "outputs": [],
   "source": [
    "df_filtered = df.copy()"
   ]
  },
  {
   "cell_type": "markdown",
   "id": "9b2b7e49",
   "metadata": {},
   "source": [
    "## Segment Data into Windows\n",
    "\n",
    "Define a function to create windows of your desired size (e.g., 2.5-second windows):\n",
    "\n",
    "Window size: 25 samples (2.5 sec at 10 Hz)\n",
    "\n",
    "Overlap: 50% (step = 12 samples)\n"
   ]
  },
  {
   "cell_type": "code",
   "execution_count": 7,
   "id": "3560a92e",
   "metadata": {},
   "outputs": [],
   "source": [
    "sensor_cols = ['acc_x', 'acc_y', 'acc_z', 'gyro_x', 'gyro_y', 'gyro_z']\n",
    "\n",
    "def create_windows(data, window_size=25, step_size=12):\n",
    "    X, y = [], []\n",
    "    data_array = data[sensor_cols].values\n",
    "    labels = data['label'].values\n",
    "\n",
    "    for start in range(0, len(data) - window_size + 1, step_size):\n",
    "        end = start + window_size\n",
    "        window_data = data_array[start:end]\n",
    "        window_labels = labels[start:end]\n",
    "\n",
    "        # Majority voting for label assignment\n",
    "        unique, counts = np.unique(window_labels, return_counts=True)\n",
    "        label = unique[np.argmax(counts)]\n",
    "\n",
    "        X.append(window_data)\n",
    "        y.append(label)\n",
    "\n",
    "    return np.array(X), np.array(y)\n",
    "\n",
    "X, y = create_windows(df_filtered)"
   ]
  },
  {
   "cell_type": "markdown",
   "id": "bd69d4fa",
   "metadata": {},
   "source": [
    "This generates windows of data (X) with corresponding labels (y)."
   ]
  },
  {
   "cell_type": "code",
   "execution_count": 8,
   "id": "b8566291",
   "metadata": {},
   "outputs": [
    {
     "name": "stdout",
     "output_type": "stream",
     "text": [
      "[[[ 2.09753762e-01 -2.33158229e+00 -2.03113398e-01  3.70812682e-02\n",
      "    3.10115054e-02 -1.25182724e-02]\n",
      "  [ 2.03320651e-01 -2.34906933e+00 -1.94536220e-01  6.62249324e-02\n",
      "    7.96303192e-02  9.39584800e-03]\n",
      "  [ 2.49716445e-01 -2.35578524e+00 -2.11275467e-01  1.96319221e-01\n",
      "    1.30286749e-01  3.30328456e-02]\n",
      "  ...\n",
      "  [-1.46313134e+00 -2.15358967e-01  1.80649612e+00 -7.01817974e-01\n",
      "    2.03801705e+00  1.05425421e+00]\n",
      "  [-1.84548319e+00 -1.05669113e-01  1.41928172e+00  1.78329410e-01\n",
      "    2.40513754e+00  1.55617658e+00]\n",
      "  [-1.93079213e+00  1.36960187e-01  7.86047127e-01 -6.80941648e-03\n",
      "    5.97978904e-01  4.94688537e-01]]\n",
      "\n",
      " [[-1.66193562e-01 -1.68646041e+00  1.83629562e+00  1.74898368e+00\n",
      "   -2.69823060e-01  4.96083520e-01]\n",
      "  [-1.67980865e-01 -1.50461903e+00  2.06512256e+00  1.87642743e+00\n",
      "   -1.37669758e-01  4.86467326e-01]\n",
      "  [-1.30288023e-01 -1.37694663e+00  2.29273813e+00  1.96769411e+00\n",
      "    1.10934297e-01  6.16815425e-01]\n",
      "  ...\n",
      "  [-1.39983059e-01 -1.86725018e+00  2.44899722e-01 -4.24606327e-02\n",
      "    1.09958338e-02  2.37158188e-02]\n",
      "  [ 3.91766164e-01 -2.57034083e+00 -2.81478997e-01 -3.01152345e-03\n",
      "    1.10885809e-01  6.09774363e-03]\n",
      "  [ 2.39369394e-01 -2.39014856e+00 -1.63512809e-01  2.91576576e-01\n",
      "    1.71167774e-02 -3.15070597e-02]]\n",
      "\n",
      " [[-1.93079213e+00  1.36960187e-01  7.86047127e-01 -6.80941648e-03\n",
      "    5.97978904e-01  4.94688537e-01]\n",
      "  [-1.60687031e+00  2.09181741e-01  6.59518645e-01 -3.26282738e-01\n",
      "   -1.05071438e+00 -6.63632639e-01]\n",
      "  [-1.65019002e+00  1.84706460e-01  1.05369662e+00 -3.90849521e-01\n",
      "   -6.66685691e-01 -2.99825929e-01]\n",
      "  ...\n",
      "  [ 8.02991542e-02 -1.52785133e+00  1.94472241e+00  1.61831059e+00\n",
      "    2.13473599e-01  8.74997622e-02]\n",
      "  [ 8.79970242e-02 -1.39025224e+00  1.95974004e+00  2.07802133e+00\n",
      "    3.84333862e-01  1.72194641e-01]\n",
      "  [-1.24869755e-02 -1.14468401e+00  2.06227331e+00  2.40967695e+00\n",
      "    4.50933074e-01 -4.19240075e-03]]\n",
      "\n",
      " ...\n",
      "\n",
      " [[ 5.24537721e-01  5.35144686e-01 -2.78116286e-01 -7.08323126e-01\n",
      "    2.17388432e+00  4.48464170e+00]\n",
      "  [ 2.46490575e-01  1.97857263e-01  2.39745561e-01  3.83229016e-01\n",
      "    2.23537773e+00  2.65177601e+00]\n",
      "  [ 4.12891311e-01  1.49400579e-01  9.11477635e-01  6.39137968e-01\n",
      "    7.57148431e-01 -2.77098036e-01]\n",
      "  ...\n",
      "  [ 2.95975252e-01  1.05625358e+00 -2.98266863e-01 -7.79538024e-01\n",
      "   -1.41568830e+00  6.42403321e-01]\n",
      "  [-5.04632588e-02  1.26996545e+00 -1.71978192e-02 -2.32012333e+00\n",
      "   -7.38215790e-01  4.33765825e+00]\n",
      "  [-1.68659224e-01  7.47588476e-01 -1.14101548e-01 -2.15276390e+00\n",
      "    3.24225894e-01  5.12444114e+00]]\n",
      "\n",
      " [[ 8.35678486e-02  6.90952961e-01 -8.72993854e-02 -1.62859642e+00\n",
      "    1.09277761e+00  5.53106311e+00]\n",
      "  [ 2.88398526e-01  3.57703406e-02 -1.56326703e-01 -2.08293822e-02\n",
      "    2.70753512e+00  3.03203838e+00]\n",
      "  [ 7.59172065e-01 -1.36147423e-01  7.60262690e-01  7.13051768e-01\n",
      "    2.62452178e+00  2.48136236e-01]\n",
      "  ...\n",
      "  [ 2.33550541e-01  1.12264708e+00 -8.42799100e-02 -1.08442665e+00\n",
      "   -1.28709784e+00  1.44842090e+00]\n",
      "  [-4.58335372e-01  1.25848681e+00  1.42918533e-01 -2.55424142e+00\n",
      "   -1.21573067e+00  4.41094914e+00]\n",
      "  [-1.75015435e-01  5.74697028e-01 -1.62363877e-01 -2.19897798e+00\n",
      "    1.06339413e-02  4.23034782e+00]]\n",
      "\n",
      " [[-1.68659224e-01  7.47588476e-01 -1.14101548e-01 -2.15276390e+00\n",
      "    3.24225894e-01  5.12444114e+00]\n",
      "  [ 1.00933544e-01 -9.88977544e-02 -2.32608090e-01 -4.94336774e-01\n",
      "    1.42990888e+00  2.22540432e+00]\n",
      "  [ 7.87938289e-01 -1.30386078e-01  5.82707711e-01  8.52096563e-01\n",
      "    2.15171716e+00 -5.22237307e-01]\n",
      "  ...\n",
      "  [ 3.15837858e-02  9.41576852e-01  8.03545824e-02 -2.35615364e+00\n",
      "   -4.32568574e-01  3.20246202e+00]\n",
      "  [ 5.59403754e-02  3.19576096e-01 -1.25861871e-02 -1.17434468e+00\n",
      "    3.92270453e-01  2.51698419e+00]\n",
      "  [ 4.61971260e-01  4.08167117e-02  2.48861823e-01  6.53600427e-01\n",
      "    9.36892952e-01  5.76898880e-02]]]\n"
     ]
    }
   ],
   "source": [
    "print(X)"
   ]
  },
  {
   "cell_type": "code",
   "execution_count": 9,
   "id": "4e6d40b6",
   "metadata": {},
   "outputs": [
    {
     "name": "stdout",
     "output_type": "stream",
     "text": [
      "['BSC' 'BSC' 'BSC' ... 'WAL' 'WAL' 'WAL']\n"
     ]
    }
   ],
   "source": [
    "print(y)"
   ]
  },
  {
   "cell_type": "markdown",
   "id": "6baca069",
   "metadata": {},
   "source": [
    "## Encode Labels\n",
    "\n",
    "Convert string labels to numeric (for CNN training)"
   ]
  },
  {
   "cell_type": "code",
   "execution_count": 10,
   "id": "adaa1e1e",
   "metadata": {},
   "outputs": [],
   "source": [
    "from sklearn.preprocessing import LabelEncoder\n",
    "\n",
    "le = LabelEncoder()\n",
    "y_encoded = le.fit_transform(y)"
   ]
  },
  {
   "cell_type": "markdown",
   "id": "6872f13d",
   "metadata": {},
   "source": [
    "# CNN"
   ]
  },
  {
   "cell_type": "code",
   "execution_count": 11,
   "id": "f206681f",
   "metadata": {},
   "outputs": [],
   "source": [
    "from sklearn.model_selection import train_test_split\n",
    "\n",
    "X_train, X_test, y_train, y_test = train_test_split(X, y_encoded, test_size=0.15, random_state=42)\n"
   ]
  },
  {
   "cell_type": "code",
   "execution_count": 12,
   "id": "23012817",
   "metadata": {},
   "outputs": [
    {
     "name": "stderr",
     "output_type": "stream",
     "text": [
      "/Users/vega7unk/anaconda3/lib/python3.11/site-packages/keras/src/layers/convolutional/base_conv.py:107: UserWarning: Do not pass an `input_shape`/`input_dim` argument to a layer. When using Sequential models, prefer using an `Input(shape)` object as the first layer in the model instead.\n",
      "  super().__init__(activity_regularizer=activity_regularizer, **kwargs)\n"
     ]
    },
    {
     "data": {
      "text/html": [
       "<pre style=\"white-space:pre;overflow-x:auto;line-height:normal;font-family:Menlo,'DejaVu Sans Mono',consolas,'Courier New',monospace\"><span style=\"font-weight: bold\">Model: \"sequential\"</span>\n",
       "</pre>\n"
      ],
      "text/plain": [
       "\u001b[1mModel: \"sequential\"\u001b[0m\n"
      ]
     },
     "metadata": {},
     "output_type": "display_data"
    },
    {
     "data": {
      "text/html": [
       "<pre style=\"white-space:pre;overflow-x:auto;line-height:normal;font-family:Menlo,'DejaVu Sans Mono',consolas,'Courier New',monospace\">┏━━━━━━━━━━━━━━━━━━━━━━━━━━━━━━━━━┳━━━━━━━━━━━━━━━━━━━━━━━━┳━━━━━━━━━━━━━━━┓\n",
       "┃<span style=\"font-weight: bold\"> Layer (type)                    </span>┃<span style=\"font-weight: bold\"> Output Shape           </span>┃<span style=\"font-weight: bold\">       Param # </span>┃\n",
       "┡━━━━━━━━━━━━━━━━━━━━━━━━━━━━━━━━━╇━━━━━━━━━━━━━━━━━━━━━━━━╇━━━━━━━━━━━━━━━┩\n",
       "│ conv1d (<span style=\"color: #0087ff; text-decoration-color: #0087ff\">Conv1D</span>)                 │ (<span style=\"color: #00d7ff; text-decoration-color: #00d7ff\">None</span>, <span style=\"color: #00af00; text-decoration-color: #00af00\">23</span>, <span style=\"color: #00af00; text-decoration-color: #00af00\">64</span>)         │         <span style=\"color: #00af00; text-decoration-color: #00af00\">1,216</span> │\n",
       "├─────────────────────────────────┼────────────────────────┼───────────────┤\n",
       "│ conv1d_1 (<span style=\"color: #0087ff; text-decoration-color: #0087ff\">Conv1D</span>)               │ (<span style=\"color: #00d7ff; text-decoration-color: #00d7ff\">None</span>, <span style=\"color: #00af00; text-decoration-color: #00af00\">21</span>, <span style=\"color: #00af00; text-decoration-color: #00af00\">128</span>)        │        <span style=\"color: #00af00; text-decoration-color: #00af00\">24,704</span> │\n",
       "├─────────────────────────────────┼────────────────────────┼───────────────┤\n",
       "│ max_pooling1d (<span style=\"color: #0087ff; text-decoration-color: #0087ff\">MaxPooling1D</span>)    │ (<span style=\"color: #00d7ff; text-decoration-color: #00d7ff\">None</span>, <span style=\"color: #00af00; text-decoration-color: #00af00\">10</span>, <span style=\"color: #00af00; text-decoration-color: #00af00\">128</span>)        │             <span style=\"color: #00af00; text-decoration-color: #00af00\">0</span> │\n",
       "├─────────────────────────────────┼────────────────────────┼───────────────┤\n",
       "│ conv1d_2 (<span style=\"color: #0087ff; text-decoration-color: #0087ff\">Conv1D</span>)               │ (<span style=\"color: #00d7ff; text-decoration-color: #00d7ff\">None</span>, <span style=\"color: #00af00; text-decoration-color: #00af00\">8</span>, <span style=\"color: #00af00; text-decoration-color: #00af00\">128</span>)         │        <span style=\"color: #00af00; text-decoration-color: #00af00\">49,280</span> │\n",
       "├─────────────────────────────────┼────────────────────────┼───────────────┤\n",
       "│ global_average_pooling1d        │ (<span style=\"color: #00d7ff; text-decoration-color: #00d7ff\">None</span>, <span style=\"color: #00af00; text-decoration-color: #00af00\">128</span>)            │             <span style=\"color: #00af00; text-decoration-color: #00af00\">0</span> │\n",
       "│ (<span style=\"color: #0087ff; text-decoration-color: #0087ff\">GlobalAveragePooling1D</span>)        │                        │               │\n",
       "├─────────────────────────────────┼────────────────────────┼───────────────┤\n",
       "│ dense (<span style=\"color: #0087ff; text-decoration-color: #0087ff\">Dense</span>)                   │ (<span style=\"color: #00d7ff; text-decoration-color: #00d7ff\">None</span>, <span style=\"color: #00af00; text-decoration-color: #00af00\">64</span>)             │         <span style=\"color: #00af00; text-decoration-color: #00af00\">8,256</span> │\n",
       "├─────────────────────────────────┼────────────────────────┼───────────────┤\n",
       "│ dropout (<span style=\"color: #0087ff; text-decoration-color: #0087ff\">Dropout</span>)               │ (<span style=\"color: #00d7ff; text-decoration-color: #00d7ff\">None</span>, <span style=\"color: #00af00; text-decoration-color: #00af00\">64</span>)             │             <span style=\"color: #00af00; text-decoration-color: #00af00\">0</span> │\n",
       "├─────────────────────────────────┼────────────────────────┼───────────────┤\n",
       "│ dense_1 (<span style=\"color: #0087ff; text-decoration-color: #0087ff\">Dense</span>)                 │ (<span style=\"color: #00d7ff; text-decoration-color: #00d7ff\">None</span>, <span style=\"color: #00af00; text-decoration-color: #00af00\">16</span>)             │         <span style=\"color: #00af00; text-decoration-color: #00af00\">1,040</span> │\n",
       "└─────────────────────────────────┴────────────────────────┴───────────────┘\n",
       "</pre>\n"
      ],
      "text/plain": [
       "┏━━━━━━━━━━━━━━━━━━━━━━━━━━━━━━━━━┳━━━━━━━━━━━━━━━━━━━━━━━━┳━━━━━━━━━━━━━━━┓\n",
       "┃\u001b[1m \u001b[0m\u001b[1mLayer (type)                   \u001b[0m\u001b[1m \u001b[0m┃\u001b[1m \u001b[0m\u001b[1mOutput Shape          \u001b[0m\u001b[1m \u001b[0m┃\u001b[1m \u001b[0m\u001b[1m      Param #\u001b[0m\u001b[1m \u001b[0m┃\n",
       "┡━━━━━━━━━━━━━━━━━━━━━━━━━━━━━━━━━╇━━━━━━━━━━━━━━━━━━━━━━━━╇━━━━━━━━━━━━━━━┩\n",
       "│ conv1d (\u001b[38;5;33mConv1D\u001b[0m)                 │ (\u001b[38;5;45mNone\u001b[0m, \u001b[38;5;34m23\u001b[0m, \u001b[38;5;34m64\u001b[0m)         │         \u001b[38;5;34m1,216\u001b[0m │\n",
       "├─────────────────────────────────┼────────────────────────┼───────────────┤\n",
       "│ conv1d_1 (\u001b[38;5;33mConv1D\u001b[0m)               │ (\u001b[38;5;45mNone\u001b[0m, \u001b[38;5;34m21\u001b[0m, \u001b[38;5;34m128\u001b[0m)        │        \u001b[38;5;34m24,704\u001b[0m │\n",
       "├─────────────────────────────────┼────────────────────────┼───────────────┤\n",
       "│ max_pooling1d (\u001b[38;5;33mMaxPooling1D\u001b[0m)    │ (\u001b[38;5;45mNone\u001b[0m, \u001b[38;5;34m10\u001b[0m, \u001b[38;5;34m128\u001b[0m)        │             \u001b[38;5;34m0\u001b[0m │\n",
       "├─────────────────────────────────┼────────────────────────┼───────────────┤\n",
       "│ conv1d_2 (\u001b[38;5;33mConv1D\u001b[0m)               │ (\u001b[38;5;45mNone\u001b[0m, \u001b[38;5;34m8\u001b[0m, \u001b[38;5;34m128\u001b[0m)         │        \u001b[38;5;34m49,280\u001b[0m │\n",
       "├─────────────────────────────────┼────────────────────────┼───────────────┤\n",
       "│ global_average_pooling1d        │ (\u001b[38;5;45mNone\u001b[0m, \u001b[38;5;34m128\u001b[0m)            │             \u001b[38;5;34m0\u001b[0m │\n",
       "│ (\u001b[38;5;33mGlobalAveragePooling1D\u001b[0m)        │                        │               │\n",
       "├─────────────────────────────────┼────────────────────────┼───────────────┤\n",
       "│ dense (\u001b[38;5;33mDense\u001b[0m)                   │ (\u001b[38;5;45mNone\u001b[0m, \u001b[38;5;34m64\u001b[0m)             │         \u001b[38;5;34m8,256\u001b[0m │\n",
       "├─────────────────────────────────┼────────────────────────┼───────────────┤\n",
       "│ dropout (\u001b[38;5;33mDropout\u001b[0m)               │ (\u001b[38;5;45mNone\u001b[0m, \u001b[38;5;34m64\u001b[0m)             │             \u001b[38;5;34m0\u001b[0m │\n",
       "├─────────────────────────────────┼────────────────────────┼───────────────┤\n",
       "│ dense_1 (\u001b[38;5;33mDense\u001b[0m)                 │ (\u001b[38;5;45mNone\u001b[0m, \u001b[38;5;34m16\u001b[0m)             │         \u001b[38;5;34m1,040\u001b[0m │\n",
       "└─────────────────────────────────┴────────────────────────┴───────────────┘\n"
      ]
     },
     "metadata": {},
     "output_type": "display_data"
    },
    {
     "data": {
      "text/html": [
       "<pre style=\"white-space:pre;overflow-x:auto;line-height:normal;font-family:Menlo,'DejaVu Sans Mono',consolas,'Courier New',monospace\"><span style=\"font-weight: bold\"> Total params: </span><span style=\"color: #00af00; text-decoration-color: #00af00\">84,496</span> (330.06 KB)\n",
       "</pre>\n"
      ],
      "text/plain": [
       "\u001b[1m Total params: \u001b[0m\u001b[38;5;34m84,496\u001b[0m (330.06 KB)\n"
      ]
     },
     "metadata": {},
     "output_type": "display_data"
    },
    {
     "data": {
      "text/html": [
       "<pre style=\"white-space:pre;overflow-x:auto;line-height:normal;font-family:Menlo,'DejaVu Sans Mono',consolas,'Courier New',monospace\"><span style=\"font-weight: bold\"> Trainable params: </span><span style=\"color: #00af00; text-decoration-color: #00af00\">84,496</span> (330.06 KB)\n",
       "</pre>\n"
      ],
      "text/plain": [
       "\u001b[1m Trainable params: \u001b[0m\u001b[38;5;34m84,496\u001b[0m (330.06 KB)\n"
      ]
     },
     "metadata": {},
     "output_type": "display_data"
    },
    {
     "data": {
      "text/html": [
       "<pre style=\"white-space:pre;overflow-x:auto;line-height:normal;font-family:Menlo,'DejaVu Sans Mono',consolas,'Courier New',monospace\"><span style=\"font-weight: bold\"> Non-trainable params: </span><span style=\"color: #00af00; text-decoration-color: #00af00\">0</span> (0.00 B)\n",
       "</pre>\n"
      ],
      "text/plain": [
       "\u001b[1m Non-trainable params: \u001b[0m\u001b[38;5;34m0\u001b[0m (0.00 B)\n"
      ]
     },
     "metadata": {},
     "output_type": "display_data"
    }
   ],
   "source": [
    "import tensorflow as tf\n",
    "from tensorflow.keras.models import Sequential\n",
    "from tensorflow.keras.layers import Conv1D, MaxPooling1D, GlobalAveragePooling1D, Dense, Dropout\n",
    "from tensorflow.keras.optimizers import Adam\n",
    "\n",
    "# Define the input shape (e.g., 25 time steps, 6 channels)\n",
    "input_shape = (X_train.shape[1], X_train.shape[2])\n",
    "num_classes = len(set(y_encoded))  # Should be 15 based on your labels\n",
    "\n",
    "model = Sequential([\n",
    "    # First convolutional block\n",
    "    Conv1D(filters=64, kernel_size=3, activation='relu', input_shape=input_shape),\n",
    "    # Second convolutional block\n",
    "    Conv1D(filters=128, kernel_size=3, activation='relu'),\n",
    "    # Apply max pooling to reduce sequence length and capture dominant features\n",
    "    MaxPooling1D(pool_size=2),\n",
    "    # Third convolutional block\n",
    "    Conv1D(filters=128, kernel_size=3, activation='relu'),\n",
    "    # Global average pooling to flatten the tensor for the dense layer\n",
    "    GlobalAveragePooling1D(),\n",
    "    # Fully connected (dense) layer with dropout\n",
    "    Dense(64, activation='relu'),\n",
    "    Dropout(0.5),\n",
    "    # Output layer: softmax activation for multi-class classification\n",
    "    Dense(num_classes, activation='softmax')\n",
    "])\n",
    "\n",
    "# Compile the model with a common optimizer and loss function for classification\n",
    "model.compile(optimizer=Adam(learning_rate=0.001),\n",
    "              loss='sparse_categorical_crossentropy',\n",
    "              metrics=['accuracy'])\n",
    "\n",
    "# Display the model architecture\n",
    "model.summary()\n"
   ]
  },
  {
   "cell_type": "code",
   "execution_count": 13,
   "id": "d9fff63f",
   "metadata": {},
   "outputs": [
    {
     "name": "stdout",
     "output_type": "stream",
     "text": [
      "Epoch 1/50\n",
      "\u001b[1m1875/1875\u001b[0m \u001b[32m━━━━━━━━━━━━━━━━━━━━\u001b[0m\u001b[37m\u001b[0m \u001b[1m6s\u001b[0m 3ms/step - accuracy: 0.7402 - loss: 0.8517 - val_accuracy: 0.8986 - val_loss: 0.2802\n",
      "Epoch 2/50\n",
      "\u001b[1m1875/1875\u001b[0m \u001b[32m━━━━━━━━━━━━━━━━━━━━\u001b[0m\u001b[37m\u001b[0m \u001b[1m6s\u001b[0m 3ms/step - accuracy: 0.8838 - loss: 0.3223 - val_accuracy: 0.9171 - val_loss: 0.2256\n",
      "Epoch 3/50\n",
      "\u001b[1m1875/1875\u001b[0m \u001b[32m━━━━━━━━━━━━━━━━━━━━\u001b[0m\u001b[37m\u001b[0m \u001b[1m6s\u001b[0m 3ms/step - accuracy: 0.9033 - loss: 0.2604 - val_accuracy: 0.9271 - val_loss: 0.1852\n",
      "Epoch 4/50\n",
      "\u001b[1m1875/1875\u001b[0m \u001b[32m━━━━━━━━━━━━━━━━━━━━\u001b[0m\u001b[37m\u001b[0m \u001b[1m6s\u001b[0m 3ms/step - accuracy: 0.9150 - loss: 0.2253 - val_accuracy: 0.9255 - val_loss: 0.1784\n",
      "Epoch 5/50\n",
      "\u001b[1m1875/1875\u001b[0m \u001b[32m━━━━━━━━━━━━━━━━━━━━\u001b[0m\u001b[37m\u001b[0m \u001b[1m6s\u001b[0m 3ms/step - accuracy: 0.9195 - loss: 0.2005 - val_accuracy: 0.9355 - val_loss: 0.1708\n",
      "Epoch 6/50\n",
      "\u001b[1m1875/1875\u001b[0m \u001b[32m━━━━━━━━━━━━━━━━━━━━\u001b[0m\u001b[37m\u001b[0m \u001b[1m5s\u001b[0m 3ms/step - accuracy: 0.9263 - loss: 0.1828 - val_accuracy: 0.9374 - val_loss: 0.1563\n",
      "Epoch 7/50\n",
      "\u001b[1m1875/1875\u001b[0m \u001b[32m━━━━━━━━━━━━━━━━━━━━\u001b[0m\u001b[37m\u001b[0m \u001b[1m5s\u001b[0m 3ms/step - accuracy: 0.9308 - loss: 0.1727 - val_accuracy: 0.9326 - val_loss: 0.1545\n",
      "Epoch 8/50\n",
      "\u001b[1m1875/1875\u001b[0m \u001b[32m━━━━━━━━━━━━━━━━━━━━\u001b[0m\u001b[37m\u001b[0m \u001b[1m5s\u001b[0m 3ms/step - accuracy: 0.9343 - loss: 0.1633 - val_accuracy: 0.9416 - val_loss: 0.1438\n",
      "Epoch 9/50\n",
      "\u001b[1m1875/1875\u001b[0m \u001b[32m━━━━━━━━━━━━━━━━━━━━\u001b[0m\u001b[37m\u001b[0m \u001b[1m5s\u001b[0m 3ms/step - accuracy: 0.9359 - loss: 0.1555 - val_accuracy: 0.9433 - val_loss: 0.1475\n",
      "Epoch 10/50\n",
      "\u001b[1m1875/1875\u001b[0m \u001b[32m━━━━━━━━━━━━━━━━━━━━\u001b[0m\u001b[37m\u001b[0m \u001b[1m5s\u001b[0m 3ms/step - accuracy: 0.9388 - loss: 0.1462 - val_accuracy: 0.9459 - val_loss: 0.1423\n",
      "Epoch 11/50\n",
      "\u001b[1m1875/1875\u001b[0m \u001b[32m━━━━━━━━━━━━━━━━━━━━\u001b[0m\u001b[37m\u001b[0m \u001b[1m5s\u001b[0m 3ms/step - accuracy: 0.9435 - loss: 0.1358 - val_accuracy: 0.9463 - val_loss: 0.1380\n",
      "Epoch 12/50\n",
      "\u001b[1m1875/1875\u001b[0m \u001b[32m━━━━━━━━━━━━━━━━━━━━\u001b[0m\u001b[37m\u001b[0m \u001b[1m5s\u001b[0m 3ms/step - accuracy: 0.9435 - loss: 0.1306 - val_accuracy: 0.9487 - val_loss: 0.1309\n",
      "Epoch 13/50\n",
      "\u001b[1m1875/1875\u001b[0m \u001b[32m━━━━━━━━━━━━━━━━━━━━\u001b[0m\u001b[37m\u001b[0m \u001b[1m5s\u001b[0m 3ms/step - accuracy: 0.9457 - loss: 0.1257 - val_accuracy: 0.9499 - val_loss: 0.1296\n",
      "Epoch 14/50\n",
      "\u001b[1m1875/1875\u001b[0m \u001b[32m━━━━━━━━━━━━━━━━━━━━\u001b[0m\u001b[37m\u001b[0m \u001b[1m5s\u001b[0m 3ms/step - accuracy: 0.9471 - loss: 0.1187 - val_accuracy: 0.9486 - val_loss: 0.1420\n",
      "Epoch 15/50\n",
      "\u001b[1m1875/1875\u001b[0m \u001b[32m━━━━━━━━━━━━━━━━━━━━\u001b[0m\u001b[37m\u001b[0m \u001b[1m5s\u001b[0m 3ms/step - accuracy: 0.9488 - loss: 0.1190 - val_accuracy: 0.9509 - val_loss: 0.1409\n",
      "Epoch 16/50\n",
      "\u001b[1m1875/1875\u001b[0m \u001b[32m━━━━━━━━━━━━━━━━━━━━\u001b[0m\u001b[37m\u001b[0m \u001b[1m5s\u001b[0m 3ms/step - accuracy: 0.9507 - loss: 0.1156 - val_accuracy: 0.9464 - val_loss: 0.1374\n",
      "Epoch 17/50\n",
      "\u001b[1m1875/1875\u001b[0m \u001b[32m━━━━━━━━━━━━━━━━━━━━\u001b[0m\u001b[37m\u001b[0m \u001b[1m6s\u001b[0m 3ms/step - accuracy: 0.9514 - loss: 0.1124 - val_accuracy: 0.9515 - val_loss: 0.1333\n",
      "Epoch 18/50\n",
      "\u001b[1m1875/1875\u001b[0m \u001b[32m━━━━━━━━━━━━━━━━━━━━\u001b[0m\u001b[37m\u001b[0m \u001b[1m5s\u001b[0m 3ms/step - accuracy: 0.9544 - loss: 0.1056 - val_accuracy: 0.9536 - val_loss: 0.1372\n",
      "Epoch 19/50\n",
      "\u001b[1m1875/1875\u001b[0m \u001b[32m━━━━━━━━━━━━━━━━━━━━\u001b[0m\u001b[37m\u001b[0m \u001b[1m5s\u001b[0m 3ms/step - accuracy: 0.9552 - loss: 0.1047 - val_accuracy: 0.9507 - val_loss: 0.1438\n",
      "Epoch 20/50\n",
      "\u001b[1m1875/1875\u001b[0m \u001b[32m━━━━━━━━━━━━━━━━━━━━\u001b[0m\u001b[37m\u001b[0m \u001b[1m5s\u001b[0m 3ms/step - accuracy: 0.9557 - loss: 0.1018 - val_accuracy: 0.9508 - val_loss: 0.1368\n",
      "Epoch 21/50\n",
      "\u001b[1m1875/1875\u001b[0m \u001b[32m━━━━━━━━━━━━━━━━━━━━\u001b[0m\u001b[37m\u001b[0m \u001b[1m5s\u001b[0m 3ms/step - accuracy: 0.9579 - loss: 0.0988 - val_accuracy: 0.9543 - val_loss: 0.1349\n",
      "Epoch 22/50\n",
      "\u001b[1m1875/1875\u001b[0m \u001b[32m━━━━━━━━━━━━━━━━━━━━\u001b[0m\u001b[37m\u001b[0m \u001b[1m5s\u001b[0m 3ms/step - accuracy: 0.9577 - loss: 0.0975 - val_accuracy: 0.9458 - val_loss: 0.1433\n",
      "Epoch 23/50\n",
      "\u001b[1m1875/1875\u001b[0m \u001b[32m━━━━━━━━━━━━━━━━━━━━\u001b[0m\u001b[37m\u001b[0m \u001b[1m5s\u001b[0m 3ms/step - accuracy: 0.9602 - loss: 0.0936 - val_accuracy: 0.9572 - val_loss: 0.1369\n",
      "Epoch 24/50\n",
      "\u001b[1m1875/1875\u001b[0m \u001b[32m━━━━━━━━━━━━━━━━━━━━\u001b[0m\u001b[37m\u001b[0m \u001b[1m5s\u001b[0m 3ms/step - accuracy: 0.9596 - loss: 0.0922 - val_accuracy: 0.9553 - val_loss: 0.1316\n",
      "Epoch 25/50\n",
      "\u001b[1m1875/1875\u001b[0m \u001b[32m━━━━━━━━━━━━━━━━━━━━\u001b[0m\u001b[37m\u001b[0m \u001b[1m5s\u001b[0m 3ms/step - accuracy: 0.9610 - loss: 0.0930 - val_accuracy: 0.9534 - val_loss: 0.1481\n",
      "Epoch 26/50\n",
      "\u001b[1m1875/1875\u001b[0m \u001b[32m━━━━━━━━━━━━━━━━━━━━\u001b[0m\u001b[37m\u001b[0m \u001b[1m5s\u001b[0m 3ms/step - accuracy: 0.9608 - loss: 0.0923 - val_accuracy: 0.9554 - val_loss: 0.1382\n",
      "Epoch 27/50\n",
      "\u001b[1m1875/1875\u001b[0m \u001b[32m━━━━━━━━━━━━━━━━━━━━\u001b[0m\u001b[37m\u001b[0m \u001b[1m5s\u001b[0m 3ms/step - accuracy: 0.9619 - loss: 0.0913 - val_accuracy: 0.9544 - val_loss: 0.1441\n",
      "Epoch 28/50\n",
      "\u001b[1m1875/1875\u001b[0m \u001b[32m━━━━━━━━━━━━━━━━━━━━\u001b[0m\u001b[37m\u001b[0m \u001b[1m6s\u001b[0m 3ms/step - accuracy: 0.9618 - loss: 0.0893 - val_accuracy: 0.9526 - val_loss: 0.1501\n",
      "Epoch 29/50\n",
      "\u001b[1m1875/1875\u001b[0m \u001b[32m━━━━━━━━━━━━━━━━━━━━\u001b[0m\u001b[37m\u001b[0m \u001b[1m5s\u001b[0m 3ms/step - accuracy: 0.9607 - loss: 0.0914 - val_accuracy: 0.9563 - val_loss: 0.1492\n",
      "Epoch 30/50\n",
      "\u001b[1m1875/1875\u001b[0m \u001b[32m━━━━━━━━━━━━━━━━━━━━\u001b[0m\u001b[37m\u001b[0m \u001b[1m5s\u001b[0m 3ms/step - accuracy: 0.9622 - loss: 0.0872 - val_accuracy: 0.9545 - val_loss: 0.1460\n",
      "Epoch 31/50\n",
      "\u001b[1m1875/1875\u001b[0m \u001b[32m━━━━━━━━━━━━━━━━━━━━\u001b[0m\u001b[37m\u001b[0m \u001b[1m5s\u001b[0m 3ms/step - accuracy: 0.9654 - loss: 0.0833 - val_accuracy: 0.9556 - val_loss: 0.1409\n",
      "Epoch 32/50\n",
      "\u001b[1m1875/1875\u001b[0m \u001b[32m━━━━━━━━━━━━━━━━━━━━\u001b[0m\u001b[37m\u001b[0m \u001b[1m5s\u001b[0m 3ms/step - accuracy: 0.9634 - loss: 0.0863 - val_accuracy: 0.9556 - val_loss: 0.1586\n",
      "Epoch 33/50\n",
      "\u001b[1m1875/1875\u001b[0m \u001b[32m━━━━━━━━━━━━━━━━━━━━\u001b[0m\u001b[37m\u001b[0m \u001b[1m5s\u001b[0m 3ms/step - accuracy: 0.9632 - loss: 0.0891 - val_accuracy: 0.9544 - val_loss: 0.1666\n",
      "Epoch 34/50\n",
      "\u001b[1m1875/1875\u001b[0m \u001b[32m━━━━━━━━━━━━━━━━━━━━\u001b[0m\u001b[37m\u001b[0m \u001b[1m5s\u001b[0m 3ms/step - accuracy: 0.9642 - loss: 0.0835 - val_accuracy: 0.9495 - val_loss: 0.2573\n",
      "Epoch 35/50\n",
      "\u001b[1m1875/1875\u001b[0m \u001b[32m━━━━━━━━━━━━━━━━━━━━\u001b[0m\u001b[37m\u001b[0m \u001b[1m5s\u001b[0m 3ms/step - accuracy: 0.9646 - loss: 0.0899 - val_accuracy: 0.9582 - val_loss: 0.1502\n",
      "Epoch 36/50\n",
      "\u001b[1m1875/1875\u001b[0m \u001b[32m━━━━━━━━━━━━━━━━━━━━\u001b[0m\u001b[37m\u001b[0m \u001b[1m6s\u001b[0m 3ms/step - accuracy: 0.9654 - loss: 0.0829 - val_accuracy: 0.9575 - val_loss: 0.1666\n",
      "Epoch 37/50\n",
      "\u001b[1m1875/1875\u001b[0m \u001b[32m━━━━━━━━━━━━━━━━━━━━\u001b[0m\u001b[37m\u001b[0m \u001b[1m5s\u001b[0m 3ms/step - accuracy: 0.9657 - loss: 0.0857 - val_accuracy: 0.9536 - val_loss: 0.1619\n",
      "Epoch 38/50\n",
      "\u001b[1m1875/1875\u001b[0m \u001b[32m━━━━━━━━━━━━━━━━━━━━\u001b[0m\u001b[37m\u001b[0m \u001b[1m5s\u001b[0m 3ms/step - accuracy: 0.9655 - loss: 0.0860 - val_accuracy: 0.9537 - val_loss: 0.1724\n",
      "Epoch 39/50\n",
      "\u001b[1m1875/1875\u001b[0m \u001b[32m━━━━━━━━━━━━━━━━━━━━\u001b[0m\u001b[37m\u001b[0m \u001b[1m5s\u001b[0m 3ms/step - accuracy: 0.9670 - loss: 0.0826 - val_accuracy: 0.9569 - val_loss: 0.1649\n",
      "Epoch 40/50\n",
      "\u001b[1m1875/1875\u001b[0m \u001b[32m━━━━━━━━━━━━━━━━━━━━\u001b[0m\u001b[37m\u001b[0m \u001b[1m5s\u001b[0m 3ms/step - accuracy: 0.9673 - loss: 0.0768 - val_accuracy: 0.9605 - val_loss: 0.1521\n",
      "Epoch 41/50\n",
      "\u001b[1m1875/1875\u001b[0m \u001b[32m━━━━━━━━━━━━━━━━━━━━\u001b[0m\u001b[37m\u001b[0m \u001b[1m5s\u001b[0m 3ms/step - accuracy: 0.9673 - loss: 0.0798 - val_accuracy: 0.9592 - val_loss: 0.1686\n",
      "Epoch 42/50\n",
      "\u001b[1m1875/1875\u001b[0m \u001b[32m━━━━━━━━━━━━━━━━━━━━\u001b[0m\u001b[37m\u001b[0m \u001b[1m5s\u001b[0m 3ms/step - accuracy: 0.9666 - loss: 0.0801 - val_accuracy: 0.9551 - val_loss: 0.1832\n",
      "Epoch 43/50\n",
      "\u001b[1m1875/1875\u001b[0m \u001b[32m━━━━━━━━━━━━━━━━━━━━\u001b[0m\u001b[37m\u001b[0m \u001b[1m5s\u001b[0m 3ms/step - accuracy: 0.9686 - loss: 0.0782 - val_accuracy: 0.9589 - val_loss: 0.1869\n",
      "Epoch 44/50\n",
      "\u001b[1m1875/1875\u001b[0m \u001b[32m━━━━━━━━━━━━━━━━━━━━\u001b[0m\u001b[37m\u001b[0m \u001b[1m5s\u001b[0m 3ms/step - accuracy: 0.9670 - loss: 0.0807 - val_accuracy: 0.9590 - val_loss: 0.1803\n",
      "Epoch 45/50\n",
      "\u001b[1m1875/1875\u001b[0m \u001b[32m━━━━━━━━━━━━━━━━━━━━\u001b[0m\u001b[37m\u001b[0m \u001b[1m5s\u001b[0m 3ms/step - accuracy: 0.9677 - loss: 0.0775 - val_accuracy: 0.9566 - val_loss: 0.1981\n",
      "Epoch 46/50\n",
      "\u001b[1m1875/1875\u001b[0m \u001b[32m━━━━━━━━━━━━━━━━━━━━\u001b[0m\u001b[37m\u001b[0m \u001b[1m5s\u001b[0m 3ms/step - accuracy: 0.9673 - loss: 0.0793 - val_accuracy: 0.9630 - val_loss: 0.1530\n",
      "Epoch 47/50\n",
      "\u001b[1m1875/1875\u001b[0m \u001b[32m━━━━━━━━━━━━━━━━━━━━\u001b[0m\u001b[37m\u001b[0m \u001b[1m5s\u001b[0m 3ms/step - accuracy: 0.9694 - loss: 0.0759 - val_accuracy: 0.9589 - val_loss: 0.1608\n",
      "Epoch 48/50\n",
      "\u001b[1m1875/1875\u001b[0m \u001b[32m━━━━━━━━━━━━━━━━━━━━\u001b[0m\u001b[37m\u001b[0m \u001b[1m5s\u001b[0m 3ms/step - accuracy: 0.9695 - loss: 0.0742 - val_accuracy: 0.9586 - val_loss: 0.1638\n",
      "Epoch 49/50\n",
      "\u001b[1m1875/1875\u001b[0m \u001b[32m━━━━━━━━━━━━━━━━━━━━\u001b[0m\u001b[37m\u001b[0m \u001b[1m5s\u001b[0m 3ms/step - accuracy: 0.9679 - loss: 0.0758 - val_accuracy: 0.9616 - val_loss: 0.1969\n",
      "Epoch 50/50\n"
     ]
    },
    {
     "name": "stdout",
     "output_type": "stream",
     "text": [
      "\u001b[1m1875/1875\u001b[0m \u001b[32m━━━━━━━━━━━━━━━━━━━━\u001b[0m\u001b[37m\u001b[0m \u001b[1m5s\u001b[0m 3ms/step - accuracy: 0.9691 - loss: 0.0773 - val_accuracy: 0.9634 - val_loss: 0.1727\n"
     ]
    }
   ],
   "source": [
    "# Training the model with validation split\n",
    "history = model.fit(X_train, y_train,\n",
    "                    epochs=50,\n",
    "                    batch_size=32,\n",
    "                    validation_data=(X_test, y_test))"
   ]
  },
  {
   "cell_type": "code",
   "execution_count": 14,
   "id": "527276e2",
   "metadata": {},
   "outputs": [],
   "source": [
    "import matplotlib.pyplot as plt\n",
    "import seaborn as sns\n",
    "from sklearn.metrics import (confusion_matrix, classification_report, \n",
    "                             precision_score, recall_score, f1_score)\n",
    "\n",
    "def evaluate_model(model, X_test, y_test, label_classes=None, plot_confusion_matrix=True, plot_roc=True):\n",
    "    \"\"\"\n",
    "    Evaluates a deep learning model on test data and generates common evaluation metrics and plots.\n",
    "\n",
    "    Parameters:\n",
    "        model: Trained deep learning model (Keras/TensorFlow model).\n",
    "        X_test (np.array): Test data with shape (num_samples, timesteps, channels).\n",
    "        y_test (np.array): True labels corresponding to X_test. Assumed to be numeric.\n",
    "        label_classes (list, optional): List of string label names (e.g., ['BSC', 'CHU', ...]).\n",
    "                                        If None, numeric labels will be used in plots.\n",
    "        plot_confusion_matrix (bool): Whether to generate a confusion matrix plot.\n",
    "        plot_roc (bool): Whether to compute and plot ROC curves and display the ROC-AUC score (for multi-class).\n",
    "\n",
    "    Returns:\n",
    "        metrics (dict): A dictionary containing loss, accuracy, precision, recall, f1 score, \n",
    "                        and if computed, ROC-AUC score.\n",
    "    \"\"\"\n",
    "    # Evaluate the model for loss and accuracy\n",
    "    loss, accuracy = model.evaluate(X_test, y_test, verbose=0)\n",
    "    print(\"Test Loss: {:.4f}\".format(loss))\n",
    "    print(\"Test Accuracy: {:.4f}\".format(accuracy))\n",
    "\n",
    "    # Generate prediction probabilities and predicted classes\n",
    "    y_pred_prob = model.predict(X_test)\n",
    "    y_pred = np.argmax(y_pred_prob, axis=1)\n",
    "\n",
    "    # Compute confusion matrix\n",
    "    cm = confusion_matrix(y_test, y_pred)\n",
    "    if plot_confusion_matrix:\n",
    "        plt.figure(figsize=(10, 8))\n",
    "        if label_classes is None:\n",
    "            label_classes = [str(i) for i in range(cm.shape[0])]\n",
    "        sns.heatmap(cm, annot=True, fmt=\"d\", cmap='Blues', \n",
    "                    xticklabels=label_classes, yticklabels=label_classes)\n",
    "        plt.xlabel(\"Predicted Label\")\n",
    "        plt.ylabel(\"True Label\")\n",
    "        plt.title(\"Confusion Matrix\")\n",
    "        plt.show()\n",
    "\n",
    "    # Compute and print classification report\n",
    "    report = classification_report(y_test, y_pred, target_names=label_classes)\n",
    "    print(\"Classification Report:\\n\", report)\n",
    "\n",
    "    # Compute weighted precision, recall, and F1 scores\n",
    "    precision = precision_score(y_test, y_pred, average='weighted')\n",
    "    recall = recall_score(y_test, y_pred, average='weighted')\n",
    "    f1 = f1_score(y_test, y_pred, average='weighted')\n",
    "    print(\"Weighted Precision: {:.4f}\".format(precision))\n",
    "    print(\"Weighted Recall: {:.4f}\".format(recall))\n",
    "    print(\"Weighted F1 Score: {:.4f}\".format(f1))\n",
    "\n",
    "    metrics = {\n",
    "        'loss': loss,\n",
    "        'accuracy': accuracy,\n",
    "        'precision': precision,\n",
    "        'recall': recall,\n",
    "        'f1_score': f1\n",
    "    }\n",
    "\n",
    "    return metrics"
   ]
  },
  {
   "cell_type": "code",
   "execution_count": 15,
   "id": "30e03d65",
   "metadata": {},
   "outputs": [
    {
     "name": "stdout",
     "output_type": "stream",
     "text": [
      "Test Loss: 0.1727\n",
      "Test Accuracy: 0.9634\n",
      "\u001b[1m331/331\u001b[0m \u001b[32m━━━━━━━━━━━━━━━━━━━━\u001b[0m\u001b[37m\u001b[0m \u001b[1m0s\u001b[0m 923us/step\n"
     ]
    },
    {
     "data": {
      "image/png": "[encoded data removed]",
      "text/plain": [
       "<Figure size 1000x800 with 2 Axes>"
      ]
     },
     "metadata": {},
     "output_type": "display_data"
    },
    {
     "name": "stdout",
     "output_type": "stream",
     "text": [
      "Classification Report:\n",
      "               precision    recall  f1-score   support\n",
      "\n",
      "         BSC       0.87      0.79      0.83        73\n",
      "         CHU       0.85      0.88      0.87        33\n",
      "         CSI       0.92      0.93      0.92       191\n",
      "         CSO       0.90      0.95      0.92       201\n",
      "         FKL       0.92      0.78      0.85        60\n",
      "         FOL       0.84      0.84      0.84        49\n",
      "         JOG       0.99      1.00      0.99       722\n",
      "         JUM       1.00      1.00      1.00       705\n",
      "         LYI       0.79      0.82      0.80       574\n",
      "         SCH       0.88      0.95      0.91        93\n",
      "         SDL       0.92      0.82      0.87        68\n",
      "         SIT       0.87      0.84      0.85       769\n",
      "         STD       0.99      1.00      1.00      3149\n",
      "         STN       0.96      0.96      0.96       409\n",
      "         STU       0.96      0.97      0.96       437\n",
      "         WAL       0.99      0.99      0.99      3054\n",
      "\n",
      "    accuracy                           0.96     10587\n",
      "   macro avg       0.92      0.91      0.91     10587\n",
      "weighted avg       0.96      0.96      0.96     10587\n",
      "\n",
      "Weighted Precision: 0.9637\n",
      "Weighted Recall: 0.9634\n",
      "Weighted F1 Score: 0.9635\n"
     ]
    }
   ],
   "source": [
    "label_classes = [\n",
    "    'BSC', 'CHU', 'CSI', 'CSO', 'FKL', 'FOL', \n",
    "    'JOG', 'JUM', 'LYI', 'SCH', 'SDL', 'SIT', \n",
    "    'STD', 'STN', 'STU', 'WAL'\n",
    "]\n",
    "metrics = evaluate_model(model, X_test, y_test, label_classes=label_classes)\n"
   ]
  },
  {
   "cell_type": "code",
   "execution_count": null,
   "id": "5577ecf8",
   "metadata": {},
   "outputs": [],
   "source": []
  }
 ],
 "metadata": {
  "kernelspec": {
   "display_name": "Python 3 (ipykernel)",
   "language": "python",
   "name": "python3"
  },
  "language_info": {
   "codemirror_mode": {
    "name": "ipython",
    "version": 3
   },
   "file_extension": ".py",
   "mimetype": "text/x-python",
   "name": "python",
   "nbconvert_exporter": "python",
   "pygments_lexer": "ipython3",
   "version": "3.11.3"
  }
 },
 "nbformat": 4,
 "nbformat_minor": 5
}
